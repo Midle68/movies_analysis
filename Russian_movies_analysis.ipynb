{
 "cells": [
  {
   "cell_type": "markdown",
   "metadata": {
    "id": "sIfNaMOxgFyK"
   },
   "source": [
    "<a name='introduction'></a>\n",
    "# Проект \"Исследование данных о российском кинопрокате\""
   ]
  },
  {
   "cell_type": "markdown",
   "metadata": {},
   "source": [
    "**Введение**\n",
    "\n",
    "Необходимо проанализировать базу данных о фильмах, предоставленных порталом \"Кинопоиск\", на различные взаимозависимости между параметрами. Сначала будет проведена предобработка данных, далее перейдем к исследовательскому анализу данных, а потом будет проведен анализ фильмов, получивших государственное финансирование.\n",
    "\n",
    "**План работы**:\n",
    "1. [Импортирование библиотек и файлов](#import)\n",
    "2. [Предобработка данных](#preprocessing)\n",
    "    - [Типы данных](#types)\n",
    "    - [Пропуски](#missing_values)\n",
    "    - [Дубликаты](#duplicates)\n",
    "    - [Категориальные переменные](#categorical_cols)\n",
    "    - [Количественные переменные](#numeric_cols)\n",
    "    - [Feature Engineering](#feature_engineering)\n",
    "3. [Исследовательский анализ данных](#eda)\n",
    "4. [Исследование фильмов с гос. поддержкой](#state_support_research)\n",
    "5. [Общий вывод](#conclusion)"
   ]
  },
  {
   "cell_type": "markdown",
   "metadata": {},
   "source": [
    "<a name='import'></a>\n",
    "## 1. Импортирование библиотек и файлов  "
   ]
  },
  {
   "cell_type": "code",
   "execution_count": 39,
   "metadata": {
    "id": "dw87FlzMgFyM"
   },
   "outputs": [],
   "source": [
    "import pandas as pd\n",
    "import matplotlib.pyplot as plt\n",
    "import numpy as np\n",
    "\n",
    "df = pd.read_csv(\"/datasets/mkrf_movies.csv\")\n",
    "df2 = pd.read_csv('/datasets/mkrf_shows.csv')"
   ]
  },
  {
   "cell_type": "code",
   "execution_count": 40,
   "metadata": {
    "scrolled": true
   },
   "outputs": [
    {
     "name": "stdout",
     "output_type": "stream",
     "text": [
      "<class 'pandas.core.frame.DataFrame'>\n",
      "Int64Index: 7485 entries, 0 to 7484\n",
      "Data columns (total 16 columns):\n",
      " #   Column                 Non-Null Count  Dtype  \n",
      "---  ------                 --------------  -----  \n",
      " 0   title                  7485 non-null   object \n",
      " 1   puNumber               7485 non-null   int64  \n",
      " 2   show_start_date        7485 non-null   object \n",
      " 3   type                   7485 non-null   object \n",
      " 4   film_studio            7467 non-null   object \n",
      " 5   production_country     7483 non-null   object \n",
      " 6   director               7476 non-null   object \n",
      " 7   producer               6917 non-null   object \n",
      " 8   age_restriction        7485 non-null   object \n",
      " 9   refundable_support     332 non-null    float64\n",
      " 10  nonrefundable_support  332 non-null    float64\n",
      " 11  budget                 332 non-null    float64\n",
      " 12  financing_source       332 non-null    object \n",
      " 13  ratings                6519 non-null   object \n",
      " 14  genres                 6510 non-null   object \n",
      " 15  box_office             3158 non-null   float64\n",
      "dtypes: float64(4), int64(1), object(11)\n",
      "memory usage: 994.1+ KB\n",
      "None\n"
     ]
    }
   ],
   "source": [
    "# Избавимся от строки со значением 'puNumber' равным 'нет' c целью объединения двух датафреймов\n",
    "df = df.drop(index=df[df['puNumber'] == \"нет\"].index)\n",
    "\n",
    "df['puNumber'] = df['puNumber'].astype('int64')\n",
    "df = df.merge(df2, on='puNumber', how='outer')\n",
    "\n",
    "print(df.info())"
   ]
  },
  {
   "cell_type": "markdown",
   "metadata": {
    "id": "KLDGpPG0gFyM"
   },
   "source": [
    "<a name='preprocessing'></a>\n",
    "## 2. Предобработка данных\n",
    "[Вернуться во Введение](#introduction)"
   ]
  },
  {
   "cell_type": "code",
   "execution_count": 41,
   "metadata": {
    "id": "kVGSplJOgFyO"
   },
   "outputs": [
    {
     "data": {
      "text/html": [
       "<div>\n",
       "<style scoped>\n",
       "    .dataframe tbody tr th:only-of-type {\n",
       "        vertical-align: middle;\n",
       "    }\n",
       "\n",
       "    .dataframe tbody tr th {\n",
       "        vertical-align: top;\n",
       "    }\n",
       "\n",
       "    .dataframe thead th {\n",
       "        text-align: right;\n",
       "    }\n",
       "</style>\n",
       "<table border=\"1\" class=\"dataframe\">\n",
       "  <thead>\n",
       "    <tr style=\"text-align: right;\">\n",
       "      <th></th>\n",
       "      <th>title</th>\n",
       "      <th>puNumber</th>\n",
       "      <th>show_start_date</th>\n",
       "      <th>type</th>\n",
       "      <th>film_studio</th>\n",
       "      <th>production_country</th>\n",
       "      <th>director</th>\n",
       "      <th>producer</th>\n",
       "      <th>age_restriction</th>\n",
       "      <th>refundable_support</th>\n",
       "      <th>nonrefundable_support</th>\n",
       "      <th>budget</th>\n",
       "      <th>financing_source</th>\n",
       "      <th>ratings</th>\n",
       "      <th>genres</th>\n",
       "      <th>box_office</th>\n",
       "    </tr>\n",
       "  </thead>\n",
       "  <tbody>\n",
       "    <tr>\n",
       "      <th>0</th>\n",
       "      <td>Открытый простор</td>\n",
       "      <td>221048915</td>\n",
       "      <td>2015-11-27T12:00:00.000Z</td>\n",
       "      <td>Художественный</td>\n",
       "      <td>Тачстоун Пикчерз, Кобальт Пикчерз, Бикон Пикче...</td>\n",
       "      <td>США</td>\n",
       "      <td>Кевин Костнер</td>\n",
       "      <td>Дэвид Валдес, Кевин Костнер, Джейк Эбертс</td>\n",
       "      <td>«18+» - запрещено для детей</td>\n",
       "      <td>NaN</td>\n",
       "      <td>NaN</td>\n",
       "      <td>NaN</td>\n",
       "      <td>NaN</td>\n",
       "      <td>7.2</td>\n",
       "      <td>боевик,драма,мелодрама</td>\n",
       "      <td>NaN</td>\n",
       "    </tr>\n",
       "    <tr>\n",
       "      <th>1</th>\n",
       "      <td>Особо важное задание</td>\n",
       "      <td>111013716</td>\n",
       "      <td>2016-09-13T12:00:00.000Z</td>\n",
       "      <td>Художественный</td>\n",
       "      <td>Киностудия \"Мосфильм\"</td>\n",
       "      <td>СССР</td>\n",
       "      <td>Е.Матвеев</td>\n",
       "      <td>NaN</td>\n",
       "      <td>«6+» - для детей старше 6 лет</td>\n",
       "      <td>NaN</td>\n",
       "      <td>NaN</td>\n",
       "      <td>NaN</td>\n",
       "      <td>NaN</td>\n",
       "      <td>6.6</td>\n",
       "      <td>драма,военный</td>\n",
       "      <td>NaN</td>\n",
       "    </tr>\n",
       "    <tr>\n",
       "      <th>2</th>\n",
       "      <td>Особо опасен</td>\n",
       "      <td>221038416</td>\n",
       "      <td>2016-10-10T12:00:00.000Z</td>\n",
       "      <td>Художественный</td>\n",
       "      <td>Юниверсал Пикчерз, Кикстарт Продакшнз, Марк Пл...</td>\n",
       "      <td>США</td>\n",
       "      <td>Тимур Бекмамбетов</td>\n",
       "      <td>Джим Лемли, Джейсон Нетер, Марк Е.Платт, Яйн Смит</td>\n",
       "      <td>«18+» - запрещено для детей</td>\n",
       "      <td>NaN</td>\n",
       "      <td>NaN</td>\n",
       "      <td>NaN</td>\n",
       "      <td>NaN</td>\n",
       "      <td>6.8</td>\n",
       "      <td>фантастика,боевик,триллер</td>\n",
       "      <td>NaN</td>\n",
       "    </tr>\n",
       "    <tr>\n",
       "      <th>3</th>\n",
       "      <td>Особо опасен</td>\n",
       "      <td>221026916</td>\n",
       "      <td>2016-06-10T12:00:00.000Z</td>\n",
       "      <td>Художественный</td>\n",
       "      <td>Юниверсал Пикчерз, Кикстарт Продакшнз, Марк Пл...</td>\n",
       "      <td>США</td>\n",
       "      <td>Тимур Бекмамбетов</td>\n",
       "      <td>Джим Лемли, Джейсон Нетер, Марк Е.Платт, Яйн Смит</td>\n",
       "      <td>«18+» - запрещено для детей</td>\n",
       "      <td>NaN</td>\n",
       "      <td>NaN</td>\n",
       "      <td>NaN</td>\n",
       "      <td>NaN</td>\n",
       "      <td>6.8</td>\n",
       "      <td>фантастика,боевик,триллер</td>\n",
       "      <td>NaN</td>\n",
       "    </tr>\n",
       "    <tr>\n",
       "      <th>4</th>\n",
       "      <td>Особо опасен</td>\n",
       "      <td>221030815</td>\n",
       "      <td>2015-07-29T12:00:00.000Z</td>\n",
       "      <td>Художественный</td>\n",
       "      <td>Юниверсал Пикчерз, Кикстарт Продакшнз, Марк Пл...</td>\n",
       "      <td>США</td>\n",
       "      <td>Тимур Бекмамбетов</td>\n",
       "      <td>Джим Лемли, Джейсон Нетер, Марк Е.Платт, Яйн Смит</td>\n",
       "      <td>«18+» - запрещено для детей</td>\n",
       "      <td>NaN</td>\n",
       "      <td>NaN</td>\n",
       "      <td>NaN</td>\n",
       "      <td>NaN</td>\n",
       "      <td>6.8</td>\n",
       "      <td>фантастика,боевик,триллер</td>\n",
       "      <td>NaN</td>\n",
       "    </tr>\n",
       "  </tbody>\n",
       "</table>\n",
       "</div>"
      ],
      "text/plain": [
       "                  title   puNumber           show_start_date            type  \\\n",
       "0      Открытый простор  221048915  2015-11-27T12:00:00.000Z  Художественный   \n",
       "1  Особо важное задание  111013716  2016-09-13T12:00:00.000Z  Художественный   \n",
       "2          Особо опасен  221038416  2016-10-10T12:00:00.000Z  Художественный   \n",
       "3          Особо опасен  221026916  2016-06-10T12:00:00.000Z  Художественный   \n",
       "4          Особо опасен  221030815  2015-07-29T12:00:00.000Z  Художественный   \n",
       "\n",
       "                                         film_studio production_country  \\\n",
       "0  Тачстоун Пикчерз, Кобальт Пикчерз, Бикон Пикче...                США   \n",
       "1                              Киностудия \"Мосфильм\"               СССР   \n",
       "2  Юниверсал Пикчерз, Кикстарт Продакшнз, Марк Пл...                США   \n",
       "3  Юниверсал Пикчерз, Кикстарт Продакшнз, Марк Пл...                США   \n",
       "4  Юниверсал Пикчерз, Кикстарт Продакшнз, Марк Пл...                США   \n",
       "\n",
       "            director                                           producer  \\\n",
       "0      Кевин Костнер          Дэвид Валдес, Кевин Костнер, Джейк Эбертс   \n",
       "1          Е.Матвеев                                                NaN   \n",
       "2  Тимур Бекмамбетов  Джим Лемли, Джейсон Нетер, Марк Е.Платт, Яйн Смит   \n",
       "3  Тимур Бекмамбетов  Джим Лемли, Джейсон Нетер, Марк Е.Платт, Яйн Смит   \n",
       "4  Тимур Бекмамбетов  Джим Лемли, Джейсон Нетер, Марк Е.Платт, Яйн Смит   \n",
       "\n",
       "                 age_restriction  refundable_support  nonrefundable_support  \\\n",
       "0    «18+» - запрещено для детей                 NaN                    NaN   \n",
       "1  «6+» - для детей старше 6 лет                 NaN                    NaN   \n",
       "2    «18+» - запрещено для детей                 NaN                    NaN   \n",
       "3    «18+» - запрещено для детей                 NaN                    NaN   \n",
       "4    «18+» - запрещено для детей                 NaN                    NaN   \n",
       "\n",
       "   budget financing_source ratings                     genres  box_office  \n",
       "0     NaN              NaN     7.2     боевик,драма,мелодрама         NaN  \n",
       "1     NaN              NaN     6.6              драма,военный         NaN  \n",
       "2     NaN              NaN     6.8  фантастика,боевик,триллер         NaN  \n",
       "3     NaN              NaN     6.8  фантастика,боевик,триллер         NaN  \n",
       "4     NaN              NaN     6.8  фантастика,боевик,триллер         NaN  "
      ]
     },
     "execution_count": 41,
     "metadata": {},
     "output_type": "execute_result"
    }
   ],
   "source": [
    "df.head()"
   ]
  },
  {
   "cell_type": "markdown",
   "metadata": {},
   "source": [
    "<a name='types'></a>\n",
    "### 2. 1. Типы данных"
   ]
  },
  {
   "cell_type": "markdown",
   "metadata": {},
   "source": [
    "Необходимо изменить типы данных в следующих столбцах в датафрейме:\n",
    "- [x] show_start_date\n",
    "- [x] ratings"
   ]
  },
  {
   "cell_type": "markdown",
   "metadata": {},
   "source": [
    "Категория **\"show_start_date\"**"
   ]
  },
  {
   "cell_type": "code",
   "execution_count": 42,
   "metadata": {},
   "outputs": [],
   "source": [
    "# Изменить тип данных на datetime, а также оставим лишь дату первого дня показа\n",
    "df['show_start_date'] = pd.to_datetime(df['show_start_date']).dt.date.astype('datetime64[ns]')"
   ]
  },
  {
   "cell_type": "code",
   "execution_count": 43,
   "metadata": {},
   "outputs": [
    {
     "data": {
      "text/plain": [
       "0      2015-11-27\n",
       "1      2016-09-13\n",
       "2      2016-10-10\n",
       "3      2016-06-10\n",
       "4      2015-07-29\n",
       "          ...    \n",
       "7480   2019-12-23\n",
       "7481   2019-12-24\n",
       "7482   2019-12-28\n",
       "7483   2019-12-30\n",
       "7484   2019-12-30\n",
       "Name: show_start_date, Length: 7485, dtype: datetime64[ns]"
      ]
     },
     "execution_count": 43,
     "metadata": {},
     "output_type": "execute_result"
    }
   ],
   "source": [
    "df['show_start_date']"
   ]
  },
  {
   "cell_type": "markdown",
   "metadata": {},
   "source": [
    "Категория **\"ratings\"**"
   ]
  },
  {
   "cell_type": "code",
   "execution_count": 44,
   "metadata": {},
   "outputs": [],
   "source": [
    "# Заменим стопроцентную шкалу на десятибалльную\n",
    "df['ratings'] = df['ratings'].replace('%', \"\", regex=True).astype('float64')\n",
    "\n",
    "df.loc[df['ratings'] > 10, 'ratings'] /= 10"
   ]
  },
  {
   "cell_type": "code",
   "execution_count": 45,
   "metadata": {},
   "outputs": [
    {
     "name": "stdout",
     "output_type": "stream",
     "text": [
      "<class 'pandas.core.frame.DataFrame'>\n",
      "Int64Index: 7485 entries, 0 to 7484\n",
      "Data columns (total 16 columns):\n",
      " #   Column                 Non-Null Count  Dtype         \n",
      "---  ------                 --------------  -----         \n",
      " 0   title                  7485 non-null   object        \n",
      " 1   puNumber               7485 non-null   int64         \n",
      " 2   show_start_date        7485 non-null   datetime64[ns]\n",
      " 3   type                   7485 non-null   object        \n",
      " 4   film_studio            7467 non-null   object        \n",
      " 5   production_country     7483 non-null   object        \n",
      " 6   director               7476 non-null   object        \n",
      " 7   producer               6917 non-null   object        \n",
      " 8   age_restriction        7485 non-null   object        \n",
      " 9   refundable_support     332 non-null    float64       \n",
      " 10  nonrefundable_support  332 non-null    float64       \n",
      " 11  budget                 332 non-null    float64       \n",
      " 12  financing_source       332 non-null    object        \n",
      " 13  ratings                6519 non-null   float64       \n",
      " 14  genres                 6510 non-null   object        \n",
      " 15  box_office             3158 non-null   float64       \n",
      "dtypes: datetime64[ns](1), float64(5), int64(1), object(9)\n",
      "memory usage: 994.1+ KB\n"
     ]
    }
   ],
   "source": [
    "df.info()"
   ]
  },
  {
   "cell_type": "markdown",
   "metadata": {
    "id": "i0MOLbF-gFyP"
   },
   "source": [
    "<a name='missing_values'></a>\n",
    "### 2. 2. Пропуски"
   ]
  },
  {
   "cell_type": "markdown",
   "metadata": {},
   "source": [
    "Количество пропущенных значений по следующим категориям мало, а учитывая, что не предполагается анализировать влияние данного параметра, то эти фильмы можно оставить:\n",
    "\n",
    "- film_studio\n",
    "- director\n",
    "\n",
    "По ниже приведенным категориям имеются пропущенные значения, поскольку их в действительно нет (а не ввиду, например, ошибки):\n",
    "- producer\n",
    "- refundable_support\n",
    "- nonrefundable_support\n",
    "- financing_source\n",
    "- budget\n",
    "\n",
    "Необходимо рассмотреть пропуски по следующим категориям:\n",
    "- [x] production_country\n",
    "- [x] ratings\n",
    "- [x] genres\n",
    "\n",
    "(последние четыре связаны между собой)"
   ]
  },
  {
   "cell_type": "markdown",
   "metadata": {},
   "source": [
    "Категория **\"production_country\"**"
   ]
  },
  {
   "cell_type": "code",
   "execution_count": 46,
   "metadata": {},
   "outputs": [
    {
     "data": {
      "text/html": [
       "<div>\n",
       "<style scoped>\n",
       "    .dataframe tbody tr th:only-of-type {\n",
       "        vertical-align: middle;\n",
       "    }\n",
       "\n",
       "    .dataframe tbody tr th {\n",
       "        vertical-align: top;\n",
       "    }\n",
       "\n",
       "    .dataframe thead th {\n",
       "        text-align: right;\n",
       "    }\n",
       "</style>\n",
       "<table border=\"1\" class=\"dataframe\">\n",
       "  <thead>\n",
       "    <tr style=\"text-align: right;\">\n",
       "      <th></th>\n",
       "      <th>title</th>\n",
       "      <th>puNumber</th>\n",
       "      <th>show_start_date</th>\n",
       "      <th>type</th>\n",
       "      <th>film_studio</th>\n",
       "      <th>production_country</th>\n",
       "      <th>director</th>\n",
       "      <th>producer</th>\n",
       "      <th>age_restriction</th>\n",
       "      <th>refundable_support</th>\n",
       "      <th>nonrefundable_support</th>\n",
       "      <th>budget</th>\n",
       "      <th>financing_source</th>\n",
       "      <th>ratings</th>\n",
       "      <th>genres</th>\n",
       "      <th>box_office</th>\n",
       "    </tr>\n",
       "  </thead>\n",
       "  <tbody>\n",
       "    <tr>\n",
       "      <th>3185</th>\n",
       "      <td>Детский юмористический киножурнал \"Ералаш. Ну ...</td>\n",
       "      <td>111001216</td>\n",
       "      <td>2016-02-09</td>\n",
       "      <td>Художественный</td>\n",
       "      <td>ООО \"Продюсерский центр ЕРАЛАШ\"</td>\n",
       "      <td>NaN</td>\n",
       "      <td>Р.Светлов, И.Магитон, А.Арутюнян, Л.Мирский, А...</td>\n",
       "      <td>ООО \"Продюсерский центр ЕРАЛАШ\"</td>\n",
       "      <td>«0+» - для любой зрительской аудитории</td>\n",
       "      <td>NaN</td>\n",
       "      <td>NaN</td>\n",
       "      <td>NaN</td>\n",
       "      <td>NaN</td>\n",
       "      <td>7.2</td>\n",
       "      <td>детский,комедия</td>\n",
       "      <td>194527.0</td>\n",
       "    </tr>\n",
       "    <tr>\n",
       "      <th>4440</th>\n",
       "      <td>Мульт личности. Выпуск 5</td>\n",
       "      <td>214000410</td>\n",
       "      <td>2010-01-25</td>\n",
       "      <td>Художественный</td>\n",
       "      <td>NaN</td>\n",
       "      <td>NaN</td>\n",
       "      <td>NaN</td>\n",
       "      <td>NaN</td>\n",
       "      <td>«0+» - для любой зрительской аудитории</td>\n",
       "      <td>NaN</td>\n",
       "      <td>NaN</td>\n",
       "      <td>NaN</td>\n",
       "      <td>NaN</td>\n",
       "      <td>4.0</td>\n",
       "      <td>мультфильм,комедия</td>\n",
       "      <td>NaN</td>\n",
       "    </tr>\n",
       "  </tbody>\n",
       "</table>\n",
       "</div>"
      ],
      "text/plain": [
       "                                                  title   puNumber  \\\n",
       "3185  Детский юмористический киножурнал \"Ералаш. Ну ...  111001216   \n",
       "4440                           Мульт личности. Выпуск 5  214000410   \n",
       "\n",
       "     show_start_date            type                      film_studio  \\\n",
       "3185      2016-02-09  Художественный  ООО \"Продюсерский центр ЕРАЛАШ\"   \n",
       "4440      2010-01-25  Художественный                              NaN   \n",
       "\n",
       "     production_country                                           director  \\\n",
       "3185                NaN  Р.Светлов, И.Магитон, А.Арутюнян, Л.Мирский, А...   \n",
       "4440                NaN                                                NaN   \n",
       "\n",
       "                             producer                         age_restriction  \\\n",
       "3185  ООО \"Продюсерский центр ЕРАЛАШ\"  «0+» - для любой зрительской аудитории   \n",
       "4440                              NaN  «0+» - для любой зрительской аудитории   \n",
       "\n",
       "      refundable_support  nonrefundable_support  budget financing_source  \\\n",
       "3185                 NaN                    NaN     NaN              NaN   \n",
       "4440                 NaN                    NaN     NaN              NaN   \n",
       "\n",
       "      ratings              genres  box_office  \n",
       "3185      7.2     детский,комедия    194527.0  \n",
       "4440      4.0  мультфильм,комедия         NaN  "
      ]
     },
     "execution_count": 46,
     "metadata": {},
     "output_type": "execute_result"
    }
   ],
   "source": [
    "df[df['production_country'].isna()]"
   ]
  },
  {
   "cell_type": "code",
   "execution_count": 47,
   "metadata": {},
   "outputs": [],
   "source": [
    "# Поскольку всего у двух фильмов отсутствует значение параметра \"production_country\",\n",
    "# то заполним данные пропуски по информации из Интернета\n",
    "df.loc[3185, \"production_country\"] = 'СССР, Россия'\n",
    "df.loc[4440, \"production_country\"] = 'Россия'"
   ]
  },
  {
   "cell_type": "markdown",
   "metadata": {},
   "source": [
    "Категория **\"ratings\"**"
   ]
  },
  {
   "cell_type": "code",
   "execution_count": 48,
   "metadata": {
    "scrolled": false
   },
   "outputs": [
    {
     "data": {
      "text/html": [
       "<div>\n",
       "<style scoped>\n",
       "    .dataframe tbody tr th:only-of-type {\n",
       "        vertical-align: middle;\n",
       "    }\n",
       "\n",
       "    .dataframe tbody tr th {\n",
       "        vertical-align: top;\n",
       "    }\n",
       "\n",
       "    .dataframe thead th {\n",
       "        text-align: right;\n",
       "    }\n",
       "</style>\n",
       "<table border=\"1\" class=\"dataframe\">\n",
       "  <thead>\n",
       "    <tr style=\"text-align: right;\">\n",
       "      <th></th>\n",
       "      <th>title</th>\n",
       "      <th>puNumber</th>\n",
       "      <th>show_start_date</th>\n",
       "      <th>type</th>\n",
       "      <th>film_studio</th>\n",
       "      <th>production_country</th>\n",
       "      <th>director</th>\n",
       "      <th>producer</th>\n",
       "      <th>age_restriction</th>\n",
       "      <th>refundable_support</th>\n",
       "      <th>nonrefundable_support</th>\n",
       "      <th>budget</th>\n",
       "      <th>financing_source</th>\n",
       "      <th>ratings</th>\n",
       "      <th>genres</th>\n",
       "      <th>box_office</th>\n",
       "    </tr>\n",
       "  </thead>\n",
       "  <tbody>\n",
       "    <tr>\n",
       "      <th>43</th>\n",
       "      <td>Мемуары гейши (по роману Артура Голдена)</td>\n",
       "      <td>121000606</td>\n",
       "      <td>2012-12-14</td>\n",
       "      <td>Художественный</td>\n",
       "      <td>Коламбия Пикчерз Корпорейшн, ДримУоркс ЭсКейДж...</td>\n",
       "      <td>США</td>\n",
       "      <td>Роб Маршалл</td>\n",
       "      <td>Стивен Спилберг, Люси Фишер, Дуглас Уик, Джон ...</td>\n",
       "      <td>«12+» - для детей старше 12 лет</td>\n",
       "      <td>NaN</td>\n",
       "      <td>NaN</td>\n",
       "      <td>NaN</td>\n",
       "      <td>NaN</td>\n",
       "      <td>NaN</td>\n",
       "      <td>NaN</td>\n",
       "      <td>NaN</td>\n",
       "    </tr>\n",
       "    <tr>\n",
       "      <th>150</th>\n",
       "      <td>Жди меня</td>\n",
       "      <td>111013615</td>\n",
       "      <td>2015-08-25</td>\n",
       "      <td>Художественный</td>\n",
       "      <td>Киностудия \"Мосфильм\"</td>\n",
       "      <td>СССР</td>\n",
       "      <td>А.Столпер, Б.Иванов</td>\n",
       "      <td>NaN</td>\n",
       "      <td>«6+» - для детей старше 6 лет</td>\n",
       "      <td>NaN</td>\n",
       "      <td>NaN</td>\n",
       "      <td>NaN</td>\n",
       "      <td>NaN</td>\n",
       "      <td>NaN</td>\n",
       "      <td>NaN</td>\n",
       "      <td>NaN</td>\n",
       "    </tr>\n",
       "    <tr>\n",
       "      <th>154</th>\n",
       "      <td>Дом из песка и тумана (по книге Андре Дюбуи III)</td>\n",
       "      <td>221037813</td>\n",
       "      <td>2013-10-25</td>\n",
       "      <td>Художественный</td>\n",
       "      <td>Кобальт Пикчерз</td>\n",
       "      <td>США</td>\n",
       "      <td>Вадим Перельман</td>\n",
       "      <td>Майкл Лондон</td>\n",
       "      <td>«16+» - для детей старше 16 лет</td>\n",
       "      <td>NaN</td>\n",
       "      <td>NaN</td>\n",
       "      <td>NaN</td>\n",
       "      <td>NaN</td>\n",
       "      <td>NaN</td>\n",
       "      <td>NaN</td>\n",
       "      <td>NaN</td>\n",
       "    </tr>\n",
       "    <tr>\n",
       "      <th>159</th>\n",
       "      <td>Жемчужная девушка</td>\n",
       "      <td>224011014</td>\n",
       "      <td>2014-08-28</td>\n",
       "      <td>Художественный</td>\n",
       "      <td>Чешское телевидение,Студия \"Три брата\" агентск...</td>\n",
       "      <td>Чехия</td>\n",
       "      <td>Владимир Дрга</td>\n",
       "      <td>NaN</td>\n",
       "      <td>«0+» - для любой зрительской аудитории</td>\n",
       "      <td>NaN</td>\n",
       "      <td>NaN</td>\n",
       "      <td>NaN</td>\n",
       "      <td>NaN</td>\n",
       "      <td>NaN</td>\n",
       "      <td>NaN</td>\n",
       "      <td>NaN</td>\n",
       "    </tr>\n",
       "    <tr>\n",
       "      <th>227</th>\n",
       "      <td>Полустанок</td>\n",
       "      <td>111026714</td>\n",
       "      <td>2014-12-24</td>\n",
       "      <td>Художественный</td>\n",
       "      <td>Киностудия \"Мосфильм\"</td>\n",
       "      <td>СССР</td>\n",
       "      <td>Б.Барнет</td>\n",
       "      <td>NaN</td>\n",
       "      <td>«12+» - для детей старше 12 лет</td>\n",
       "      <td>NaN</td>\n",
       "      <td>NaN</td>\n",
       "      <td>NaN</td>\n",
       "      <td>NaN</td>\n",
       "      <td>NaN</td>\n",
       "      <td>NaN</td>\n",
       "      <td>NaN</td>\n",
       "    </tr>\n",
       "  </tbody>\n",
       "</table>\n",
       "</div>"
      ],
      "text/plain": [
       "                                                title   puNumber  \\\n",
       "43           Мемуары гейши (по роману Артура Голдена)  121000606   \n",
       "150                                          Жди меня  111013615   \n",
       "154  Дом из песка и тумана (по книге Андре Дюбуи III)  221037813   \n",
       "159                                 Жемчужная девушка  224011014   \n",
       "227                                        Полустанок  111026714   \n",
       "\n",
       "    show_start_date            type  \\\n",
       "43       2012-12-14  Художественный   \n",
       "150      2015-08-25  Художественный   \n",
       "154      2013-10-25  Художественный   \n",
       "159      2014-08-28  Художественный   \n",
       "227      2014-12-24  Художественный   \n",
       "\n",
       "                                           film_studio production_country  \\\n",
       "43   Коламбия Пикчерз Корпорейшн, ДримУоркс ЭсКейДж...                США   \n",
       "150                              Киностудия \"Мосфильм\"               СССР   \n",
       "154                                    Кобальт Пикчерз                США   \n",
       "159  Чешское телевидение,Студия \"Три брата\" агентск...              Чехия   \n",
       "227                              Киностудия \"Мосфильм\"               СССР   \n",
       "\n",
       "                director                                           producer  \\\n",
       "43           Роб Маршалл  Стивен Спилберг, Люси Фишер, Дуглас Уик, Джон ...   \n",
       "150  А.Столпер, Б.Иванов                                                NaN   \n",
       "154      Вадим Перельман                                       Майкл Лондон   \n",
       "159        Владимир Дрга                                                NaN   \n",
       "227             Б.Барнет                                                NaN   \n",
       "\n",
       "                            age_restriction  refundable_support  \\\n",
       "43          «12+» - для детей старше 12 лет                 NaN   \n",
       "150           «6+» - для детей старше 6 лет                 NaN   \n",
       "154         «16+» - для детей старше 16 лет                 NaN   \n",
       "159  «0+» - для любой зрительской аудитории                 NaN   \n",
       "227         «12+» - для детей старше 12 лет                 NaN   \n",
       "\n",
       "     nonrefundable_support  budget financing_source  ratings genres  \\\n",
       "43                     NaN     NaN              NaN      NaN    NaN   \n",
       "150                    NaN     NaN              NaN      NaN    NaN   \n",
       "154                    NaN     NaN              NaN      NaN    NaN   \n",
       "159                    NaN     NaN              NaN      NaN    NaN   \n",
       "227                    NaN     NaN              NaN      NaN    NaN   \n",
       "\n",
       "     box_office  \n",
       "43          NaN  \n",
       "150         NaN  \n",
       "154         NaN  \n",
       "159         NaN  \n",
       "227         NaN  "
      ]
     },
     "execution_count": 48,
     "metadata": {},
     "output_type": "execute_result"
    }
   ],
   "source": [
    "# У подавляющего большинства фильмов с пропущенными значениями в графе \"rating\" отсутствует рейтинг на кинопоиске, что связано\n",
    "# с недостаточным количеством оценок. Ввиду этого, лучше оставить фильмы \"без рейтинга\", поскольку таких значений немало.\n",
    "\n",
    "df[df['genres'].isna()].head()"
   ]
  },
  {
   "cell_type": "markdown",
   "metadata": {},
   "source": [
    "Категория **\"genres\"**"
   ]
  },
  {
   "cell_type": "code",
   "execution_count": 49,
   "metadata": {
    "scrolled": false
   },
   "outputs": [
    {
     "data": {
      "text/html": [
       "<div>\n",
       "<style scoped>\n",
       "    .dataframe tbody tr th:only-of-type {\n",
       "        vertical-align: middle;\n",
       "    }\n",
       "\n",
       "    .dataframe tbody tr th {\n",
       "        vertical-align: top;\n",
       "    }\n",
       "\n",
       "    .dataframe thead th {\n",
       "        text-align: right;\n",
       "    }\n",
       "</style>\n",
       "<table border=\"1\" class=\"dataframe\">\n",
       "  <thead>\n",
       "    <tr style=\"text-align: right;\">\n",
       "      <th></th>\n",
       "      <th>title</th>\n",
       "      <th>puNumber</th>\n",
       "      <th>show_start_date</th>\n",
       "      <th>type</th>\n",
       "      <th>film_studio</th>\n",
       "      <th>production_country</th>\n",
       "      <th>director</th>\n",
       "      <th>producer</th>\n",
       "      <th>age_restriction</th>\n",
       "      <th>refundable_support</th>\n",
       "      <th>nonrefundable_support</th>\n",
       "      <th>budget</th>\n",
       "      <th>financing_source</th>\n",
       "      <th>ratings</th>\n",
       "      <th>genres</th>\n",
       "      <th>box_office</th>\n",
       "    </tr>\n",
       "  </thead>\n",
       "  <tbody>\n",
       "    <tr>\n",
       "      <th>43</th>\n",
       "      <td>Мемуары гейши (по роману Артура Голдена)</td>\n",
       "      <td>121000606</td>\n",
       "      <td>2012-12-14</td>\n",
       "      <td>Художественный</td>\n",
       "      <td>Коламбия Пикчерз Корпорейшн, ДримУоркс ЭсКейДж...</td>\n",
       "      <td>США</td>\n",
       "      <td>Роб Маршалл</td>\n",
       "      <td>Стивен Спилберг, Люси Фишер, Дуглас Уик, Джон ...</td>\n",
       "      <td>«12+» - для детей старше 12 лет</td>\n",
       "      <td>NaN</td>\n",
       "      <td>NaN</td>\n",
       "      <td>NaN</td>\n",
       "      <td>NaN</td>\n",
       "      <td>NaN</td>\n",
       "      <td>NaN</td>\n",
       "      <td>NaN</td>\n",
       "    </tr>\n",
       "    <tr>\n",
       "      <th>150</th>\n",
       "      <td>Жди меня</td>\n",
       "      <td>111013615</td>\n",
       "      <td>2015-08-25</td>\n",
       "      <td>Художественный</td>\n",
       "      <td>Киностудия \"Мосфильм\"</td>\n",
       "      <td>СССР</td>\n",
       "      <td>А.Столпер, Б.Иванов</td>\n",
       "      <td>NaN</td>\n",
       "      <td>«6+» - для детей старше 6 лет</td>\n",
       "      <td>NaN</td>\n",
       "      <td>NaN</td>\n",
       "      <td>NaN</td>\n",
       "      <td>NaN</td>\n",
       "      <td>NaN</td>\n",
       "      <td>NaN</td>\n",
       "      <td>NaN</td>\n",
       "    </tr>\n",
       "    <tr>\n",
       "      <th>154</th>\n",
       "      <td>Дом из песка и тумана (по книге Андре Дюбуи III)</td>\n",
       "      <td>221037813</td>\n",
       "      <td>2013-10-25</td>\n",
       "      <td>Художественный</td>\n",
       "      <td>Кобальт Пикчерз</td>\n",
       "      <td>США</td>\n",
       "      <td>Вадим Перельман</td>\n",
       "      <td>Майкл Лондон</td>\n",
       "      <td>«16+» - для детей старше 16 лет</td>\n",
       "      <td>NaN</td>\n",
       "      <td>NaN</td>\n",
       "      <td>NaN</td>\n",
       "      <td>NaN</td>\n",
       "      <td>NaN</td>\n",
       "      <td>NaN</td>\n",
       "      <td>NaN</td>\n",
       "    </tr>\n",
       "    <tr>\n",
       "      <th>159</th>\n",
       "      <td>Жемчужная девушка</td>\n",
       "      <td>224011014</td>\n",
       "      <td>2014-08-28</td>\n",
       "      <td>Художественный</td>\n",
       "      <td>Чешское телевидение,Студия \"Три брата\" агентск...</td>\n",
       "      <td>Чехия</td>\n",
       "      <td>Владимир Дрга</td>\n",
       "      <td>NaN</td>\n",
       "      <td>«0+» - для любой зрительской аудитории</td>\n",
       "      <td>NaN</td>\n",
       "      <td>NaN</td>\n",
       "      <td>NaN</td>\n",
       "      <td>NaN</td>\n",
       "      <td>NaN</td>\n",
       "      <td>NaN</td>\n",
       "      <td>NaN</td>\n",
       "    </tr>\n",
       "    <tr>\n",
       "      <th>227</th>\n",
       "      <td>Полустанок</td>\n",
       "      <td>111026714</td>\n",
       "      <td>2014-12-24</td>\n",
       "      <td>Художественный</td>\n",
       "      <td>Киностудия \"Мосфильм\"</td>\n",
       "      <td>СССР</td>\n",
       "      <td>Б.Барнет</td>\n",
       "      <td>NaN</td>\n",
       "      <td>«12+» - для детей старше 12 лет</td>\n",
       "      <td>NaN</td>\n",
       "      <td>NaN</td>\n",
       "      <td>NaN</td>\n",
       "      <td>NaN</td>\n",
       "      <td>NaN</td>\n",
       "      <td>NaN</td>\n",
       "      <td>NaN</td>\n",
       "    </tr>\n",
       "  </tbody>\n",
       "</table>\n",
       "</div>"
      ],
      "text/plain": [
       "                                                title   puNumber  \\\n",
       "43           Мемуары гейши (по роману Артура Голдена)  121000606   \n",
       "150                                          Жди меня  111013615   \n",
       "154  Дом из песка и тумана (по книге Андре Дюбуи III)  221037813   \n",
       "159                                 Жемчужная девушка  224011014   \n",
       "227                                        Полустанок  111026714   \n",
       "\n",
       "    show_start_date            type  \\\n",
       "43       2012-12-14  Художественный   \n",
       "150      2015-08-25  Художественный   \n",
       "154      2013-10-25  Художественный   \n",
       "159      2014-08-28  Художественный   \n",
       "227      2014-12-24  Художественный   \n",
       "\n",
       "                                           film_studio production_country  \\\n",
       "43   Коламбия Пикчерз Корпорейшн, ДримУоркс ЭсКейДж...                США   \n",
       "150                              Киностудия \"Мосфильм\"               СССР   \n",
       "154                                    Кобальт Пикчерз                США   \n",
       "159  Чешское телевидение,Студия \"Три брата\" агентск...              Чехия   \n",
       "227                              Киностудия \"Мосфильм\"               СССР   \n",
       "\n",
       "                director                                           producer  \\\n",
       "43           Роб Маршалл  Стивен Спилберг, Люси Фишер, Дуглас Уик, Джон ...   \n",
       "150  А.Столпер, Б.Иванов                                                NaN   \n",
       "154      Вадим Перельман                                       Майкл Лондон   \n",
       "159        Владимир Дрга                                                NaN   \n",
       "227             Б.Барнет                                                NaN   \n",
       "\n",
       "                            age_restriction  refundable_support  \\\n",
       "43          «12+» - для детей старше 12 лет                 NaN   \n",
       "150           «6+» - для детей старше 6 лет                 NaN   \n",
       "154         «16+» - для детей старше 16 лет                 NaN   \n",
       "159  «0+» - для любой зрительской аудитории                 NaN   \n",
       "227         «12+» - для детей старше 12 лет                 NaN   \n",
       "\n",
       "     nonrefundable_support  budget financing_source  ratings genres  \\\n",
       "43                     NaN     NaN              NaN      NaN    NaN   \n",
       "150                    NaN     NaN              NaN      NaN    NaN   \n",
       "154                    NaN     NaN              NaN      NaN    NaN   \n",
       "159                    NaN     NaN              NaN      NaN    NaN   \n",
       "227                    NaN     NaN              NaN      NaN    NaN   \n",
       "\n",
       "     box_office  \n",
       "43          NaN  \n",
       "150         NaN  \n",
       "154         NaN  \n",
       "159         NaN  \n",
       "227         NaN  "
      ]
     },
     "execution_count": 49,
     "metadata": {},
     "output_type": "execute_result"
    }
   ],
   "source": [
    "# Пропущенные значения по категории \"genres\" можно в большей степени связать с ошибкой при составлении таблицы, поскольку\n",
    "# на сайте кинопоиске по фильмам (по крайне мере первых пяти) имеется их жанр \n",
    "df[df['genres'].isna()].head()"
   ]
  },
  {
   "cell_type": "markdown",
   "metadata": {},
   "source": [
    "Рассмотрим возможную взаимосвязь отсутствия значения по категориям \"genres\" и \"ratings\".\n",
    "\n",
    "Далее можно заметить, что почти во всех случаях наблюдается отсутствие двух показателей, ввиду чего можно сказать скорее об ошибки при заполнении таблицы (в некоторых случаях у фильма недостаточно оценок для формирования рейтинга)."
   ]
  },
  {
   "cell_type": "code",
   "execution_count": 50,
   "metadata": {
    "scrolled": true
   },
   "outputs": [
    {
     "data": {
      "text/plain": [
       "\"Количество фильмов с пропущенными значениями по параметрам 'genres' и 'ratings': 966\""
      ]
     },
     "metadata": {},
     "output_type": "display_data"
    },
    {
     "data": {
      "text/plain": [
       "\"Количество фильмов с пропущенным значениям по 'genres' и заполненным по 'ratings': 9\""
      ]
     },
     "metadata": {},
     "output_type": "display_data"
    }
   ],
   "source": [
    "display(\"Количество фильмов с пропущенными значениями по параметрам 'genres' и 'ratings': {}\".format(\n",
    "    df[df['genres'].isna() & df['ratings'].isna()]['title'].count()))\n",
    "display(\"Количество фильмов с пропущенным значениям по 'genres' и заполненным по 'ratings': {}\".format(\n",
    "    df[df['genres'].isna() & df['ratings'].notna()]['title'].count()))"
   ]
  },
  {
   "cell_type": "markdown",
   "metadata": {
    "id": "4c6k1t9ygFyQ"
   },
   "source": [
    "<a name='duplicates'></a>\n",
    "### 2. 3. Дубликаты"
   ]
  },
  {
   "cell_type": "markdown",
   "metadata": {},
   "source": [
    "По количественным значениям дубликаты могут возникать и их не нужно удалять (категории **'refundable_support', 'nonrefundable_support', 'budget', 'ratings'**).\n",
    "\n",
    "Дубликаты по таким категориальным столбцам, как: **'type', 'film_studio', 'production_country', 'director', 'producer', 'age_restriction', 'genres', 'show_start_date'** - обусловлены именно тем, что они являются категориальными и могут встречаться у разных фильмов. "
   ]
  },
  {
   "cell_type": "markdown",
   "metadata": {},
   "source": [
    "Категория **'puNumber'**"
   ]
  },
  {
   "cell_type": "code",
   "execution_count": 53,
   "metadata": {},
   "outputs": [
    {
     "data": {
      "text/plain": [
       "\"Количество уникальных значений по 'puNumber': 7483\""
      ]
     },
     "metadata": {},
     "output_type": "display_data"
    },
    {
     "data": {
      "text/plain": [
       "'Количество фильмов: 7485'"
      ]
     },
     "metadata": {},
     "output_type": "display_data"
    }
   ],
   "source": [
    "# По данной категории количество уникальных значений должно совпадать с количеством фильмов в датафрейме\n",
    "display(\"Количество уникальных значений по 'puNumber': {}\".format(len(df['puNumber'].unique())))\n",
    "display(\"Количество фильмов: {}\".format(len(df)))"
   ]
  },
  {
   "cell_type": "markdown",
   "metadata": {},
   "source": [
    "Категория **'film_studio'**"
   ]
  },
  {
   "cell_type": "markdown",
   "metadata": {},
   "source": [
    "По столбцу **'film_studio'** дубликаты могли возникнуть ввиду большого количества фильмов и различных студий, поэтому составители таблицы могли, например, забыть данное ими первоначально название отдельной студии."
   ]
  },
  {
   "cell_type": "code",
   "execution_count": 54,
   "metadata": {
    "scrolled": true
   },
   "outputs": [
    {
     "data": {
      "text/plain": [
       "array(['Тачстоун Пикчерз, Кобальт Пикчерз, Бикон Пикчерз, Тиг Продакшнз',\n",
       "       'Киностудия \"Мосфильм\"',\n",
       "       'Юниверсал Пикчерз, Кикстарт Продакшнз, Марк Платт Продакшнз, Рилейтивити Медиа, Спайгласс Интертейнмент, Стилкин Филмз, Топ Кау Продакшнз',\n",
       "       ...,\n",
       "       'Дэниел Гродник Продакшнз, Вандерфилм Медиа Корпорэйшн, Импринт Интертейнмент, Вор Хорс Интертейнмент, Пимиента ',\n",
       "       'Никелодеон Анимейшн Студиос, Спин Мастер',\n",
       "       'Анимаккорд Лтд., ООО Студия \"АНИМАККОРД\"'], dtype=object)"
      ]
     },
     "metadata": {},
     "output_type": "display_data"
    },
    {
     "data": {
      "text/plain": [
       "\"Количество уникальных значений по столбцу 'film_studio': 5491\""
      ]
     },
     "metadata": {},
     "output_type": "display_data"
    }
   ],
   "source": [
    "display(df['film_studio'].unique())\n",
    "display(\"Количество уникальных значений по столбцу 'film_studio': {}\".format(len(df['film_studio'].unique())))"
   ]
  },
  {
   "cell_type": "markdown",
   "metadata": {},
   "source": [
    "<a name='categorical_cols'></a>\n",
    "### 2. 4. Категориальные переменные"
   ]
  },
  {
   "cell_type": "markdown",
   "metadata": {},
   "source": [
    "Одной из основных проблем, встречающихся почти во всех категориальных столбцах является возможные проблемы в начале или в конце значения. Ввиду этого появляются неявные дубликаты, от которых необходимо избавиться. Самый простой пример можно лицезреть на категории \"type\", где всего 8 уникальных значений, два из которых имеют лишь лишние пробелы в начале (всего тогда получается 6 типов фильмов)."
   ]
  },
  {
   "cell_type": "markdown",
   "metadata": {},
   "source": [
    "По категориям: **1) show_start_date, 2) ratings, 3) age_restriction, 4) refundable_support, 5) nonrefundable_support и 6) financing_source** - значения могут совпадать.\n",
    "\n",
    "По категориям: **а) type, b) film_studio, c) production_country, d) director, e) producer, f) genres** - выявлены и удалены неявные дубликаты."
   ]
  },
  {
   "cell_type": "markdown",
   "metadata": {},
   "source": [
    "Категории **\"type\", \"film_studio\", \"production_country\", \"producer\", \"director\", \"genres\"** \n",
    "\n",
    "Попробуем найти неявные дубликаты, которые обнаружим с помощью использования функции .strip()."
   ]
  },
  {
   "cell_type": "code",
   "execution_count": 55,
   "metadata": {},
   "outputs": [
    {
     "data": {
      "text/plain": [
       "\"Количество уник. значений по 'type' ДО: 8\""
      ]
     },
     "metadata": {},
     "output_type": "display_data"
    },
    {
     "data": {
      "text/plain": [
       "\"Количество уник. значений по 'type' После: 6\""
      ]
     },
     "metadata": {},
     "output_type": "display_data"
    },
    {
     "name": "stdout",
     "output_type": "stream",
     "text": [
      "\n"
     ]
    },
    {
     "data": {
      "text/plain": [
       "\"Количество уник. значений по 'film_studio' ДО: 5491\""
      ]
     },
     "metadata": {},
     "output_type": "display_data"
    },
    {
     "data": {
      "text/plain": [
       "\"Количество уник. значений по 'film_studio' После: 5463\""
      ]
     },
     "metadata": {},
     "output_type": "display_data"
    },
    {
     "name": "stdout",
     "output_type": "stream",
     "text": [
      "\n"
     ]
    },
    {
     "data": {
      "text/plain": [
       "\"Количество уник. значений по 'production_country' ДО: 950\""
      ]
     },
     "metadata": {},
     "output_type": "display_data"
    },
    {
     "data": {
      "text/plain": [
       "\"Количество уник. значений по 'production_country' После: 934\""
      ]
     },
     "metadata": {},
     "output_type": "display_data"
    },
    {
     "name": "stdout",
     "output_type": "stream",
     "text": [
      "\n"
     ]
    },
    {
     "data": {
      "text/plain": [
       "\"Количество уник. значений по 'producer' ДО: 5350\""
      ]
     },
     "metadata": {},
     "output_type": "display_data"
    },
    {
     "data": {
      "text/plain": [
       "\"Количество уник. значений по 'producer' После: 5335\""
      ]
     },
     "metadata": {},
     "output_type": "display_data"
    },
    {
     "name": "stdout",
     "output_type": "stream",
     "text": [
      "\n"
     ]
    },
    {
     "data": {
      "text/plain": [
       "\"Количество уник. значений по 'director' ДО: 4812\""
      ]
     },
     "metadata": {},
     "output_type": "display_data"
    },
    {
     "data": {
      "text/plain": [
       "\"Количество уник. значений по 'director' После: 4802\""
      ]
     },
     "metadata": {},
     "output_type": "display_data"
    },
    {
     "name": "stdout",
     "output_type": "stream",
     "text": [
      "\n"
     ]
    },
    {
     "data": {
      "text/plain": [
       "\"Количество уник. значений по 'genres' ДО: 743\""
      ]
     },
     "metadata": {},
     "output_type": "display_data"
    },
    {
     "data": {
      "text/plain": [
       "\"Количество уник. значений по 'genres' После: 743\""
      ]
     },
     "metadata": {},
     "output_type": "display_data"
    },
    {
     "name": "stdout",
     "output_type": "stream",
     "text": [
      "\n"
     ]
    }
   ],
   "source": [
    "cols = ['type', 'film_studio', 'production_country', 'producer', 'director', 'genres']\n",
    "for col in cols:\n",
    "    display(f\"Количество уник. значений по '{col}' ДО: {format(len(df[col].unique()))}\")\n",
    "    df[col] = df[col].str.strip()\n",
    "    display(f\"Количество уник. значений по '{col}' После: {format(len(df[col].unique()))}\")\n",
    "    print()"
   ]
  },
  {
   "cell_type": "markdown",
   "metadata": {
    "id": "XFSN5lrEgFyR"
   },
   "source": [
    "<a name='numeric_cols'></a>\n",
    "### 2. 5. Количественные переменные"
   ]
  },
  {
   "cell_type": "markdown",
   "metadata": {},
   "source": [
    "Поскольку параметр \"budget\" демонстрирует общий объем государственной поддержки, то он должен включать в себя как объем возвратных, так и невозвратных средств. Следовательно, сумма объема возвратных и невозвратных средств господдержки не должна превышать полный объем господдержки. Найдем все фильмы, где данноу условие не выполняется и впишем в \"budget\" общую сумму."
   ]
  },
  {
   "cell_type": "code",
   "execution_count": 56,
   "metadata": {},
   "outputs": [
    {
     "data": {
      "text/plain": [
       "'Количество фильмов, где объем возвратных и невозвратных средств больше бюджета ДО: 17'"
      ]
     },
     "metadata": {},
     "output_type": "display_data"
    },
    {
     "data": {
      "text/plain": [
       "'Количество фильмов, где объем возвратных и невозвратных средств больше бюджета ПОСЛЕ: 0'"
      ]
     },
     "metadata": {},
     "output_type": "display_data"
    }
   ],
   "source": [
    "display(\"Количество фильмов, где объем возвратных и невозвратных средств больше бюджета ДО: {}\".format(\n",
    "    df[df['refundable_support'] + df['nonrefundable_support'] > df['budget']]['budget'].count()))\n",
    "\n",
    "# Заполним значение параметра \"budget\" суммой возвратных и невозвратных средств, в случае ее превышения объема бюджета\n",
    "df.loc[df['refundable_support'] + df['nonrefundable_support'] > df['budget'], 'budget'] = df['refundable_support'] + df['nonrefundable_support']\n",
    "\n",
    "display(\"Количество фильмов, где объем возвратных и невозвратных средств больше бюджета ПОСЛЕ: {}\".format(\n",
    "    df[df['refundable_support'] + df['nonrefundable_support'] > df['budget']]['budget'].count()))"
   ]
  },
  {
   "cell_type": "markdown",
   "metadata": {},
   "source": [
    "Категория **\"box_office\"**\n",
    "\n",
    "Заменим нулевые значения по рассматриваемой категории на NaN для того, чтобы в дальнейшем исключить из анализа те фильмы, прокат в кинотеатрах, как было обнаружено в данных, равен нулю."
   ]
  },
  {
   "cell_type": "code",
   "execution_count": 57,
   "metadata": {
    "scrolled": false
   },
   "outputs": [
    {
     "data": {
      "text/html": [
       "<div>\n",
       "<style scoped>\n",
       "    .dataframe tbody tr th:only-of-type {\n",
       "        vertical-align: middle;\n",
       "    }\n",
       "\n",
       "    .dataframe tbody tr th {\n",
       "        vertical-align: top;\n",
       "    }\n",
       "\n",
       "    .dataframe thead th {\n",
       "        text-align: right;\n",
       "    }\n",
       "</style>\n",
       "<table border=\"1\" class=\"dataframe\">\n",
       "  <thead>\n",
       "    <tr style=\"text-align: right;\">\n",
       "      <th></th>\n",
       "      <th>title</th>\n",
       "      <th>puNumber</th>\n",
       "      <th>show_start_date</th>\n",
       "      <th>type</th>\n",
       "      <th>film_studio</th>\n",
       "      <th>production_country</th>\n",
       "      <th>director</th>\n",
       "      <th>producer</th>\n",
       "      <th>age_restriction</th>\n",
       "      <th>refundable_support</th>\n",
       "      <th>nonrefundable_support</th>\n",
       "      <th>budget</th>\n",
       "      <th>financing_source</th>\n",
       "      <th>ratings</th>\n",
       "      <th>genres</th>\n",
       "      <th>box_office</th>\n",
       "    </tr>\n",
       "  </thead>\n",
       "  <tbody>\n",
       "    <tr>\n",
       "      <th>66</th>\n",
       "      <td>Анна Павлова</td>\n",
       "      <td>111011013</td>\n",
       "      <td>2013-12-19</td>\n",
       "      <td>Художественный</td>\n",
       "      <td>совместное производство Киностудия \"Мосфильм\",...</td>\n",
       "      <td>СССР, Франция, Англия, Куба, ГДР</td>\n",
       "      <td>Эмиль Лотяну</td>\n",
       "      <td>NaN</td>\n",
       "      <td>«6+» - для детей старше 6 лет</td>\n",
       "      <td>NaN</td>\n",
       "      <td>NaN</td>\n",
       "      <td>NaN</td>\n",
       "      <td>NaN</td>\n",
       "      <td>7.7</td>\n",
       "      <td>драма,биография,музыка</td>\n",
       "      <td>0.0</td>\n",
       "    </tr>\n",
       "    <tr>\n",
       "      <th>237</th>\n",
       "      <td>Подранки</td>\n",
       "      <td>111007613</td>\n",
       "      <td>2013-10-18</td>\n",
       "      <td>Художественный</td>\n",
       "      <td>Киностудия \"Мосфильм\"</td>\n",
       "      <td>СССР</td>\n",
       "      <td>Н.Губенко</td>\n",
       "      <td>NaN</td>\n",
       "      <td>«12+» - для детей старше 12 лет</td>\n",
       "      <td>NaN</td>\n",
       "      <td>NaN</td>\n",
       "      <td>NaN</td>\n",
       "      <td>NaN</td>\n",
       "      <td>8.2</td>\n",
       "      <td>драма</td>\n",
       "      <td>0.0</td>\n",
       "    </tr>\n",
       "    <tr>\n",
       "      <th>596</th>\n",
       "      <td>Запах вереска</td>\n",
       "      <td>111003012</td>\n",
       "      <td>2012-05-23</td>\n",
       "      <td>Художественный</td>\n",
       "      <td>ООО \"Студия РИМ\"</td>\n",
       "      <td>Россия</td>\n",
       "      <td>А.Магомедов</td>\n",
       "      <td>М.Балашова, Е.Миронов</td>\n",
       "      <td>«16+» - для детей старше 16 лет</td>\n",
       "      <td>NaN</td>\n",
       "      <td>NaN</td>\n",
       "      <td>NaN</td>\n",
       "      <td>NaN</td>\n",
       "      <td>6.3</td>\n",
       "      <td>комедия</td>\n",
       "      <td>0.0</td>\n",
       "    </tr>\n",
       "    <tr>\n",
       "      <th>914</th>\n",
       "      <td>В тумане /По одноименной повести Василя Быкова/</td>\n",
       "      <td>121027712</td>\n",
       "      <td>2012-11-07</td>\n",
       "      <td>Художественный</td>\n",
       "      <td>Ма Йа Де Фикшн, Лемминг Филм, Беларусьфильм, Д...</td>\n",
       "      <td>Германия - Нидерланды - Беларусь - Россия - Ла...</td>\n",
       "      <td>Сергей Лозница</td>\n",
       "      <td>Хайно Декерт</td>\n",
       "      <td>«12+» - для детей старше 12 лет</td>\n",
       "      <td>NaN</td>\n",
       "      <td>NaN</td>\n",
       "      <td>NaN</td>\n",
       "      <td>NaN</td>\n",
       "      <td>6.5</td>\n",
       "      <td>драма,военный,история</td>\n",
       "      <td>0.0</td>\n",
       "    </tr>\n",
       "    <tr>\n",
       "      <th>932</th>\n",
       "      <td>Письмо для Момо</td>\n",
       "      <td>124002912</td>\n",
       "      <td>2012-10-25</td>\n",
       "      <td>Анимационный</td>\n",
       "      <td>Кадокава Пикчерз, Продакшнз И Джи, Токио Броад...</td>\n",
       "      <td>Япония</td>\n",
       "      <td>Окиура Хироюки</td>\n",
       "      <td>Хироюки Икеда, Митсухиса Ишикава, Кацзуя Хамана</td>\n",
       "      <td>«12+» - для детей старше 12 лет</td>\n",
       "      <td>NaN</td>\n",
       "      <td>NaN</td>\n",
       "      <td>NaN</td>\n",
       "      <td>NaN</td>\n",
       "      <td>7.4</td>\n",
       "      <td>аниме,мультфильм,драма</td>\n",
       "      <td>0.0</td>\n",
       "    </tr>\n",
       "  </tbody>\n",
       "</table>\n",
       "</div>"
      ],
      "text/plain": [
       "                                               title   puNumber  \\\n",
       "66                                      Анна Павлова  111011013   \n",
       "237                                         Подранки  111007613   \n",
       "596                                    Запах вереска  111003012   \n",
       "914  В тумане /По одноименной повести Василя Быкова/  121027712   \n",
       "932                                  Письмо для Момо  124002912   \n",
       "\n",
       "    show_start_date            type  \\\n",
       "66       2013-12-19  Художественный   \n",
       "237      2013-10-18  Художественный   \n",
       "596      2012-05-23  Художественный   \n",
       "914      2012-11-07  Художественный   \n",
       "932      2012-10-25    Анимационный   \n",
       "\n",
       "                                           film_studio  \\\n",
       "66   совместное производство Киностудия \"Мосфильм\",...   \n",
       "237                              Киностудия \"Мосфильм\"   \n",
       "596                                   ООО \"Студия РИМ\"   \n",
       "914  Ма Йа Де Фикшн, Лемминг Филм, Беларусьфильм, Д...   \n",
       "932  Кадокава Пикчерз, Продакшнз И Джи, Токио Броад...   \n",
       "\n",
       "                                    production_country        director  \\\n",
       "66                    СССР, Франция, Англия, Куба, ГДР    Эмиль Лотяну   \n",
       "237                                               СССР       Н.Губенко   \n",
       "596                                             Россия     А.Магомедов   \n",
       "914  Германия - Нидерланды - Беларусь - Россия - Ла...  Сергей Лозница   \n",
       "932                                             Япония  Окиура Хироюки   \n",
       "\n",
       "                                            producer  \\\n",
       "66                                               NaN   \n",
       "237                                              NaN   \n",
       "596                            М.Балашова, Е.Миронов   \n",
       "914                                     Хайно Декерт   \n",
       "932  Хироюки Икеда, Митсухиса Ишикава, Кацзуя Хамана   \n",
       "\n",
       "                     age_restriction  refundable_support  \\\n",
       "66     «6+» - для детей старше 6 лет                 NaN   \n",
       "237  «12+» - для детей старше 12 лет                 NaN   \n",
       "596  «16+» - для детей старше 16 лет                 NaN   \n",
       "914  «12+» - для детей старше 12 лет                 NaN   \n",
       "932  «12+» - для детей старше 12 лет                 NaN   \n",
       "\n",
       "     nonrefundable_support  budget financing_source  ratings  \\\n",
       "66                     NaN     NaN              NaN      7.7   \n",
       "237                    NaN     NaN              NaN      8.2   \n",
       "596                    NaN     NaN              NaN      6.3   \n",
       "914                    NaN     NaN              NaN      6.5   \n",
       "932                    NaN     NaN              NaN      7.4   \n",
       "\n",
       "                     genres  box_office  \n",
       "66   драма,биография,музыка         0.0  \n",
       "237                   драма         0.0  \n",
       "596                 комедия         0.0  \n",
       "914   драма,военный,история         0.0  \n",
       "932  аниме,мультфильм,драма         0.0  "
      ]
     },
     "metadata": {},
     "output_type": "display_data"
    }
   ],
   "source": [
    "display(df[df['box_office'] == 0].head())\n",
    "df.loc[df['box_office'] == 0, 'box_office'] = None"
   ]
  },
  {
   "cell_type": "markdown",
   "metadata": {
    "id": "Eu6oWp2CgFyS"
   },
   "source": [
    "<a name='feature_engineering'></a>\n",
    "### 2. 6. Feature Engineering"
   ]
  },
  {
   "cell_type": "code",
   "execution_count": 58,
   "metadata": {
    "id": "I-yd1DkWgFyT"
   },
   "outputs": [
    {
     "data": {
      "text/html": [
       "<div>\n",
       "<style scoped>\n",
       "    .dataframe tbody tr th:only-of-type {\n",
       "        vertical-align: middle;\n",
       "    }\n",
       "\n",
       "    .dataframe tbody tr th {\n",
       "        vertical-align: top;\n",
       "    }\n",
       "\n",
       "    .dataframe thead th {\n",
       "        text-align: right;\n",
       "    }\n",
       "</style>\n",
       "<table border=\"1\" class=\"dataframe\">\n",
       "  <thead>\n",
       "    <tr style=\"text-align: right;\">\n",
       "      <th></th>\n",
       "      <th>title</th>\n",
       "      <th>puNumber</th>\n",
       "      <th>show_start_date</th>\n",
       "      <th>year</th>\n",
       "      <th>type</th>\n",
       "      <th>film_studio</th>\n",
       "      <th>production_country</th>\n",
       "      <th>director</th>\n",
       "      <th>producer</th>\n",
       "      <th>age_restriction</th>\n",
       "      <th>refundable_support</th>\n",
       "      <th>nonrefundable_support</th>\n",
       "      <th>budget</th>\n",
       "      <th>financing_source</th>\n",
       "      <th>ratings</th>\n",
       "      <th>genres</th>\n",
       "      <th>box_office</th>\n",
       "    </tr>\n",
       "  </thead>\n",
       "  <tbody>\n",
       "    <tr>\n",
       "      <th>0</th>\n",
       "      <td>Открытый простор</td>\n",
       "      <td>221048915</td>\n",
       "      <td>2015-11-27</td>\n",
       "      <td>2015</td>\n",
       "      <td>Художественный</td>\n",
       "      <td>Тачстоун Пикчерз, Кобальт Пикчерз, Бикон Пикче...</td>\n",
       "      <td>США</td>\n",
       "      <td>Кевин Костнер</td>\n",
       "      <td>Дэвид Валдес, Кевин Костнер, Джейк Эбертс</td>\n",
       "      <td>«18+» - запрещено для детей</td>\n",
       "      <td>NaN</td>\n",
       "      <td>NaN</td>\n",
       "      <td>NaN</td>\n",
       "      <td>NaN</td>\n",
       "      <td>7.2</td>\n",
       "      <td>боевик,драма,мелодрама</td>\n",
       "      <td>NaN</td>\n",
       "    </tr>\n",
       "    <tr>\n",
       "      <th>1</th>\n",
       "      <td>Особо важное задание</td>\n",
       "      <td>111013716</td>\n",
       "      <td>2016-09-13</td>\n",
       "      <td>2016</td>\n",
       "      <td>Художественный</td>\n",
       "      <td>Киностудия \"Мосфильм\"</td>\n",
       "      <td>СССР</td>\n",
       "      <td>Е.Матвеев</td>\n",
       "      <td>NaN</td>\n",
       "      <td>«6+» - для детей старше 6 лет</td>\n",
       "      <td>NaN</td>\n",
       "      <td>NaN</td>\n",
       "      <td>NaN</td>\n",
       "      <td>NaN</td>\n",
       "      <td>6.6</td>\n",
       "      <td>драма,военный</td>\n",
       "      <td>NaN</td>\n",
       "    </tr>\n",
       "    <tr>\n",
       "      <th>2</th>\n",
       "      <td>Особо опасен</td>\n",
       "      <td>221038416</td>\n",
       "      <td>2016-10-10</td>\n",
       "      <td>2016</td>\n",
       "      <td>Художественный</td>\n",
       "      <td>Юниверсал Пикчерз, Кикстарт Продакшнз, Марк Пл...</td>\n",
       "      <td>США</td>\n",
       "      <td>Тимур Бекмамбетов</td>\n",
       "      <td>Джим Лемли, Джейсон Нетер, Марк Е.Платт, Яйн Смит</td>\n",
       "      <td>«18+» - запрещено для детей</td>\n",
       "      <td>NaN</td>\n",
       "      <td>NaN</td>\n",
       "      <td>NaN</td>\n",
       "      <td>NaN</td>\n",
       "      <td>6.8</td>\n",
       "      <td>фантастика,боевик,триллер</td>\n",
       "      <td>NaN</td>\n",
       "    </tr>\n",
       "    <tr>\n",
       "      <th>3</th>\n",
       "      <td>Особо опасен</td>\n",
       "      <td>221026916</td>\n",
       "      <td>2016-06-10</td>\n",
       "      <td>2016</td>\n",
       "      <td>Художественный</td>\n",
       "      <td>Юниверсал Пикчерз, Кикстарт Продакшнз, Марк Пл...</td>\n",
       "      <td>США</td>\n",
       "      <td>Тимур Бекмамбетов</td>\n",
       "      <td>Джим Лемли, Джейсон Нетер, Марк Е.Платт, Яйн Смит</td>\n",
       "      <td>«18+» - запрещено для детей</td>\n",
       "      <td>NaN</td>\n",
       "      <td>NaN</td>\n",
       "      <td>NaN</td>\n",
       "      <td>NaN</td>\n",
       "      <td>6.8</td>\n",
       "      <td>фантастика,боевик,триллер</td>\n",
       "      <td>NaN</td>\n",
       "    </tr>\n",
       "    <tr>\n",
       "      <th>4</th>\n",
       "      <td>Особо опасен</td>\n",
       "      <td>221030815</td>\n",
       "      <td>2015-07-29</td>\n",
       "      <td>2015</td>\n",
       "      <td>Художественный</td>\n",
       "      <td>Юниверсал Пикчерз, Кикстарт Продакшнз, Марк Пл...</td>\n",
       "      <td>США</td>\n",
       "      <td>Тимур Бекмамбетов</td>\n",
       "      <td>Джим Лемли, Джейсон Нетер, Марк Е.Платт, Яйн Смит</td>\n",
       "      <td>«18+» - запрещено для детей</td>\n",
       "      <td>NaN</td>\n",
       "      <td>NaN</td>\n",
       "      <td>NaN</td>\n",
       "      <td>NaN</td>\n",
       "      <td>6.8</td>\n",
       "      <td>фантастика,боевик,триллер</td>\n",
       "      <td>NaN</td>\n",
       "    </tr>\n",
       "  </tbody>\n",
       "</table>\n",
       "</div>"
      ],
      "text/plain": [
       "                  title   puNumber show_start_date  year            type  \\\n",
       "0      Открытый простор  221048915      2015-11-27  2015  Художественный   \n",
       "1  Особо важное задание  111013716      2016-09-13  2016  Художественный   \n",
       "2          Особо опасен  221038416      2016-10-10  2016  Художественный   \n",
       "3          Особо опасен  221026916      2016-06-10  2016  Художественный   \n",
       "4          Особо опасен  221030815      2015-07-29  2015  Художественный   \n",
       "\n",
       "                                         film_studio production_country  \\\n",
       "0  Тачстоун Пикчерз, Кобальт Пикчерз, Бикон Пикче...                США   \n",
       "1                              Киностудия \"Мосфильм\"               СССР   \n",
       "2  Юниверсал Пикчерз, Кикстарт Продакшнз, Марк Пл...                США   \n",
       "3  Юниверсал Пикчерз, Кикстарт Продакшнз, Марк Пл...                США   \n",
       "4  Юниверсал Пикчерз, Кикстарт Продакшнз, Марк Пл...                США   \n",
       "\n",
       "            director                                           producer  \\\n",
       "0      Кевин Костнер          Дэвид Валдес, Кевин Костнер, Джейк Эбертс   \n",
       "1          Е.Матвеев                                                NaN   \n",
       "2  Тимур Бекмамбетов  Джим Лемли, Джейсон Нетер, Марк Е.Платт, Яйн Смит   \n",
       "3  Тимур Бекмамбетов  Джим Лемли, Джейсон Нетер, Марк Е.Платт, Яйн Смит   \n",
       "4  Тимур Бекмамбетов  Джим Лемли, Джейсон Нетер, Марк Е.Платт, Яйн Смит   \n",
       "\n",
       "                 age_restriction  refundable_support  nonrefundable_support  \\\n",
       "0    «18+» - запрещено для детей                 NaN                    NaN   \n",
       "1  «6+» - для детей старше 6 лет                 NaN                    NaN   \n",
       "2    «18+» - запрещено для детей                 NaN                    NaN   \n",
       "3    «18+» - запрещено для детей                 NaN                    NaN   \n",
       "4    «18+» - запрещено для детей                 NaN                    NaN   \n",
       "\n",
       "   budget financing_source  ratings                     genres  box_office  \n",
       "0     NaN              NaN      7.2     боевик,драма,мелодрама         NaN  \n",
       "1     NaN              NaN      6.6              драма,военный         NaN  \n",
       "2     NaN              NaN      6.8  фантастика,боевик,триллер         NaN  \n",
       "3     NaN              NaN      6.8  фантастика,боевик,триллер         NaN  \n",
       "4     NaN              NaN      6.8  фантастика,боевик,триллер         NaN  "
      ]
     },
     "execution_count": 58,
     "metadata": {},
     "output_type": "execute_result"
    }
   ],
   "source": [
    "# Вставим столбец с годом премьеры фильма рядом со столбцом с полной датой премьеры\n",
    "year = df['show_start_date'].dt.year\n",
    "df.insert(3, 'year', year)\n",
    "df.head()"
   ]
  },
  {
   "cell_type": "code",
   "execution_count": 2,
   "metadata": {
    "scrolled": false
   },
   "outputs": [],
   "source": [
    "# Вычленим главного режиссера\n",
    "def first_instance(x):\n",
    "    try:\n",
    "        y = x.split(',')[0]\n",
    "        return y\n",
    "    except AttributeError:\n",
    "        return None\n",
    "\n",
    "# Вставим новые столбцы с именем главного режиссера и основного жанра рядом с категорией \"director\" и \"genres\"\n",
    "df.insert(8, \"main_director\", df['director'].apply(first_instance))\n",
    "df.insert(17, \"main_genre\", df['genres'].apply(first_instance))\n",
    "df.head()"
   ]
  },
  {
   "cell_type": "code",
   "execution_count": 60,
   "metadata": {
    "id": "LV6qFuZLgFyV"
   },
   "outputs": [
    {
     "data": {
      "text/html": [
       "<div>\n",
       "<style scoped>\n",
       "    .dataframe tbody tr th:only-of-type {\n",
       "        vertical-align: middle;\n",
       "    }\n",
       "\n",
       "    .dataframe tbody tr th {\n",
       "        vertical-align: top;\n",
       "    }\n",
       "\n",
       "    .dataframe thead th {\n",
       "        text-align: right;\n",
       "    }\n",
       "</style>\n",
       "<table border=\"1\" class=\"dataframe\">\n",
       "  <thead>\n",
       "    <tr style=\"text-align: right;\">\n",
       "      <th></th>\n",
       "      <th>title</th>\n",
       "      <th>puNumber</th>\n",
       "      <th>show_start_date</th>\n",
       "      <th>year</th>\n",
       "      <th>type</th>\n",
       "      <th>film_studio</th>\n",
       "      <th>production_country</th>\n",
       "      <th>director</th>\n",
       "      <th>main_director</th>\n",
       "      <th>producer</th>\n",
       "      <th>age_restriction</th>\n",
       "      <th>refundable_support</th>\n",
       "      <th>nonrefundable_support</th>\n",
       "      <th>budget</th>\n",
       "      <th>financing_source</th>\n",
       "      <th>ratings</th>\n",
       "      <th>genres</th>\n",
       "      <th>main_genre</th>\n",
       "      <th>box_office</th>\n",
       "      <th>gov_support</th>\n",
       "    </tr>\n",
       "  </thead>\n",
       "  <tbody>\n",
       "    <tr>\n",
       "      <th>2873</th>\n",
       "      <td>Помню - не помню!</td>\n",
       "      <td>111004916</td>\n",
       "      <td>2016-03-01</td>\n",
       "      <td>2016</td>\n",
       "      <td>Художественный</td>\n",
       "      <td>ООО \"КиноФирма\"</td>\n",
       "      <td>Россия</td>\n",
       "      <td>В.Ровенский</td>\n",
       "      <td>В.Ровенский</td>\n",
       "      <td>ООО \"КиноФирма\"</td>\n",
       "      <td>«12+» - для детей старше 12 лет</td>\n",
       "      <td>0.0</td>\n",
       "      <td>6000000.0</td>\n",
       "      <td>6000000.0</td>\n",
       "      <td>Министерство культуры</td>\n",
       "      <td>4.3</td>\n",
       "      <td>комедия</td>\n",
       "      <td>комедия</td>\n",
       "      <td>1.536293e+07</td>\n",
       "      <td>1.0</td>\n",
       "    </tr>\n",
       "    <tr>\n",
       "      <th>3046</th>\n",
       "      <td>Любовь с ограничениями</td>\n",
       "      <td>111008216</td>\n",
       "      <td>2016-04-29</td>\n",
       "      <td>2016</td>\n",
       "      <td>Художественный</td>\n",
       "      <td>АО \"ВайТ Медиа\", ООО \"Арт Пикчерс Студия\"</td>\n",
       "      <td>Россия</td>\n",
       "      <td>Д.Тюрин</td>\n",
       "      <td>Д.Тюрин</td>\n",
       "      <td>Ф.Бондарчук, Т.Вайнштейн, Д.Рудовский</td>\n",
       "      <td>«16+» - для детей старше 16 лет</td>\n",
       "      <td>19000000.0</td>\n",
       "      <td>51000000.0</td>\n",
       "      <td>70000000.0</td>\n",
       "      <td>Фонд кино</td>\n",
       "      <td>6.3</td>\n",
       "      <td>комедия,мелодрама</td>\n",
       "      <td>комедия</td>\n",
       "      <td>7.029905e+07</td>\n",
       "      <td>1.0</td>\n",
       "    </tr>\n",
       "    <tr>\n",
       "      <th>6322</th>\n",
       "      <td>Баба Яга</td>\n",
       "      <td>114006518</td>\n",
       "      <td>2018-11-08</td>\n",
       "      <td>2018</td>\n",
       "      <td>Анимационный</td>\n",
       "      <td>ООО \"Арт Пикчерс Студия\"</td>\n",
       "      <td>Россия</td>\n",
       "      <td>В.Саков</td>\n",
       "      <td>В.Саков</td>\n",
       "      <td>ООО \"Арт Пикчерс Студия\", ООО \"КРИЭЙТИВ АНИМЭЙ...</td>\n",
       "      <td>«6+» - для детей старше 6 лет</td>\n",
       "      <td>0.0</td>\n",
       "      <td>138969465.0</td>\n",
       "      <td>138969465.0</td>\n",
       "      <td>Фонд кино</td>\n",
       "      <td>NaN</td>\n",
       "      <td>NaN</td>\n",
       "      <td>None</td>\n",
       "      <td>1.334699e+06</td>\n",
       "      <td>1.0</td>\n",
       "    </tr>\n",
       "    <tr>\n",
       "      <th>6822</th>\n",
       "      <td>Большое путешествие</td>\n",
       "      <td>114002419</td>\n",
       "      <td>2019-04-20</td>\n",
       "      <td>2019</td>\n",
       "      <td>Анимационный</td>\n",
       "      <td>ООО \"ЛИЦЕНЗИОННЫЕ БРЕНДЫ\"</td>\n",
       "      <td>Россия</td>\n",
       "      <td>Н.Лопато, В.Ровенский</td>\n",
       "      <td>Н.Лопато</td>\n",
       "      <td>ООО \"ЛИЦЕНЗИОННЫЕ БРЕНДЫ\"</td>\n",
       "      <td>«6+» - для детей старше 6 лет</td>\n",
       "      <td>60000000.0</td>\n",
       "      <td>120000000.0</td>\n",
       "      <td>180000000.0</td>\n",
       "      <td>Фонд кино</td>\n",
       "      <td>6.2</td>\n",
       "      <td>мультфильм,комедия,приключения</td>\n",
       "      <td>мультфильм</td>\n",
       "      <td>1.476068e+08</td>\n",
       "      <td>1.0</td>\n",
       "    </tr>\n",
       "    <tr>\n",
       "      <th>2531</th>\n",
       "      <td>Бармен.</td>\n",
       "      <td>111009615</td>\n",
       "      <td>2015-05-26</td>\n",
       "      <td>2015</td>\n",
       "      <td>Художественный</td>\n",
       "      <td>АО \"ВайТ Медиа\", ООО \"Арт Пикчерс Студия\"</td>\n",
       "      <td>Россия</td>\n",
       "      <td>Д.Штурманова</td>\n",
       "      <td>Д.Штурманова</td>\n",
       "      <td>Т.Вайнштейн</td>\n",
       "      <td>«16+» - для детей старше 16 лет</td>\n",
       "      <td>20000000.0</td>\n",
       "      <td>0.0</td>\n",
       "      <td>20000000.0</td>\n",
       "      <td>Фонд кино</td>\n",
       "      <td>6.2</td>\n",
       "      <td>комедия,фэнтези</td>\n",
       "      <td>комедия</td>\n",
       "      <td>6.741897e+07</td>\n",
       "      <td>1.0</td>\n",
       "    </tr>\n",
       "  </tbody>\n",
       "</table>\n",
       "</div>"
      ],
      "text/plain": [
       "                       title   puNumber show_start_date  year            type  \\\n",
       "2873       Помню - не помню!  111004916      2016-03-01  2016  Художественный   \n",
       "3046  Любовь с ограничениями  111008216      2016-04-29  2016  Художественный   \n",
       "6322                Баба Яга  114006518      2018-11-08  2018    Анимационный   \n",
       "6822     Большое путешествие  114002419      2019-04-20  2019    Анимационный   \n",
       "2531                 Бармен.  111009615      2015-05-26  2015  Художественный   \n",
       "\n",
       "                                    film_studio production_country  \\\n",
       "2873                            ООО \"КиноФирма\"             Россия   \n",
       "3046  АО \"ВайТ Медиа\", ООО \"Арт Пикчерс Студия\"             Россия   \n",
       "6322                   ООО \"Арт Пикчерс Студия\"             Россия   \n",
       "6822                  ООО \"ЛИЦЕНЗИОННЫЕ БРЕНДЫ\"             Россия   \n",
       "2531  АО \"ВайТ Медиа\", ООО \"Арт Пикчерс Студия\"             Россия   \n",
       "\n",
       "                   director main_director  \\\n",
       "2873            В.Ровенский   В.Ровенский   \n",
       "3046                Д.Тюрин       Д.Тюрин   \n",
       "6322                В.Саков       В.Саков   \n",
       "6822  Н.Лопато, В.Ровенский      Н.Лопато   \n",
       "2531           Д.Штурманова  Д.Штурманова   \n",
       "\n",
       "                                               producer  \\\n",
       "2873                                    ООО \"КиноФирма\"   \n",
       "3046              Ф.Бондарчук, Т.Вайнштейн, Д.Рудовский   \n",
       "6322  ООО \"Арт Пикчерс Студия\", ООО \"КРИЭЙТИВ АНИМЭЙ...   \n",
       "6822                          ООО \"ЛИЦЕНЗИОННЫЕ БРЕНДЫ\"   \n",
       "2531                                        Т.Вайнштейн   \n",
       "\n",
       "                      age_restriction  refundable_support  \\\n",
       "2873  «12+» - для детей старше 12 лет                 0.0   \n",
       "3046  «16+» - для детей старше 16 лет          19000000.0   \n",
       "6322    «6+» - для детей старше 6 лет                 0.0   \n",
       "6822    «6+» - для детей старше 6 лет          60000000.0   \n",
       "2531  «16+» - для детей старше 16 лет          20000000.0   \n",
       "\n",
       "      nonrefundable_support       budget       financing_source  ratings  \\\n",
       "2873              6000000.0    6000000.0  Министерство культуры      4.3   \n",
       "3046             51000000.0   70000000.0              Фонд кино      6.3   \n",
       "6322            138969465.0  138969465.0              Фонд кино      NaN   \n",
       "6822            120000000.0  180000000.0              Фонд кино      6.2   \n",
       "2531                    0.0   20000000.0              Фонд кино      6.2   \n",
       "\n",
       "                              genres  main_genre    box_office  gov_support  \n",
       "2873                         комедия     комедия  1.536293e+07          1.0  \n",
       "3046               комедия,мелодрама     комедия  7.029905e+07          1.0  \n",
       "6322                             NaN        None  1.334699e+06          1.0  \n",
       "6822  мультфильм,комедия,приключения  мультфильм  1.476068e+08          1.0  \n",
       "2531                 комедия,фэнтези     комедия  6.741897e+07          1.0  "
      ]
     },
     "execution_count": 60,
     "metadata": {},
     "output_type": "execute_result"
    }
   ],
   "source": [
    "df['gov_support'] = (df['refundable_support'] + df['nonrefundable_support']) / df['budget']\n",
    "df.sort_values(by='gov_support', ascending=False).head()"
   ]
  },
  {
   "cell_type": "markdown",
   "metadata": {
    "id": "6t4EukPLgFyV"
   },
   "source": [
    "<a name='eda'></a>\n",
    "## 3. Исследовательский анализ данных\n",
    "[Вернуться во Введение](#introduction)"
   ]
  },
  {
   "cell_type": "markdown",
   "metadata": {
    "id": "vAH8WCzugFyV"
   },
   "source": [
    "**Гипотеза 1: год выпуска влияет на количество фильмов с данными о прокате**"
   ]
  },
  {
   "cell_type": "code",
   "execution_count": 61,
   "metadata": {
    "id": "ABeV47y7gFyW",
    "scrolled": false
   },
   "outputs": [
    {
     "data": {
      "image/png": "[encoded data removed]",
      "text/plain": [
       "<Figure size 720x360 with 1 Axes>"
      ]
     },
     "metadata": {
      "needs_background": "light"
     },
     "output_type": "display_data"
    }
   ],
   "source": [
    "# Для начала посмотрим на графике на количество выпущенных фильмов по годам, \n",
    "# а также на количество фильмов с имеющимися данными касательно проката в кинотеатре по годам.\n",
    "\n",
    "df['year'].plot(\n",
    "    kind='hist', \n",
    "    grid=True, \n",
    "    bins=10, \n",
    "    figsize=(10, 5), \n",
    "    xticks=df['year'].unique(), \n",
    "    title=\"График 1: Количество выпущенных фильмов по годам, 2010-2019\",\n",
    "    legend=True\n",
    ")\n",
    "\n",
    "df[df['box_office'].notna()]['year'].plot(\n",
    "    kind='hist',\n",
    "    color='orange',\n",
    "    grid=True,\n",
    "    xticks=df['year'].unique(),\n",
    "    figsize=(10, 5),\n",
    "    legend=True\n",
    ")\n",
    "\n",
    "plt.ylabel('Количество')\n",
    "plt.xlabel(\"Годы\")\n",
    "plt.legend(['Число выпущенных фильмов', \"Фильмы с данными о прокате\"])\n",
    "plt.show()"
   ]
  },
  {
   "cell_type": "code",
   "execution_count": 63,
   "metadata": {},
   "outputs": [
    {
     "data": {
      "image/png": "[encoded data removed]",
      "text/plain": [
       "<Figure size 504x360 with 1 Axes>"
      ]
     },
     "metadata": {
      "needs_background": "light"
     },
     "output_type": "display_data"
    }
   ],
   "source": [
    "# Составим сводную таблицу для определения доли фильмов с информацией о прокате в кинотеатрах\n",
    "pt_year_boffice_ratio = df.pivot_table(index='year', values=['title', 'box_office'], aggfunc='count')\n",
    "pt_year_boffice_ratio['ratio'] = pt_year_boffice_ratio['box_office'] / pt_year_boffice_ratio['title']\n",
    "pt_year_boffice_ratio['ratio'].plot(\n",
    "    x='year', \n",
    "    y='ratio', \n",
    "    kind='bar', \n",
    "    grid=True,\n",
    "    figsize=(7, 5),\n",
    "    xlabel='Годы',\n",
    "    ylabel='Доли',\n",
    "    title='График 2: Соотношение фильмов с данными\\nо прокате к их общему числу по годам, 2010-2019'\n",
    ")\n",
    "plt.show()"
   ]
  },
  {
   "cell_type": "markdown",
   "metadata": {},
   "source": [
    "Можно заметить то, что по сравнению с первой половиной рассматриваемого периода, с 2010 по 2014 годы, соотношение количества фильмов с информацией о прокате в кинотеатрах во второй половине, с 2015 по 2019 годы, значительно выросло. Возможно, это можно связать со сбором информацией порталом \"Кинопоиск\" касательно суммы сборов. Тем не менее, однозначно можно сказать, что по годам именно вторая половина рассматриваемого периода более репрезентативна.\n",
    "\n",
    "Наиболее полно представлена информация за 2017 год - более 70% фильмов, выпущенных в том году, имеют данные о прокате в кинотеатрах.\n",
    "\n",
    "**Вывод**: наиболее полно представлена вторая половина рассматриваемого периода (с 2015 по 2019 годы), однако все же не у всех фильмов, выпущенных в эти годы, имеются данные о сборах, и в 2019 году доля таких произведений исскусства составила чуть менее 60%.\n",
    "\n",
    "**Гипотеза частично подтверждена**. Доля фильмов с данными о прокате с течением времени выросла, однако, все равно заметны сильны колебания, что видно на втором графике.\n",
    "\n",
    "[Вернуться к выводу](#year_and_data_boffice_conclusion)"
   ]
  },
  {
   "cell_type": "markdown",
   "metadata": {},
   "source": [
    "<a name=\"boffice_depend_on_year\"></a>\n",
    "**Гипотеза №2: значение сборов фильмов зависит от года выхода.**"
   ]
  },
  {
   "cell_type": "code",
   "execution_count": 64,
   "metadata": {
    "id": "tfEhofYvgFyX",
    "scrolled": false
   },
   "outputs": [
    {
     "data": {
      "text/html": [
       "<div>\n",
       "<style scoped>\n",
       "    .dataframe tbody tr th:only-of-type {\n",
       "        vertical-align: middle;\n",
       "    }\n",
       "\n",
       "    .dataframe tbody tr th {\n",
       "        vertical-align: top;\n",
       "    }\n",
       "\n",
       "    .dataframe thead th {\n",
       "        text-align: right;\n",
       "    }\n",
       "</style>\n",
       "<table border=\"1\" class=\"dataframe\">\n",
       "  <thead>\n",
       "    <tr style=\"text-align: right;\">\n",
       "      <th></th>\n",
       "      <th>year</th>\n",
       "      <th>max</th>\n",
       "      <th>min</th>\n",
       "      <th>sum</th>\n",
       "    </tr>\n",
       "  </thead>\n",
       "  <tbody>\n",
       "    <tr>\n",
       "      <th>0</th>\n",
       "      <td>2010</td>\n",
       "      <td>1.446400e+06</td>\n",
       "      <td>75.0</td>\n",
       "      <td>2.428654e+06</td>\n",
       "    </tr>\n",
       "    <tr>\n",
       "      <th>1</th>\n",
       "      <td>2011</td>\n",
       "      <td>1.161808e+07</td>\n",
       "      <td>125.0</td>\n",
       "      <td>1.410276e+07</td>\n",
       "    </tr>\n",
       "    <tr>\n",
       "      <th>2</th>\n",
       "      <td>2012</td>\n",
       "      <td>2.311220e+06</td>\n",
       "      <td>80.0</td>\n",
       "      <td>6.955423e+06</td>\n",
       "    </tr>\n",
       "    <tr>\n",
       "      <th>3</th>\n",
       "      <td>2013</td>\n",
       "      <td>1.995703e+07</td>\n",
       "      <td>40.0</td>\n",
       "      <td>2.979971e+07</td>\n",
       "    </tr>\n",
       "    <tr>\n",
       "      <th>4</th>\n",
       "      <td>2014</td>\n",
       "      <td>1.016411e+09</td>\n",
       "      <td>50.0</td>\n",
       "      <td>7.444952e+09</td>\n",
       "    </tr>\n",
       "    <tr>\n",
       "      <th>5</th>\n",
       "      <td>2015</td>\n",
       "      <td>1.658861e+09</td>\n",
       "      <td>100.0</td>\n",
       "      <td>3.949737e+10</td>\n",
       "    </tr>\n",
       "    <tr>\n",
       "      <th>6</th>\n",
       "      <td>2016</td>\n",
       "      <td>2.048126e+09</td>\n",
       "      <td>200.0</td>\n",
       "      <td>4.786630e+10</td>\n",
       "    </tr>\n",
       "    <tr>\n",
       "      <th>7</th>\n",
       "      <td>2017</td>\n",
       "      <td>2.779686e+09</td>\n",
       "      <td>7900.0</td>\n",
       "      <td>4.856371e+10</td>\n",
       "    </tr>\n",
       "    <tr>\n",
       "      <th>8</th>\n",
       "      <td>2018</td>\n",
       "      <td>2.271754e+09</td>\n",
       "      <td>41225.0</td>\n",
       "      <td>4.966840e+10</td>\n",
       "    </tr>\n",
       "    <tr>\n",
       "      <th>9</th>\n",
       "      <td>2019</td>\n",
       "      <td>3.073569e+09</td>\n",
       "      <td>4398.4</td>\n",
       "      <td>4.842571e+10</td>\n",
       "    </tr>\n",
       "  </tbody>\n",
       "</table>\n",
       "</div>"
      ],
      "text/plain": [
       "   year           max      min           sum\n",
       "0  2010  1.446400e+06     75.0  2.428654e+06\n",
       "1  2011  1.161808e+07    125.0  1.410276e+07\n",
       "2  2012  2.311220e+06     80.0  6.955423e+06\n",
       "3  2013  1.995703e+07     40.0  2.979971e+07\n",
       "4  2014  1.016411e+09     50.0  7.444952e+09\n",
       "5  2015  1.658861e+09    100.0  3.949737e+10\n",
       "6  2016  2.048126e+09    200.0  4.786630e+10\n",
       "7  2017  2.779686e+09   7900.0  4.856371e+10\n",
       "8  2018  2.271754e+09  41225.0  4.966840e+10\n",
       "9  2019  3.073569e+09   4398.4  4.842571e+10"
      ]
     },
     "metadata": {},
     "output_type": "display_data"
    },
    {
     "data": {
      "image/png": "[encoded data removed]",
      "text/plain": [
       "<Figure size 504x360 with 1 Axes>"
      ]
     },
     "metadata": {
      "needs_background": "light"
     },
     "output_type": "display_data"
    },
    {
     "name": "stdout",
     "output_type": "stream",
     "text": [
      "Максимальная сумма сборов:\n"
     ]
    },
    {
     "data": {
      "text/html": [
       "<div>\n",
       "<style scoped>\n",
       "    .dataframe tbody tr th:only-of-type {\n",
       "        vertical-align: middle;\n",
       "    }\n",
       "\n",
       "    .dataframe tbody tr th {\n",
       "        vertical-align: top;\n",
       "    }\n",
       "\n",
       "    .dataframe thead th {\n",
       "        text-align: right;\n",
       "    }\n",
       "</style>\n",
       "<table border=\"1\" class=\"dataframe\">\n",
       "  <thead>\n",
       "    <tr style=\"text-align: right;\">\n",
       "      <th></th>\n",
       "      <th>year</th>\n",
       "      <th>max</th>\n",
       "      <th>min</th>\n",
       "      <th>sum</th>\n",
       "    </tr>\n",
       "  </thead>\n",
       "  <tbody>\n",
       "    <tr>\n",
       "      <th>8</th>\n",
       "      <td>2018</td>\n",
       "      <td>2.271754e+09</td>\n",
       "      <td>41225.0</td>\n",
       "      <td>4.966840e+10</td>\n",
       "    </tr>\n",
       "  </tbody>\n",
       "</table>\n",
       "</div>"
      ],
      "text/plain": [
       "   year           max      min           sum\n",
       "8  2018  2.271754e+09  41225.0  4.966840e+10"
      ]
     },
     "metadata": {},
     "output_type": "display_data"
    },
    {
     "name": "stdout",
     "output_type": "stream",
     "text": [
      "Минимальная сумма сборов:\n"
     ]
    },
    {
     "data": {
      "text/html": [
       "<div>\n",
       "<style scoped>\n",
       "    .dataframe tbody tr th:only-of-type {\n",
       "        vertical-align: middle;\n",
       "    }\n",
       "\n",
       "    .dataframe tbody tr th {\n",
       "        vertical-align: top;\n",
       "    }\n",
       "\n",
       "    .dataframe thead th {\n",
       "        text-align: right;\n",
       "    }\n",
       "</style>\n",
       "<table border=\"1\" class=\"dataframe\">\n",
       "  <thead>\n",
       "    <tr style=\"text-align: right;\">\n",
       "      <th></th>\n",
       "      <th>year</th>\n",
       "      <th>max</th>\n",
       "      <th>min</th>\n",
       "      <th>sum</th>\n",
       "    </tr>\n",
       "  </thead>\n",
       "  <tbody>\n",
       "    <tr>\n",
       "      <th>0</th>\n",
       "      <td>2010</td>\n",
       "      <td>1446400.0</td>\n",
       "      <td>75.0</td>\n",
       "      <td>2428654.0</td>\n",
       "    </tr>\n",
       "  </tbody>\n",
       "</table>\n",
       "</div>"
      ],
      "text/plain": [
       "   year        max   min        sum\n",
       "0  2010  1446400.0  75.0  2428654.0"
      ]
     },
     "metadata": {},
     "output_type": "display_data"
    }
   ],
   "source": [
    "boffice_per_year = df.pivot_table(index='year', values='box_office', aggfunc=['max', 'min', 'sum'])\n",
    "boffice_per_year.reset_index(drop=False, inplace=True)\n",
    "boffice_per_year.columns = ['year', 'max', 'min', 'sum']\n",
    "\n",
    "display(boffice_per_year)\n",
    "\n",
    "boffice_per_year.plot(\n",
    "    kind='line',\n",
    "    x='year', \n",
    "    y='sum',\n",
    "    figsize=(7, 5),\n",
    "    legend=False,\n",
    "    title=\"Показатель суммы проката фильмов по годам, 2010-2019\",\n",
    "    style='o-',\n",
    "    color='orange',\n",
    "    xticks=df['year'].unique(),\n",
    "    grid=True\n",
    ")\n",
    "\n",
    "plt.xlabel('Годы')\n",
    "plt.ylabel('Сборы')\n",
    "plt.show()\n",
    "\n",
    "# Найдем годы с наибольшей и наименьшей суммой проката\n",
    "print(\"Максимальная сумма сборов:\")\n",
    "display(boffice_per_year[boffice_per_year['sum'] == boffice_per_year['sum'].max()])\n",
    "print(\"Минимальная сумма сборов:\")\n",
    "display(boffice_per_year[boffice_per_year['sum'] == boffice_per_year['sum'].min()])"
   ]
  },
  {
   "cell_type": "markdown",
   "metadata": {},
   "source": [
    "В период с 2010 по 2014 годы наблюдаются крайне низкие значения по нескольким параметрам: максимального показателя, а также суммы сборов. Объяснить это можно либо ошибкой при заполнении данных о фильмах, выпущенных в этот промежуток времени, либо тем фактом, что, возможно, лишь небольшое количество кинотеатров предоставляло информацию о прокате фильмов в тот период. Крайне примечательно в этом плане значение медианного показателя: всего 2085 рублей. Ввиду сказанного ранее, минимальная сумма проката наблюдается именно за 2010 года, когда она составила всего 2 374 340 рублей.\n",
    "\n",
    "Максимальная сумма сборов наблюдается за 2018 год с показателем равным почти 49,7 млрд рублей. В целом крайне высокие значения (более 40 млрд рублей) можно наблюдать в период с 2016 по 2019 годы."
   ]
  },
  {
   "cell_type": "code",
   "execution_count": 65,
   "metadata": {
    "id": "jmp-rgg9gFyY"
   },
   "outputs": [
    {
     "data": {
      "image/png": "[encoded data removed]",
      "text/plain": [
       "<Figure size 432x288 with 1 Axes>"
      ]
     },
     "metadata": {
      "needs_background": "light"
     },
     "output_type": "display_data"
    },
    {
     "data": {
      "image/png": "[encoded data removed]",
      "text/plain": [
       "<Figure size 432x288 with 1 Axes>"
      ]
     },
     "metadata": {
      "needs_background": "light"
     },
     "output_type": "display_data"
    },
    {
     "data": {
      "text/plain": [
       "'Коэффициенте корреляции между средним значением сборов и долей фильмов с данными о прокате по годам: 0.9490322472539772'"
      ]
     },
     "metadata": {},
     "output_type": "display_data"
    }
   ],
   "source": [
    "mm_boffice_per_year = df.pivot_table(index='year', values='box_office', aggfunc=['mean', 'median', 'sum']).reset_index()\n",
    "mm_boffice_per_year.columns = ['year','mean', 'median', 'sum']\n",
    "\n",
    "mm_boffice_per_year.plot(\n",
    "    x='year',\n",
    "    y='mean',\n",
    "    grid=True,\n",
    "    color='orange',\n",
    "    title=\"Среднее значение сборов по годам\",\n",
    "    legend=False,\n",
    "    xticks=df['year'].unique(),\n",
    ")\n",
    "plt.xlabel('Годы')\n",
    "plt.ylabel('Сборы')\n",
    "plt.show()\n",
    "\n",
    "mm_boffice_per_year.plot(\n",
    "    x='year',\n",
    "    y='median',\n",
    "    title='Медианное значение сборов по годам',\n",
    "    xticks=df['year'].unique(),\n",
    "    grid=True,\n",
    "    legend=False\n",
    ")\n",
    "plt.xlabel('Годы')\n",
    "plt.ylabel('Сборы')\n",
    "plt.show()\n",
    "\n",
    "boffice_and_pt_per_year = mm_boffice_per_year.merge(pt_year_boffice_ratio, on='year')\n",
    "display(\"Коэффициенте корреляции между средним значением сборов и долей фильмов с данными о прокате по годам: {}\".format(\n",
    "    boffice_and_pt_per_year['ratio'].corr(boffice_and_pt_per_year['mean'])))"
   ]
  },
  {
   "cell_type": "markdown",
   "metadata": {},
   "source": [
    "На графиках можно заметить, что повышение средних и медианных значений сборов по годам начинается резко с 2014 и 2015 года соответственно. Более того, наибольшие значения приходится на 2017 год, а далее наблюдается спад в значениях обоих показателей. Также как и с максимальными и минимальными значениями, а также показателем суммы сборов, что в период с 2010 по 2014 годы можно отметить крайне низкие значения, что, вероятно, может быть вызвано или ошибкой, или непредоставление данных кинотеатрами.\n",
    "\n",
    "**Вывод:** В случае суммы сборов по годам имеется тенденция к увеличению данного показателя, хотя в 2019 году заметно небольшое снижение данного значения по сравнению с 2018 году. Однако медианное и среднее значение ведет себя более непредсказуемо. Примечательно, что количество выпущенных фильмов и фильмов с данными о прокате в 2017 году меньше, чем в 2018 и 2019, но среднее и медианное значения в 2017 году выше. Можно лишь заметить сходство с графиком из проверки гипотезы № 1 с долей фильмов с данными о прокате по годам, когда наибольшее значение приходилось на 2017 год, но заметен спад в 2018-2019 годах. Более того, о высоком показателе сходства двух показателей говорит и коэффициент корреляции между ними: 0.938.\n",
    "\n",
    "**Гипотеза 2 частично подтверждена**: Значения сборов (суммарное, среднее и медианное) выросли в конечном счете по сравнению с началом. Наибольшие значением приходятся на 2017-2019 годы, однако графики суммарного значения, а также медианного со средним в последние два года расходятся. Тем не мене, заметно сходство графиков среднего и медианного значения сборов по годам с графиком из гипотезы №1 с долей фильмов с данными о прокате по годам. О зависимости между параметрами говорит высокий коэффициент корреляции: 0.938.\n",
    "\n",
    "[Вернуться к выводу](#boffice_depend_on_year_conclusion)"
   ]
  },
  {
   "cell_type": "markdown",
   "metadata": {},
   "source": [
    "<a name=\"age_restriction\"></a>\n",
    "**Гипотеза № 3: имеется зависимость возрастным ограничением и такими параметрами, как сборами фильма и годом выхода**"
   ]
  },
  {
   "cell_type": "code",
   "execution_count": 67,
   "metadata": {
    "scrolled": false
   },
   "outputs": [
    {
     "data": {
      "text/plain": [
       "'Наибольшее значение суммы оборота:'"
      ]
     },
     "metadata": {},
     "output_type": "display_data"
    },
    {
     "data": {
      "text/html": [
       "<div>\n",
       "<style scoped>\n",
       "    .dataframe tbody tr th:only-of-type {\n",
       "        vertical-align: middle;\n",
       "    }\n",
       "\n",
       "    .dataframe tbody tr th {\n",
       "        vertical-align: top;\n",
       "    }\n",
       "\n",
       "    .dataframe thead th {\n",
       "        text-align: right;\n",
       "    }\n",
       "</style>\n",
       "<table border=\"1\" class=\"dataframe\">\n",
       "  <thead>\n",
       "    <tr style=\"text-align: right;\">\n",
       "      <th></th>\n",
       "      <th>age_restriction</th>\n",
       "      <th>sum</th>\n",
       "      <th>median</th>\n",
       "      <th>mean</th>\n",
       "    </tr>\n",
       "  </thead>\n",
       "  <tbody>\n",
       "    <tr>\n",
       "      <th>2</th>\n",
       "      <td>«16+» - для детей старше 16 лет</td>\n",
       "      <td>7.603473e+10</td>\n",
       "      <td>5604702.0</td>\n",
       "      <td>9.468834e+07</td>\n",
       "    </tr>\n",
       "  </tbody>\n",
       "</table>\n",
       "</div>"
      ],
      "text/plain": [
       "                   age_restriction           sum     median          mean\n",
       "2  «16+» - для детей старше 16 лет  7.603473e+10  5604702.0  9.468834e+07"
      ]
     },
     "metadata": {},
     "output_type": "display_data"
    },
    {
     "data": {
      "image/png": "[encoded data removed]",
      "text/plain": [
       "<Figure size 504x504 with 1 Axes>"
      ]
     },
     "metadata": {
      "needs_background": "light"
     },
     "output_type": "display_data"
    }
   ],
   "source": [
    "# Создание таблицы с суммой оборота по возрастным ограничениям\n",
    "df_late_years = df[df['year'] > 2014]\n",
    "age_restrict = df_late_years.pivot_table(\n",
    "    index='age_restriction', \n",
    "    values='box_office', \n",
    "    aggfunc=['sum', 'median', 'mean']\n",
    ").reset_index()\n",
    "\n",
    "age_restrict.columns = ['age_restriction', 'sum', 'median', 'mean']\n",
    "\n",
    "display(\"Наибольшее значение суммы оборота:\")\n",
    "display(age_restrict[age_restrict['sum'] == age_restrict['sum'].max()])\n",
    "age_restrict.plot(\n",
    "    kind='bar', \n",
    "    x='age_restriction', \n",
    "    y='sum', \n",
    "    legend=False,\n",
    "    figsize=(7, 7),\n",
    "    grid=True,\n",
    "    xlabel='Возрастные ограничения',\n",
    "    ylabel='Оборот',\n",
    "    title='Сумма оборота\\nпо возрастным ограничениям с 2015 по 2019 годы'\n",
    ")\n",
    "plt.show()"
   ]
  },
  {
   "cell_type": "markdown",
   "metadata": {},
   "source": [
    "На предыдущем графике видна сумма сборов фильмов в зависимости от возрастного ограничения. Наибольшая суммая денег пришлась на фильмы с ограничением \"16+\", а наименьшая - \"0+\". Вероятно, это может быть связано со многими ограничениями в плане производства, а также наличия различных сцен, которые может быть запрещено демонстрировать детям. В то же самое время категория \"18+\" может включать в себя, например, сцены насилия и не только, ввиду чего многие даже взрослые люди не захотят их смотреть, поэтому самая доходная категория - \"16+\" - на нее приходится более 70 000 000 000 рублей. На втором и третьем месте по сумме кассовых сборов оказались категории \"12+\" и \"6+\" соответственно."
   ]
  },
  {
   "cell_type": "code",
   "execution_count": 68,
   "metadata": {
    "scrolled": false
   },
   "outputs": [
    {
     "data": {
      "text/html": [
       "<div>\n",
       "<style scoped>\n",
       "    .dataframe tbody tr th:only-of-type {\n",
       "        vertical-align: middle;\n",
       "    }\n",
       "\n",
       "    .dataframe tbody tr th {\n",
       "        vertical-align: top;\n",
       "    }\n",
       "\n",
       "    .dataframe thead th {\n",
       "        text-align: right;\n",
       "    }\n",
       "</style>\n",
       "<table border=\"1\" class=\"dataframe\">\n",
       "  <thead>\n",
       "    <tr style=\"text-align: right;\">\n",
       "      <th></th>\n",
       "      <th></th>\n",
       "      <th>sum</th>\n",
       "      <th>count</th>\n",
       "    </tr>\n",
       "    <tr>\n",
       "      <th>age_restriction</th>\n",
       "      <th>year</th>\n",
       "      <th></th>\n",
       "      <th></th>\n",
       "    </tr>\n",
       "  </thead>\n",
       "  <tbody>\n",
       "    <tr>\n",
       "      <th rowspan=\"5\" valign=\"top\">«0+» - для любой зрительской аудитории</th>\n",
       "      <th>2015</th>\n",
       "      <td>3.790546e+08</td>\n",
       "      <td>38</td>\n",
       "    </tr>\n",
       "    <tr>\n",
       "      <th>2016</th>\n",
       "      <td>1.502288e+08</td>\n",
       "      <td>41</td>\n",
       "    </tr>\n",
       "    <tr>\n",
       "      <th>2017</th>\n",
       "      <td>2.295989e+08</td>\n",
       "      <td>3</td>\n",
       "    </tr>\n",
       "    <tr>\n",
       "      <th>2018</th>\n",
       "      <td>3.244900e+07</td>\n",
       "      <td>5</td>\n",
       "    </tr>\n",
       "    <tr>\n",
       "      <th>2019</th>\n",
       "      <td>1.774607e+07</td>\n",
       "      <td>3</td>\n",
       "    </tr>\n",
       "    <tr>\n",
       "      <th rowspan=\"5\" valign=\"top\">«12+» - для детей старше 12 лет</th>\n",
       "      <th>2015</th>\n",
       "      <td>1.361608e+10</td>\n",
       "      <td>72</td>\n",
       "    </tr>\n",
       "    <tr>\n",
       "      <th>2016</th>\n",
       "      <td>1.220445e+10</td>\n",
       "      <td>82</td>\n",
       "    </tr>\n",
       "    <tr>\n",
       "      <th>2017</th>\n",
       "      <td>7.851428e+09</td>\n",
       "      <td>41</td>\n",
       "    </tr>\n",
       "    <tr>\n",
       "      <th>2018</th>\n",
       "      <td>1.426729e+10</td>\n",
       "      <td>67</td>\n",
       "    </tr>\n",
       "    <tr>\n",
       "      <th>2019</th>\n",
       "      <td>1.268020e+10</td>\n",
       "      <td>85</td>\n",
       "    </tr>\n",
       "    <tr>\n",
       "      <th rowspan=\"5\" valign=\"top\">«16+» - для детей старше 16 лет</th>\n",
       "      <th>2015</th>\n",
       "      <td>1.136812e+10</td>\n",
       "      <td>167</td>\n",
       "    </tr>\n",
       "    <tr>\n",
       "      <th>2016</th>\n",
       "      <td>1.666455e+10</td>\n",
       "      <td>181</td>\n",
       "    </tr>\n",
       "    <tr>\n",
       "      <th>2017</th>\n",
       "      <td>1.874504e+10</td>\n",
       "      <td>121</td>\n",
       "    </tr>\n",
       "    <tr>\n",
       "      <th>2018</th>\n",
       "      <td>1.650360e+10</td>\n",
       "      <td>156</td>\n",
       "    </tr>\n",
       "    <tr>\n",
       "      <th>2019</th>\n",
       "      <td>1.275342e+10</td>\n",
       "      <td>178</td>\n",
       "    </tr>\n",
       "    <tr>\n",
       "      <th rowspan=\"5\" valign=\"top\">«18+» - запрещено для детей</th>\n",
       "      <th>2015</th>\n",
       "      <td>5.432308e+09</td>\n",
       "      <td>132</td>\n",
       "    </tr>\n",
       "    <tr>\n",
       "      <th>2016</th>\n",
       "      <td>6.793930e+09</td>\n",
       "      <td>151</td>\n",
       "    </tr>\n",
       "    <tr>\n",
       "      <th>2017</th>\n",
       "      <td>9.651496e+09</td>\n",
       "      <td>147</td>\n",
       "    </tr>\n",
       "    <tr>\n",
       "      <th>2018</th>\n",
       "      <td>8.760086e+09</td>\n",
       "      <td>179</td>\n",
       "    </tr>\n",
       "    <tr>\n",
       "      <th>2019</th>\n",
       "      <td>1.012180e+10</td>\n",
       "      <td>183</td>\n",
       "    </tr>\n",
       "    <tr>\n",
       "      <th rowspan=\"5\" valign=\"top\">«6+» - для детей старше 6 лет</th>\n",
       "      <th>2015</th>\n",
       "      <td>8.701799e+09</td>\n",
       "      <td>53</td>\n",
       "    </tr>\n",
       "    <tr>\n",
       "      <th>2016</th>\n",
       "      <td>1.205315e+10</td>\n",
       "      <td>70</td>\n",
       "    </tr>\n",
       "    <tr>\n",
       "      <th>2017</th>\n",
       "      <td>1.208614e+10</td>\n",
       "      <td>45</td>\n",
       "    </tr>\n",
       "    <tr>\n",
       "      <th>2018</th>\n",
       "      <td>1.010497e+10</td>\n",
       "      <td>68</td>\n",
       "    </tr>\n",
       "    <tr>\n",
       "      <th>2019</th>\n",
       "      <td>1.285255e+10</td>\n",
       "      <td>81</td>\n",
       "    </tr>\n",
       "  </tbody>\n",
       "</table>\n",
       "</div>"
      ],
      "text/plain": [
       "                                                      sum  count\n",
       "age_restriction                        year                     \n",
       "«0+» - для любой зрительской аудитории 2015  3.790546e+08     38\n",
       "                                       2016  1.502288e+08     41\n",
       "                                       2017  2.295989e+08      3\n",
       "                                       2018  3.244900e+07      5\n",
       "                                       2019  1.774607e+07      3\n",
       "«12+» - для детей старше 12 лет        2015  1.361608e+10     72\n",
       "                                       2016  1.220445e+10     82\n",
       "                                       2017  7.851428e+09     41\n",
       "                                       2018  1.426729e+10     67\n",
       "                                       2019  1.268020e+10     85\n",
       "«16+» - для детей старше 16 лет        2015  1.136812e+10    167\n",
       "                                       2016  1.666455e+10    181\n",
       "                                       2017  1.874504e+10    121\n",
       "                                       2018  1.650360e+10    156\n",
       "                                       2019  1.275342e+10    178\n",
       "«18+» - запрещено для детей            2015  5.432308e+09    132\n",
       "                                       2016  6.793930e+09    151\n",
       "                                       2017  9.651496e+09    147\n",
       "                                       2018  8.760086e+09    179\n",
       "                                       2019  1.012180e+10    183\n",
       "«6+» - для детей старше 6 лет          2015  8.701799e+09     53\n",
       "                                       2016  1.205315e+10     70\n",
       "                                       2017  1.208614e+10     45\n",
       "                                       2018  1.010497e+10     68\n",
       "                                       2019  1.285255e+10     81"
      ]
     },
     "metadata": {},
     "output_type": "display_data"
    },
    {
     "data": {
      "image/png": "[encoded data removed]",
      "text/plain": [
       "<Figure size 720x720 with 1 Axes>"
      ]
     },
     "metadata": {
      "needs_background": "light"
     },
     "output_type": "display_data"
    }
   ],
   "source": [
    "# Создание сводной таблицы для отображения совокупных сборов фильмов по возрастным ограничения по годам\n",
    "df_year_age_restrict = df_late_years.pivot_table(\n",
    "    index=['age_restriction', 'year'],\n",
    "    values='box_office',\n",
    "    aggfunc=['sum', 'count']\n",
    ")\n",
    "\n",
    "df_year_age_restrict.columns = ['sum', 'count']\n",
    "\n",
    "display(df_year_age_restrict)\n",
    "\n",
    "df_year_age_restrict['sum'].unstack(level=0).plot(\n",
    "    kind='bar', \n",
    "    figsize=(10, 10), \n",
    "    grid=True,\n",
    "    xlabel='Годы',\n",
    "    ylabel='Оборот',\n",
    "    title='Сумма оборота\\nпо годам (2015-2019) и по возрастным ограничениям'\n",
    ")\n",
    "plt.show()"
   ]
  },
  {
   "cell_type": "markdown",
   "metadata": {},
   "source": [
    "На графике выше видны суммы сборов по годам и возрастным ограничениям. Можно заметить, что в 2015 году, например, лидировала категория \"12+\", а далее в течение трех лет главенствующую позицию заняла категория \"16+\". В заключительном же году, в 2019-м, ситуация выглядит и вовсе иначе - суммы сборов по категория \"6+\", \"12+\" и \"16+\" почти равны между собой. Подобные колебания могут быть связаны с возрастными ограничениями самых кассовых фильмов за год (более 500 000 000 рублей). Проверим эту гипотезу:"
   ]
  },
  {
   "cell_type": "code",
   "execution_count": 69,
   "metadata": {},
   "outputs": [
    {
     "data": {
      "image/png": "[encoded data removed]",
      "text/plain": [
       "<Figure size 504x504 with 1 Axes>"
      ]
     },
     "metadata": {
      "needs_background": "light"
     },
     "output_type": "display_data"
    }
   ],
   "source": [
    "# Визуализация количества фильмов с оборот более 0.5 млрд по годам и возрастным ограничениям\n",
    "df_years_age_restrict_count = df[(df['year'] > 2014) & (df['box_office'] > 500000000)].pivot_table(index=['age_restriction', 'year'], values='title', aggfunc='count')\n",
    "df_years_age_restrict_count.unstack(level=0).plot(\n",
    "    kind='bar', \n",
    "    figsize=(7, 7),\n",
    "    grid=True,\n",
    "    xlabel='Возрастные ограничения',\n",
    "    ylabel='Количество',\n",
    "    title='Количество фильмов с оборотом более 0.5 млрд\\nпо годам (2015-2019) и по возрастным ограничениям',\n",
    ")\n",
    "plt.show()"
   ]
  },
  {
   "cell_type": "markdown",
   "metadata": {},
   "source": [
    "В действительности, можно заметить, что в 2018 году количество фильмов с высокими кассовыми сборами с категорией \"16+\" было меньше, чем с категорией \"12+\", однако по сумме сборов именно именно фильмы с первым значением возглавенствовали. Стоит также отметить, что среди самых кассовых фильмов отсутствуют фильмы с возрастным ограничением \"0+\", поскольку, по-видимому, они слишком \"безобидны\", и ввиду этого подростки и люди постарше предпочитают их не смотреть."
   ]
  },
  {
   "cell_type": "markdown",
   "metadata": {},
   "source": [
    "**Вывод:** можно заметить, что в период с 2015 по 2019 по суммарному значению сборов лидерство взяли фильмы с возрастным ограничением \"16+\", причем по сумме такие фильмы стали самими кассовыми в 2016-2018 годах. Несильно отстает фильмы со значением параметра \"12+\". Однако, при рассмотрении самых кассовых фильмов (более 500 млн рублей в прокате) доминирование фильмов с \"16+\" не столь явно. Стоит отметить, что фильм с ограничениями \"0+\" и \"18+\" менее популярны и суммарно немного собирают в прокате.\n",
    "\n",
    "**Гипотеза №3 частично подтверждена:** заметно, что фильмы \"16+\" по сумме сборов лидируют, по годам они занимают лидирующую позицию в 2016-2018 годах, однако самыми кассовыми фильмами выступают как фильмы с ограничением \"16+\", так и \"12+\". Связано не соответствие с тем, что количество выпускаемых \"16+\"-фильмов превышает количество фильмов других категорий.\n",
    "\n",
    "[Вернуться к выводу](#age_restriction_conclusion)"
   ]
  },
  {
   "cell_type": "markdown",
   "metadata": {
    "id": "l_Kg6Ku4gFya"
   },
   "source": [
    "<a name='state_support_research'></a>\n",
    "## 4. Исследование фильмов с гос. поддержкой\n",
    "[Вернуться во Введение](#introduction)"
   ]
  },
  {
   "cell_type": "markdown",
   "metadata": {},
   "source": [
    "<a name='financing_source'></a>\n",
    "**Гипотеза № 4: имеется зависимость между источником финансирования и оборотом фильма**"
   ]
  },
  {
   "cell_type": "code",
   "execution_count": 70,
   "metadata": {
    "id": "W9QKpjUdgFyb",
    "scrolled": false
   },
   "outputs": [
    {
     "data": {
      "image/png": "[encoded data removed]",
      "text/plain": [
       "<Figure size 504x360 with 1 Axes>"
      ]
     },
     "metadata": {
      "needs_background": "light"
     },
     "output_type": "display_data"
    },
    {
     "data": {
      "image/png": "[encoded data removed]",
      "text/plain": [
       "<Figure size 432x288 with 1 Axes>"
      ]
     },
     "metadata": {
      "needs_background": "light"
     },
     "output_type": "display_data"
    },
    {
     "data": {
      "text/html": [
       "<div>\n",
       "<style scoped>\n",
       "    .dataframe tbody tr th:only-of-type {\n",
       "        vertical-align: middle;\n",
       "    }\n",
       "\n",
       "    .dataframe tbody tr th {\n",
       "        vertical-align: top;\n",
       "    }\n",
       "\n",
       "    .dataframe thead th {\n",
       "        text-align: right;\n",
       "    }\n",
       "</style>\n",
       "<table border=\"1\" class=\"dataframe\">\n",
       "  <thead>\n",
       "    <tr style=\"text-align: right;\">\n",
       "      <th></th>\n",
       "      <th>financing_source</th>\n",
       "      <th>sum</th>\n",
       "      <th>median</th>\n",
       "      <th>count</th>\n",
       "    </tr>\n",
       "  </thead>\n",
       "  <tbody>\n",
       "    <tr>\n",
       "      <th>0</th>\n",
       "      <td>Министерство культуры</td>\n",
       "      <td>5.322018e+09</td>\n",
       "      <td>1830820.47</td>\n",
       "      <td>152</td>\n",
       "    </tr>\n",
       "    <tr>\n",
       "      <th>1</th>\n",
       "      <td>Министерство культуры, Фонд кино</td>\n",
       "      <td>8.053384e+08</td>\n",
       "      <td>9201590.05</td>\n",
       "      <td>22</td>\n",
       "    </tr>\n",
       "    <tr>\n",
       "      <th>2</th>\n",
       "      <td>Фонд кино</td>\n",
       "      <td>3.598615e+10</td>\n",
       "      <td>85888274.09</td>\n",
       "      <td>144</td>\n",
       "    </tr>\n",
       "    <tr>\n",
       "      <th>3</th>\n",
       "      <td>Без финансирования</td>\n",
       "      <td>1.056418e+10</td>\n",
       "      <td>140250.00</td>\n",
       "      <td>531</td>\n",
       "    </tr>\n",
       "  </tbody>\n",
       "</table>\n",
       "</div>"
      ],
      "text/plain": [
       "                   financing_source           sum       median  count\n",
       "0             Министерство культуры  5.322018e+09   1830820.47    152\n",
       "1  Министерство культуры, Фонд кино  8.053384e+08   9201590.05     22\n",
       "2                         Фонд кино  3.598615e+10  85888274.09    144\n",
       "3                Без финансирования  1.056418e+10    140250.00    531"
      ]
     },
     "metadata": {},
     "output_type": "display_data"
    }
   ],
   "source": [
    "# Создадим сводную таблицу со медианным, суммарным значением оборота и кол-вом фильмов\n",
    "financing_source_df = df.pivot_table(index='financing_source', values='box_office', aggfunc=['sum', 'median', 'count']).reset_index()\n",
    "financing_source_df.columns = ['financing_source', 'sum', 'median', 'count']\n",
    "\n",
    "# Создадим сводную таблицу со медианным и суммарным значением бюджета\n",
    "fsource_budget_df = df.pivot_table(index='financing_source', values='budget', aggfunc=['sum', 'median']).reset_index()\n",
    "fsource_budget_df.columns = ['financing_source', 'sum', 'median']\n",
    "\n",
    "# Создадим график со значениями оборота и бюджета\n",
    "ax = financing_source_df.plot(\n",
    "    kind='line',\n",
    "    x='financing_source',\n",
    "    y='median',\n",
    "    color='orange',\n",
    ")\n",
    "\n",
    "fsource_budget_df.plot(\n",
    "    kind='bar',\n",
    "    x='financing_source',\n",
    "    y='median', \n",
    "    grid=True,\n",
    "    figsize=(7, 5),\n",
    "    ax=ax,\n",
    "    title='Среднее значение оборота и бюджета\\nфильмов с господдержкой\\nпо источникам финансирования'\n",
    ")\n",
    "\n",
    "plt.xlabel(\"Источник госфинансирования\")\n",
    "plt.ylabel('Оборот')\n",
    "plt.legend(['Средний оборот', 'Средний бюджет'])\n",
    "plt.show()\n",
    "\n",
    "# Рассмотрим фильмы по источнику финансирования по медианному значению сборов + фильмы без финансирования\n",
    "no_financing_df = pd.Series(\n",
    "    [\n",
    "        \"Без финансирования\", \n",
    "        df[(df['financing_source'].isna()) & (df['production_country'].str.contains(\"Россия\"))]['box_office'].sum(),\n",
    "        df[(df['financing_source'].isna()) & (df['production_country'].str.contains(\"Россия\"))]['box_office'].median(),\n",
    "        df[(df['financing_source'].isna()) & (df['production_country'].str.contains(\"Россия\"))]['box_office'].count()\n",
    "    ],\n",
    "    index=[\"financing_source\", 'sum', 'median', 'count']\n",
    ")\n",
    "\n",
    "# Отобразим на графике медианное значение сборов российских фильмов по источникам госфинансирования\n",
    "financing_source_df.plot(\n",
    "    kind='bar',\n",
    "    x='financing_source',\n",
    "    y='median',\n",
    "    legend=False,\n",
    "    grid=True,\n",
    "    color='green',\n",
    "    xlabel='Источник госфинансирования',\n",
    "    ylabel='Оборот',\n",
    "    title='Медианное значение сборов\\nроссийских фильмов\\nпо источникам госфинансирования'\n",
    ")\n",
    "plt.show()\n",
    "\n",
    "# Отобразим те же данные в табличном виде\n",
    "financing_source_df = financing_source_df.append(no_financing_df, ignore_index=True)\n",
    "display(financing_source_df)"
   ]
  },
  {
   "cell_type": "markdown",
   "metadata": {},
   "source": [
    "На графике выше видны медианные значения сборов в зависимости от источника государственного финансирования. Дополнительно также была добавлена информация о медианном и суммарном значениях сборов российских фильмов, но уже без финансирования. Мы получили следующую картину: источником финансирования, медианного значение сборов фильмов которого наивысшее, является \"Фонд кино\" с показателем в примерно 85 млн рублей. Далее идут совместные проекты Министерства Культуры РФ и Фонда Кино - медианного значение сборов фильмов составляет около 9 млн рублей. Хуже делают обстоят с фильмами, финансируемые лишь Министерством Культуры - около 2 млн рублей, однако, данный показатель все равно в разы выше по сравнению со значениями сборов фильмов без господдержки. Медианное значение сборов в последнем случае составляет лишь 144 657 руб. Можно заметить, что имеется взаимосвязь между даже фактом господдержки фильма и его сборами. Тем не менее, по таблице видно, что суммарное значение сборов фильмов без господдержки достигает более 1 млрд руб., что является вторым показателем среди четырех источников финансирования (вслед за \"Фондом Кино\").\n",
    "\n",
    "Важно отметить, что показатели бюджета фильмов Фондом Кино сильно превышают иные источники финансирования, однако и оборот их фильмов значительно выше. Тем не менее, важно отметить, что поскольку значения господдержки (по медианному показателю), как правило, меньше объема оборота, следовательно, немаленькое количество фильмов становится убыточными. Такой случай не является исключением для Фонда Кино и распространяется и на другие источники финансирования.\n",
    "\n",
    "**Вывод**: можно отчетливо заметить зависимость между объемом выручки и источником финансирования. Однако, стоит отметить, что, хотя финансируемые государством фильмы и имеют более высокие медианные значения оборота, объем господдержки, как правило, превышает объем проката фильмов.\n",
    "\n",
    "***Гипотеза № 4 подтверждена***: видна зависимость между оборотом фильма и источником финансирования. Так, фильмы, финансируемые лишь Фондом Кино, основываясь на медианном значении, собирают в прокате больше нежели фильмы с иными источниками финансирования. Стоит отметить, тем не менее, что чаще всего финансируемые государством фильмы являются убыточными.\n",
    "\n",
    "[Вернуться к выводу](#financing_source_conclusion)"
   ]
  },
  {
   "cell_type": "markdown",
   "metadata": {},
   "source": [
    "<a name=\"support_and_rating\"></a>\n",
    "**Гипотеза № 5: факт господдержки влияет на рейтинг фильма**"
   ]
  },
  {
   "cell_type": "code",
   "execution_count": 71,
   "metadata": {},
   "outputs": [
    {
     "data": {
      "image/png": "[encoded data removed]",
      "text/plain": [
       "<Figure size 720x504 with 1 Axes>"
      ]
     },
     "metadata": {
      "needs_background": "light"
     },
     "output_type": "display_data"
    },
    {
     "data": {
      "image/png": "[encoded data removed]",
      "text/plain": [
       "<Figure size 720x504 with 1 Axes>"
      ]
     },
     "metadata": {
      "needs_background": "light"
     },
     "output_type": "display_data"
    },
    {
     "data": {
      "text/plain": [
       "'Коэффициент корреляции между рейтингом и бюджетом фильма (с господдержкой): 0.08885517959968678'"
      ]
     },
     "metadata": {},
     "output_type": "display_data"
    },
    {
     "data": {
      "text/plain": [
       "'Коэффициент корреляции между рейтингом и сборами фильма (с господдержкой): 0.14375541497787275'"
      ]
     },
     "metadata": {},
     "output_type": "display_data"
    },
    {
     "data": {
      "text/plain": [
       "'Коэффициент корреляции между сборами и бюджетом фильма (с господдержкой): 0.37563132746541444'"
      ]
     },
     "metadata": {},
     "output_type": "display_data"
    }
   ],
   "source": [
    "financed_df = df[df['budget'].notna()][['budget', \"box_office\", \"ratings\"]].reset_index()\n",
    "\n",
    "financed_df.plot(\n",
    "    kind='scatter',\n",
    "    x='ratings',\n",
    "    y='budget',\n",
    "    alpha=0.2,\n",
    "    xticks=(range(0, 11)),\n",
    "    figsize=(10, 7),\n",
    "    grid=True,\n",
    "    title=\"Соотношение рейтинга и бюджета фильма\\n(только с господдержкой)\",\n",
    "    xlabel='Рейтинг',\n",
    "    ylabel='Бюджет'\n",
    ")\n",
    "plt.show()\n",
    "\n",
    "\n",
    "financed_df.plot(\n",
    "    kind='scatter',\n",
    "    x='ratings',\n",
    "    y='box_office',\n",
    "    alpha=0.2,\n",
    "    figsize=(10, 7),\n",
    "    grid=True,\n",
    "    title='Соотношение рейтинга и сборов фильма\\n(только с господдержкой)',\n",
    "    xlabel='Рейтинг',\n",
    "    ylabel='Сборы'\n",
    ")\n",
    "plt.show()\n",
    "\n",
    "display(\"Коэффициент корреляции между рейтингом и бюджетом фильма (с господдержкой): {}\".format(financed_df['ratings'].corr(financed_df['budget'])))\n",
    "display(\"Коэффициент корреляции между рейтингом и сборами фильма (с господдержкой): {}\".format(financed_df['ratings'].corr(financed_df['box_office'])))\n",
    "display(\"Коэффициент корреляции между сборами и бюджетом фильма (с господдержкой): {}\".format(financed_df['budget'].corr(financed_df['box_office'])))"
   ]
  },
  {
   "cell_type": "markdown",
   "metadata": {},
   "source": [
    "Далее были рассмотрены возможные взаимосвязи между рейтингом, бюджетом и сборами фильмов с господдержкой. Согласно графикам, а также коэффициентам корреляции, наблюдается крайне низкая корреляция между бюджетом и рейтингом фильма - коэффициент корреляции всего 0.09, что говорит о почти отсутствии взаимосвязи. В дополнение низкое значение коэффициента корреляции можно заметить и между рейтингом и сборами фильма - всего 0,14. Однако, показатель, который наибОльшим образом влияет на сборы фильма является его бюджет, хотя, о высокой корреляции между двумя показателями говорить не приходится, поскольку ее значение составляет 0,376, что говорит лишь о слабой взаимосвязи.\n",
    "\n",
    "**Вывод:** разброс значений фильмов по рейтингу с господдержкой сильно велик. В дополнение коэффициент корреляции между такими параметрами, как рейтингом и бюджетом, а также рейтингом и сборами фильма составляет всего 0,09 и 0,14 соответственно, что говорит почти об отсутствии взаимосвязи между показателями. Наблюдается лишь слабая взаимосвязь между сборами и бюджетом фильмов - коэффициент корреляции составляет 0,376.\n",
    "\n",
    "***Гипотеза №5 неподтверждена:*** не наблюдается зависимость между значением показателя рейтинга, а также бюджетом и сборами фильма. Слабый характер взаимосвязи наблюдается между сборами и объем финансовой поддержки.\n",
    "\n",
    "\n",
    "[Вернуться к выводу](#support_and_rating_conclusion)"
   ]
  },
  {
   "cell_type": "markdown",
   "metadata": {},
   "source": [
    "<a name='main_genre_support'></a>\n",
    "\n",
    "**Гипотеза №6: имеется зависимость между основным жанром фильмов с господдержкой и сборами**"
   ]
  },
  {
   "cell_type": "code",
   "execution_count": 72,
   "metadata": {
    "scrolled": false
   },
   "outputs": [
    {
     "data": {
      "image/png": "[encoded data removed]",
      "text/plain": [
       "<Figure size 720x504 with 1 Axes>"
      ]
     },
     "metadata": {
      "needs_background": "light"
     },
     "output_type": "display_data"
    },
    {
     "data": {
      "image/png": "[encoded data removed]",
      "text/plain": [
       "<Figure size 720x504 with 1 Axes>"
      ]
     },
     "metadata": {
      "needs_background": "light"
     },
     "output_type": "display_data"
    },
    {
     "data": {
      "image/png": "[encoded data removed]",
      "text/plain": [
       "<Figure size 720x504 with 1 Axes>"
      ]
     },
     "metadata": {
      "needs_background": "light"
     },
     "output_type": "display_data"
    }
   ],
   "source": [
    "#Создадим сводную таблицу по медианному и суммарному значению сборов фильмов с господдержкой по основному жанру\n",
    "main_genre_support_boffice_df = df[df[\"budget\"].notna()].pivot_table(\n",
    "    index=\"main_genre\", \n",
    "    values=\"box_office\", \n",
    "    aggfunc=['median', 'sum']\n",
    ").reset_index()\n",
    "main_genre_support_boffice_df.columns = [\"main_genre\", \"median\", \"sum\"]\n",
    "\n",
    "# Выведем график с медианными значениями сборов по основному жанру\n",
    "main_genre_support_boffice_df.plot(\n",
    "    kind=\"scatter\",\n",
    "    x=\"main_genre\",\n",
    "    y=\"median\",\n",
    "    grid=True,\n",
    "    legend=True,\n",
    "    figsize=(10, 7),\n",
    "    xlabel='Основной жанр',\n",
    "    ylabel='Оборот',\n",
    "    s=100,\n",
    "    title='График 1. Медианное значение сборов\\nфильмов с господдержкой\\nпо основному жанру',\n",
    ")\n",
    "\n",
    "plt.xticks(rotation=90)\n",
    "plt.show()\n",
    "\n",
    "# Выведем график с суммарными значениями сборов по основному жанру\n",
    "main_genre_support_boffice_df.plot(\n",
    "    kind='scatter',\n",
    "    x='main_genre',\n",
    "    y='sum',\n",
    "    color='purple',\n",
    "    grid=True,\n",
    "    figsize=(10, 7),\n",
    "    xlabel='Основной жанр',\n",
    "    ylabel='Оборот',\n",
    "    s=100,\n",
    "    title='График 2. Суммарное значение сборов\\nфильмов с господдержкой\\nпо основному жанру'\n",
    ")\n",
    "\n",
    "plt.xticks(rotation=90)\n",
    "plt.show()\n",
    "\n",
    "# Создадим сводную таблицу с бюджетом фильмов по основному жанру\n",
    "main_genre_budget_df = df[df['budget'].notna()].pivot_table(\n",
    "    index='main_genre',\n",
    "    values='budget',\n",
    "    aggfunc='median'\n",
    ").reset_index()\n",
    "main_genre_budget_df.columns = ['main_genre', 'median']\n",
    "\n",
    "# Построим график по медианному значению бюджета фильма по основному жанру\n",
    "main_genre_budget_df.plot(\n",
    "    kind='scatter',\n",
    "    x='main_genre',\n",
    "    y='median',\n",
    "    color='green',\n",
    "    legend=False,\n",
    "    grid=True,\n",
    "    s=100,\n",
    "    figsize=(10, 7),\n",
    "    title='График 3. Медианное значение бюджета\\nфильмов с господдержкой\\nпо основному жанру',\n",
    "    xlabel='Основной жанр',\n",
    "    ylabel='Бюджет'\n",
    ")\n",
    "\n",
    "plt.xticks(rotation=90)\n",
    "plt.show()"
   ]
  },
  {
   "cell_type": "markdown",
   "metadata": {},
   "source": [
    "На графиках выше можно заметить, что фильмы с господдержкой по жанрам с максимальными медианными и суммарными значениями не совпадают.\n",
    "\n",
    "Так, на первом графике можно заметить, что по медианному значению сборов лидируют фильмы с основным жанром \"история\". Следом с показателем почти вдвое меньше идет \"спорт\", а потом \"приключения\", \"биография\" и \"мультфильм\".\n",
    "\n",
    "В случае же с суммарным значением сбором главенствуют фильмы с жанром \"комедия\", а следом, не сильно уступая, идет \"драма\". Третью позицию занимают фильмы в жанре \"мультфильм\".\n",
    "\n",
    "Поскольку суммарное значение сборов может демонстрировать, что количество фильмов определенного жанра превышает другие, следовательно, лучше ориентироваться на медианный показатель сборов. В таком случае заметно, что господдержку получают фильмы в ранее упомянутых жанрах: \"история\", \"спорт\", \"приключения\", \"биография\" и \"мультфильм\".\n",
    "\n",
    "**Вывод:** можно заметить, что более высокие медианные значения сборов приходятся на фильмы с жанрами \"спорт\", \"приключения\", \"биография\" и \"мультфильм\". Лидируют по суммарным значения такие жанры, как \"комедия\", \"драма\" и \"мультфильм\". Тем не менее, есть жанр, который демонстрирует окупаемость за счет положительной разницы между медианными значениями сборов и бюджета - и это \"спорт\".\n",
    "\n",
    "***Гипотеза №6 частично подтверждена:*** наблюдается относительно высокие медианные значения сборов некоторых жанров \"история\", \"спорт\", \"биография\", \"мультфильм\", однако окупается, судя по медианному значению, лишь жанр \"спорт\", где объем сборов превышает объем финансирования.\n",
    "\n",
    "[Вернуться к выводу](#main_genre_support_conclusion)"
   ]
  },
  {
   "cell_type": "markdown",
   "metadata": {},
   "source": [
    "<a name='support_type'></a>\n",
    "\n",
    "**Гипотеза № 7: имеется взаимосвязь между сборами фильмов с господдержкой и их типами**"
   ]
  },
  {
   "cell_type": "code",
   "execution_count": 73,
   "metadata": {
    "scrolled": true
   },
   "outputs": [
    {
     "data": {
      "text/html": [
       "<div>\n",
       "<style scoped>\n",
       "    .dataframe tbody tr th:only-of-type {\n",
       "        vertical-align: middle;\n",
       "    }\n",
       "\n",
       "    .dataframe tbody tr th {\n",
       "        vertical-align: top;\n",
       "    }\n",
       "\n",
       "    .dataframe thead th {\n",
       "        text-align: right;\n",
       "    }\n",
       "</style>\n",
       "<table border=\"1\" class=\"dataframe\">\n",
       "  <thead>\n",
       "    <tr style=\"text-align: right;\">\n",
       "      <th></th>\n",
       "      <th>type</th>\n",
       "      <th>median</th>\n",
       "      <th>sum</th>\n",
       "    </tr>\n",
       "  </thead>\n",
       "  <tbody>\n",
       "    <tr>\n",
       "      <th>0</th>\n",
       "      <td>Анимационный</td>\n",
       "      <td>9.494031e+07</td>\n",
       "      <td>5.623293e+09</td>\n",
       "    </tr>\n",
       "    <tr>\n",
       "      <th>1</th>\n",
       "      <td>Художественный</td>\n",
       "      <td>1.097262e+07</td>\n",
       "      <td>3.649022e+10</td>\n",
       "    </tr>\n",
       "  </tbody>\n",
       "</table>\n",
       "</div>"
      ],
      "text/plain": [
       "             type        median           sum\n",
       "0    Анимационный  9.494031e+07  5.623293e+09\n",
       "1  Художественный  1.097262e+07  3.649022e+10"
      ]
     },
     "metadata": {},
     "output_type": "display_data"
    },
    {
     "name": "stdout",
     "output_type": "stream",
     "text": [
      "\n",
      "\n",
      "Фильмы с господдержкой с типом \"Документальный\":\n"
     ]
    },
    {
     "data": {
      "text/html": [
       "<div>\n",
       "<style scoped>\n",
       "    .dataframe tbody tr th:only-of-type {\n",
       "        vertical-align: middle;\n",
       "    }\n",
       "\n",
       "    .dataframe tbody tr th {\n",
       "        vertical-align: top;\n",
       "    }\n",
       "\n",
       "    .dataframe thead th {\n",
       "        text-align: right;\n",
       "    }\n",
       "</style>\n",
       "<table border=\"1\" class=\"dataframe\">\n",
       "  <thead>\n",
       "    <tr style=\"text-align: right;\">\n",
       "      <th></th>\n",
       "      <th>title</th>\n",
       "      <th>puNumber</th>\n",
       "      <th>show_start_date</th>\n",
       "      <th>year</th>\n",
       "      <th>type</th>\n",
       "      <th>film_studio</th>\n",
       "      <th>production_country</th>\n",
       "      <th>director</th>\n",
       "      <th>main_director</th>\n",
       "      <th>producer</th>\n",
       "      <th>age_restriction</th>\n",
       "      <th>refundable_support</th>\n",
       "      <th>nonrefundable_support</th>\n",
       "      <th>budget</th>\n",
       "      <th>financing_source</th>\n",
       "      <th>ratings</th>\n",
       "      <th>genres</th>\n",
       "      <th>main_genre</th>\n",
       "      <th>box_office</th>\n",
       "      <th>gov_support</th>\n",
       "    </tr>\n",
       "  </thead>\n",
       "  <tbody>\n",
       "    <tr>\n",
       "      <th>7179</th>\n",
       "      <td>Байкал - Сердце мира 3D</td>\n",
       "      <td>112004619</td>\n",
       "      <td>2019-11-01</td>\n",
       "      <td>2019</td>\n",
       "      <td>Документальный</td>\n",
       "      <td>ООО \"Продюсерский центр \"Новое Время\"</td>\n",
       "      <td>Россия</td>\n",
       "      <td>А.Попова</td>\n",
       "      <td>А.Попова</td>\n",
       "      <td>И.Добровольский, А.Разуваева, Ю.Перкуль</td>\n",
       "      <td>«0+» - для любой зрительской аудитории</td>\n",
       "      <td>0.0</td>\n",
       "      <td>3000000.0</td>\n",
       "      <td>33000000.0</td>\n",
       "      <td>Министерство культуры</td>\n",
       "      <td>8.0</td>\n",
       "      <td>семейный</td>\n",
       "      <td>семейный</td>\n",
       "      <td>NaN</td>\n",
       "      <td>0.090909</td>\n",
       "    </tr>\n",
       "  </tbody>\n",
       "</table>\n",
       "</div>"
      ],
      "text/plain": [
       "                        title   puNumber show_start_date  year  \\\n",
       "7179  Байкал - Сердце мира 3D  112004619      2019-11-01  2019   \n",
       "\n",
       "                type                            film_studio  \\\n",
       "7179  Документальный  ООО \"Продюсерский центр \"Новое Время\"   \n",
       "\n",
       "     production_country  director main_director  \\\n",
       "7179             Россия  А.Попова      А.Попова   \n",
       "\n",
       "                                     producer  \\\n",
       "7179  И.Добровольский, А.Разуваева, Ю.Перкуль   \n",
       "\n",
       "                             age_restriction  refundable_support  \\\n",
       "7179  «0+» - для любой зрительской аудитории                 0.0   \n",
       "\n",
       "      nonrefundable_support      budget       financing_source  ratings  \\\n",
       "7179              3000000.0  33000000.0  Министерство культуры      8.0   \n",
       "\n",
       "        genres main_genre  box_office  gov_support  \n",
       "7179  семейный   семейный         NaN     0.090909  "
      ]
     },
     "execution_count": 73,
     "metadata": {},
     "output_type": "execute_result"
    }
   ],
   "source": [
    "type_support_df = df[(df[\"budget\"].notna()) & (df['box_office'].notna())].pivot_table(index=\"type\", values=\"box_office\", aggfunc=['median', 'sum']).reset_index()\n",
    "type_support_df.columns = [\"type\", \"median\", \"sum\"]\n",
    "\n",
    "display(type_support_df)\n",
    "\n",
    "print(\"\\n\\nФильмы с господдержкой с типом \\\"Документальный\\\":\")\n",
    "df[(df['budget'].notna()) & (df['type'] == \"Документальный\")]"
   ]
  },
  {
   "cell_type": "markdown",
   "metadata": {},
   "source": [
    "**Вывод**: можно заметить, что анимационные фильмы по медианному значению собирают больше нежели художественные, однако суммарные сборы все же больше приходятся на художественные фильмы, что означает лишь, что художественных фильмов выпускается больше. Документальный фильм с господдержкой и вовсе лишь один.\n",
    "\n",
    "***Гипотеза № 7 подтверждена***: художественные фильмы собирают по медианному значению больше - около 94 940 310 рублей, а художественные - около 11 млн рублей. Выборка среди документальных фильмов ограничивается одним фильмом, что крайне мало для проведения анализа.\n",
    "\n",
    "[Вернуться к выводу](#support_type_conclusion)"
   ]
  },
  {
   "cell_type": "markdown",
   "metadata": {},
   "source": [
    "<a name=\"boffice_support_year\"></a>\n",
    "\n",
    "**Гипотеза №8: имеется зависимость между сборами фильмов с господдержкой и годом их выпуска**\n",
    "\n",
    "*В дополнение рассмотрим также окупаемость финансируемых фильмов по годам*"
   ]
  },
  {
   "cell_type": "code",
   "execution_count": 74,
   "metadata": {
    "scrolled": false
   },
   "outputs": [
    {
     "data": {
      "image/png": "[encoded data removed]",
      "text/plain": [
       "<Figure size 432x288 with 1 Axes>"
      ]
     },
     "metadata": {
      "needs_background": "light"
     },
     "output_type": "display_data"
    },
    {
     "data": {
      "image/png": "[encoded data removed]",
      "text/plain": [
       "<Figure size 432x288 with 1 Axes>"
      ]
     },
     "metadata": {
      "needs_background": "light"
     },
     "output_type": "display_data"
    },
    {
     "data": {
      "text/html": [
       "<div>\n",
       "<style scoped>\n",
       "    .dataframe tbody tr th:only-of-type {\n",
       "        vertical-align: middle;\n",
       "    }\n",
       "\n",
       "    .dataframe tbody tr th {\n",
       "        vertical-align: top;\n",
       "    }\n",
       "\n",
       "    .dataframe thead th {\n",
       "        text-align: right;\n",
       "    }\n",
       "</style>\n",
       "<table border=\"1\" class=\"dataframe\">\n",
       "  <thead>\n",
       "    <tr style=\"text-align: right;\">\n",
       "      <th></th>\n",
       "      <th>year</th>\n",
       "      <th>boffice_sum</th>\n",
       "      <th>boffice_median</th>\n",
       "      <th>budget_sum</th>\n",
       "      <th>budget_median</th>\n",
       "    </tr>\n",
       "  </thead>\n",
       "  <tbody>\n",
       "    <tr>\n",
       "      <th>0</th>\n",
       "      <td>2013</td>\n",
       "      <td>2.032239e+07</td>\n",
       "      <td>10161192.55</td>\n",
       "      <td>2.554354e+08</td>\n",
       "      <td>127717695.0</td>\n",
       "    </tr>\n",
       "    <tr>\n",
       "      <th>1</th>\n",
       "      <td>2014</td>\n",
       "      <td>1.017422e+09</td>\n",
       "      <td>5504517.85</td>\n",
       "      <td>1.302485e+09</td>\n",
       "      <td>61036441.5</td>\n",
       "    </tr>\n",
       "    <tr>\n",
       "      <th>2</th>\n",
       "      <td>2015</td>\n",
       "      <td>5.785285e+09</td>\n",
       "      <td>9200824.50</td>\n",
       "      <td>7.738669e+09</td>\n",
       "      <td>57493985.5</td>\n",
       "    </tr>\n",
       "    <tr>\n",
       "      <th>3</th>\n",
       "      <td>2016</td>\n",
       "      <td>6.081708e+09</td>\n",
       "      <td>17921115.61</td>\n",
       "      <td>7.554943e+09</td>\n",
       "      <td>69883049.0</td>\n",
       "    </tr>\n",
       "    <tr>\n",
       "      <th>4</th>\n",
       "      <td>2017</td>\n",
       "      <td>1.086508e+10</td>\n",
       "      <td>50451949.00</td>\n",
       "      <td>7.057173e+09</td>\n",
       "      <td>78096315.0</td>\n",
       "    </tr>\n",
       "    <tr>\n",
       "      <th>5</th>\n",
       "      <td>2018</td>\n",
       "      <td>9.934069e+09</td>\n",
       "      <td>27023390.31</td>\n",
       "      <td>7.000664e+09</td>\n",
       "      <td>90324563.5</td>\n",
       "    </tr>\n",
       "    <tr>\n",
       "      <th>6</th>\n",
       "      <td>2019</td>\n",
       "      <td>8.409627e+09</td>\n",
       "      <td>25977291.30</td>\n",
       "      <td>1.272287e+10</td>\n",
       "      <td>78388683.0</td>\n",
       "    </tr>\n",
       "  </tbody>\n",
       "</table>\n",
       "</div>"
      ],
      "text/plain": [
       "   year   boffice_sum  boffice_median    budget_sum  budget_median\n",
       "0  2013  2.032239e+07     10161192.55  2.554354e+08    127717695.0\n",
       "1  2014  1.017422e+09      5504517.85  1.302485e+09     61036441.5\n",
       "2  2015  5.785285e+09      9200824.50  7.738669e+09     57493985.5\n",
       "3  2016  6.081708e+09     17921115.61  7.554943e+09     69883049.0\n",
       "4  2017  1.086508e+10     50451949.00  7.057173e+09     78096315.0\n",
       "5  2018  9.934069e+09     27023390.31  7.000664e+09     90324563.5\n",
       "6  2019  8.409627e+09     25977291.30  1.272287e+10     78388683.0"
      ]
     },
     "metadata": {},
     "output_type": "display_data"
    },
    {
     "data": {
      "text/plain": [
       "'Коэфициент корреляции между годом выпуска и суммой сборов: 0.8842841917098377'"
      ]
     },
     "metadata": {},
     "output_type": "display_data"
    },
    {
     "data": {
      "text/plain": [
       "'Коэффициент корреляции между годом выпуска и суммой бюджета: 0.8772680979897718'"
      ]
     },
     "metadata": {},
     "output_type": "display_data"
    },
    {
     "data": {
      "text/plain": [
       "'Коэффициент корреляции между годом выпуска и медианным значением сборов: 0.6572822205833222'"
      ]
     },
     "metadata": {},
     "output_type": "display_data"
    },
    {
     "data": {
      "text/plain": [
       "'Коэффициент корреляции между годом выпуска и медианным значение бюджета: -0.2244315656844591'"
      ]
     },
     "metadata": {},
     "output_type": "display_data"
    }
   ],
   "source": [
    "# Сводная таблица совокупных и медианных сборов по годам с господдержкой\n",
    "year_boffice_support_df = df[df['budget'].notna()].pivot_table(\n",
    "    index='year', \n",
    "    values='box_office', \n",
    "    aggfunc=['sum', 'median']\n",
    ").reset_index()\n",
    "year_boffice_support_df.columns = ['year', 'boffice_sum', 'boffice_median']\n",
    "\n",
    "# Сводная таблица совокупных и медианных объемов поддержки по годам \n",
    "year_support_df = df[df['year'] > 2012].pivot_table(\n",
    "    index='year',\n",
    "    values='budget',\n",
    "    aggfunc=['sum', 'median']\n",
    ").reset_index()\n",
    "year_support_df.columns = ['year', 'budget_sum', 'budget_median']\n",
    "\n",
    "year_boffice_support_df = year_boffice_support_df.merge(year_support_df, on='year', how='outer')\n",
    "\n",
    "# Отображение с помощью графиков\n",
    "ax1 = year_boffice_support_df.plot(\n",
    "    kind='line',\n",
    "    x='year',\n",
    "    y='budget_sum',\n",
    "    style='o-',\n",
    ")\n",
    "\n",
    "year_boffice_support_df.plot(\n",
    "    kind='line',\n",
    "    x='year',\n",
    "    y='boffice_sum',\n",
    "    style='o-',\n",
    "    grid=True,\n",
    "    ax=ax1,\n",
    "    xlabel='Год',\n",
    "    ylabel='Сумма',\n",
    "    title='График 2. График суммарных значений бюджета\\nи оборота фильмов с господдержкой по годам'\n",
    ")\n",
    "\n",
    "plt.legend([\"Бюджет\", \"Оборот\"])\n",
    "plt.show()\n",
    "\n",
    "ax2 = year_boffice_support_df.plot(\n",
    "    kind='line',\n",
    "    x='year',\n",
    "    y='budget_median',\n",
    "    style='o-',\n",
    "    color='green'\n",
    ")\n",
    "\n",
    "year_boffice_support_df.plot(\n",
    "    kind='line',\n",
    "    x='year',\n",
    "    y='boffice_median',\n",
    "    style='o-',\n",
    "    color='brown',\n",
    "    grid=True,\n",
    "    ax=ax2,\n",
    "    xlabel='Год',\n",
    "    ylabel='Сумма',\n",
    "    title='График 2. График медианных значений бюджета\\nи оборота фильмов с господдержкой по годам'\n",
    ")\n",
    "\n",
    "plt.legend(['Бюджет', \"Оборот\"])\n",
    "plt.show()\n",
    "\n",
    "display(year_boffice_support_df)\n",
    "\n",
    "display(\"Коэфициент корреляции между годом выпуска и суммой сборов: {}\".format(\n",
    "    year_boffice_support_df['year'].corr(year_boffice_support_df['boffice_sum'])))\n",
    "display(\"Коэффициент корреляции между годом выпуска и суммой бюджета: {}\".format(\n",
    "    year_boffice_support_df['year'].corr(year_boffice_support_df['budget_sum'])))\n",
    "display(\"Коэффициент корреляции между годом выпуска и медианным значением сборов: {}\".format(\n",
    "    year_boffice_support_df['year'].corr(year_boffice_support_df['boffice_median'])))\n",
    "display(\"Коэффициент корреляции между годом выпуска и медианным значение бюджета: {}\".format(\n",
    "    year_boffice_support_df['year'].corr(year_boffice_support_df['budget_median'])))"
   ]
  },
  {
   "cell_type": "markdown",
   "metadata": {},
   "source": [
    "**Вывод:** На графиках можно заметить, что окупаемость фильмов с господдержкой целиком наблюдалась лишь в 2017-м и 2018-м годах, в то время как в иные годы бюджет фильмов суммарно превышал объем сборов. Ситуация с медианными значениями немного иная: в данном случае во все годы наблюдается превышение бюджета над прокатом фильма с господдержкой. \n",
    "\n",
    "Cтоит рассмотреть коэффициенты корреляции между: а) годом выпуска и суммой сборов, б) годом выпуска и суммой бюджета, в) годом выпуска и медианным значением сборов, г) годом выпуска и медианным значением бюджета, которые составляют 0.88, 0.87, 0.66 и -0.22 соответственно. Заметно, что с каждым годом сумма бюджета, как и сумма сборов увеличивается, однако медианное значение бюджета снижается, хотя медианные сборы фильмов растут, что говорит о том, что выпускается больше фильмов и их медианные сборы растут.\n",
    "\n",
    "***Гипотеза №8 частично подтверждена:*** коэффициенты корреляции, как и графики выше говорят о том, что имеется взаимосвязь между годом выпуска, объемом финансирования и объемом сборов. Более того заметны некоторые тенденции с течением времени: медианное значение бюджета снижается незначительно (коэффициент корреляции составлять -0.22), а медианное значение сборов растет.\n",
    "\n",
    "[Вернуться к выводу](#boffice_support_year_conclusion)"
   ]
  },
  {
   "cell_type": "markdown",
   "metadata": {},
   "source": [
    "<a name=\"conclusion\"></a>\n",
    "## 5. Общий вывод\n",
    "[Вернуться во Введение](#introduction)"
   ]
  },
  {
   "cell_type": "markdown",
   "metadata": {
    "id": "AYRg3dzXgFye"
   },
   "source": [
    "Было проведено исследование по данным о фильмах с портала \"Кинопоиск\". Задача состояла первоначально в осуществлении предобработки данных (рассмотрении некорретных значений, обработки пропущенных значений, а также возможное удаление дубликатов при их наличии), а также в анализе данных на поиск различных особенности и взаимозависимостей разных параметров между собой.\n",
    "\n",
    "Был проведен исследовательский анализ данных на выявление закономерностей, и были проведены следующие исследования: 1) динамика выхода количества фильмов по годам, 2) динамика проката фильмов по годам, 3) средние и медианные значения сборов фильмов по годам, 4) зависимость между возрастным ограничением и такими параметрами, как суммой сборов и годом выхода. \n",
    "\n",
    "В дополнение были исследования фильмы, которые получили государственную поддержку на зависимость следующих параметров: I) медианное значение сборов и источник финансирования, II) рейтинг и такие параметры, как сборы фильма и бюджет фильма, III) наличие господдержки и объем сборов по основному жанру фильма, IV) наличие господдержки и значение сборов по типу фильма, V) наличие господдержки и объем сборов по году выпуска.\n",
    "\n",
    "Перед проведением исследовательского анализа данных по исследованиям были поставлены несколько гипотез:\n",
    "- Гипотеза 1: Год выпуска влияет на количество фильмов с данными о прокате;\n",
    "- Гипотеза 2: Значение сборов фильмов зависит от года выхода;\n",
    "- Гипотеза 3: Имеется зависимость между возрастным ограничением и такими параметрами, как сборы фильма и годом выход\n",
    "\n",
    "Следующим этапом исследования необходимо было провести анализ фильмов, получивших государственную поддержку. Далее рассмотрим следующие гипотезы:\n",
    "- Гипотеза 4: имеется зависимость между источником финансирования и оборотом фильма\n",
    "- Гипотеза 5: факт господдержки влияет на рейтинг фильма\n",
    "- Гипотеза 6: имеется зависимость между основным жанром фильма с господдержкой и сборами\n",
    "- Гипотеза 7: имеется взаимосвязь между сборами фильмов с господдержкой и их типами\n",
    "- Гипотеза 8: имеется зависимость между сборами фильмов с господдержкой и годом их выпуска"
   ]
  },
  {
   "cell_type": "markdown",
   "metadata": {},
   "source": [
    "<a name=\"year_and_data_boffice_conclusion\"></a>\n",
    "**Гипотеза № 1. Год выхода влияет на количество фильмов с данными о прокате**\n",
    " \n",
    "[Код и графики проверки гипотезы №1](#year_and_data_boffice)\n",
    "\n",
    "***Вывод***: наиболее полно представлена вторая половина рассматриваемого периода (с 2015 по 2019 годы), однако все же не у всех фильмов, выпущенных в эти годы, имеются данные о сборах, и в 2019 году доля таких произведений исскусства составила чуть менее 60%.\n",
    "\n",
    "***Гипотеза № 1 частично подтверждена***. Доля фильмов с данными о прокате с течением времени выросла, однако, все равно заметны сильные колебания, что видно на втором графике."
   ]
  },
  {
   "cell_type": "markdown",
   "metadata": {},
   "source": [
    "<a name=\"boffice_depend_on_year_conclusion\"></a>\n",
    "\n",
    "**Гипотеза № 2. Значение сборов фильмов зависит от года выхода.**\n",
    "\n",
    "[Код и графики проверки гипотезы №2](#boffice_depend_on_year)\n",
    "\n",
    "***Вывод:*** В случае суммы сборов по годам имеется тенденция к увеличению данного показателя, хотя в 2019 году заметно небольшое снижение данного значения по сравнению с 2018 году. Однако медианное и среднее значение ведет себя более непредсказуемо. Примечательно, что количество выпущенных фильмов и фильмов с данными о прокате в 2017 году меньше, чем в 2018 и 2019, но среднее и медианное значения в 2017 году выше. Можно лишь заметить сходство с графиком из проверки гипотезы № 1 с долей фильмов с данными о прокате по годам, когда наибольшее значение приходилось на 2017 год, но заметен спад в 2018-2019 годах. Более того, о высоком показателе сходства двух показателей говорит и коэффициент корреляции между ними: 0.938.\n",
    "\n",
    "***Гипотеза 2 частично подтверждена***: Значения сборов (суммарное, среднее и медианное) выросли в конечном счете по сравнению с началом. Наибольшие значением приходятся на 2017-2019 годы, однако графики суммарного значения, а также медианного со средним в последние два года расходятся. Тем не мене, заметно сходство графиков среднего и медианного значения сборов по годам с графиком из гипотезы №1 с долей фильмов с данными о прокате по годам. О зависимости между параметрами говорит высокий коэффициент корреляции: 0.938."
   ]
  },
  {
   "cell_type": "markdown",
   "metadata": {},
   "source": [
    "<a name=\"age_restriction_conclusion\"></a>\n",
    "\n",
    "**Гипотеза № 3: имеется зависимость между возрастным ограничением и такими параметрами, как сборы фильма и годом выхода**\n",
    "\n",
    "[Код и граифики проверки гипотезы №3](#age_restriction)\n",
    "\n",
    "***Вывод:*** можно заметить, что в период с 2015 по 2019 по суммарному значению сборов лидерство взяли фильмы с возрастным ограничением \"16+\", причем по сумме такие фильмы стали самими кассовыми в 2016-2018 годах. Несильно отстает фильмы со значением параметра \"12+\". Однако, при рассмотрении самых кассовых фильмов (более 500 млн рублей в прокате) доминирование фильмов с \"16+\" не столь явно. Стоит отметить, что фильм с ограничениями \"0+\" и \"18+\" менее популярны и суммарно немного собирают в прокате.\n",
    "\n",
    "***Гипотеза №3 частично подтверждена:*** заметно, что фильмы \"16+\" по сумме сборов лидируют, по годам они занимают лидирующую позицию в 2016-2018 годах, однако самыми кассовыми фильмами выступают как фильмы с ограничением \"16+\", так и \"12+\". Связано не соответствие с тем, что количество выпускаемых \"16+\"-фильмов превышает количество фильмов других категорий."
   ]
  },
  {
   "cell_type": "markdown",
   "metadata": {},
   "source": [
    "<a name='financing_source_conclusion'></a>\n",
    "\n",
    "**Гипотеза №4: имеется зависимость между источником финансирования и оборотом фильма**\n",
    "\n",
    "[Код и графики проверки гипотезы №4](#financing_source)\n",
    "\n",
    "**Вывод**: можно отчетливо заметить зависимость между объемом выручки и источником финансирования. Однако, стоит отметить, что, хотя финансируемые государством фильмы и имеют более высокие медианные значения оборота, объем господдержки, как правило, превышает объем проката фильмов.\n",
    "\n",
    "***Гипотеза № 4 подтверждена***: видна зависимость между оборотом фильма и источником финансирования. Так, фильмы, финансируемые лишь Фондом Кино, основываясь на медианном значении, собирают в прокате больше нежели фильмы с иными источниками финансирования. Стоит отметить, тем не менее, что чаще всего финансируемые государством фильмы являются убыточными."
   ]
  },
  {
   "cell_type": "markdown",
   "metadata": {},
   "source": [
    "<a name='support_and_rating_conclusion'></a>\n",
    "\n",
    "**Гипотеза №5: факт господдержки влияет на рейтинг фильма**\n",
    "\n",
    "[Код и графики проверки гипотезы №5](#support_and_rating)\n",
    "\n",
    "**Вывод:** разброс значений фильмов по рейтингу с господдержкой сильно велик. В дополнение коэффициент корреляции между такими параметрами, как рейтингом и бюджетом, а также рейтингом и сборами фильма составляет всего 0,09 и 0,14 соответственно, что говорит почти об отсутствии взаимосвязи между показателями. Наблюдается лишь слабая взаимосвязь между сборами и бюджетом фильмов - коэффициент корреляции составляет 0,376.\n",
    "\n",
    "***Гипотеза №5 не подтверждена:*** не наблюдается зависимость между значением показателя рейтинга, а также бюджетом и сборами фильма. Слабый характер взаимосвязи наблюдается между сборами и объем финансовой поддержки."
   ]
  },
  {
   "cell_type": "markdown",
   "metadata": {},
   "source": [
    "<a name='main_genre_support_conclusion'></a>\n",
    "**Гипотеза №6: имеется зависимость между основным жанром фильма с господдержкой и сборами** \n",
    "\n",
    "[Код и графики проверки гипотезы №6](#main_genre_support)\n",
    "\n",
    "**Вывод**: можно заметить, что более высокие медианные значения сборов приходятся на фильмы с жанрами \"спорт\", \"приключения\", \"биография\" и \"мультфильм\". Лидируют по суммарным значения такие жанры, как \"комедия\", \"драма\" и \"мультфильм\". Тем не менее, есть жанр, который демонстрирует окупаемость за счет положительной разницы между медианными значениями сборов и бюджета - и это \"спорт\".\n",
    "\n",
    "***Гипотеза №6 частично подтверждена***: наблюдается относительно высокие медианные значения сборов некоторых жанров \"история\", \"спорт\", \"биография\", \"мультфильм\", однако окупается, судя по медианному значению, лишь жанр \"спорт\", где объем сборов превышает объем финансирования."
   ]
  },
  {
   "cell_type": "markdown",
   "metadata": {},
   "source": [
    "<a name='support_type_conclusion'></a>\n",
    "\n",
    "**Гипотеза №7: имеется взаимосвязь между сборами фильмов с господдержкой и их типами**\n",
    "\n",
    "[Код и графики проверки гипотезы №7](#support_type)\n",
    "\n",
    "**Вывод**: можно заметить, что анимационные фильмы по медианному значению собирают больше нежели художественные, однако суммарные сборы все же больше приходятся на художественные фильмы, что означает лишь, что художественных фильмов выпускается больше. Документальный фильм с господдержкой и вовсе лишь один.\n",
    "\n",
    "***Гипотеза № 7 подтверждена***: художественные фильмы собирают по медианному значению больше - около 94 940 310 рублей, а художественные - около 11 млн рублей. Выборка среди документальных фильмов ограничивается одним фильмом, что крайне мало для проведения анализа."
   ]
  },
  {
   "cell_type": "markdown",
   "metadata": {},
   "source": [
    "<a name=\"boffice_support_year_conclusion\"></a>\n",
    "\n",
    "**Гипотеза №8: имеется зависимость между сборами фильмов с господдержкой и годом их выпуска**\n",
    "\n",
    "[Код и графики проверки гипотезы №8](#boffice_support_year)\n",
    "\n",
    "**Вывод:** На графиках можно заметить, что окупаемость фильмов с господдержкой целиком наблюдалась лишь в 2017-м и 2018-м годах, в то время как в иные годы бюджет фильмов суммарно превышал объем сборов. Ситуация с медианными значениями немного иная: в данном случае во все годы наблюдается превышение бюджета над прокатом фильма с господдержкой. \n",
    "\n",
    "Cтоит рассмотреть коэффициенты корреляции между: а) годом выпуска и суммой сборов, б) годом выпуска и суммой бюджета, в) годом выпуска и медианным значением сборов, г) годом выпуска и медианным значением бюджета, которые составляют 0.88, 0.87, 0.66 и -0.22 соответственно. Заметно, что с каждым годом сумма бюджета, как и сумма сборов увеличивается, однако медианное значение бюджета снижается, хотя медианные сборы фильмов растут, что говорит о том, что выпускается больше фильмов и их медианные сборы растут.\n",
    "\n",
    "***Гипотеза №8 частично подтверждена:*** коэффициенты корреляции, как и графики выше говорят о том, что имеется взаимосвязь между годом выпуска, объемом финансирования и объемом сборов. Более того заметны некоторые тенденции с течением времени: медианное значение бюджета снижается незначительно (коэффициент корреляции составлять -0.22), а медианное значение сборов растет."
   ]
  },
  {
   "cell_type": "markdown",
   "metadata": {},
   "source": [
    "**Общие рекомендации:**\n",
    "1. Возможно, стоит добавить такой столбец, как \"главные актеры\", для поиска возможной взаимосвязи между снимающимися в фильме актерами и сборами;\n",
    "2. Необходимо дополнить данные фильмов касательно проката."
   ]
  },
  {
   "cell_type": "code",
   "execution_count": null,
   "metadata": {},
   "outputs": [],
   "source": []
  }
 ],
 "metadata": {
  "ExecuteTimeLog": [
   {
    "duration": 537,
    "start_time": "2021-07-07T10:12:08.634Z"
   },
   {
    "duration": 206,
    "start_time": "2021-07-07T10:12:30.191Z"
   },
   {
    "duration": 227,
    "start_time": "2021-07-07T10:12:33.078Z"
   },
   {
    "duration": 153,
    "start_time": "2021-07-07T10:13:42.146Z"
   },
   {
    "duration": 233,
    "start_time": "2021-07-07T10:30:09.252Z"
   },
   {
    "duration": 19,
    "start_time": "2021-07-07T10:30:15.577Z"
   },
   {
    "duration": 18,
    "start_time": "2021-07-07T10:30:57.348Z"
   },
   {
    "duration": 19,
    "start_time": "2021-07-07T10:31:17.452Z"
   },
   {
    "duration": 21,
    "start_time": "2021-07-07T10:31:32.227Z"
   },
   {
    "duration": 27,
    "start_time": "2021-07-07T10:32:06.588Z"
   },
   {
    "duration": 23,
    "start_time": "2021-07-07T10:32:43.645Z"
   },
   {
    "duration": 24,
    "start_time": "2021-07-07T10:33:06.948Z"
   },
   {
    "duration": 7,
    "start_time": "2021-07-07T10:33:28.558Z"
   },
   {
    "duration": 23,
    "start_time": "2021-07-07T10:33:43.761Z"
   },
   {
    "duration": 28,
    "start_time": "2021-07-07T10:34:13.466Z"
   },
   {
    "duration": 23,
    "start_time": "2021-07-07T10:35:56.187Z"
   },
   {
    "duration": 6,
    "start_time": "2021-07-07T10:36:48.182Z"
   },
   {
    "duration": 14,
    "start_time": "2021-07-07T10:37:49.641Z"
   },
   {
    "duration": 6,
    "start_time": "2021-07-07T10:38:06.694Z"
   },
   {
    "duration": 6,
    "start_time": "2021-07-07T10:38:13.493Z"
   },
   {
    "duration": 19,
    "start_time": "2021-07-07T10:38:44.056Z"
   },
   {
    "duration": 186,
    "start_time": "2021-07-07T10:48:35.618Z"
   },
   {
    "duration": 24,
    "start_time": "2021-07-07T10:48:51.498Z"
   },
   {
    "duration": 20,
    "start_time": "2021-07-07T10:48:59.415Z"
   },
   {
    "duration": 20,
    "start_time": "2021-07-07T10:53:02.195Z"
   },
   {
    "duration": 188,
    "start_time": "2021-07-07T10:54:40.486Z"
   },
   {
    "duration": 115,
    "start_time": "2021-07-07T10:54:52.552Z"
   },
   {
    "duration": 214,
    "start_time": "2021-07-07T10:54:56.354Z"
   },
   {
    "duration": 47,
    "start_time": "2021-07-07T10:54:58.282Z"
   },
   {
    "duration": 217,
    "start_time": "2021-07-07T10:59:16.075Z"
   },
   {
    "duration": 51,
    "start_time": "2021-07-07T10:59:16.243Z"
   },
   {
    "duration": 578,
    "start_time": "2021-07-07T10:59:18.774Z"
   },
   {
    "duration": 161,
    "start_time": "2021-07-07T10:59:21.238Z"
   },
   {
    "duration": 59,
    "start_time": "2021-07-07T10:59:21.453Z"
   },
   {
    "duration": 3,
    "start_time": "2021-07-07T11:02:10.786Z"
   },
   {
    "duration": 13,
    "start_time": "2021-07-07T11:07:07.722Z"
   },
   {
    "duration": 26,
    "start_time": "2021-07-07T11:07:17.958Z"
   },
   {
    "duration": 22,
    "start_time": "2021-07-07T11:08:17.939Z"
   },
   {
    "duration": 212,
    "start_time": "2021-07-07T11:08:19.665Z"
   },
   {
    "duration": 21,
    "start_time": "2021-07-07T11:08:29.945Z"
   },
   {
    "duration": 31,
    "start_time": "2021-07-07T11:08:38.899Z"
   },
   {
    "duration": 23,
    "start_time": "2021-07-07T11:08:54.527Z"
   },
   {
    "duration": 8,
    "start_time": "2021-07-07T11:18:55.974Z"
   },
   {
    "duration": 7,
    "start_time": "2021-07-07T11:19:03.639Z"
   },
   {
    "duration": 7,
    "start_time": "2021-07-07T11:19:06.444Z"
   },
   {
    "duration": 578,
    "start_time": "2021-07-07T12:09:59.576Z"
   },
   {
    "duration": 195,
    "start_time": "2021-07-07T12:10:00.156Z"
   },
   {
    "duration": 115,
    "start_time": "2021-07-07T12:10:00.353Z"
   },
   {
    "duration": 3,
    "start_time": "2021-07-07T12:10:00.470Z"
   },
   {
    "duration": 32,
    "start_time": "2021-07-07T12:10:00.474Z"
   },
   {
    "duration": 23,
    "start_time": "2021-07-07T12:10:00.508Z"
   },
   {
    "duration": 19,
    "start_time": "2021-07-07T12:10:00.533Z"
   },
   {
    "duration": 44,
    "start_time": "2021-07-07T12:10:00.553Z"
   },
   {
    "duration": 7,
    "start_time": "2021-07-07T12:10:00.600Z"
   },
   {
    "duration": 7,
    "start_time": "2021-07-07T12:19:45.761Z"
   },
   {
    "duration": 21,
    "start_time": "2021-07-07T12:21:35.482Z"
   },
   {
    "duration": 21,
    "start_time": "2021-07-07T12:29:23.569Z"
   },
   {
    "duration": 525,
    "start_time": "2021-07-07T12:29:44.542Z"
   },
   {
    "duration": 214,
    "start_time": "2021-07-07T12:29:45.069Z"
   },
   {
    "duration": 92,
    "start_time": "2021-07-07T12:29:45.285Z"
   },
   {
    "duration": 3,
    "start_time": "2021-07-07T12:29:45.379Z"
   },
   {
    "duration": 28,
    "start_time": "2021-07-07T12:29:45.384Z"
   },
   {
    "duration": 23,
    "start_time": "2021-07-07T12:29:45.413Z"
   },
   {
    "duration": 21,
    "start_time": "2021-07-07T12:29:45.437Z"
   },
   {
    "duration": 41,
    "start_time": "2021-07-07T12:29:45.460Z"
   },
   {
    "duration": 7,
    "start_time": "2021-07-07T12:29:45.502Z"
   },
   {
    "duration": 20,
    "start_time": "2021-07-07T12:29:45.511Z"
   },
   {
    "duration": 12,
    "start_time": "2021-07-07T12:34:02.800Z"
   },
   {
    "duration": 7,
    "start_time": "2021-07-07T12:35:10.479Z"
   },
   {
    "duration": 8,
    "start_time": "2021-07-07T12:35:22.440Z"
   },
   {
    "duration": 6,
    "start_time": "2021-07-07T12:35:35.649Z"
   },
   {
    "duration": 6,
    "start_time": "2021-07-07T12:35:43.107Z"
   },
   {
    "duration": 22,
    "start_time": "2021-07-07T12:38:03.029Z"
   },
   {
    "duration": 10,
    "start_time": "2021-07-07T12:38:06.592Z"
   },
   {
    "duration": 563,
    "start_time": "2021-07-07T12:38:46.493Z"
   },
   {
    "duration": 265,
    "start_time": "2021-07-07T12:38:47.058Z"
   },
   {
    "duration": 94,
    "start_time": "2021-07-07T12:38:47.325Z"
   },
   {
    "duration": 3,
    "start_time": "2021-07-07T12:38:47.422Z"
   },
   {
    "duration": 30,
    "start_time": "2021-07-07T12:38:47.427Z"
   },
   {
    "duration": 16,
    "start_time": "2021-07-07T12:38:53.305Z"
   },
   {
    "duration": 10,
    "start_time": "2021-07-07T12:38:53.499Z"
   },
   {
    "duration": 8,
    "start_time": "2021-07-07T12:39:48.161Z"
   },
   {
    "duration": 27,
    "start_time": "2021-07-07T12:41:17.629Z"
   },
   {
    "duration": 17,
    "start_time": "2021-07-07T12:41:17.867Z"
   },
   {
    "duration": 21,
    "start_time": "2021-07-07T12:41:19.310Z"
   },
   {
    "duration": 7,
    "start_time": "2021-07-07T12:41:19.544Z"
   },
   {
    "duration": 20,
    "start_time": "2021-07-07T12:41:20.504Z"
   },
   {
    "duration": 554,
    "start_time": "2021-07-07T12:56:23.696Z"
   },
   {
    "duration": 200,
    "start_time": "2021-07-07T12:56:25.234Z"
   },
   {
    "duration": 119,
    "start_time": "2021-07-07T12:56:25.480Z"
   },
   {
    "duration": 4,
    "start_time": "2021-07-07T12:56:25.762Z"
   },
   {
    "duration": 26,
    "start_time": "2021-07-07T12:56:27.172Z"
   },
   {
    "duration": 12,
    "start_time": "2021-07-07T12:56:29.051Z"
   },
   {
    "duration": 10,
    "start_time": "2021-07-07T12:56:29.291Z"
   },
   {
    "duration": 8,
    "start_time": "2021-07-07T12:56:29.623Z"
   },
   {
    "duration": 28,
    "start_time": "2021-07-07T12:56:32.137Z"
   },
   {
    "duration": 19,
    "start_time": "2021-07-07T12:56:39.785Z"
   },
   {
    "duration": 20,
    "start_time": "2021-07-07T12:56:44.297Z"
   },
   {
    "duration": 7,
    "start_time": "2021-07-07T12:56:45.392Z"
   },
   {
    "duration": 23,
    "start_time": "2021-07-07T12:56:46.615Z"
   },
   {
    "duration": 4,
    "start_time": "2021-07-07T12:57:06.625Z"
   },
   {
    "duration": 32,
    "start_time": "2021-07-07T12:57:36.690Z"
   },
   {
    "duration": 18,
    "start_time": "2021-07-07T12:58:00.149Z"
   },
   {
    "duration": 15,
    "start_time": "2021-07-07T12:59:16.793Z"
   },
   {
    "duration": 7,
    "start_time": "2021-07-07T13:19:22.624Z"
   },
   {
    "duration": 6,
    "start_time": "2021-07-07T14:17:33.527Z"
   },
   {
    "duration": 9,
    "start_time": "2021-07-07T14:17:48.409Z"
   },
   {
    "duration": 8,
    "start_time": "2021-07-07T14:20:13.060Z"
   },
   {
    "duration": 8,
    "start_time": "2021-07-07T14:20:37.957Z"
   },
   {
    "duration": 8,
    "start_time": "2021-07-07T14:20:47.470Z"
   },
   {
    "duration": 9,
    "start_time": "2021-07-07T14:20:54.503Z"
   },
   {
    "duration": 10,
    "start_time": "2021-07-07T14:28:57.763Z"
   },
   {
    "duration": 3,
    "start_time": "2021-07-07T14:30:23.377Z"
   },
   {
    "duration": 3,
    "start_time": "2021-07-07T14:30:36.489Z"
   },
   {
    "duration": 103,
    "start_time": "2021-07-07T14:30:52.351Z"
   },
   {
    "duration": 8,
    "start_time": "2021-07-07T14:30:54.763Z"
   },
   {
    "duration": 8,
    "start_time": "2021-07-07T14:31:29.301Z"
   },
   {
    "duration": 13,
    "start_time": "2021-07-07T14:31:44.516Z"
   },
   {
    "duration": 7,
    "start_time": "2021-07-07T14:33:10.972Z"
   },
   {
    "duration": 11,
    "start_time": "2021-07-07T14:33:27.780Z"
   },
   {
    "duration": 8,
    "start_time": "2021-07-07T14:34:44.588Z"
   },
   {
    "duration": 57,
    "start_time": "2021-07-07T14:35:59.042Z"
   },
   {
    "duration": 3,
    "start_time": "2021-07-07T14:36:28.168Z"
   },
   {
    "duration": 5,
    "start_time": "2021-07-07T14:36:46.254Z"
   },
   {
    "duration": 4,
    "start_time": "2021-07-07T14:36:52.714Z"
   },
   {
    "duration": 3,
    "start_time": "2021-07-07T14:36:56.612Z"
   },
   {
    "duration": 4,
    "start_time": "2021-07-07T14:36:57.049Z"
   },
   {
    "duration": 3,
    "start_time": "2021-07-07T14:39:21.214Z"
   },
   {
    "duration": 7,
    "start_time": "2021-07-07T14:39:52.406Z"
   },
   {
    "duration": 11,
    "start_time": "2021-07-07T14:39:58.576Z"
   },
   {
    "duration": 9,
    "start_time": "2021-07-07T14:40:26.301Z"
   },
   {
    "duration": 10,
    "start_time": "2021-07-07T14:40:31.704Z"
   },
   {
    "duration": 11,
    "start_time": "2021-07-07T14:40:36.249Z"
   },
   {
    "duration": 10,
    "start_time": "2021-07-07T14:40:39.783Z"
   },
   {
    "duration": 9,
    "start_time": "2021-07-07T14:40:48.558Z"
   },
   {
    "duration": 10,
    "start_time": "2021-07-07T14:40:57.143Z"
   },
   {
    "duration": 9,
    "start_time": "2021-07-07T14:41:06.074Z"
   },
   {
    "duration": 4324,
    "start_time": "2021-07-07T14:41:22.004Z"
   },
   {
    "duration": 11,
    "start_time": "2021-07-07T14:41:33.392Z"
   },
   {
    "duration": 9,
    "start_time": "2021-07-07T14:41:39.288Z"
   },
   {
    "duration": 569,
    "start_time": "2021-07-07T14:42:14.387Z"
   },
   {
    "duration": 197,
    "start_time": "2021-07-07T14:42:14.959Z"
   },
   {
    "duration": 84,
    "start_time": "2021-07-07T14:42:16.052Z"
   },
   {
    "duration": 4,
    "start_time": "2021-07-07T14:42:16.900Z"
   },
   {
    "duration": 27,
    "start_time": "2021-07-07T14:42:19.898Z"
   },
   {
    "duration": 12,
    "start_time": "2021-07-07T14:42:21.577Z"
   },
   {
    "duration": 9,
    "start_time": "2021-07-07T14:42:21.813Z"
   },
   {
    "duration": 9,
    "start_time": "2021-07-07T14:42:22.569Z"
   },
   {
    "duration": 29,
    "start_time": "2021-07-07T14:42:25.837Z"
   },
   {
    "duration": 20,
    "start_time": "2021-07-07T14:42:27.003Z"
   },
   {
    "duration": 21,
    "start_time": "2021-07-07T14:42:28.767Z"
   },
   {
    "duration": 7,
    "start_time": "2021-07-07T14:42:29.838Z"
   },
   {
    "duration": 4,
    "start_time": "2021-07-07T14:43:25.493Z"
   },
   {
    "duration": 7,
    "start_time": "2021-07-07T14:43:26.573Z"
   },
   {
    "duration": 10,
    "start_time": "2021-07-07T14:43:31.639Z"
   },
   {
    "duration": 9,
    "start_time": "2021-07-07T14:43:32.046Z"
   },
   {
    "duration": 10,
    "start_time": "2021-07-07T14:43:33.301Z"
   },
   {
    "duration": 12,
    "start_time": "2021-07-07T14:43:33.658Z"
   },
   {
    "duration": 8,
    "start_time": "2021-07-07T14:43:34.552Z"
   },
   {
    "duration": 9,
    "start_time": "2021-07-07T14:43:35.058Z"
   },
   {
    "duration": 12,
    "start_time": "2021-07-07T14:43:35.914Z"
   },
   {
    "duration": 17,
    "start_time": "2021-07-07T14:45:34.368Z"
   },
   {
    "duration": 512,
    "start_time": "2021-07-07T14:51:58.236Z"
   },
   {
    "duration": 223,
    "start_time": "2021-07-07T14:51:58.750Z"
   },
   {
    "duration": 93,
    "start_time": "2021-07-07T14:51:58.977Z"
   },
   {
    "duration": 4,
    "start_time": "2021-07-07T14:51:59.071Z"
   },
   {
    "duration": 37,
    "start_time": "2021-07-07T14:51:59.077Z"
   },
   {
    "duration": 18,
    "start_time": "2021-07-07T14:51:59.116Z"
   },
   {
    "duration": 10,
    "start_time": "2021-07-07T14:51:59.137Z"
   },
   {
    "duration": 8,
    "start_time": "2021-07-07T14:51:59.149Z"
   },
   {
    "duration": 54,
    "start_time": "2021-07-07T14:51:59.158Z"
   },
   {
    "duration": 18,
    "start_time": "2021-07-07T14:51:59.213Z"
   },
   {
    "duration": 22,
    "start_time": "2021-07-07T14:51:59.232Z"
   },
   {
    "duration": 36,
    "start_time": "2021-07-07T14:51:59.255Z"
   },
   {
    "duration": 7,
    "start_time": "2021-07-07T14:51:59.293Z"
   },
   {
    "duration": 10,
    "start_time": "2021-07-07T14:51:59.302Z"
   },
   {
    "duration": 9,
    "start_time": "2021-07-07T14:51:59.313Z"
   },
   {
    "duration": 11,
    "start_time": "2021-07-07T14:51:59.324Z"
   },
   {
    "duration": 8,
    "start_time": "2021-07-07T14:51:59.337Z"
   },
   {
    "duration": 46,
    "start_time": "2021-07-07T14:51:59.347Z"
   },
   {
    "duration": 22,
    "start_time": "2021-07-07T14:51:59.395Z"
   },
   {
    "duration": 24,
    "start_time": "2021-07-07T14:57:32.911Z"
   },
   {
    "duration": 7,
    "start_time": "2021-07-07T14:58:22.070Z"
   },
   {
    "duration": 4,
    "start_time": "2021-07-07T14:59:11.239Z"
   },
   {
    "duration": 25,
    "start_time": "2021-07-07T15:07:22.208Z"
   },
   {
    "duration": 16,
    "start_time": "2021-07-07T15:08:25.560Z"
   },
   {
    "duration": 15,
    "start_time": "2021-07-07T15:08:40.647Z"
   },
   {
    "duration": 14,
    "start_time": "2021-07-07T15:08:46.669Z"
   },
   {
    "duration": 533,
    "start_time": "2021-07-07T15:18:07.440Z"
   },
   {
    "duration": 173,
    "start_time": "2021-07-07T15:18:07.974Z"
   },
   {
    "duration": 84,
    "start_time": "2021-07-07T15:18:08.149Z"
   },
   {
    "duration": 3,
    "start_time": "2021-07-07T15:18:08.235Z"
   },
   {
    "duration": 30,
    "start_time": "2021-07-07T15:18:08.240Z"
   },
   {
    "duration": 22,
    "start_time": "2021-07-07T15:18:08.272Z"
   },
   {
    "duration": 11,
    "start_time": "2021-07-07T15:18:08.295Z"
   },
   {
    "duration": 11,
    "start_time": "2021-07-07T15:18:08.309Z"
   },
   {
    "duration": 40,
    "start_time": "2021-07-07T15:18:08.322Z"
   },
   {
    "duration": 42,
    "start_time": "2021-07-07T15:18:08.364Z"
   },
   {
    "duration": 22,
    "start_time": "2021-07-07T15:18:08.408Z"
   },
   {
    "duration": 5,
    "start_time": "2021-07-07T15:18:08.432Z"
   },
   {
    "duration": 13,
    "start_time": "2021-07-07T15:18:08.439Z"
   },
   {
    "duration": 9,
    "start_time": "2021-07-07T15:18:08.454Z"
   },
   {
    "duration": 32,
    "start_time": "2021-07-07T15:18:08.465Z"
   },
   {
    "duration": 10,
    "start_time": "2021-07-07T15:18:08.501Z"
   },
   {
    "duration": 7,
    "start_time": "2021-07-07T15:18:08.513Z"
   },
   {
    "duration": 11,
    "start_time": "2021-07-07T15:18:08.521Z"
   },
   {
    "duration": 17,
    "start_time": "2021-07-07T15:18:08.534Z"
   },
   {
    "duration": 44,
    "start_time": "2021-07-07T15:18:08.553Z"
   },
   {
    "duration": 22,
    "start_time": "2021-07-07T15:18:08.599Z"
   },
   {
    "duration": 61,
    "start_time": "2021-07-07T15:18:08.622Z"
   },
   {
    "duration": 7,
    "start_time": "2021-07-07T15:18:39.457Z"
   },
   {
    "duration": 5,
    "start_time": "2021-07-07T16:05:17.020Z"
   },
   {
    "duration": 5,
    "start_time": "2021-07-07T16:51:28.794Z"
   },
   {
    "duration": 546,
    "start_time": "2021-07-07T16:52:26.306Z"
   },
   {
    "duration": 203,
    "start_time": "2021-07-07T16:52:27.523Z"
   },
   {
    "duration": 85,
    "start_time": "2021-07-07T16:52:27.736Z"
   },
   {
    "duration": 4,
    "start_time": "2021-07-07T16:52:27.899Z"
   },
   {
    "duration": 25,
    "start_time": "2021-07-07T16:52:28.674Z"
   },
   {
    "duration": 8,
    "start_time": "2021-07-07T16:52:32.956Z"
   },
   {
    "duration": 18,
    "start_time": "2021-07-07T16:52:35.616Z"
   },
   {
    "duration": 6,
    "start_time": "2021-07-07T16:52:36.913Z"
   },
   {
    "duration": 11,
    "start_time": "2021-07-07T16:52:40.258Z"
   },
   {
    "duration": 10,
    "start_time": "2021-07-07T16:52:46.251Z"
   },
   {
    "duration": 8,
    "start_time": "2021-07-07T16:52:47.182Z"
   },
   {
    "duration": 27,
    "start_time": "2021-07-07T16:53:20.391Z"
   },
   {
    "duration": 20,
    "start_time": "2021-07-07T16:53:22.022Z"
   },
   {
    "duration": 23,
    "start_time": "2021-07-07T16:53:23.690Z"
   },
   {
    "duration": 8,
    "start_time": "2021-07-07T16:53:24.261Z"
   },
   {
    "duration": 4,
    "start_time": "2021-07-07T16:53:38.733Z"
   },
   {
    "duration": 7,
    "start_time": "2021-07-07T16:53:40.445Z"
   },
   {
    "duration": 11,
    "start_time": "2021-07-07T16:53:41.348Z"
   },
   {
    "duration": 13,
    "start_time": "2021-07-07T16:53:45.250Z"
   },
   {
    "duration": 12,
    "start_time": "2021-07-07T16:53:45.467Z"
   },
   {
    "duration": 4,
    "start_time": "2021-07-07T16:55:32.704Z"
   },
   {
    "duration": 12,
    "start_time": "2021-07-07T16:55:49.012Z"
   },
   {
    "duration": 18,
    "start_time": "2021-07-07T16:55:49.547Z"
   },
   {
    "duration": 611,
    "start_time": "2021-07-07T16:58:35.156Z"
   },
   {
    "duration": 200,
    "start_time": "2021-07-07T16:58:35.770Z"
   },
   {
    "duration": 86,
    "start_time": "2021-07-07T16:58:35.972Z"
   },
   {
    "duration": 3,
    "start_time": "2021-07-07T16:58:36.060Z"
   },
   {
    "duration": 27,
    "start_time": "2021-07-07T16:58:36.065Z"
   },
   {
    "duration": 8,
    "start_time": "2021-07-07T16:58:36.094Z"
   },
   {
    "duration": 17,
    "start_time": "2021-07-07T16:58:36.103Z"
   },
   {
    "duration": 5,
    "start_time": "2021-07-07T16:58:36.123Z"
   },
   {
    "duration": 11,
    "start_time": "2021-07-07T16:58:36.130Z"
   },
   {
    "duration": 7,
    "start_time": "2021-07-07T16:58:36.143Z"
   },
   {
    "duration": 37,
    "start_time": "2021-07-07T16:58:36.152Z"
   },
   {
    "duration": 27,
    "start_time": "2021-07-07T16:58:36.191Z"
   },
   {
    "duration": 19,
    "start_time": "2021-07-07T16:58:36.219Z"
   },
   {
    "duration": 49,
    "start_time": "2021-07-07T16:58:36.240Z"
   },
   {
    "duration": 6,
    "start_time": "2021-07-07T16:58:36.291Z"
   },
   {
    "duration": 3,
    "start_time": "2021-07-07T16:58:36.299Z"
   },
   {
    "duration": 13,
    "start_time": "2021-07-07T16:58:36.304Z"
   },
   {
    "duration": 10,
    "start_time": "2021-07-07T16:58:36.319Z"
   },
   {
    "duration": 10,
    "start_time": "2021-07-07T16:58:36.331Z"
   },
   {
    "duration": 44,
    "start_time": "2021-07-07T16:58:36.343Z"
   },
   {
    "duration": 4,
    "start_time": "2021-07-07T16:58:36.388Z"
   },
   {
    "duration": 13,
    "start_time": "2021-07-07T16:58:36.394Z"
   },
   {
    "duration": 16,
    "start_time": "2021-07-07T16:58:36.410Z"
   },
   {
    "duration": 8,
    "start_time": "2021-07-07T17:02:31.629Z"
   },
   {
    "duration": 8,
    "start_time": "2021-07-07T17:02:34.308Z"
   },
   {
    "duration": 6,
    "start_time": "2021-07-07T17:05:13.483Z"
   },
   {
    "duration": 17,
    "start_time": "2021-07-07T17:05:20.606Z"
   },
   {
    "duration": 7,
    "start_time": "2021-07-07T17:05:34.638Z"
   },
   {
    "duration": 3,
    "start_time": "2021-07-07T17:06:31.883Z"
   },
   {
    "duration": 570,
    "start_time": "2021-07-07T17:06:37.165Z"
   },
   {
    "duration": 174,
    "start_time": "2021-07-07T17:06:37.737Z"
   },
   {
    "duration": 47,
    "start_time": "2021-07-07T17:06:37.913Z"
   },
   {
    "duration": 3,
    "start_time": "2021-07-07T17:06:37.962Z"
   },
   {
    "duration": 27,
    "start_time": "2021-07-07T17:06:37.967Z"
   },
   {
    "duration": 7,
    "start_time": "2021-07-07T17:06:37.996Z"
   },
   {
    "duration": 16,
    "start_time": "2021-07-07T17:06:38.005Z"
   },
   {
    "duration": 6,
    "start_time": "2021-07-07T17:06:38.024Z"
   },
   {
    "duration": 12,
    "start_time": "2021-07-07T17:06:38.031Z"
   },
   {
    "duration": 41,
    "start_time": "2021-07-07T17:06:38.045Z"
   },
   {
    "duration": 8,
    "start_time": "2021-07-07T17:06:38.088Z"
   },
   {
    "duration": 26,
    "start_time": "2021-07-07T17:06:38.098Z"
   },
   {
    "duration": 17,
    "start_time": "2021-07-07T17:06:38.126Z"
   },
   {
    "duration": 43,
    "start_time": "2021-07-07T17:06:38.144Z"
   },
   {
    "duration": 6,
    "start_time": "2021-07-07T17:06:38.188Z"
   },
   {
    "duration": 5,
    "start_time": "2021-07-07T17:06:38.195Z"
   },
   {
    "duration": 9,
    "start_time": "2021-07-07T17:06:38.201Z"
   },
   {
    "duration": 12,
    "start_time": "2021-07-07T17:06:38.212Z"
   },
   {
    "duration": 11,
    "start_time": "2021-07-07T17:06:38.226Z"
   },
   {
    "duration": 47,
    "start_time": "2021-07-07T17:06:38.239Z"
   },
   {
    "duration": 4,
    "start_time": "2021-07-07T17:06:38.288Z"
   },
   {
    "duration": 13,
    "start_time": "2021-07-07T17:06:38.293Z"
   },
   {
    "duration": 5,
    "start_time": "2021-07-07T17:06:38.309Z"
   },
   {
    "duration": 18,
    "start_time": "2021-07-07T17:06:38.325Z"
   },
   {
    "duration": 20,
    "start_time": "2021-07-07T17:07:02.805Z"
   },
   {
    "duration": 19,
    "start_time": "2021-07-07T17:07:08.527Z"
   },
   {
    "duration": 19,
    "start_time": "2021-07-07T17:07:12.758Z"
   },
   {
    "duration": 22,
    "start_time": "2021-07-07T17:07:17.497Z"
   },
   {
    "duration": 19,
    "start_time": "2021-07-07T17:07:19.645Z"
   },
   {
    "duration": 10,
    "start_time": "2021-07-07T17:07:34.239Z"
   },
   {
    "duration": 17,
    "start_time": "2021-07-07T17:07:54.144Z"
   },
   {
    "duration": 14,
    "start_time": "2021-07-07T17:08:14.357Z"
   },
   {
    "duration": 616,
    "start_time": "2021-07-07T17:08:45.254Z"
   },
   {
    "duration": 178,
    "start_time": "2021-07-07T17:08:45.872Z"
   },
   {
    "duration": 60,
    "start_time": "2021-07-07T17:08:46.054Z"
   },
   {
    "duration": 3,
    "start_time": "2021-07-07T17:08:46.116Z"
   },
   {
    "duration": 26,
    "start_time": "2021-07-07T17:08:46.121Z"
   },
   {
    "duration": 7,
    "start_time": "2021-07-07T17:08:46.149Z"
   },
   {
    "duration": 17,
    "start_time": "2021-07-07T17:08:46.158Z"
   },
   {
    "duration": 14,
    "start_time": "2021-07-07T17:08:46.176Z"
   },
   {
    "duration": 17,
    "start_time": "2021-07-07T17:08:46.193Z"
   },
   {
    "duration": 9,
    "start_time": "2021-07-07T17:08:46.211Z"
   },
   {
    "duration": 21,
    "start_time": "2021-07-07T17:08:46.221Z"
   },
   {
    "duration": 49,
    "start_time": "2021-07-07T17:08:46.244Z"
   },
   {
    "duration": 24,
    "start_time": "2021-07-07T17:08:46.295Z"
   },
   {
    "duration": 22,
    "start_time": "2021-07-07T17:08:46.321Z"
   },
   {
    "duration": 6,
    "start_time": "2021-07-07T17:08:46.345Z"
   },
   {
    "duration": 5,
    "start_time": "2021-07-07T17:08:46.353Z"
   },
   {
    "duration": 13,
    "start_time": "2021-07-07T17:08:46.386Z"
   },
   {
    "duration": 12,
    "start_time": "2021-07-07T17:08:46.402Z"
   },
   {
    "duration": 10,
    "start_time": "2021-07-07T17:08:46.415Z"
   },
   {
    "duration": 7,
    "start_time": "2021-07-07T17:08:46.427Z"
   },
   {
    "duration": 8,
    "start_time": "2021-07-07T17:08:46.435Z"
   },
   {
    "duration": 68,
    "start_time": "2021-07-07T17:08:46.446Z"
   },
   {
    "duration": 13,
    "start_time": "2021-07-07T17:08:46.516Z"
   },
   {
    "duration": 78,
    "start_time": "2021-07-07T17:08:46.530Z"
   },
   {
    "duration": 40,
    "start_time": "2021-07-07T17:09:08.185Z"
   },
   {
    "duration": 16,
    "start_time": "2021-07-07T17:09:19.324Z"
   },
   {
    "duration": 21,
    "start_time": "2021-07-07T17:09:23.290Z"
   },
   {
    "duration": 13,
    "start_time": "2021-07-07T17:09:54.812Z"
   },
   {
    "duration": 13,
    "start_time": "2021-07-07T17:10:02.039Z"
   },
   {
    "duration": 10,
    "start_time": "2021-07-07T17:10:29.632Z"
   },
   {
    "duration": 13,
    "start_time": "2021-07-07T17:10:52.372Z"
   },
   {
    "duration": 13,
    "start_time": "2021-07-07T17:11:17.270Z"
   },
   {
    "duration": 13,
    "start_time": "2021-07-07T17:14:59.284Z"
   },
   {
    "duration": 547,
    "start_time": "2021-07-07T17:18:52.403Z"
   },
   {
    "duration": 163,
    "start_time": "2021-07-07T17:18:52.952Z"
   },
   {
    "duration": 44,
    "start_time": "2021-07-07T17:18:53.117Z"
   },
   {
    "duration": 3,
    "start_time": "2021-07-07T17:18:53.162Z"
   },
   {
    "duration": 26,
    "start_time": "2021-07-07T17:18:53.167Z"
   },
   {
    "duration": 6,
    "start_time": "2021-07-07T17:18:53.195Z"
   },
   {
    "duration": 15,
    "start_time": "2021-07-07T17:18:53.203Z"
   },
   {
    "duration": 5,
    "start_time": "2021-07-07T17:18:53.220Z"
   },
   {
    "duration": 11,
    "start_time": "2021-07-07T17:18:53.228Z"
   },
   {
    "duration": 9,
    "start_time": "2021-07-07T17:18:53.241Z"
   },
   {
    "duration": 41,
    "start_time": "2021-07-07T17:18:53.252Z"
   },
   {
    "duration": 33,
    "start_time": "2021-07-07T17:18:53.295Z"
   },
   {
    "duration": 19,
    "start_time": "2021-07-07T17:18:53.330Z"
   },
   {
    "duration": 49,
    "start_time": "2021-07-07T17:18:53.350Z"
   },
   {
    "duration": 5,
    "start_time": "2021-07-07T17:18:53.401Z"
   },
   {
    "duration": 5,
    "start_time": "2021-07-07T17:18:53.408Z"
   },
   {
    "duration": 11,
    "start_time": "2021-07-07T17:18:53.414Z"
   },
   {
    "duration": 9,
    "start_time": "2021-07-07T17:18:53.427Z"
   },
   {
    "duration": 10,
    "start_time": "2021-07-07T17:18:53.437Z"
   },
   {
    "duration": 39,
    "start_time": "2021-07-07T17:18:53.448Z"
   },
   {
    "duration": 26,
    "start_time": "2021-07-07T17:18:55.799Z"
   },
   {
    "duration": 598,
    "start_time": "2021-07-07T17:20:17.862Z"
   },
   {
    "duration": 161,
    "start_time": "2021-07-07T17:20:18.462Z"
   },
   {
    "duration": 45,
    "start_time": "2021-07-07T17:20:18.626Z"
   },
   {
    "duration": 4,
    "start_time": "2021-07-07T17:20:18.673Z"
   },
   {
    "duration": 38,
    "start_time": "2021-07-07T17:20:26.877Z"
   },
   {
    "duration": 7,
    "start_time": "2021-07-07T17:20:37.405Z"
   },
   {
    "duration": 19,
    "start_time": "2021-07-07T17:20:51.534Z"
   },
   {
    "duration": 5,
    "start_time": "2021-07-07T17:20:57.228Z"
   },
   {
    "duration": 7,
    "start_time": "2021-07-07T17:21:08.235Z"
   },
   {
    "duration": 19,
    "start_time": "2021-07-07T17:21:42.158Z"
   },
   {
    "duration": 14,
    "start_time": "2021-07-07T17:21:50.225Z"
   },
   {
    "duration": 22,
    "start_time": "2021-07-07T17:22:54.104Z"
   },
   {
    "duration": 5,
    "start_time": "2021-07-07T17:22:56.371Z"
   },
   {
    "duration": 14,
    "start_time": "2021-07-07T17:22:58.316Z"
   },
   {
    "duration": 5,
    "start_time": "2021-07-07T17:22:58.493Z"
   },
   {
    "duration": 35,
    "start_time": "2021-07-07T17:22:59.666Z"
   },
   {
    "duration": 6,
    "start_time": "2021-07-07T17:23:02.410Z"
   },
   {
    "duration": 611,
    "start_time": "2021-07-07T17:24:59.664Z"
   },
   {
    "duration": 178,
    "start_time": "2021-07-07T17:25:01.945Z"
   },
   {
    "duration": 47,
    "start_time": "2021-07-07T17:25:02.125Z"
   },
   {
    "duration": 2,
    "start_time": "2021-07-07T17:25:07.903Z"
   },
   {
    "duration": 254,
    "start_time": "2021-07-07T17:25:08.232Z"
   },
   {
    "duration": 182,
    "start_time": "2021-07-07T17:25:08.671Z"
   },
   {
    "duration": 6,
    "start_time": "2021-07-07T17:25:13.104Z"
   },
   {
    "duration": 36,
    "start_time": "2021-07-07T17:25:13.662Z"
   },
   {
    "duration": 7,
    "start_time": "2021-07-07T17:25:14.528Z"
   },
   {
    "duration": 24,
    "start_time": "2021-07-07T17:25:27.982Z"
   },
   {
    "duration": 3,
    "start_time": "2021-07-07T17:25:48.982Z"
   },
   {
    "duration": 165,
    "start_time": "2021-07-07T17:25:48.987Z"
   },
   {
    "duration": 50,
    "start_time": "2021-07-07T17:25:49.154Z"
   },
   {
    "duration": 4,
    "start_time": "2021-07-07T17:25:49.206Z"
   },
   {
    "duration": 26,
    "start_time": "2021-07-07T17:25:49.212Z"
   },
   {
    "duration": 7,
    "start_time": "2021-07-07T17:25:49.240Z"
   },
   {
    "duration": 16,
    "start_time": "2021-07-07T17:25:49.249Z"
   },
   {
    "duration": 22,
    "start_time": "2021-07-07T17:25:49.266Z"
   },
   {
    "duration": 16,
    "start_time": "2021-07-07T17:25:49.291Z"
   },
   {
    "duration": 9,
    "start_time": "2021-07-07T17:25:49.309Z"
   },
   {
    "duration": 7,
    "start_time": "2021-07-07T17:25:49.319Z"
   },
   {
    "duration": 28,
    "start_time": "2021-07-07T17:25:49.328Z"
   },
   {
    "duration": 44,
    "start_time": "2021-07-07T17:25:49.357Z"
   },
   {
    "duration": 22,
    "start_time": "2021-07-07T17:25:49.403Z"
   },
   {
    "duration": 7,
    "start_time": "2021-07-07T17:25:49.427Z"
   },
   {
    "duration": 3,
    "start_time": "2021-07-07T17:25:49.436Z"
   },
   {
    "duration": 44,
    "start_time": "2021-07-07T17:25:49.441Z"
   },
   {
    "duration": 12,
    "start_time": "2021-07-07T17:25:49.488Z"
   },
   {
    "duration": 13,
    "start_time": "2021-07-07T17:25:49.502Z"
   },
   {
    "duration": 10,
    "start_time": "2021-07-07T17:25:49.516Z"
   },
   {
    "duration": 62,
    "start_time": "2021-07-07T17:25:49.527Z"
   },
   {
    "duration": 26,
    "start_time": "2021-07-07T17:26:51.809Z"
   },
   {
    "duration": 26,
    "start_time": "2021-07-07T17:26:55.759Z"
   },
   {
    "duration": 26,
    "start_time": "2021-07-07T17:27:04.501Z"
   },
   {
    "duration": 25,
    "start_time": "2021-07-07T17:28:24.859Z"
   },
   {
    "duration": 21,
    "start_time": "2021-07-07T17:28:55.250Z"
   },
   {
    "duration": 21,
    "start_time": "2021-07-07T17:28:58.885Z"
   },
   {
    "duration": 7,
    "start_time": "2021-07-07T17:45:40.972Z"
   },
   {
    "duration": 13,
    "start_time": "2021-07-07T17:45:42.529Z"
   },
   {
    "duration": 27,
    "start_time": "2021-07-07T17:45:51.026Z"
   },
   {
    "duration": 518,
    "start_time": "2021-07-07T17:46:15.532Z"
   },
   {
    "duration": 235,
    "start_time": "2021-07-07T17:46:16.053Z"
   },
   {
    "duration": 80,
    "start_time": "2021-07-07T17:46:16.292Z"
   },
   {
    "duration": 5,
    "start_time": "2021-07-07T17:46:16.373Z"
   },
   {
    "duration": 26,
    "start_time": "2021-07-07T17:46:16.380Z"
   },
   {
    "duration": 7,
    "start_time": "2021-07-07T17:46:16.408Z"
   },
   {
    "duration": 16,
    "start_time": "2021-07-07T17:46:16.418Z"
   },
   {
    "duration": 5,
    "start_time": "2021-07-07T17:46:16.436Z"
   },
   {
    "duration": 13,
    "start_time": "2021-07-07T17:46:16.442Z"
   },
   {
    "duration": 35,
    "start_time": "2021-07-07T17:46:16.456Z"
   },
   {
    "duration": 8,
    "start_time": "2021-07-07T17:46:16.493Z"
   },
   {
    "duration": 28,
    "start_time": "2021-07-07T17:46:16.502Z"
   },
   {
    "duration": 17,
    "start_time": "2021-07-07T17:46:16.532Z"
   },
   {
    "duration": 44,
    "start_time": "2021-07-07T17:46:16.551Z"
   },
   {
    "duration": 6,
    "start_time": "2021-07-07T17:46:16.597Z"
   },
   {
    "duration": 4,
    "start_time": "2021-07-07T17:46:16.605Z"
   },
   {
    "duration": 9,
    "start_time": "2021-07-07T17:46:16.610Z"
   },
   {
    "duration": 9,
    "start_time": "2021-07-07T17:46:16.621Z"
   },
   {
    "duration": 10,
    "start_time": "2021-07-07T17:46:16.632Z"
   },
   {
    "duration": 43,
    "start_time": "2021-07-07T17:46:16.644Z"
   },
   {
    "duration": 26,
    "start_time": "2021-07-07T17:46:16.689Z"
   },
   {
    "duration": 19,
    "start_time": "2021-07-07T17:46:16.718Z"
   },
   {
    "duration": 8,
    "start_time": "2021-07-07T17:46:16.738Z"
   },
   {
    "duration": 43,
    "start_time": "2021-07-07T17:46:16.747Z"
   },
   {
    "duration": 19,
    "start_time": "2021-07-07T17:46:16.791Z"
   },
   {
    "duration": 9,
    "start_time": "2021-07-07T17:46:16.812Z"
   },
   {
    "duration": 60,
    "start_time": "2021-07-07T17:46:16.822Z"
   },
   {
    "duration": -8,
    "start_time": "2021-07-07T17:46:16.892Z"
   },
   {
    "duration": 12,
    "start_time": "2021-07-07T17:48:47.707Z"
   },
   {
    "duration": 553,
    "start_time": "2021-07-07T18:10:09.350Z"
   },
   {
    "duration": 230,
    "start_time": "2021-07-07T18:10:09.905Z"
   },
   {
    "duration": 97,
    "start_time": "2021-07-07T18:10:10.137Z"
   },
   {
    "duration": 5,
    "start_time": "2021-07-07T18:10:10.236Z"
   },
   {
    "duration": 29,
    "start_time": "2021-07-07T18:10:10.242Z"
   },
   {
    "duration": 7,
    "start_time": "2021-07-07T18:10:10.272Z"
   },
   {
    "duration": 15,
    "start_time": "2021-07-07T18:10:10.281Z"
   },
   {
    "duration": 4,
    "start_time": "2021-07-07T18:10:10.299Z"
   },
   {
    "duration": 14,
    "start_time": "2021-07-07T18:10:10.305Z"
   },
   {
    "duration": 8,
    "start_time": "2021-07-07T18:10:10.321Z"
   },
   {
    "duration": 8,
    "start_time": "2021-07-07T18:10:10.331Z"
   },
   {
    "duration": 56,
    "start_time": "2021-07-07T18:10:10.341Z"
   },
   {
    "duration": 19,
    "start_time": "2021-07-07T18:10:10.399Z"
   },
   {
    "duration": 23,
    "start_time": "2021-07-07T18:10:10.419Z"
   },
   {
    "duration": 6,
    "start_time": "2021-07-07T18:10:10.444Z"
   },
   {
    "duration": 9,
    "start_time": "2021-07-07T18:10:10.451Z"
   },
   {
    "duration": 30,
    "start_time": "2021-07-07T18:10:10.462Z"
   },
   {
    "duration": 9,
    "start_time": "2021-07-07T18:10:10.494Z"
   },
   {
    "duration": 14,
    "start_time": "2021-07-07T18:10:10.505Z"
   },
   {
    "duration": 7,
    "start_time": "2021-07-07T18:10:10.521Z"
   },
   {
    "duration": 26,
    "start_time": "2021-07-07T18:10:10.530Z"
   },
   {
    "duration": 44,
    "start_time": "2021-07-07T18:10:10.558Z"
   },
   {
    "duration": 7,
    "start_time": "2021-07-07T18:10:10.605Z"
   },
   {
    "duration": 11,
    "start_time": "2021-07-07T18:10:10.614Z"
   },
   {
    "duration": 19,
    "start_time": "2021-07-07T18:10:10.626Z"
   },
   {
    "duration": 44,
    "start_time": "2021-07-07T18:10:10.646Z"
   },
   {
    "duration": 516,
    "start_time": "2021-07-07T18:14:00.826Z"
   },
   {
    "duration": 230,
    "start_time": "2021-07-07T18:14:01.344Z"
   },
   {
    "duration": 105,
    "start_time": "2021-07-07T18:14:01.576Z"
   },
   {
    "duration": 5,
    "start_time": "2021-07-07T18:14:01.683Z"
   },
   {
    "duration": 46,
    "start_time": "2021-07-07T18:14:01.690Z"
   },
   {
    "duration": 7,
    "start_time": "2021-07-07T18:14:01.738Z"
   },
   {
    "duration": 20,
    "start_time": "2021-07-07T18:14:01.747Z"
   },
   {
    "duration": 16,
    "start_time": "2021-07-07T18:14:01.769Z"
   },
   {
    "duration": 14,
    "start_time": "2021-07-07T18:14:01.787Z"
   },
   {
    "duration": 15,
    "start_time": "2021-07-07T18:14:01.803Z"
   },
   {
    "duration": 12,
    "start_time": "2021-07-07T18:14:01.820Z"
   },
   {
    "duration": 35,
    "start_time": "2021-07-07T18:14:01.833Z"
   },
   {
    "duration": 31,
    "start_time": "2021-07-07T18:14:01.869Z"
   },
   {
    "duration": 37,
    "start_time": "2021-07-07T18:14:01.902Z"
   },
   {
    "duration": 8,
    "start_time": "2021-07-07T18:14:01.942Z"
   },
   {
    "duration": 16,
    "start_time": "2021-07-07T18:14:01.952Z"
   },
   {
    "duration": 13,
    "start_time": "2021-07-07T18:14:01.970Z"
   },
   {
    "duration": 32,
    "start_time": "2021-07-07T18:14:01.985Z"
   },
   {
    "duration": 11,
    "start_time": "2021-07-07T18:14:02.019Z"
   },
   {
    "duration": 22,
    "start_time": "2021-07-07T18:14:02.031Z"
   },
   {
    "duration": 27,
    "start_time": "2021-07-07T18:14:02.055Z"
   },
   {
    "duration": 18,
    "start_time": "2021-07-07T18:14:02.084Z"
   },
   {
    "duration": 18,
    "start_time": "2021-07-07T18:14:02.106Z"
   },
   {
    "duration": 11,
    "start_time": "2021-07-07T18:14:02.126Z"
   },
   {
    "duration": 21,
    "start_time": "2021-07-07T18:14:02.138Z"
   },
   {
    "duration": 32,
    "start_time": "2021-07-07T18:14:02.161Z"
   },
   {
    "duration": 28,
    "start_time": "2021-07-07T18:14:44.295Z"
   },
   {
    "duration": 6,
    "start_time": "2021-07-07T18:15:05.834Z"
   },
   {
    "duration": 511,
    "start_time": "2021-07-07T18:15:41.541Z"
   },
   {
    "duration": 183,
    "start_time": "2021-07-07T18:15:42.054Z"
   },
   {
    "duration": 50,
    "start_time": "2021-07-07T18:15:42.239Z"
   },
   {
    "duration": 5,
    "start_time": "2021-07-07T18:15:42.291Z"
   },
   {
    "duration": 48,
    "start_time": "2021-07-07T18:15:42.297Z"
   },
   {
    "duration": 8,
    "start_time": "2021-07-07T18:15:42.346Z"
   },
   {
    "duration": 17,
    "start_time": "2021-07-07T18:15:42.356Z"
   },
   {
    "duration": 15,
    "start_time": "2021-07-07T18:15:42.375Z"
   },
   {
    "duration": 12,
    "start_time": "2021-07-07T18:15:42.392Z"
   },
   {
    "duration": 7,
    "start_time": "2021-07-07T18:15:42.406Z"
   },
   {
    "duration": 7,
    "start_time": "2021-07-07T18:15:42.415Z"
   },
   {
    "duration": 29,
    "start_time": "2021-07-07T18:15:42.423Z"
   },
   {
    "duration": 43,
    "start_time": "2021-07-07T18:15:42.453Z"
   },
   {
    "duration": 18,
    "start_time": "2021-07-07T18:15:42.497Z"
   },
   {
    "duration": 6,
    "start_time": "2021-07-07T18:15:42.516Z"
   },
   {
    "duration": 3,
    "start_time": "2021-07-07T18:15:42.523Z"
   },
   {
    "duration": 18,
    "start_time": "2021-07-07T18:15:42.528Z"
   },
   {
    "duration": 10,
    "start_time": "2021-07-07T18:15:42.547Z"
   },
   {
    "duration": 36,
    "start_time": "2021-07-07T18:15:42.559Z"
   },
   {
    "duration": 8,
    "start_time": "2021-07-07T18:15:42.597Z"
   },
   {
    "duration": 28,
    "start_time": "2021-07-07T18:15:42.606Z"
   },
   {
    "duration": 52,
    "start_time": "2021-07-07T18:15:42.635Z"
   },
   {
    "duration": 7,
    "start_time": "2021-07-07T18:15:42.690Z"
   },
   {
    "duration": 10,
    "start_time": "2021-07-07T18:15:42.699Z"
   },
   {
    "duration": 19,
    "start_time": "2021-07-07T18:15:42.711Z"
   },
   {
    "duration": 9,
    "start_time": "2021-07-07T18:15:42.732Z"
   },
   {
    "duration": 5,
    "start_time": "2021-07-07T18:15:42.743Z"
   },
   {
    "duration": 1450,
    "start_time": "2021-07-07T18:15:51.984Z"
   },
   {
    "duration": 161,
    "start_time": "2021-07-07T18:15:53.435Z"
   },
   {
    "duration": 124,
    "start_time": "2021-07-07T18:15:53.598Z"
   },
   {
    "duration": 5,
    "start_time": "2021-07-07T18:15:53.724Z"
   },
   {
    "duration": 34,
    "start_time": "2021-07-07T18:15:53.730Z"
   },
   {
    "duration": 7,
    "start_time": "2021-07-07T18:15:53.765Z"
   },
   {
    "duration": 15,
    "start_time": "2021-07-07T18:15:53.773Z"
   },
   {
    "duration": 5,
    "start_time": "2021-07-07T18:15:53.791Z"
   },
   {
    "duration": 19,
    "start_time": "2021-07-07T18:15:53.798Z"
   },
   {
    "duration": 9,
    "start_time": "2021-07-07T18:15:53.818Z"
   },
   {
    "duration": 19,
    "start_time": "2021-07-07T18:15:53.828Z"
   },
   {
    "duration": 27,
    "start_time": "2021-07-07T18:15:53.848Z"
   },
   {
    "duration": 16,
    "start_time": "2021-07-07T18:15:53.884Z"
   },
   {
    "duration": 29,
    "start_time": "2021-07-07T18:15:53.901Z"
   },
   {
    "duration": 5,
    "start_time": "2021-07-07T18:15:53.932Z"
   },
   {
    "duration": 15,
    "start_time": "2021-07-07T18:15:53.939Z"
   },
   {
    "duration": 13,
    "start_time": "2021-07-07T18:15:53.956Z"
   },
   {
    "duration": 20,
    "start_time": "2021-07-07T18:15:53.971Z"
   },
   {
    "duration": 14,
    "start_time": "2021-07-07T18:15:53.992Z"
   },
   {
    "duration": 9,
    "start_time": "2021-07-07T18:15:54.009Z"
   },
   {
    "duration": 28,
    "start_time": "2021-07-07T18:15:54.020Z"
   },
   {
    "duration": 50,
    "start_time": "2021-07-07T18:15:54.051Z"
   },
   {
    "duration": 8,
    "start_time": "2021-07-07T18:15:54.105Z"
   },
   {
    "duration": 11,
    "start_time": "2021-07-07T18:15:54.115Z"
   },
   {
    "duration": 20,
    "start_time": "2021-07-07T18:15:54.128Z"
   },
   {
    "duration": 13,
    "start_time": "2021-07-07T18:15:54.184Z"
   },
   {
    "duration": 7,
    "start_time": "2021-07-07T18:15:54.199Z"
   },
   {
    "duration": 7,
    "start_time": "2021-07-07T18:17:08.042Z"
   },
   {
    "duration": 8,
    "start_time": "2021-07-07T18:17:21.008Z"
   },
   {
    "duration": 7,
    "start_time": "2021-07-07T18:17:29.003Z"
   },
   {
    "duration": 8,
    "start_time": "2021-07-07T18:17:32.492Z"
   },
   {
    "duration": 9,
    "start_time": "2021-07-07T18:17:41.758Z"
   },
   {
    "duration": 255,
    "start_time": "2021-07-07T18:20:20.897Z"
   },
   {
    "duration": 173,
    "start_time": "2021-07-07T18:20:26.636Z"
   },
   {
    "duration": 7,
    "start_time": "2021-07-07T18:21:47.164Z"
   },
   {
    "duration": 254,
    "start_time": "2021-07-07T18:23:08.703Z"
   },
   {
    "duration": 21,
    "start_time": "2021-07-07T18:23:22.506Z"
   },
   {
    "duration": 315,
    "start_time": "2021-07-07T18:25:54.801Z"
   },
   {
    "duration": 34,
    "start_time": "2021-07-07T18:26:51.817Z"
   },
   {
    "duration": 327,
    "start_time": "2021-07-07T18:26:56.147Z"
   },
   {
    "duration": 342,
    "start_time": "2021-07-07T18:27:15.887Z"
   },
   {
    "duration": 302,
    "start_time": "2021-07-07T18:28:18.569Z"
   },
   {
    "duration": 226,
    "start_time": "2021-07-07T18:29:20.879Z"
   },
   {
    "duration": 207,
    "start_time": "2021-07-07T18:29:58.114Z"
   },
   {
    "duration": 140,
    "start_time": "2021-07-07T18:32:04.372Z"
   },
   {
    "duration": 158,
    "start_time": "2021-07-07T18:32:32.508Z"
   },
   {
    "duration": 145,
    "start_time": "2021-07-07T18:32:41.365Z"
   },
   {
    "duration": 132,
    "start_time": "2021-07-07T18:32:45.199Z"
   },
   {
    "duration": 11,
    "start_time": "2021-07-07T18:35:24.679Z"
   },
   {
    "duration": 268,
    "start_time": "2021-07-07T18:36:16.145Z"
   },
   {
    "duration": 227,
    "start_time": "2021-07-07T18:37:04.918Z"
   },
   {
    "duration": 3,
    "start_time": "2021-07-07T18:37:33.012Z"
   },
   {
    "duration": 671,
    "start_time": "2021-07-07T18:37:38.295Z"
   },
   {
    "duration": 54,
    "start_time": "2021-07-07T18:37:53.406Z"
   },
   {
    "duration": 631,
    "start_time": "2021-07-07T18:37:56.463Z"
   },
   {
    "duration": 19,
    "start_time": "2021-07-07T18:39:40.535Z"
   },
   {
    "duration": 20,
    "start_time": "2021-07-07T18:40:12.236Z"
   },
   {
    "duration": 633,
    "start_time": "2021-07-07T18:42:00.398Z"
   },
   {
    "duration": 218,
    "start_time": "2021-07-07T18:42:01.033Z"
   },
   {
    "duration": 49,
    "start_time": "2021-07-07T18:42:01.253Z"
   },
   {
    "duration": 5,
    "start_time": "2021-07-07T18:42:01.303Z"
   },
   {
    "duration": 27,
    "start_time": "2021-07-07T18:42:01.310Z"
   },
   {
    "duration": 8,
    "start_time": "2021-07-07T18:42:01.339Z"
   },
   {
    "duration": 20,
    "start_time": "2021-07-07T18:42:01.348Z"
   },
   {
    "duration": 6,
    "start_time": "2021-07-07T18:42:01.386Z"
   },
   {
    "duration": 16,
    "start_time": "2021-07-07T18:42:01.394Z"
   },
   {
    "duration": 9,
    "start_time": "2021-07-07T18:42:01.411Z"
   },
   {
    "duration": 11,
    "start_time": "2021-07-07T18:42:01.421Z"
   },
   {
    "duration": 31,
    "start_time": "2021-07-07T18:42:01.434Z"
   },
   {
    "duration": 18,
    "start_time": "2021-07-07T18:42:01.485Z"
   },
   {
    "duration": 23,
    "start_time": "2021-07-07T18:42:01.505Z"
   },
   {
    "duration": 6,
    "start_time": "2021-07-07T18:42:01.530Z"
   },
   {
    "duration": 10,
    "start_time": "2021-07-07T18:42:01.538Z"
   },
   {
    "duration": 13,
    "start_time": "2021-07-07T18:42:01.550Z"
   },
   {
    "duration": 24,
    "start_time": "2021-07-07T18:42:01.564Z"
   },
   {
    "duration": 20,
    "start_time": "2021-07-07T18:42:01.590Z"
   },
   {
    "duration": 8,
    "start_time": "2021-07-07T18:42:01.611Z"
   },
   {
    "duration": 31,
    "start_time": "2021-07-07T18:42:01.620Z"
   },
   {
    "duration": 39,
    "start_time": "2021-07-07T18:42:01.653Z"
   },
   {
    "duration": 8,
    "start_time": "2021-07-07T18:42:01.696Z"
   },
   {
    "duration": 13,
    "start_time": "2021-07-07T18:42:01.705Z"
   },
   {
    "duration": 20,
    "start_time": "2021-07-07T18:42:01.720Z"
   },
   {
    "duration": 12,
    "start_time": "2021-07-07T18:42:01.741Z"
   },
   {
    "duration": 35,
    "start_time": "2021-07-07T18:42:01.755Z"
   },
   {
    "duration": 14,
    "start_time": "2021-07-07T18:42:01.792Z"
   },
   {
    "duration": 188,
    "start_time": "2021-07-07T18:42:01.808Z"
   },
   {
    "duration": 19,
    "start_time": "2021-07-07T18:42:01.998Z"
   },
   {
    "duration": 175,
    "start_time": "2021-07-07T18:42:02.019Z"
   },
   {
    "duration": 134,
    "start_time": "2021-07-07T18:42:02.196Z"
   },
   {
    "duration": 10,
    "start_time": "2021-07-07T18:42:02.331Z"
   },
   {
    "duration": 19,
    "start_time": "2021-07-07T18:42:02.343Z"
   },
   {
    "duration": 628,
    "start_time": "2021-07-07T18:46:30.701Z"
   },
   {
    "duration": 183,
    "start_time": "2021-07-07T18:46:31.331Z"
   },
   {
    "duration": 48,
    "start_time": "2021-07-07T18:46:31.516Z"
   },
   {
    "duration": 5,
    "start_time": "2021-07-07T18:46:31.566Z"
   },
   {
    "duration": 28,
    "start_time": "2021-07-07T18:46:31.572Z"
   },
   {
    "duration": 8,
    "start_time": "2021-07-07T18:46:31.602Z"
   },
   {
    "duration": 19,
    "start_time": "2021-07-07T18:46:31.611Z"
   },
   {
    "duration": 6,
    "start_time": "2021-07-07T18:46:31.633Z"
   },
   {
    "duration": 17,
    "start_time": "2021-07-07T18:46:31.642Z"
   },
   {
    "duration": 10,
    "start_time": "2021-07-07T18:46:31.684Z"
   },
   {
    "duration": 9,
    "start_time": "2021-07-07T18:46:31.695Z"
   },
   {
    "duration": 28,
    "start_time": "2021-07-07T18:46:31.705Z"
   },
   {
    "duration": 18,
    "start_time": "2021-07-07T18:46:31.735Z"
   },
   {
    "duration": 48,
    "start_time": "2021-07-07T18:46:31.755Z"
   },
   {
    "duration": 6,
    "start_time": "2021-07-07T18:46:31.804Z"
   },
   {
    "duration": 4,
    "start_time": "2021-07-07T18:46:31.812Z"
   },
   {
    "duration": 9,
    "start_time": "2021-07-07T18:46:31.817Z"
   },
   {
    "duration": 10,
    "start_time": "2021-07-07T18:46:31.827Z"
   },
   {
    "duration": 12,
    "start_time": "2021-07-07T18:46:31.838Z"
   },
   {
    "duration": 39,
    "start_time": "2021-07-07T18:46:31.851Z"
   },
   {
    "duration": 24,
    "start_time": "2021-07-07T18:46:31.892Z"
   },
   {
    "duration": 15,
    "start_time": "2021-07-07T18:46:31.918Z"
   },
   {
    "duration": 7,
    "start_time": "2021-07-07T18:46:31.936Z"
   },
   {
    "duration": 8,
    "start_time": "2021-07-07T18:46:31.944Z"
   },
   {
    "duration": 19,
    "start_time": "2021-07-07T18:46:31.984Z"
   },
   {
    "duration": 10,
    "start_time": "2021-07-07T18:46:32.004Z"
   },
   {
    "duration": 5,
    "start_time": "2021-07-07T18:46:32.016Z"
   },
   {
    "duration": 9,
    "start_time": "2021-07-07T18:46:32.023Z"
   },
   {
    "duration": 199,
    "start_time": "2021-07-07T18:46:32.033Z"
   },
   {
    "duration": 19,
    "start_time": "2021-07-07T18:46:32.234Z"
   },
   {
    "duration": 159,
    "start_time": "2021-07-07T18:46:32.255Z"
   },
   {
    "duration": 134,
    "start_time": "2021-07-07T18:46:32.416Z"
   },
   {
    "duration": 10,
    "start_time": "2021-07-07T18:46:32.552Z"
   },
   {
    "duration": 34,
    "start_time": "2021-07-07T18:46:32.563Z"
   },
   {
    "duration": 1039,
    "start_time": "2021-07-08T08:41:09.419Z"
   },
   {
    "duration": 333,
    "start_time": "2021-07-08T08:41:10.459Z"
   },
   {
    "duration": 173,
    "start_time": "2021-07-08T08:41:10.794Z"
   },
   {
    "duration": 5,
    "start_time": "2021-07-08T08:41:10.968Z"
   },
   {
    "duration": 25,
    "start_time": "2021-07-08T08:41:10.975Z"
   },
   {
    "duration": 9,
    "start_time": "2021-07-08T08:41:11.002Z"
   },
   {
    "duration": 18,
    "start_time": "2021-07-08T08:41:11.013Z"
   },
   {
    "duration": 6,
    "start_time": "2021-07-08T08:41:11.033Z"
   },
   {
    "duration": 44,
    "start_time": "2021-07-08T08:41:11.042Z"
   },
   {
    "duration": 10,
    "start_time": "2021-07-08T08:41:11.088Z"
   },
   {
    "duration": 9,
    "start_time": "2021-07-08T08:41:11.100Z"
   },
   {
    "duration": 27,
    "start_time": "2021-07-08T08:41:11.111Z"
   },
   {
    "duration": 46,
    "start_time": "2021-07-08T08:41:11.140Z"
   },
   {
    "duration": 17,
    "start_time": "2021-07-08T08:41:11.187Z"
   },
   {
    "duration": 6,
    "start_time": "2021-07-08T08:41:11.206Z"
   },
   {
    "duration": 5,
    "start_time": "2021-07-08T08:41:11.213Z"
   },
   {
    "duration": 10,
    "start_time": "2021-07-08T08:41:11.219Z"
   },
   {
    "duration": 9,
    "start_time": "2021-07-08T08:41:11.230Z"
   },
   {
    "duration": 45,
    "start_time": "2021-07-08T08:41:11.241Z"
   },
   {
    "duration": 7,
    "start_time": "2021-07-08T08:41:11.287Z"
   },
   {
    "duration": 24,
    "start_time": "2021-07-08T08:41:11.296Z"
   },
   {
    "duration": 16,
    "start_time": "2021-07-08T08:41:11.322Z"
   },
   {
    "duration": 7,
    "start_time": "2021-07-08T08:41:11.341Z"
   },
   {
    "duration": 41,
    "start_time": "2021-07-08T08:41:11.349Z"
   },
   {
    "duration": 17,
    "start_time": "2021-07-08T08:41:11.391Z"
   },
   {
    "duration": 9,
    "start_time": "2021-07-08T08:41:11.410Z"
   },
   {
    "duration": 5,
    "start_time": "2021-07-08T08:41:11.421Z"
   },
   {
    "duration": 6,
    "start_time": "2021-07-08T08:41:11.428Z"
   },
   {
    "duration": 198,
    "start_time": "2021-07-08T08:41:11.435Z"
   },
   {
    "duration": 18,
    "start_time": "2021-07-08T08:41:11.635Z"
   },
   {
    "duration": 155,
    "start_time": "2021-07-08T08:41:11.655Z"
   },
   {
    "duration": 138,
    "start_time": "2021-07-08T08:41:11.811Z"
   },
   {
    "duration": 10,
    "start_time": "2021-07-08T08:41:11.950Z"
   },
   {
    "duration": 29,
    "start_time": "2021-07-08T08:41:11.961Z"
   },
   {
    "duration": 171,
    "start_time": "2021-07-08T08:47:44.522Z"
   },
   {
    "duration": 124,
    "start_time": "2021-07-08T08:47:46.872Z"
   },
   {
    "duration": 191,
    "start_time": "2021-07-08T08:47:58.148Z"
   },
   {
    "duration": 191,
    "start_time": "2021-07-08T08:48:07.412Z"
   },
   {
    "duration": 261,
    "start_time": "2021-07-08T08:48:10.385Z"
   },
   {
    "duration": 255,
    "start_time": "2021-07-08T08:48:14.494Z"
   },
   {
    "duration": 219,
    "start_time": "2021-07-08T08:48:22.752Z"
   },
   {
    "duration": 173,
    "start_time": "2021-07-08T08:49:06.395Z"
   },
   {
    "duration": 180,
    "start_time": "2021-07-08T08:49:21.011Z"
   },
   {
    "duration": 6,
    "start_time": "2021-07-08T08:50:31.697Z"
   },
   {
    "duration": 10,
    "start_time": "2021-07-08T08:50:47.394Z"
   },
   {
    "duration": 11,
    "start_time": "2021-07-08T08:53:49.332Z"
   },
   {
    "duration": 171,
    "start_time": "2021-07-08T08:54:28.408Z"
   },
   {
    "duration": 636,
    "start_time": "2021-07-08T09:02:48.385Z"
   },
   {
    "duration": 227,
    "start_time": "2021-07-08T09:02:49.023Z"
   },
   {
    "duration": 104,
    "start_time": "2021-07-08T09:02:49.252Z"
   },
   {
    "duration": 5,
    "start_time": "2021-07-08T09:02:49.358Z"
   },
   {
    "duration": 27,
    "start_time": "2021-07-08T09:02:49.365Z"
   },
   {
    "duration": 8,
    "start_time": "2021-07-08T09:02:49.394Z"
   },
   {
    "duration": 18,
    "start_time": "2021-07-08T09:02:49.404Z"
   },
   {
    "duration": 6,
    "start_time": "2021-07-08T09:02:49.424Z"
   },
   {
    "duration": 11,
    "start_time": "2021-07-08T09:02:49.433Z"
   },
   {
    "duration": 13,
    "start_time": "2021-07-08T09:02:49.485Z"
   },
   {
    "duration": 9,
    "start_time": "2021-07-08T09:02:49.500Z"
   },
   {
    "duration": 38,
    "start_time": "2021-07-08T09:02:49.511Z"
   },
   {
    "duration": 42,
    "start_time": "2021-07-08T09:02:49.551Z"
   },
   {
    "duration": 21,
    "start_time": "2021-07-08T09:02:49.594Z"
   },
   {
    "duration": 6,
    "start_time": "2021-07-08T09:02:49.616Z"
   },
   {
    "duration": 3,
    "start_time": "2021-07-08T09:02:49.623Z"
   },
   {
    "duration": 9,
    "start_time": "2021-07-08T09:02:49.628Z"
   },
   {
    "duration": 52,
    "start_time": "2021-07-08T09:02:49.638Z"
   },
   {
    "duration": 11,
    "start_time": "2021-07-08T09:02:49.692Z"
   },
   {
    "duration": 8,
    "start_time": "2021-07-08T09:02:49.704Z"
   },
   {
    "duration": 27,
    "start_time": "2021-07-08T09:02:49.713Z"
   },
   {
    "duration": 59,
    "start_time": "2021-07-08T09:02:49.741Z"
   },
   {
    "duration": 8,
    "start_time": "2021-07-08T09:02:49.803Z"
   },
   {
    "duration": 14,
    "start_time": "2021-07-08T09:02:49.813Z"
   },
   {
    "duration": 20,
    "start_time": "2021-07-08T09:02:49.829Z"
   },
   {
    "duration": 44,
    "start_time": "2021-07-08T09:02:49.851Z"
   },
   {
    "duration": 14,
    "start_time": "2021-07-08T09:02:49.896Z"
   },
   {
    "duration": 221,
    "start_time": "2021-07-08T09:02:49.912Z"
   },
   {
    "duration": 6,
    "start_time": "2021-07-08T09:02:50.134Z"
   },
   {
    "duration": 206,
    "start_time": "2021-07-08T09:02:50.142Z"
   },
   {
    "duration": 19,
    "start_time": "2021-07-08T09:02:50.350Z"
   },
   {
    "duration": 21,
    "start_time": "2021-07-08T09:02:50.370Z"
   },
   {
    "duration": 20,
    "start_time": "2021-07-08T09:02:50.393Z"
   },
   {
    "duration": 5,
    "start_time": "2021-07-08T09:02:50.414Z"
   },
   {
    "duration": 5,
    "start_time": "2021-07-08T09:03:34.173Z"
   },
   {
    "duration": 6,
    "start_time": "2021-07-08T09:04:49.062Z"
   },
   {
    "duration": 9,
    "start_time": "2021-07-08T09:04:50.118Z"
   },
   {
    "duration": 14,
    "start_time": "2021-07-08T09:04:58.512Z"
   },
   {
    "duration": 9,
    "start_time": "2021-07-08T09:05:10.988Z"
   },
   {
    "duration": 11,
    "start_time": "2021-07-08T09:05:11.743Z"
   },
   {
    "duration": 7,
    "start_time": "2021-07-08T09:05:25.677Z"
   },
   {
    "duration": 13,
    "start_time": "2021-07-08T09:05:47.189Z"
   },
   {
    "duration": 13,
    "start_time": "2021-07-08T09:05:54.755Z"
   },
   {
    "duration": 4,
    "start_time": "2021-07-08T09:06:29.189Z"
   },
   {
    "duration": 244,
    "start_time": "2021-07-08T09:06:29.195Z"
   },
   {
    "duration": 91,
    "start_time": "2021-07-08T09:06:29.441Z"
   },
   {
    "duration": 4,
    "start_time": "2021-07-08T09:06:29.534Z"
   },
   {
    "duration": 28,
    "start_time": "2021-07-08T09:06:29.540Z"
   },
   {
    "duration": 6,
    "start_time": "2021-07-08T09:06:29.570Z"
   },
   {
    "duration": 18,
    "start_time": "2021-07-08T09:06:29.578Z"
   },
   {
    "duration": 5,
    "start_time": "2021-07-08T09:06:29.597Z"
   },
   {
    "duration": 13,
    "start_time": "2021-07-08T09:06:29.605Z"
   },
   {
    "duration": 8,
    "start_time": "2021-07-08T09:06:29.620Z"
   },
   {
    "duration": 7,
    "start_time": "2021-07-08T09:06:29.630Z"
   },
   {
    "duration": 63,
    "start_time": "2021-07-08T09:06:29.639Z"
   },
   {
    "duration": 17,
    "start_time": "2021-07-08T09:06:29.704Z"
   },
   {
    "duration": 20,
    "start_time": "2021-07-08T09:06:29.723Z"
   },
   {
    "duration": 6,
    "start_time": "2021-07-08T09:06:29.745Z"
   },
   {
    "duration": 3,
    "start_time": "2021-07-08T09:06:29.752Z"
   },
   {
    "duration": 7,
    "start_time": "2021-07-08T09:06:29.785Z"
   },
   {
    "duration": 11,
    "start_time": "2021-07-08T09:06:29.794Z"
   },
   {
    "duration": 15,
    "start_time": "2021-07-08T09:06:29.807Z"
   },
   {
    "duration": 8,
    "start_time": "2021-07-08T09:06:29.823Z"
   },
   {
    "duration": 70,
    "start_time": "2021-07-08T09:06:29.832Z"
   },
   {
    "duration": 17,
    "start_time": "2021-07-08T09:06:29.903Z"
   },
   {
    "duration": 9,
    "start_time": "2021-07-08T09:06:29.921Z"
   },
   {
    "duration": 9,
    "start_time": "2021-07-08T09:06:29.932Z"
   },
   {
    "duration": 57,
    "start_time": "2021-07-08T09:06:29.942Z"
   },
   {
    "duration": 11,
    "start_time": "2021-07-08T09:06:30.001Z"
   },
   {
    "duration": 19,
    "start_time": "2021-07-08T09:06:30.016Z"
   },
   {
    "duration": 217,
    "start_time": "2021-07-08T09:06:30.037Z"
   },
   {
    "duration": 6,
    "start_time": "2021-07-08T09:06:30.255Z"
   },
   {
    "duration": 205,
    "start_time": "2021-07-08T09:06:30.263Z"
   },
   {
    "duration": 27,
    "start_time": "2021-07-08T09:06:30.470Z"
   },
   {
    "duration": 11,
    "start_time": "2021-07-08T09:06:30.500Z"
   },
   {
    "duration": 31,
    "start_time": "2021-07-08T09:06:30.513Z"
   },
   {
    "duration": 18,
    "start_time": "2021-07-08T09:06:30.546Z"
   },
   {
    "duration": 11,
    "start_time": "2021-07-08T09:06:30.566Z"
   },
   {
    "duration": 19,
    "start_time": "2021-07-08T09:06:30.579Z"
   },
   {
    "duration": 20,
    "start_time": "2021-07-08T09:06:49.466Z"
   },
   {
    "duration": 9,
    "start_time": "2021-07-08T09:06:51.994Z"
   },
   {
    "duration": 20,
    "start_time": "2021-07-08T09:06:52.273Z"
   },
   {
    "duration": 246,
    "start_time": "2021-07-08T09:10:21.272Z"
   },
   {
    "duration": 84,
    "start_time": "2021-07-08T09:10:21.436Z"
   },
   {
    "duration": 7,
    "start_time": "2021-07-08T09:10:37.608Z"
   },
   {
    "duration": 189,
    "start_time": "2021-07-08T09:10:38.573Z"
   },
   {
    "duration": 185,
    "start_time": "2021-07-08T09:10:53.181Z"
   },
   {
    "duration": 11,
    "start_time": "2021-07-08T09:10:59.549Z"
   },
   {
    "duration": 42,
    "start_time": "2021-07-08T09:10:59.709Z"
   },
   {
    "duration": 12,
    "start_time": "2021-07-08T09:11:02.857Z"
   },
   {
    "duration": 28,
    "start_time": "2021-07-08T09:11:10.062Z"
   },
   {
    "duration": 249,
    "start_time": "2021-07-08T09:11:37.388Z"
   },
   {
    "duration": 232,
    "start_time": "2021-07-08T09:11:49.485Z"
   },
   {
    "duration": 453,
    "start_time": "2021-07-08T09:12:01.546Z"
   },
   {
    "duration": 440,
    "start_time": "2021-07-08T09:12:12.347Z"
   },
   {
    "duration": 213,
    "start_time": "2021-07-08T09:13:32.196Z"
   },
   {
    "duration": 172,
    "start_time": "2021-07-08T09:14:07.400Z"
   },
   {
    "duration": 185,
    "start_time": "2021-07-08T09:14:14.905Z"
   },
   {
    "duration": 209,
    "start_time": "2021-07-08T09:14:40.109Z"
   },
   {
    "duration": 201,
    "start_time": "2021-07-08T09:14:54.506Z"
   },
   {
    "duration": 622,
    "start_time": "2021-07-08T09:18:14.497Z"
   },
   {
    "duration": 220,
    "start_time": "2021-07-08T09:18:15.121Z"
   },
   {
    "duration": 79,
    "start_time": "2021-07-08T09:18:15.343Z"
   },
   {
    "duration": 4,
    "start_time": "2021-07-08T09:18:15.425Z"
   },
   {
    "duration": 24,
    "start_time": "2021-07-08T09:18:15.431Z"
   },
   {
    "duration": 8,
    "start_time": "2021-07-08T09:18:15.457Z"
   },
   {
    "duration": 16,
    "start_time": "2021-07-08T09:18:15.466Z"
   },
   {
    "duration": 5,
    "start_time": "2021-07-08T09:18:15.484Z"
   },
   {
    "duration": 10,
    "start_time": "2021-07-08T09:18:15.493Z"
   },
   {
    "duration": 8,
    "start_time": "2021-07-08T09:18:15.504Z"
   },
   {
    "duration": 7,
    "start_time": "2021-07-08T09:18:15.513Z"
   },
   {
    "duration": 26,
    "start_time": "2021-07-08T09:18:15.522Z"
   },
   {
    "duration": 49,
    "start_time": "2021-07-08T09:18:15.550Z"
   },
   {
    "duration": 21,
    "start_time": "2021-07-08T09:18:15.601Z"
   },
   {
    "duration": 8,
    "start_time": "2021-07-08T09:18:15.624Z"
   },
   {
    "duration": 3,
    "start_time": "2021-07-08T09:18:15.634Z"
   },
   {
    "duration": 8,
    "start_time": "2021-07-08T09:18:15.639Z"
   },
   {
    "duration": 45,
    "start_time": "2021-07-08T09:18:15.649Z"
   },
   {
    "duration": 13,
    "start_time": "2021-07-08T09:18:15.696Z"
   },
   {
    "duration": 10,
    "start_time": "2021-07-08T09:18:15.711Z"
   },
   {
    "duration": 64,
    "start_time": "2021-07-08T09:18:15.722Z"
   },
   {
    "duration": 19,
    "start_time": "2021-07-08T09:18:15.788Z"
   },
   {
    "duration": 9,
    "start_time": "2021-07-08T09:18:15.809Z"
   },
   {
    "duration": 9,
    "start_time": "2021-07-08T09:18:15.820Z"
   },
   {
    "duration": 18,
    "start_time": "2021-07-08T09:18:15.831Z"
   },
   {
    "duration": 43,
    "start_time": "2021-07-08T09:18:15.851Z"
   },
   {
    "duration": 12,
    "start_time": "2021-07-08T09:18:15.897Z"
   },
   {
    "duration": 219,
    "start_time": "2021-07-08T09:18:15.911Z"
   },
   {
    "duration": 8,
    "start_time": "2021-07-08T09:18:16.132Z"
   },
   {
    "duration": 199,
    "start_time": "2021-07-08T09:18:16.141Z"
   },
   {
    "duration": 18,
    "start_time": "2021-07-08T09:18:16.341Z"
   },
   {
    "duration": 24,
    "start_time": "2021-07-08T09:18:16.361Z"
   },
   {
    "duration": 24,
    "start_time": "2021-07-08T09:18:16.387Z"
   },
   {
    "duration": 211,
    "start_time": "2021-07-08T09:18:16.413Z"
   },
   {
    "duration": 18,
    "start_time": "2021-07-08T09:18:16.626Z"
   },
   {
    "duration": 596,
    "start_time": "2021-07-08T10:06:33.623Z"
   },
   {
    "duration": 181,
    "start_time": "2021-07-08T10:06:34.221Z"
   },
   {
    "duration": 176,
    "start_time": "2021-07-08T10:06:34.635Z"
   },
   {
    "duration": 239,
    "start_time": "2021-07-08T10:06:55.572Z"
   },
   {
    "duration": 6,
    "start_time": "2021-07-08T10:06:57.687Z"
   },
   {
    "duration": 4,
    "start_time": "2021-07-08T10:07:03.956Z"
   },
   {
    "duration": 4,
    "start_time": "2021-07-08T10:07:10.376Z"
   },
   {
    "duration": 4,
    "start_time": "2021-07-08T10:17:19.889Z"
   },
   {
    "duration": 3,
    "start_time": "2021-07-08T10:19:19.407Z"
   },
   {
    "duration": 197,
    "start_time": "2021-07-08T10:19:19.412Z"
   },
   {
    "duration": 127,
    "start_time": "2021-07-08T10:19:19.611Z"
   },
   {
    "duration": 4,
    "start_time": "2021-07-08T10:19:19.740Z"
   },
   {
    "duration": 27,
    "start_time": "2021-07-08T10:19:19.746Z"
   },
   {
    "duration": 7,
    "start_time": "2021-07-08T10:19:19.775Z"
   },
   {
    "duration": 30,
    "start_time": "2021-07-08T10:19:19.784Z"
   },
   {
    "duration": 7,
    "start_time": "2021-07-08T10:19:19.817Z"
   },
   {
    "duration": 26,
    "start_time": "2021-07-08T10:19:19.826Z"
   },
   {
    "duration": 18,
    "start_time": "2021-07-08T10:19:19.854Z"
   },
   {
    "duration": 14,
    "start_time": "2021-07-08T10:19:19.874Z"
   },
   {
    "duration": 48,
    "start_time": "2021-07-08T10:19:19.890Z"
   },
   {
    "duration": 17,
    "start_time": "2021-07-08T10:19:19.940Z"
   },
   {
    "duration": 38,
    "start_time": "2021-07-08T10:19:19.959Z"
   },
   {
    "duration": 8,
    "start_time": "2021-07-08T10:19:19.999Z"
   },
   {
    "duration": 15,
    "start_time": "2021-07-08T10:19:20.009Z"
   },
   {
    "duration": 22,
    "start_time": "2021-07-08T10:19:20.026Z"
   },
   {
    "duration": 10,
    "start_time": "2021-07-08T10:19:20.050Z"
   },
   {
    "duration": 10,
    "start_time": "2021-07-08T10:19:20.062Z"
   },
   {
    "duration": 20,
    "start_time": "2021-07-08T10:19:20.073Z"
   },
   {
    "duration": 29,
    "start_time": "2021-07-08T10:19:20.095Z"
   },
   {
    "duration": 17,
    "start_time": "2021-07-08T10:19:20.126Z"
   },
   {
    "duration": 40,
    "start_time": "2021-07-08T10:19:20.146Z"
   },
   {
    "duration": 15,
    "start_time": "2021-07-08T10:19:20.189Z"
   },
   {
    "duration": 19,
    "start_time": "2021-07-08T10:19:20.206Z"
   },
   {
    "duration": 10,
    "start_time": "2021-07-08T10:19:20.226Z"
   },
   {
    "duration": 11,
    "start_time": "2021-07-08T10:19:20.238Z"
   },
   {
    "duration": 297,
    "start_time": "2021-07-08T10:19:20.250Z"
   },
   {
    "duration": 6,
    "start_time": "2021-07-08T10:19:20.549Z"
   },
   {
    "duration": 191,
    "start_time": "2021-07-08T10:19:20.557Z"
   },
   {
    "duration": 19,
    "start_time": "2021-07-08T10:19:20.750Z"
   },
   {
    "duration": 20,
    "start_time": "2021-07-08T10:19:20.771Z"
   },
   {
    "duration": 15,
    "start_time": "2021-07-08T10:19:20.793Z"
   },
   {
    "duration": 222,
    "start_time": "2021-07-08T10:19:20.809Z"
   },
   {
    "duration": 20,
    "start_time": "2021-07-08T10:19:21.033Z"
   },
   {
    "duration": 27,
    "start_time": "2021-07-08T10:45:04.055Z"
   },
   {
    "duration": 8,
    "start_time": "2021-07-08T10:45:08.478Z"
   },
   {
    "duration": 8,
    "start_time": "2021-07-08T10:45:31.982Z"
   },
   {
    "duration": 10,
    "start_time": "2021-07-08T10:46:01.221Z"
   },
   {
    "duration": 17,
    "start_time": "2021-07-08T10:46:40.011Z"
   },
   {
    "duration": 193,
    "start_time": "2021-07-08T10:48:19.471Z"
   },
   {
    "duration": 225,
    "start_time": "2021-07-08T10:49:26.480Z"
   },
   {
    "duration": 204,
    "start_time": "2021-07-08T10:49:59.992Z"
   },
   {
    "duration": 435,
    "start_time": "2021-07-08T10:50:06.779Z"
   },
   {
    "duration": 199,
    "start_time": "2021-07-08T10:50:14.891Z"
   },
   {
    "duration": 204,
    "start_time": "2021-07-08T10:50:18.501Z"
   },
   {
    "duration": 244,
    "start_time": "2021-07-08T10:50:23.359Z"
   },
   {
    "duration": 192,
    "start_time": "2021-07-08T10:50:29.135Z"
   },
   {
    "duration": 218,
    "start_time": "2021-07-08T10:50:33.092Z"
   },
   {
    "duration": 207,
    "start_time": "2021-07-08T10:52:45.381Z"
   },
   {
    "duration": 5,
    "start_time": "2021-07-08T10:53:34.641Z"
   },
   {
    "duration": 196,
    "start_time": "2021-07-08T10:53:41.478Z"
   },
   {
    "duration": 43,
    "start_time": "2021-07-08T10:53:50.335Z"
   },
   {
    "duration": 32,
    "start_time": "2021-07-08T10:53:55.294Z"
   },
   {
    "duration": 55,
    "start_time": "2021-07-08T10:54:09.675Z"
   },
   {
    "duration": 16,
    "start_time": "2021-07-08T10:54:12.260Z"
   },
   {
    "duration": 15,
    "start_time": "2021-07-08T10:54:49.150Z"
   },
   {
    "duration": 20,
    "start_time": "2021-07-08T10:56:07.596Z"
   },
   {
    "duration": 16,
    "start_time": "2021-07-08T10:58:26.276Z"
   },
   {
    "duration": 22,
    "start_time": "2021-07-08T10:59:00.486Z"
   },
   {
    "duration": 18,
    "start_time": "2021-07-08T11:02:09.653Z"
   },
   {
    "duration": 10,
    "start_time": "2021-07-08T11:03:44.331Z"
   },
   {
    "duration": 10,
    "start_time": "2021-07-08T11:03:54.055Z"
   },
   {
    "duration": 12,
    "start_time": "2021-07-08T11:04:41.967Z"
   },
   {
    "duration": 24,
    "start_time": "2021-07-08T11:07:30.732Z"
   },
   {
    "duration": 6,
    "start_time": "2021-07-08T11:07:37.364Z"
   },
   {
    "duration": 16,
    "start_time": "2021-07-08T11:08:01.819Z"
   },
   {
    "duration": 17,
    "start_time": "2021-07-08T11:09:47.488Z"
   },
   {
    "duration": 246,
    "start_time": "2021-07-08T11:10:00.830Z"
   },
   {
    "duration": 18,
    "start_time": "2021-07-08T11:13:55.195Z"
   },
   {
    "duration": 204,
    "start_time": "2021-07-08T11:14:04.951Z"
   },
   {
    "duration": 19,
    "start_time": "2021-07-08T11:15:10.613Z"
   },
   {
    "duration": 680,
    "start_time": "2021-07-08T11:16:25.793Z"
   },
   {
    "duration": 451,
    "start_time": "2021-07-08T11:16:40.313Z"
   },
   {
    "duration": 469,
    "start_time": "2021-07-08T11:17:21.286Z"
   },
   {
    "duration": 20,
    "start_time": "2021-07-08T11:19:12.554Z"
   },
   {
    "duration": 35,
    "start_time": "2021-07-08T11:20:05.484Z"
   },
   {
    "duration": 53,
    "start_time": "2021-07-08T11:21:40.050Z"
   },
   {
    "duration": 13,
    "start_time": "2021-07-08T11:22:26.059Z"
   },
   {
    "duration": 19,
    "start_time": "2021-07-08T11:22:47.419Z"
   },
   {
    "duration": 25,
    "start_time": "2021-07-08T11:23:19.958Z"
   },
   {
    "duration": 29,
    "start_time": "2021-07-08T11:23:25.415Z"
   },
   {
    "duration": 10,
    "start_time": "2021-07-08T11:24:45.138Z"
   },
   {
    "duration": 19,
    "start_time": "2021-07-08T11:24:54.498Z"
   },
   {
    "duration": 12,
    "start_time": "2021-07-08T11:25:32.225Z"
   },
   {
    "duration": 19,
    "start_time": "2021-07-08T11:25:37.092Z"
   },
   {
    "duration": 17,
    "start_time": "2021-07-08T11:25:58.116Z"
   },
   {
    "duration": 15,
    "start_time": "2021-07-08T11:26:02.258Z"
   },
   {
    "duration": 8,
    "start_time": "2021-07-08T11:26:59.682Z"
   },
   {
    "duration": 184,
    "start_time": "2021-07-08T11:27:21.894Z"
   },
   {
    "duration": 8,
    "start_time": "2021-07-08T11:27:23.824Z"
   },
   {
    "duration": 202,
    "start_time": "2021-07-08T11:27:23.962Z"
   },
   {
    "duration": 360,
    "start_time": "2021-07-08T11:28:33.215Z"
   },
   {
    "duration": 231,
    "start_time": "2021-07-08T11:32:05.542Z"
   },
   {
    "duration": 607,
    "start_time": "2021-07-08T11:36:27.854Z"
   },
   {
    "duration": 241,
    "start_time": "2021-07-08T11:36:28.463Z"
   },
   {
    "duration": 67,
    "start_time": "2021-07-08T11:36:28.709Z"
   },
   {
    "duration": 5,
    "start_time": "2021-07-08T11:36:28.778Z"
   },
   {
    "duration": 32,
    "start_time": "2021-07-08T11:36:28.784Z"
   },
   {
    "duration": 11,
    "start_time": "2021-07-08T11:36:28.819Z"
   },
   {
    "duration": 20,
    "start_time": "2021-07-08T11:36:28.834Z"
   },
   {
    "duration": 36,
    "start_time": "2021-07-08T11:36:28.857Z"
   },
   {
    "duration": 16,
    "start_time": "2021-07-08T11:36:28.895Z"
   },
   {
    "duration": 14,
    "start_time": "2021-07-08T11:36:28.913Z"
   },
   {
    "duration": 9,
    "start_time": "2021-07-08T11:36:28.930Z"
   },
   {
    "duration": 55,
    "start_time": "2021-07-08T11:36:28.941Z"
   },
   {
    "duration": 27,
    "start_time": "2021-07-08T11:36:28.999Z"
   },
   {
    "duration": 30,
    "start_time": "2021-07-08T11:36:29.028Z"
   },
   {
    "duration": 31,
    "start_time": "2021-07-08T11:36:29.060Z"
   },
   {
    "duration": 3,
    "start_time": "2021-07-08T11:36:29.093Z"
   },
   {
    "duration": 12,
    "start_time": "2021-07-08T11:36:29.099Z"
   },
   {
    "duration": 11,
    "start_time": "2021-07-08T11:36:29.112Z"
   },
   {
    "duration": 12,
    "start_time": "2021-07-08T11:36:29.125Z"
   },
   {
    "duration": 9,
    "start_time": "2021-07-08T11:36:29.139Z"
   },
   {
    "duration": 31,
    "start_time": "2021-07-08T11:36:29.191Z"
   },
   {
    "duration": 17,
    "start_time": "2021-07-08T11:36:29.226Z"
   },
   {
    "duration": 7,
    "start_time": "2021-07-08T11:36:29.245Z"
   },
   {
    "duration": 10,
    "start_time": "2021-07-08T11:36:29.254Z"
   },
   {
    "duration": 30,
    "start_time": "2021-07-08T11:36:29.292Z"
   },
   {
    "duration": 11,
    "start_time": "2021-07-08T11:36:29.324Z"
   },
   {
    "duration": 11,
    "start_time": "2021-07-08T11:36:29.337Z"
   },
   {
    "duration": 230,
    "start_time": "2021-07-08T11:36:29.349Z"
   },
   {
    "duration": 13,
    "start_time": "2021-07-08T11:36:29.588Z"
   },
   {
    "duration": 205,
    "start_time": "2021-07-08T11:36:29.603Z"
   },
   {
    "duration": 20,
    "start_time": "2021-07-08T11:36:29.810Z"
   },
   {
    "duration": 9,
    "start_time": "2021-07-08T11:36:29.832Z"
   },
   {
    "duration": 16,
    "start_time": "2021-07-08T11:36:29.843Z"
   },
   {
    "duration": 283,
    "start_time": "2021-07-08T11:36:29.861Z"
   },
   {
    "duration": 50,
    "start_time": "2021-07-08T11:36:30.146Z"
   },
   {
    "duration": 14,
    "start_time": "2021-07-08T11:36:30.198Z"
   },
   {
    "duration": 11,
    "start_time": "2021-07-08T11:36:30.214Z"
   },
   {
    "duration": 245,
    "start_time": "2021-07-08T11:36:30.227Z"
   },
   {
    "duration": 439,
    "start_time": "2021-07-08T11:36:30.474Z"
   },
   {
    "duration": 210,
    "start_time": "2021-07-08T11:36:30.915Z"
   },
   {
    "duration": 15,
    "start_time": "2021-07-08T11:36:31.127Z"
   },
   {
    "duration": 17,
    "start_time": "2021-07-08T11:38:20.451Z"
   },
   {
    "duration": 642,
    "start_time": "2021-07-08T11:46:17.881Z"
   },
   {
    "duration": 210,
    "start_time": "2021-07-08T11:46:18.525Z"
   },
   {
    "duration": 104,
    "start_time": "2021-07-08T11:46:18.741Z"
   },
   {
    "duration": 8,
    "start_time": "2021-07-08T11:46:18.847Z"
   },
   {
    "duration": 25,
    "start_time": "2021-07-08T11:46:18.857Z"
   },
   {
    "duration": 14,
    "start_time": "2021-07-08T11:46:18.884Z"
   },
   {
    "duration": 22,
    "start_time": "2021-07-08T11:46:18.900Z"
   },
   {
    "duration": 5,
    "start_time": "2021-07-08T11:46:18.924Z"
   },
   {
    "duration": 13,
    "start_time": "2021-07-08T11:46:18.931Z"
   },
   {
    "duration": 45,
    "start_time": "2021-07-08T11:46:18.946Z"
   },
   {
    "duration": 12,
    "start_time": "2021-07-08T11:46:18.993Z"
   },
   {
    "duration": 38,
    "start_time": "2021-07-08T11:46:19.006Z"
   },
   {
    "duration": 50,
    "start_time": "2021-07-08T11:46:19.046Z"
   },
   {
    "duration": 29,
    "start_time": "2021-07-08T11:46:19.099Z"
   },
   {
    "duration": 7,
    "start_time": "2021-07-08T11:46:19.130Z"
   },
   {
    "duration": 3,
    "start_time": "2021-07-08T11:46:19.139Z"
   },
   {
    "duration": 11,
    "start_time": "2021-07-08T11:46:19.144Z"
   },
   {
    "duration": 40,
    "start_time": "2021-07-08T11:46:19.157Z"
   },
   {
    "duration": 15,
    "start_time": "2021-07-08T11:46:19.199Z"
   },
   {
    "duration": 10,
    "start_time": "2021-07-08T11:46:19.217Z"
   },
   {
    "duration": 68,
    "start_time": "2021-07-08T11:46:19.230Z"
   },
   {
    "duration": 17,
    "start_time": "2021-07-08T11:46:19.301Z"
   },
   {
    "duration": 7,
    "start_time": "2021-07-08T11:46:19.321Z"
   },
   {
    "duration": 11,
    "start_time": "2021-07-08T11:46:19.330Z"
   },
   {
    "duration": 59,
    "start_time": "2021-07-08T11:46:19.343Z"
   },
   {
    "duration": 17,
    "start_time": "2021-07-08T11:46:19.405Z"
   },
   {
    "duration": 16,
    "start_time": "2021-07-08T11:46:19.424Z"
   },
   {
    "duration": 252,
    "start_time": "2021-07-08T11:46:19.443Z"
   },
   {
    "duration": 9,
    "start_time": "2021-07-08T11:46:19.697Z"
   },
   {
    "duration": 224,
    "start_time": "2021-07-08T11:46:19.708Z"
   },
   {
    "duration": 21,
    "start_time": "2021-07-08T11:46:19.934Z"
   },
   {
    "duration": 9,
    "start_time": "2021-07-08T11:46:19.956Z"
   },
   {
    "duration": 32,
    "start_time": "2021-07-08T11:46:19.967Z"
   },
   {
    "duration": 288,
    "start_time": "2021-07-08T11:46:20.004Z"
   },
   {
    "duration": 23,
    "start_time": "2021-07-08T11:46:20.300Z"
   },
   {
    "duration": 11,
    "start_time": "2021-07-08T11:46:20.325Z"
   },
   {
    "duration": 11,
    "start_time": "2021-07-08T11:46:20.339Z"
   },
   {
    "duration": 259,
    "start_time": "2021-07-08T11:46:20.352Z"
   },
   {
    "duration": 438,
    "start_time": "2021-07-08T11:46:20.613Z"
   },
   {
    "duration": 207,
    "start_time": "2021-07-08T11:46:21.054Z"
   },
   {
    "duration": 27,
    "start_time": "2021-07-08T11:46:21.262Z"
   },
   {
    "duration": 19,
    "start_time": "2021-07-08T11:46:21.291Z"
   },
   {
    "duration": 820,
    "start_time": "2021-07-08T11:49:01.655Z"
   },
   {
    "duration": 372,
    "start_time": "2021-07-08T11:49:02.478Z"
   },
   {
    "duration": 98,
    "start_time": "2021-07-08T11:49:02.853Z"
   },
   {
    "duration": 6,
    "start_time": "2021-07-08T11:49:02.953Z"
   },
   {
    "duration": 39,
    "start_time": "2021-07-08T11:49:02.960Z"
   },
   {
    "duration": 9,
    "start_time": "2021-07-08T11:49:03.003Z"
   },
   {
    "duration": 23,
    "start_time": "2021-07-08T11:49:03.014Z"
   },
   {
    "duration": 6,
    "start_time": "2021-07-08T11:49:03.041Z"
   },
   {
    "duration": 20,
    "start_time": "2021-07-08T11:49:03.049Z"
   },
   {
    "duration": 18,
    "start_time": "2021-07-08T11:49:03.084Z"
   },
   {
    "duration": 14,
    "start_time": "2021-07-08T11:49:03.104Z"
   },
   {
    "duration": 39,
    "start_time": "2021-07-08T11:49:03.119Z"
   },
   {
    "duration": 38,
    "start_time": "2021-07-08T11:49:03.160Z"
   },
   {
    "duration": 26,
    "start_time": "2021-07-08T11:49:03.200Z"
   },
   {
    "duration": 7,
    "start_time": "2021-07-08T11:49:03.227Z"
   },
   {
    "duration": 4,
    "start_time": "2021-07-08T11:49:03.236Z"
   },
   {
    "duration": 15,
    "start_time": "2021-07-08T11:49:03.243Z"
   },
   {
    "duration": 21,
    "start_time": "2021-07-08T11:49:03.285Z"
   },
   {
    "duration": 17,
    "start_time": "2021-07-08T11:49:03.309Z"
   },
   {
    "duration": 10,
    "start_time": "2021-07-08T11:49:03.328Z"
   },
   {
    "duration": 65,
    "start_time": "2021-07-08T11:49:03.340Z"
   },
   {
    "duration": 18,
    "start_time": "2021-07-08T11:49:03.407Z"
   },
   {
    "duration": 8,
    "start_time": "2021-07-08T11:49:03.428Z"
   },
   {
    "duration": 15,
    "start_time": "2021-07-08T11:49:03.438Z"
   },
   {
    "duration": 40,
    "start_time": "2021-07-08T11:49:03.455Z"
   },
   {
    "duration": 12,
    "start_time": "2021-07-08T11:49:03.497Z"
   },
   {
    "duration": 29,
    "start_time": "2021-07-08T11:49:03.511Z"
   },
   {
    "duration": 285,
    "start_time": "2021-07-08T11:49:03.542Z"
   },
   {
    "duration": 8,
    "start_time": "2021-07-08T11:49:03.829Z"
   },
   {
    "duration": 227,
    "start_time": "2021-07-08T11:49:03.838Z"
   },
   {
    "duration": 40,
    "start_time": "2021-07-08T11:49:04.066Z"
   },
   {
    "duration": 10,
    "start_time": "2021-07-08T11:49:04.108Z"
   },
   {
    "duration": 26,
    "start_time": "2021-07-08T11:49:04.121Z"
   },
   {
    "duration": 290,
    "start_time": "2021-07-08T11:49:04.149Z"
   },
   {
    "duration": 26,
    "start_time": "2021-07-08T11:49:04.441Z"
   },
   {
    "duration": 31,
    "start_time": "2021-07-08T11:49:04.470Z"
   },
   {
    "duration": 14,
    "start_time": "2021-07-08T11:49:04.503Z"
   },
   {
    "duration": 259,
    "start_time": "2021-07-08T11:49:04.521Z"
   },
   {
    "duration": 480,
    "start_time": "2021-07-08T11:49:04.782Z"
   },
   {
    "duration": 225,
    "start_time": "2021-07-08T11:49:05.264Z"
   },
   {
    "duration": 22,
    "start_time": "2021-07-08T11:49:05.491Z"
   },
   {
    "duration": 24,
    "start_time": "2021-07-08T11:49:05.515Z"
   },
   {
    "duration": 634,
    "start_time": "2021-07-08T11:52:24.960Z"
   },
   {
    "duration": 199,
    "start_time": "2021-07-08T11:52:25.599Z"
   },
   {
    "duration": 106,
    "start_time": "2021-07-08T11:52:25.803Z"
   },
   {
    "duration": 7,
    "start_time": "2021-07-08T11:52:25.911Z"
   },
   {
    "duration": 29,
    "start_time": "2021-07-08T11:52:25.920Z"
   },
   {
    "duration": 7,
    "start_time": "2021-07-08T11:52:25.951Z"
   },
   {
    "duration": 26,
    "start_time": "2021-07-08T11:52:25.961Z"
   },
   {
    "duration": 11,
    "start_time": "2021-07-08T11:52:25.990Z"
   },
   {
    "duration": 29,
    "start_time": "2021-07-08T11:52:26.005Z"
   },
   {
    "duration": 9,
    "start_time": "2021-07-08T11:52:26.036Z"
   },
   {
    "duration": 8,
    "start_time": "2021-07-08T11:52:26.047Z"
   },
   {
    "duration": 63,
    "start_time": "2021-07-08T11:52:26.057Z"
   },
   {
    "duration": 17,
    "start_time": "2021-07-08T11:52:26.122Z"
   },
   {
    "duration": 43,
    "start_time": "2021-07-08T11:52:26.142Z"
   },
   {
    "duration": 17,
    "start_time": "2021-07-08T11:52:26.187Z"
   },
   {
    "duration": 5,
    "start_time": "2021-07-08T11:52:26.206Z"
   },
   {
    "duration": 12,
    "start_time": "2021-07-08T11:52:26.212Z"
   },
   {
    "duration": 11,
    "start_time": "2021-07-08T11:52:26.226Z"
   },
   {
    "duration": 12,
    "start_time": "2021-07-08T11:52:26.238Z"
   },
   {
    "duration": 38,
    "start_time": "2021-07-08T11:52:26.252Z"
   },
   {
    "duration": 40,
    "start_time": "2021-07-08T11:52:26.292Z"
   },
   {
    "duration": 17,
    "start_time": "2021-07-08T11:52:26.336Z"
   },
   {
    "duration": 39,
    "start_time": "2021-07-08T11:52:26.355Z"
   },
   {
    "duration": 11,
    "start_time": "2021-07-08T11:52:26.395Z"
   },
   {
    "duration": 23,
    "start_time": "2021-07-08T11:52:26.408Z"
   },
   {
    "duration": 12,
    "start_time": "2021-07-08T11:52:26.432Z"
   },
   {
    "duration": 41,
    "start_time": "2021-07-08T11:52:26.446Z"
   },
   {
    "duration": 215,
    "start_time": "2021-07-08T11:52:26.493Z"
   },
   {
    "duration": 8,
    "start_time": "2021-07-08T11:52:26.710Z"
   },
   {
    "duration": 228,
    "start_time": "2021-07-08T11:52:26.720Z"
   },
   {
    "duration": 18,
    "start_time": "2021-07-08T11:52:26.950Z"
   },
   {
    "duration": 35,
    "start_time": "2021-07-08T11:52:26.969Z"
   },
   {
    "duration": 23,
    "start_time": "2021-07-08T11:52:27.006Z"
   },
   {
    "duration": 258,
    "start_time": "2021-07-08T11:52:27.030Z"
   },
   {
    "duration": 24,
    "start_time": "2021-07-08T11:52:27.290Z"
   },
   {
    "duration": 12,
    "start_time": "2021-07-08T11:52:27.316Z"
   },
   {
    "duration": 10,
    "start_time": "2021-07-08T11:52:27.329Z"
   },
   {
    "duration": 298,
    "start_time": "2021-07-08T11:52:27.341Z"
   },
   {
    "duration": 436,
    "start_time": "2021-07-08T11:52:27.641Z"
   },
   {
    "duration": 216,
    "start_time": "2021-07-08T11:52:28.079Z"
   },
   {
    "duration": 20,
    "start_time": "2021-07-08T11:52:28.297Z"
   },
   {
    "duration": 17,
    "start_time": "2021-07-08T11:52:28.319Z"
   },
   {
    "duration": 1056,
    "start_time": "2022-08-31T10:00:37.221Z"
   },
   {
    "duration": 17,
    "start_time": "2022-08-31T10:00:44.253Z"
   },
   {
    "duration": 7,
    "start_time": "2022-08-31T10:00:50.221Z"
   },
   {
    "duration": 77,
    "start_time": "2022-08-31T10:01:57.351Z"
   },
   {
    "duration": 22,
    "start_time": "2022-08-31T10:02:20.920Z"
   },
   {
    "duration": 8,
    "start_time": "2022-08-31T10:03:03.334Z"
   },
   {
    "duration": 1267,
    "start_time": "2022-08-31T10:03:07.058Z"
   },
   {
    "duration": 0,
    "start_time": "2022-08-31T10:03:08.326Z"
   },
   {
    "duration": 14,
    "start_time": "2022-08-31T10:03:43.479Z"
   },
   {
    "duration": 10,
    "start_time": "2022-08-31T10:03:54.396Z"
   },
   {
    "duration": 8,
    "start_time": "2022-08-31T10:04:09.131Z"
   },
   {
    "duration": 7,
    "start_time": "2022-08-31T10:05:37.107Z"
   },
   {
    "duration": 6,
    "start_time": "2022-08-31T10:05:40.826Z"
   },
   {
    "duration": 5,
    "start_time": "2022-08-31T10:05:41.946Z"
   },
   {
    "duration": 9,
    "start_time": "2022-08-31T10:05:42.952Z"
   },
   {
    "duration": 37,
    "start_time": "2022-08-31T10:05:46.802Z"
   },
   {
    "duration": 131,
    "start_time": "2022-08-31T10:06:38.511Z"
   },
   {
    "duration": 16,
    "start_time": "2022-08-31T10:06:55.363Z"
   },
   {
    "duration": 18,
    "start_time": "2022-08-31T10:07:09.747Z"
   },
   {
    "duration": 12,
    "start_time": "2022-08-31T10:07:24.338Z"
   },
   {
    "duration": 115,
    "start_time": "2022-08-31T10:07:33.236Z"
   },
   {
    "duration": 21,
    "start_time": "2022-08-31T10:07:36.800Z"
   },
   {
    "duration": 8,
    "start_time": "2022-08-31T10:08:01.109Z"
   },
   {
    "duration": 10,
    "start_time": "2022-08-31T10:09:16.549Z"
   },
   {
    "duration": 24,
    "start_time": "2022-08-31T10:09:32.223Z"
   },
   {
    "duration": 23,
    "start_time": "2022-08-31T10:09:35.199Z"
   },
   {
    "duration": 22,
    "start_time": "2022-08-31T10:09:55.367Z"
   },
   {
    "duration": 25,
    "start_time": "2022-08-31T10:10:00.652Z"
   },
   {
    "duration": 797,
    "start_time": "2022-08-31T10:10:21.211Z"
   },
   {
    "duration": 13,
    "start_time": "2022-08-31T10:10:22.010Z"
   },
   {
    "duration": 25,
    "start_time": "2022-08-31T10:10:22.024Z"
   },
   {
    "duration": 14,
    "start_time": "2022-08-31T10:10:22.051Z"
   },
   {
    "duration": 64,
    "start_time": "2022-08-31T10:12:13.514Z"
   },
   {
    "duration": 122,
    "start_time": "2022-08-31T10:12:16.195Z"
   },
   {
    "duration": 511,
    "start_time": "2022-08-31T10:12:16.474Z"
   },
   {
    "duration": 115,
    "start_time": "2022-08-31T10:12:48.951Z"
   },
   {
    "duration": 736,
    "start_time": "2022-08-31T10:12:49.157Z"
   },
   {
    "duration": 10,
    "start_time": "2022-08-31T10:13:44.298Z"
   },
   {
    "duration": 276,
    "start_time": "2022-08-31T10:13:49.574Z"
   },
   {
    "duration": 568,
    "start_time": "2022-08-31T10:14:05.136Z"
   },
   {
    "duration": 384,
    "start_time": "2022-08-31T10:14:47.860Z"
   },
   {
    "duration": 456,
    "start_time": "2022-08-31T10:15:23.847Z"
   },
   {
    "duration": 112,
    "start_time": "2022-08-31T10:15:28.167Z"
   },
   {
    "duration": 27,
    "start_time": "2022-08-31T10:15:28.356Z"
   },
   {
    "duration": 27,
    "start_time": "2022-08-31T10:16:24.719Z"
   },
   {
    "duration": 14,
    "start_time": "2022-08-31T10:16:29.225Z"
   },
   {
    "duration": 117,
    "start_time": "2022-08-31T10:16:31.816Z"
   },
   {
    "duration": 405,
    "start_time": "2022-08-31T10:16:31.975Z"
   },
   {
    "duration": 15,
    "start_time": "2022-08-31T10:16:35.720Z"
   },
   {
    "duration": 627,
    "start_time": "2022-08-31T10:17:25.694Z"
   },
   {
    "duration": 12,
    "start_time": "2022-08-31T10:17:26.497Z"
   },
   {
    "duration": 121,
    "start_time": "2022-08-31T10:17:29.002Z"
   },
   {
    "duration": 342,
    "start_time": "2022-08-31T10:17:29.135Z"
   },
   {
    "duration": 434,
    "start_time": "2022-08-31T10:17:40.395Z"
   },
   {
    "duration": 115,
    "start_time": "2022-08-31T10:17:43.336Z"
   },
   {
    "duration": 336,
    "start_time": "2022-08-31T10:17:43.722Z"
   },
   {
    "duration": 262,
    "start_time": "2022-08-31T10:17:53.558Z"
   },
   {
    "duration": 115,
    "start_time": "2022-08-31T10:18:00.171Z"
   },
   {
    "duration": 436,
    "start_time": "2022-08-31T10:18:01.006Z"
   },
   {
    "duration": 142,
    "start_time": "2022-08-31T10:18:17.066Z"
   },
   {
    "duration": 25,
    "start_time": "2022-08-31T10:18:17.602Z"
   },
   {
    "duration": 15,
    "start_time": "2022-08-31T10:18:22.018Z"
   },
   {
    "duration": 21,
    "start_time": "2022-08-31T10:18:28.325Z"
   },
   {
    "duration": 15,
    "start_time": "2022-08-31T10:18:30.116Z"
   },
   {
    "duration": 28,
    "start_time": "2022-08-31T10:18:40.195Z"
   },
   {
    "duration": 16,
    "start_time": "2022-08-31T10:36:06.918Z"
   },
   {
    "duration": 18,
    "start_time": "2022-08-31T10:36:09.996Z"
   },
   {
    "duration": 698,
    "start_time": "2022-08-31T10:36:14.443Z"
   },
   {
    "duration": 26,
    "start_time": "2022-08-31T10:36:15.143Z"
   },
   {
    "duration": 18,
    "start_time": "2022-08-31T10:36:15.171Z"
   },
   {
    "duration": 6,
    "start_time": "2022-08-31T10:40:08.393Z"
   },
   {
    "duration": 75,
    "start_time": "2022-08-31T10:40:37.588Z"
   },
   {
    "duration": 5,
    "start_time": "2022-08-31T10:41:03.085Z"
   },
   {
    "duration": 26,
    "start_time": "2022-08-31T10:41:39.718Z"
   },
   {
    "duration": 4,
    "start_time": "2022-08-31T10:42:12.940Z"
   },
   {
    "duration": 6,
    "start_time": "2022-08-31T10:44:23.030Z"
   },
   {
    "duration": 7,
    "start_time": "2022-08-31T10:45:56.930Z"
   },
   {
    "duration": 15,
    "start_time": "2022-08-31T10:46:02.655Z"
   },
   {
    "duration": 12,
    "start_time": "2022-08-31T10:46:51.430Z"
   },
   {
    "duration": 15,
    "start_time": "2022-08-31T10:46:51.710Z"
   },
   {
    "duration": 14,
    "start_time": "2022-08-31T10:47:01.223Z"
   },
   {
    "duration": 11,
    "start_time": "2022-08-31T10:47:17.552Z"
   },
   {
    "duration": 15,
    "start_time": "2022-08-31T10:47:18.048Z"
   },
   {
    "duration": 10,
    "start_time": "2022-08-31T10:47:21.855Z"
   },
   {
    "duration": 15,
    "start_time": "2022-08-31T10:47:22.288Z"
   },
   {
    "duration": 9,
    "start_time": "2022-08-31T10:47:28.657Z"
   },
   {
    "duration": 14,
    "start_time": "2022-08-31T10:47:46.145Z"
   },
   {
    "duration": 11,
    "start_time": "2022-08-31T10:49:05.563Z"
   },
   {
    "duration": 14,
    "start_time": "2022-08-31T10:49:06.043Z"
   },
   {
    "duration": 733,
    "start_time": "2022-08-31T10:49:22.613Z"
   },
   {
    "duration": 29,
    "start_time": "2022-08-31T10:49:23.348Z"
   },
   {
    "duration": 18,
    "start_time": "2022-08-31T10:49:23.378Z"
   },
   {
    "duration": 7,
    "start_time": "2022-08-31T10:49:23.399Z"
   },
   {
    "duration": 23,
    "start_time": "2022-08-31T10:49:23.407Z"
   },
   {
    "duration": 27,
    "start_time": "2022-08-31T10:49:23.432Z"
   },
   {
    "duration": 11,
    "start_time": "2022-08-31T10:49:29.709Z"
   },
   {
    "duration": 15,
    "start_time": "2022-08-31T10:49:30.124Z"
   },
   {
    "duration": 762,
    "start_time": "2022-08-31T10:49:35.426Z"
   },
   {
    "duration": 28,
    "start_time": "2022-08-31T10:49:36.190Z"
   },
   {
    "duration": 18,
    "start_time": "2022-08-31T10:49:36.219Z"
   },
   {
    "duration": 14,
    "start_time": "2022-08-31T10:49:36.239Z"
   },
   {
    "duration": 35,
    "start_time": "2022-08-31T10:49:36.255Z"
   },
   {
    "duration": 15,
    "start_time": "2022-08-31T10:49:36.291Z"
   },
   {
    "duration": 737,
    "start_time": "2022-08-31T10:49:54.453Z"
   },
   {
    "duration": 28,
    "start_time": "2022-08-31T10:49:55.192Z"
   },
   {
    "duration": 6,
    "start_time": "2022-08-31T10:49:55.222Z"
   },
   {
    "duration": 22,
    "start_time": "2022-08-31T10:49:55.230Z"
   },
   {
    "duration": 7,
    "start_time": "2022-08-31T10:49:55.254Z"
   },
   {
    "duration": 19,
    "start_time": "2022-08-31T10:49:55.262Z"
   },
   {
    "duration": 28,
    "start_time": "2022-08-31T10:49:55.283Z"
   },
   {
    "duration": 8,
    "start_time": "2022-08-31T10:51:01.429Z"
   },
   {
    "duration": 7,
    "start_time": "2022-08-31T10:51:06.962Z"
   },
   {
    "duration": 70,
    "start_time": "2022-08-31T10:51:22.370Z"
   },
   {
    "duration": 11,
    "start_time": "2022-08-31T10:51:25.737Z"
   },
   {
    "duration": 17,
    "start_time": "2022-08-31T10:51:27.030Z"
   },
   {
    "duration": 16,
    "start_time": "2022-08-31T10:51:51.934Z"
   },
   {
    "duration": 16,
    "start_time": "2022-08-31T10:51:52.392Z"
   },
   {
    "duration": 5,
    "start_time": "2022-08-31T10:52:04.821Z"
   },
   {
    "duration": 70,
    "start_time": "2022-08-31T10:52:10.666Z"
   },
   {
    "duration": 14,
    "start_time": "2022-08-31T10:52:11.725Z"
   },
   {
    "duration": 18,
    "start_time": "2022-08-31T10:54:12.280Z"
   },
   {
    "duration": 5,
    "start_time": "2022-08-31T10:54:13.039Z"
   },
   {
    "duration": 14,
    "start_time": "2022-08-31T10:54:13.646Z"
   },
   {
    "duration": 16,
    "start_time": "2022-08-31T10:54:18.487Z"
   },
   {
    "duration": 6,
    "start_time": "2022-08-31T10:54:18.734Z"
   },
   {
    "duration": 14,
    "start_time": "2022-08-31T10:54:19.238Z"
   },
   {
    "duration": 12,
    "start_time": "2022-08-31T10:54:49.408Z"
   },
   {
    "duration": 5,
    "start_time": "2022-08-31T10:54:49.607Z"
   },
   {
    "duration": 15,
    "start_time": "2022-08-31T10:54:50.532Z"
   },
   {
    "duration": 72,
    "start_time": "2022-08-31T10:55:00.608Z"
   },
   {
    "duration": 13,
    "start_time": "2022-08-31T10:55:03.313Z"
   },
   {
    "duration": 8,
    "start_time": "2022-08-31T10:55:19.193Z"
   },
   {
    "duration": 5,
    "start_time": "2022-08-31T10:55:19.873Z"
   },
   {
    "duration": 15,
    "start_time": "2022-08-31T10:55:20.337Z"
   },
   {
    "duration": 794,
    "start_time": "2022-08-31T10:55:45.089Z"
   },
   {
    "duration": 29,
    "start_time": "2022-08-31T10:55:45.885Z"
   },
   {
    "duration": 18,
    "start_time": "2022-08-31T10:55:45.915Z"
   },
   {
    "duration": 9,
    "start_time": "2022-08-31T10:55:45.934Z"
   },
   {
    "duration": 9,
    "start_time": "2022-08-31T10:55:45.944Z"
   },
   {
    "duration": 25,
    "start_time": "2022-08-31T10:55:45.954Z"
   },
   {
    "duration": 4,
    "start_time": "2022-08-31T10:57:03.301Z"
   },
   {
    "duration": 73,
    "start_time": "2022-08-31T10:57:08.212Z"
   },
   {
    "duration": 839,
    "start_time": "2022-08-31T10:57:34.436Z"
   },
   {
    "duration": 0,
    "start_time": "2022-08-31T10:57:35.276Z"
   },
   {
    "duration": 12,
    "start_time": "2022-08-31T10:57:39.196Z"
   },
   {
    "duration": 14,
    "start_time": "2022-08-31T10:57:40.877Z"
   },
   {
    "duration": 6,
    "start_time": "2022-08-31T10:57:42.987Z"
   },
   {
    "duration": 17,
    "start_time": "2022-08-31T10:57:57.360Z"
   },
   {
    "duration": 6,
    "start_time": "2022-08-31T10:57:57.795Z"
   },
   {
    "duration": 8,
    "start_time": "2022-08-31T10:58:03.213Z"
   },
   {
    "duration": 6,
    "start_time": "2022-08-31T10:58:07.629Z"
   },
   {
    "duration": 16,
    "start_time": "2022-08-31T10:58:18.571Z"
   },
   {
    "duration": 5,
    "start_time": "2022-08-31T11:03:07.831Z"
   },
   {
    "duration": 4,
    "start_time": "2022-08-31T11:03:26.990Z"
   },
   {
    "duration": 5,
    "start_time": "2022-08-31T11:03:31.365Z"
   },
   {
    "duration": 10,
    "start_time": "2022-08-31T11:04:16.709Z"
   },
   {
    "duration": 6,
    "start_time": "2022-08-31T11:04:16.990Z"
   },
   {
    "duration": 185,
    "start_time": "2022-08-31T11:05:42.281Z"
   },
   {
    "duration": 567,
    "start_time": "2022-08-31T11:05:45.344Z"
   },
   {
    "duration": 13,
    "start_time": "2022-08-31T11:06:06.226Z"
   },
   {
    "duration": 5,
    "start_time": "2022-08-31T11:06:07.520Z"
   },
   {
    "duration": 782,
    "start_time": "2022-08-31T11:06:29.122Z"
   },
   {
    "duration": 29,
    "start_time": "2022-08-31T11:06:29.906Z"
   },
   {
    "duration": 19,
    "start_time": "2022-08-31T11:06:29.936Z"
   },
   {
    "duration": 12,
    "start_time": "2022-08-31T11:06:29.957Z"
   },
   {
    "duration": 91,
    "start_time": "2022-08-31T11:06:29.970Z"
   },
   {
    "duration": 0,
    "start_time": "2022-08-31T11:06:30.063Z"
   },
   {
    "duration": 0,
    "start_time": "2022-08-31T11:06:30.064Z"
   },
   {
    "duration": 0,
    "start_time": "2022-08-31T11:06:30.066Z"
   },
   {
    "duration": 3,
    "start_time": "2022-08-31T11:06:36.439Z"
   },
   {
    "duration": 4,
    "start_time": "2022-08-31T11:06:38.456Z"
   },
   {
    "duration": 15,
    "start_time": "2022-08-31T11:06:50.726Z"
   },
   {
    "duration": 6,
    "start_time": "2022-08-31T11:06:51.270Z"
   },
   {
    "duration": 16,
    "start_time": "2022-08-31T11:07:15.919Z"
   },
   {
    "duration": 5,
    "start_time": "2022-08-31T11:07:36.096Z"
   },
   {
    "duration": 16,
    "start_time": "2022-08-31T11:08:33.378Z"
   },
   {
    "duration": 14,
    "start_time": "2022-08-31T11:09:28.977Z"
   },
   {
    "duration": 6,
    "start_time": "2022-08-31T11:09:30.195Z"
   },
   {
    "duration": 66,
    "start_time": "2022-08-31T18:34:22.465Z"
   },
   {
    "duration": 55,
    "start_time": "2022-08-31T18:34:34.534Z"
   },
   {
    "duration": 1103,
    "start_time": "2022-08-31T18:34:39.642Z"
   },
   {
    "duration": 32,
    "start_time": "2022-08-31T18:34:40.747Z"
   },
   {
    "duration": 28,
    "start_time": "2022-08-31T18:34:40.781Z"
   },
   {
    "duration": 13,
    "start_time": "2022-08-31T18:34:40.812Z"
   },
   {
    "duration": 16,
    "start_time": "2022-08-31T18:34:40.826Z"
   },
   {
    "duration": 17,
    "start_time": "2022-08-31T18:34:40.844Z"
   },
   {
    "duration": 28,
    "start_time": "2022-08-31T18:34:40.884Z"
   },
   {
    "duration": 6,
    "start_time": "2022-08-31T18:34:57.478Z"
   },
   {
    "duration": 29,
    "start_time": "2022-08-31T18:35:04.371Z"
   },
   {
    "duration": 8,
    "start_time": "2022-08-31T18:36:49.907Z"
   },
   {
    "duration": 6,
    "start_time": "2022-08-31T18:36:57.316Z"
   },
   {
    "duration": 8,
    "start_time": "2022-08-31T18:37:05.988Z"
   },
   {
    "duration": 8,
    "start_time": "2022-08-31T18:37:10.372Z"
   },
   {
    "duration": 6,
    "start_time": "2022-08-31T18:37:12.612Z"
   },
   {
    "duration": 1201,
    "start_time": "2022-08-31T18:37:21.077Z"
   },
   {
    "duration": 8,
    "start_time": "2022-08-31T18:37:31.869Z"
   },
   {
    "duration": 5,
    "start_time": "2022-08-31T18:37:42.812Z"
   },
   {
    "duration": 7,
    "start_time": "2022-08-31T18:40:08.201Z"
   },
   {
    "duration": 27,
    "start_time": "2022-08-31T19:01:06.830Z"
   },
   {
    "duration": 11,
    "start_time": "2022-08-31T19:05:42.000Z"
   },
   {
    "duration": 43,
    "start_time": "2022-08-31T19:05:46.236Z"
   },
   {
    "duration": 41,
    "start_time": "2022-08-31T19:05:58.198Z"
   },
   {
    "duration": 25,
    "start_time": "2022-08-31T19:06:19.630Z"
   },
   {
    "duration": 30,
    "start_time": "2022-08-31T19:09:37.784Z"
   },
   {
    "duration": 52,
    "start_time": "2022-09-01T11:59:07.815Z"
   },
   {
    "duration": 1223,
    "start_time": "2022-09-01T11:59:14.051Z"
   },
   {
    "duration": 27,
    "start_time": "2022-09-01T11:59:15.276Z"
   },
   {
    "duration": 16,
    "start_time": "2022-09-01T11:59:15.304Z"
   },
   {
    "duration": 11,
    "start_time": "2022-09-01T11:59:15.322Z"
   },
   {
    "duration": 12,
    "start_time": "2022-09-01T11:59:15.335Z"
   },
   {
    "duration": 14,
    "start_time": "2022-09-01T11:59:15.348Z"
   },
   {
    "duration": 47,
    "start_time": "2022-09-01T11:59:15.363Z"
   },
   {
    "duration": 1132,
    "start_time": "2022-09-01T11:59:15.412Z"
   },
   {
    "duration": 25,
    "start_time": "2022-09-01T11:59:22.356Z"
   },
   {
    "duration": 7,
    "start_time": "2022-09-01T12:00:04.909Z"
   },
   {
    "duration": 16,
    "start_time": "2022-09-01T12:04:31.567Z"
   },
   {
    "duration": 22,
    "start_time": "2022-09-01T12:05:15.834Z"
   },
   {
    "duration": 9,
    "start_time": "2022-09-01T12:05:38.551Z"
   },
   {
    "duration": 5,
    "start_time": "2022-09-01T12:05:47.643Z"
   },
   {
    "duration": 2986,
    "start_time": "2022-09-01T12:05:50.922Z"
   },
   {
    "duration": 5,
    "start_time": "2022-09-01T12:05:54.139Z"
   },
   {
    "duration": 6,
    "start_time": "2022-09-01T12:05:59.507Z"
   },
   {
    "duration": 23,
    "start_time": "2022-09-01T12:06:09.852Z"
   },
   {
    "duration": 23,
    "start_time": "2022-09-01T12:06:20.667Z"
   },
   {
    "duration": 16,
    "start_time": "2022-09-01T12:06:23.540Z"
   },
   {
    "duration": 15,
    "start_time": "2022-09-01T12:06:28.677Z"
   },
   {
    "duration": 7,
    "start_time": "2022-09-01T12:06:48.509Z"
   },
   {
    "duration": 16,
    "start_time": "2022-09-01T12:07:24.909Z"
   },
   {
    "duration": 8,
    "start_time": "2022-09-01T12:07:46.078Z"
   },
   {
    "duration": 9,
    "start_time": "2022-09-01T12:07:52.092Z"
   },
   {
    "duration": 19,
    "start_time": "2022-09-01T12:07:57.589Z"
   },
   {
    "duration": 8,
    "start_time": "2022-09-01T12:11:14.658Z"
   },
   {
    "duration": 9,
    "start_time": "2022-09-01T12:13:05.931Z"
   },
   {
    "duration": 8,
    "start_time": "2022-09-01T12:13:44.286Z"
   },
   {
    "duration": 16,
    "start_time": "2022-09-01T12:14:12.178Z"
   },
   {
    "duration": 12,
    "start_time": "2022-09-01T12:20:18.084Z"
   },
   {
    "duration": 15,
    "start_time": "2022-09-01T12:22:25.303Z"
   },
   {
    "duration": 8,
    "start_time": "2022-09-01T12:23:09.063Z"
   },
   {
    "duration": 6,
    "start_time": "2022-09-01T12:24:11.244Z"
   },
   {
    "duration": 422,
    "start_time": "2022-09-01T12:24:34.777Z"
   },
   {
    "duration": 4,
    "start_time": "2022-09-01T12:24:41.351Z"
   },
   {
    "duration": 6,
    "start_time": "2022-09-01T12:24:50.552Z"
   },
   {
    "duration": 4,
    "start_time": "2022-09-01T12:26:18.849Z"
   },
   {
    "duration": 9,
    "start_time": "2022-09-01T12:26:20.790Z"
   },
   {
    "duration": 4,
    "start_time": "2022-09-01T12:27:12.514Z"
   },
   {
    "duration": 9,
    "start_time": "2022-09-01T12:28:25.125Z"
   },
   {
    "duration": 113,
    "start_time": "2022-09-01T12:28:32.339Z"
   },
   {
    "duration": 4,
    "start_time": "2022-09-01T12:28:42.259Z"
   },
   {
    "duration": 57,
    "start_time": "2022-09-02T03:41:14.551Z"
   },
   {
    "duration": 1031,
    "start_time": "2022-09-02T03:41:19.928Z"
   },
   {
    "duration": 30,
    "start_time": "2022-09-02T03:41:20.961Z"
   },
   {
    "duration": 18,
    "start_time": "2022-09-02T03:41:20.992Z"
   },
   {
    "duration": 13,
    "start_time": "2022-09-02T03:41:21.012Z"
   },
   {
    "duration": 23,
    "start_time": "2022-09-02T03:41:21.027Z"
   },
   {
    "duration": 16,
    "start_time": "2022-09-02T03:41:21.051Z"
   },
   {
    "duration": 33,
    "start_time": "2022-09-02T03:41:21.069Z"
   },
   {
    "duration": 4,
    "start_time": "2022-09-02T03:41:21.103Z"
   },
   {
    "duration": 24,
    "start_time": "2022-09-02T03:41:21.109Z"
   },
   {
    "duration": 24,
    "start_time": "2022-09-02T03:41:21.135Z"
   },
   {
    "duration": 11,
    "start_time": "2022-09-02T03:41:21.161Z"
   },
   {
    "duration": 86,
    "start_time": "2022-09-02T03:41:21.173Z"
   },
   {
    "duration": 15,
    "start_time": "2022-09-02T03:41:36.910Z"
   },
   {
    "duration": 5,
    "start_time": "2022-09-02T03:41:44.670Z"
   },
   {
    "duration": 4,
    "start_time": "2022-09-02T03:42:05.630Z"
   },
   {
    "duration": 6,
    "start_time": "2022-09-02T03:42:36.478Z"
   },
   {
    "duration": 7,
    "start_time": "2022-09-02T03:42:54.713Z"
   },
   {
    "duration": 9,
    "start_time": "2022-09-02T03:42:58.687Z"
   },
   {
    "duration": 5,
    "start_time": "2022-09-02T03:43:01.505Z"
   },
   {
    "duration": 28,
    "start_time": "2022-09-02T03:43:12.831Z"
   },
   {
    "duration": 15,
    "start_time": "2022-09-02T03:56:44.289Z"
   },
   {
    "duration": 12,
    "start_time": "2022-09-02T03:57:06.306Z"
   },
   {
    "duration": 14,
    "start_time": "2022-09-02T03:57:13.290Z"
   },
   {
    "duration": 28,
    "start_time": "2022-09-02T03:57:41.627Z"
   },
   {
    "duration": 15,
    "start_time": "2022-09-02T03:57:52.801Z"
   },
   {
    "duration": 16,
    "start_time": "2022-09-02T03:58:32.803Z"
   },
   {
    "duration": 15,
    "start_time": "2022-09-02T03:58:43.339Z"
   },
   {
    "duration": 28,
    "start_time": "2022-09-02T03:59:03.843Z"
   },
   {
    "duration": 10,
    "start_time": "2022-09-02T03:59:14.908Z"
   },
   {
    "duration": 15,
    "start_time": "2022-09-02T03:59:21.370Z"
   },
   {
    "duration": 22,
    "start_time": "2022-09-02T04:01:21.759Z"
   },
   {
    "duration": 15,
    "start_time": "2022-09-02T04:01:27.758Z"
   },
   {
    "duration": 16,
    "start_time": "2022-09-02T04:01:30.597Z"
   },
   {
    "duration": 14,
    "start_time": "2022-09-02T04:01:33.468Z"
   },
   {
    "duration": 8,
    "start_time": "2022-09-02T04:02:00.655Z"
   },
   {
    "duration": 7,
    "start_time": "2022-09-02T04:02:06.854Z"
   },
   {
    "duration": 27,
    "start_time": "2022-09-02T04:02:13.215Z"
   },
   {
    "duration": 21,
    "start_time": "2022-09-02T04:02:26.306Z"
   },
   {
    "duration": 8,
    "start_time": "2022-09-02T04:02:43.362Z"
   },
   {
    "duration": 9,
    "start_time": "2022-09-02T04:02:51.919Z"
   },
   {
    "duration": 17,
    "start_time": "2022-09-02T04:03:54.393Z"
   },
   {
    "duration": 10,
    "start_time": "2022-09-02T04:03:56.047Z"
   },
   {
    "duration": 10,
    "start_time": "2022-09-02T04:03:56.607Z"
   },
   {
    "duration": 8,
    "start_time": "2022-09-02T04:04:24.161Z"
   },
   {
    "duration": 10,
    "start_time": "2022-09-02T04:04:25.096Z"
   },
   {
    "duration": 9,
    "start_time": "2022-09-02T04:04:25.545Z"
   },
   {
    "duration": 9,
    "start_time": "2022-09-02T04:04:56.050Z"
   },
   {
    "duration": 17,
    "start_time": "2022-09-02T04:05:08.960Z"
   },
   {
    "duration": 9,
    "start_time": "2022-09-02T04:05:23.932Z"
   },
   {
    "duration": 10,
    "start_time": "2022-09-02T04:05:29.402Z"
   },
   {
    "duration": 30,
    "start_time": "2022-09-02T04:05:41.803Z"
   },
   {
    "duration": 12,
    "start_time": "2022-09-02T04:05:52.432Z"
   },
   {
    "duration": 6,
    "start_time": "2022-09-02T04:05:53.698Z"
   },
   {
    "duration": 6,
    "start_time": "2022-09-02T04:05:54.026Z"
   },
   {
    "duration": 10,
    "start_time": "2022-09-02T04:05:55.922Z"
   },
   {
    "duration": 7,
    "start_time": "2022-09-02T04:05:56.122Z"
   },
   {
    "duration": 8,
    "start_time": "2022-09-02T04:05:56.290Z"
   },
   {
    "duration": 9,
    "start_time": "2022-09-02T04:06:00.291Z"
   },
   {
    "duration": 5,
    "start_time": "2022-09-02T04:06:00.450Z"
   },
   {
    "duration": 6,
    "start_time": "2022-09-02T04:06:00.682Z"
   },
   {
    "duration": 9,
    "start_time": "2022-09-02T04:06:02.369Z"
   },
   {
    "duration": 6,
    "start_time": "2022-09-02T04:06:02.554Z"
   },
   {
    "duration": 6,
    "start_time": "2022-09-02T04:06:02.737Z"
   },
   {
    "duration": 842,
    "start_time": "2022-09-02T04:06:08.080Z"
   },
   {
    "duration": 29,
    "start_time": "2022-09-02T04:06:08.924Z"
   },
   {
    "duration": 17,
    "start_time": "2022-09-02T04:06:08.955Z"
   },
   {
    "duration": 14,
    "start_time": "2022-09-02T04:06:08.973Z"
   },
   {
    "duration": 12,
    "start_time": "2022-09-02T04:06:08.989Z"
   },
   {
    "duration": 16,
    "start_time": "2022-09-02T04:06:09.003Z"
   },
   {
    "duration": 16,
    "start_time": "2022-09-02T04:06:09.021Z"
   },
   {
    "duration": 4,
    "start_time": "2022-09-02T04:06:09.039Z"
   },
   {
    "duration": 18,
    "start_time": "2022-09-02T04:06:09.044Z"
   },
   {
    "duration": 16,
    "start_time": "2022-09-02T04:06:09.088Z"
   },
   {
    "duration": 15,
    "start_time": "2022-09-02T04:06:09.106Z"
   },
   {
    "duration": 14,
    "start_time": "2022-09-02T04:06:09.123Z"
   },
   {
    "duration": 6,
    "start_time": "2022-09-02T04:06:09.139Z"
   },
   {
    "duration": 6,
    "start_time": "2022-09-02T04:06:09.147Z"
   },
   {
    "duration": 719,
    "start_time": "2022-09-02T04:06:24.622Z"
   },
   {
    "duration": 28,
    "start_time": "2022-09-02T04:06:25.342Z"
   },
   {
    "duration": 16,
    "start_time": "2022-09-02T04:06:25.371Z"
   },
   {
    "duration": 12,
    "start_time": "2022-09-02T04:06:25.389Z"
   },
   {
    "duration": 16,
    "start_time": "2022-09-02T04:06:25.402Z"
   },
   {
    "duration": 15,
    "start_time": "2022-09-02T04:06:25.419Z"
   },
   {
    "duration": 18,
    "start_time": "2022-09-02T04:06:25.435Z"
   },
   {
    "duration": 4,
    "start_time": "2022-09-02T04:06:25.455Z"
   },
   {
    "duration": 40,
    "start_time": "2022-09-02T04:06:25.461Z"
   },
   {
    "duration": 16,
    "start_time": "2022-09-02T04:06:25.503Z"
   },
   {
    "duration": 10,
    "start_time": "2022-09-02T04:06:25.521Z"
   },
   {
    "duration": 12,
    "start_time": "2022-09-02T04:06:25.532Z"
   },
   {
    "duration": 93,
    "start_time": "2022-09-02T04:06:25.546Z"
   },
   {
    "duration": 0,
    "start_time": "2022-09-02T04:06:25.640Z"
   },
   {
    "duration": 10,
    "start_time": "2022-09-02T04:06:46.328Z"
   },
   {
    "duration": 10,
    "start_time": "2022-09-02T04:06:56.227Z"
   },
   {
    "duration": 9,
    "start_time": "2022-09-02T04:07:00.193Z"
   },
   {
    "duration": 9,
    "start_time": "2022-09-02T04:07:00.400Z"
   },
   {
    "duration": 721,
    "start_time": "2022-09-02T04:07:05.512Z"
   },
   {
    "duration": 32,
    "start_time": "2022-09-02T04:07:06.235Z"
   },
   {
    "duration": 21,
    "start_time": "2022-09-02T04:07:06.269Z"
   },
   {
    "duration": 15,
    "start_time": "2022-09-02T04:07:06.293Z"
   },
   {
    "duration": 19,
    "start_time": "2022-09-02T04:07:06.310Z"
   },
   {
    "duration": 21,
    "start_time": "2022-09-02T04:07:06.331Z"
   },
   {
    "duration": 38,
    "start_time": "2022-09-02T04:07:06.353Z"
   },
   {
    "duration": 5,
    "start_time": "2022-09-02T04:07:06.393Z"
   },
   {
    "duration": 30,
    "start_time": "2022-09-02T04:07:06.400Z"
   },
   {
    "duration": 26,
    "start_time": "2022-09-02T04:07:06.433Z"
   },
   {
    "duration": 29,
    "start_time": "2022-09-02T04:07:06.461Z"
   },
   {
    "duration": 13,
    "start_time": "2022-09-02T04:07:06.492Z"
   },
   {
    "duration": 7,
    "start_time": "2022-09-02T04:07:06.506Z"
   },
   {
    "duration": 6,
    "start_time": "2022-09-02T04:07:06.515Z"
   },
   {
    "duration": 5,
    "start_time": "2022-09-02T04:07:12.639Z"
   },
   {
    "duration": 68,
    "start_time": "2022-09-02T04:07:13.383Z"
   },
   {
    "duration": 7,
    "start_time": "2022-09-02T04:07:14.168Z"
   },
   {
    "duration": 11,
    "start_time": "2022-09-02T04:07:30.048Z"
   },
   {
    "duration": 8,
    "start_time": "2022-09-02T04:07:49.496Z"
   },
   {
    "duration": 721,
    "start_time": "2022-09-02T04:07:57.390Z"
   },
   {
    "duration": 27,
    "start_time": "2022-09-02T04:07:58.113Z"
   },
   {
    "duration": 18,
    "start_time": "2022-09-02T04:07:58.141Z"
   },
   {
    "duration": 12,
    "start_time": "2022-09-02T04:07:58.161Z"
   },
   {
    "duration": 17,
    "start_time": "2022-09-02T04:07:58.175Z"
   },
   {
    "duration": 14,
    "start_time": "2022-09-02T04:07:58.193Z"
   },
   {
    "duration": 16,
    "start_time": "2022-09-02T04:07:58.208Z"
   },
   {
    "duration": 4,
    "start_time": "2022-09-02T04:07:58.225Z"
   },
   {
    "duration": 19,
    "start_time": "2022-09-02T04:07:58.231Z"
   },
   {
    "duration": 36,
    "start_time": "2022-09-02T04:07:58.252Z"
   },
   {
    "duration": 10,
    "start_time": "2022-09-02T04:07:58.290Z"
   },
   {
    "duration": 14,
    "start_time": "2022-09-02T04:07:58.302Z"
   },
   {
    "duration": 11,
    "start_time": "2022-09-02T04:07:58.318Z"
   },
   {
    "duration": 7,
    "start_time": "2022-09-02T04:07:58.331Z"
   },
   {
    "duration": 5,
    "start_time": "2022-09-02T04:07:58.339Z"
   },
   {
    "duration": 12,
    "start_time": "2022-09-02T04:08:21.733Z"
   },
   {
    "duration": 9,
    "start_time": "2022-09-02T04:09:14.054Z"
   },
   {
    "duration": 28,
    "start_time": "2022-09-02T04:09:18.205Z"
   },
   {
    "duration": 15,
    "start_time": "2022-09-02T04:09:31.158Z"
   },
   {
    "duration": 11,
    "start_time": "2022-09-02T04:10:23.560Z"
   },
   {
    "duration": 11,
    "start_time": "2022-09-02T04:10:29.542Z"
   },
   {
    "duration": 5,
    "start_time": "2022-09-02T04:10:40.792Z"
   },
   {
    "duration": 10,
    "start_time": "2022-09-02T04:10:41.862Z"
   },
   {
    "duration": 6,
    "start_time": "2022-09-02T04:11:06.081Z"
   },
   {
    "duration": 10,
    "start_time": "2022-09-02T04:11:06.503Z"
   },
   {
    "duration": 698,
    "start_time": "2022-09-02T04:11:10.925Z"
   },
   {
    "duration": 29,
    "start_time": "2022-09-02T04:11:11.625Z"
   },
   {
    "duration": 17,
    "start_time": "2022-09-02T04:11:11.655Z"
   },
   {
    "duration": 16,
    "start_time": "2022-09-02T04:11:11.674Z"
   },
   {
    "duration": 14,
    "start_time": "2022-09-02T04:11:11.691Z"
   },
   {
    "duration": 16,
    "start_time": "2022-09-02T04:11:11.707Z"
   },
   {
    "duration": 18,
    "start_time": "2022-09-02T04:11:11.725Z"
   },
   {
    "duration": 4,
    "start_time": "2022-09-02T04:11:11.745Z"
   },
   {
    "duration": 46,
    "start_time": "2022-09-02T04:11:11.751Z"
   },
   {
    "duration": 16,
    "start_time": "2022-09-02T04:11:11.799Z"
   },
   {
    "duration": 12,
    "start_time": "2022-09-02T04:11:11.817Z"
   },
   {
    "duration": 58,
    "start_time": "2022-09-02T04:11:11.830Z"
   },
   {
    "duration": 12,
    "start_time": "2022-09-02T04:11:11.890Z"
   },
   {
    "duration": 14,
    "start_time": "2022-09-02T04:11:11.905Z"
   },
   {
    "duration": 138,
    "start_time": "2022-09-02T04:11:45.425Z"
   },
   {
    "duration": 8,
    "start_time": "2022-09-02T04:11:49.520Z"
   },
   {
    "duration": 11,
    "start_time": "2022-09-02T04:11:50.301Z"
   },
   {
    "duration": 700,
    "start_time": "2022-09-02T04:12:35.534Z"
   },
   {
    "duration": 35,
    "start_time": "2022-09-02T04:12:36.236Z"
   },
   {
    "duration": 22,
    "start_time": "2022-09-02T04:12:36.273Z"
   },
   {
    "duration": 38,
    "start_time": "2022-09-02T04:12:36.298Z"
   },
   {
    "duration": 19,
    "start_time": "2022-09-02T04:12:36.339Z"
   },
   {
    "duration": 28,
    "start_time": "2022-09-02T04:12:36.361Z"
   },
   {
    "duration": 45,
    "start_time": "2022-09-02T04:12:36.393Z"
   },
   {
    "duration": 5,
    "start_time": "2022-09-02T04:12:36.441Z"
   },
   {
    "duration": 27,
    "start_time": "2022-09-02T04:12:36.448Z"
   },
   {
    "duration": 25,
    "start_time": "2022-09-02T04:12:36.478Z"
   },
   {
    "duration": 16,
    "start_time": "2022-09-02T04:12:36.505Z"
   },
   {
    "duration": 31,
    "start_time": "2022-09-02T04:12:36.522Z"
   },
   {
    "duration": 101,
    "start_time": "2022-09-02T04:12:36.554Z"
   },
   {
    "duration": 0,
    "start_time": "2022-09-02T04:12:36.658Z"
   },
   {
    "duration": 762,
    "start_time": "2022-09-02T04:12:57.880Z"
   },
   {
    "duration": 27,
    "start_time": "2022-09-02T04:12:58.643Z"
   },
   {
    "duration": 18,
    "start_time": "2022-09-02T04:12:58.671Z"
   },
   {
    "duration": 12,
    "start_time": "2022-09-02T04:12:58.691Z"
   },
   {
    "duration": 17,
    "start_time": "2022-09-02T04:12:58.704Z"
   },
   {
    "duration": 15,
    "start_time": "2022-09-02T04:12:58.722Z"
   },
   {
    "duration": 15,
    "start_time": "2022-09-02T04:12:58.738Z"
   },
   {
    "duration": 4,
    "start_time": "2022-09-02T04:12:58.754Z"
   },
   {
    "duration": 36,
    "start_time": "2022-09-02T04:12:58.759Z"
   },
   {
    "duration": 16,
    "start_time": "2022-09-02T04:12:58.797Z"
   },
   {
    "duration": 9,
    "start_time": "2022-09-02T04:12:58.815Z"
   },
   {
    "duration": 34,
    "start_time": "2022-09-02T04:12:58.825Z"
   },
   {
    "duration": 32,
    "start_time": "2022-09-02T04:12:58.860Z"
   },
   {
    "duration": 12,
    "start_time": "2022-09-02T04:12:58.894Z"
   },
   {
    "duration": 9,
    "start_time": "2022-09-02T04:13:17.392Z"
   },
   {
    "duration": 15,
    "start_time": "2022-09-02T04:13:19.208Z"
   },
   {
    "duration": 789,
    "start_time": "2022-09-02T04:13:26.122Z"
   },
   {
    "duration": 30,
    "start_time": "2022-09-02T04:13:26.912Z"
   },
   {
    "duration": 19,
    "start_time": "2022-09-02T04:13:26.943Z"
   },
   {
    "duration": 13,
    "start_time": "2022-09-02T04:13:26.964Z"
   },
   {
    "duration": 15,
    "start_time": "2022-09-02T04:13:26.978Z"
   },
   {
    "duration": 14,
    "start_time": "2022-09-02T04:13:26.995Z"
   },
   {
    "duration": 16,
    "start_time": "2022-09-02T04:13:27.010Z"
   },
   {
    "duration": 4,
    "start_time": "2022-09-02T04:13:27.027Z"
   },
   {
    "duration": 21,
    "start_time": "2022-09-02T04:13:27.032Z"
   },
   {
    "duration": 42,
    "start_time": "2022-09-02T04:13:27.056Z"
   },
   {
    "duration": 9,
    "start_time": "2022-09-02T04:13:27.100Z"
   },
   {
    "duration": 32,
    "start_time": "2022-09-02T04:13:27.111Z"
   },
   {
    "duration": 10,
    "start_time": "2022-09-02T04:13:27.145Z"
   },
   {
    "duration": 33,
    "start_time": "2022-09-02T04:13:27.156Z"
   },
   {
    "duration": 49,
    "start_time": "2022-09-02T04:13:58.523Z"
   },
   {
    "duration": 14,
    "start_time": "2022-09-02T04:14:02.659Z"
   },
   {
    "duration": 9,
    "start_time": "2022-09-02T04:14:17.556Z"
   },
   {
    "duration": 8,
    "start_time": "2022-09-02T04:14:18.475Z"
   },
   {
    "duration": 13,
    "start_time": "2022-09-02T04:14:20.459Z"
   },
   {
    "duration": 778,
    "start_time": "2022-09-02T04:14:36.162Z"
   },
   {
    "duration": 27,
    "start_time": "2022-09-02T04:14:36.942Z"
   },
   {
    "duration": 17,
    "start_time": "2022-09-02T04:14:36.971Z"
   },
   {
    "duration": 12,
    "start_time": "2022-09-02T04:14:36.990Z"
   },
   {
    "duration": 13,
    "start_time": "2022-09-02T04:14:37.004Z"
   },
   {
    "duration": 15,
    "start_time": "2022-09-02T04:14:37.019Z"
   },
   {
    "duration": 16,
    "start_time": "2022-09-02T04:14:37.036Z"
   },
   {
    "duration": 3,
    "start_time": "2022-09-02T04:14:37.054Z"
   },
   {
    "duration": 40,
    "start_time": "2022-09-02T04:14:37.059Z"
   },
   {
    "duration": 16,
    "start_time": "2022-09-02T04:14:37.101Z"
   },
   {
    "duration": 15,
    "start_time": "2022-09-02T04:14:37.118Z"
   },
   {
    "duration": 34,
    "start_time": "2022-09-02T04:14:37.134Z"
   },
   {
    "duration": 8,
    "start_time": "2022-09-02T04:14:37.187Z"
   },
   {
    "duration": 9,
    "start_time": "2022-09-02T04:14:37.196Z"
   },
   {
    "duration": 8,
    "start_time": "2022-09-02T04:14:37.207Z"
   },
   {
    "duration": 13,
    "start_time": "2022-09-02T04:14:37.216Z"
   },
   {
    "duration": 140,
    "start_time": "2022-09-02T04:15:04.578Z"
   },
   {
    "duration": 15,
    "start_time": "2022-09-02T04:15:08.823Z"
   },
   {
    "duration": 9,
    "start_time": "2022-09-02T04:16:10.843Z"
   },
   {
    "duration": 738,
    "start_time": "2022-09-02T04:16:16.661Z"
   },
   {
    "duration": 29,
    "start_time": "2022-09-02T04:16:17.401Z"
   },
   {
    "duration": 18,
    "start_time": "2022-09-02T04:16:17.432Z"
   },
   {
    "duration": 12,
    "start_time": "2022-09-02T04:16:17.452Z"
   },
   {
    "duration": 25,
    "start_time": "2022-09-02T04:16:17.466Z"
   },
   {
    "duration": 19,
    "start_time": "2022-09-02T04:16:17.493Z"
   },
   {
    "duration": 17,
    "start_time": "2022-09-02T04:16:17.514Z"
   },
   {
    "duration": 5,
    "start_time": "2022-09-02T04:16:17.533Z"
   },
   {
    "duration": 29,
    "start_time": "2022-09-02T04:16:17.540Z"
   },
   {
    "duration": 23,
    "start_time": "2022-09-02T04:16:17.586Z"
   },
   {
    "duration": 13,
    "start_time": "2022-09-02T04:16:17.611Z"
   },
   {
    "duration": 45,
    "start_time": "2022-09-02T04:16:17.626Z"
   },
   {
    "duration": 21,
    "start_time": "2022-09-02T04:16:17.673Z"
   },
   {
    "duration": 16,
    "start_time": "2022-09-02T04:16:17.695Z"
   },
   {
    "duration": 7,
    "start_time": "2022-09-02T04:16:17.713Z"
   },
   {
    "duration": 9,
    "start_time": "2022-09-02T04:16:17.722Z"
   },
   {
    "duration": 20,
    "start_time": "2022-09-02T04:16:17.733Z"
   },
   {
    "duration": 691,
    "start_time": "2022-09-02T04:16:41.722Z"
   },
   {
    "duration": 31,
    "start_time": "2022-09-02T04:16:42.415Z"
   },
   {
    "duration": 18,
    "start_time": "2022-09-02T04:16:42.448Z"
   },
   {
    "duration": 12,
    "start_time": "2022-09-02T04:16:42.468Z"
   },
   {
    "duration": 12,
    "start_time": "2022-09-02T04:16:42.482Z"
   },
   {
    "duration": 17,
    "start_time": "2022-09-02T04:16:42.495Z"
   },
   {
    "duration": 18,
    "start_time": "2022-09-02T04:16:42.514Z"
   },
   {
    "duration": 4,
    "start_time": "2022-09-02T04:16:42.534Z"
   },
   {
    "duration": 21,
    "start_time": "2022-09-02T04:16:42.539Z"
   },
   {
    "duration": 36,
    "start_time": "2022-09-02T04:16:42.562Z"
   },
   {
    "duration": 10,
    "start_time": "2022-09-02T04:16:42.600Z"
   },
   {
    "duration": 30,
    "start_time": "2022-09-02T04:16:42.611Z"
   },
   {
    "duration": 7,
    "start_time": "2022-09-02T04:16:42.643Z"
   },
   {
    "duration": 38,
    "start_time": "2022-09-02T04:16:42.651Z"
   },
   {
    "duration": 8,
    "start_time": "2022-09-02T04:16:42.690Z"
   },
   {
    "duration": 8,
    "start_time": "2022-09-02T04:16:42.700Z"
   },
   {
    "duration": 12,
    "start_time": "2022-09-02T04:16:42.709Z"
   },
   {
    "duration": 22,
    "start_time": "2022-09-02T04:17:55.349Z"
   },
   {
    "duration": 25,
    "start_time": "2022-09-02T04:18:42.870Z"
   },
   {
    "duration": 24,
    "start_time": "2022-09-02T04:18:55.910Z"
   },
   {
    "duration": 23,
    "start_time": "2022-09-02T04:18:58.478Z"
   },
   {
    "duration": 31,
    "start_time": "2022-09-02T04:19:10.823Z"
   },
   {
    "duration": 695,
    "start_time": "2022-09-02T04:19:16.734Z"
   },
   {
    "duration": 29,
    "start_time": "2022-09-02T04:19:17.430Z"
   },
   {
    "duration": 18,
    "start_time": "2022-09-02T04:19:17.460Z"
   },
   {
    "duration": 11,
    "start_time": "2022-09-02T04:19:17.480Z"
   },
   {
    "duration": 14,
    "start_time": "2022-09-02T04:19:17.493Z"
   },
   {
    "duration": 16,
    "start_time": "2022-09-02T04:19:17.508Z"
   },
   {
    "duration": 19,
    "start_time": "2022-09-02T04:19:17.526Z"
   },
   {
    "duration": 5,
    "start_time": "2022-09-02T04:19:17.547Z"
   },
   {
    "duration": 42,
    "start_time": "2022-09-02T04:19:17.553Z"
   },
   {
    "duration": 22,
    "start_time": "2022-09-02T04:19:17.597Z"
   },
   {
    "duration": 13,
    "start_time": "2022-09-02T04:19:17.621Z"
   },
   {
    "duration": 52,
    "start_time": "2022-09-02T04:19:17.635Z"
   },
   {
    "duration": 26,
    "start_time": "2022-09-02T04:20:53.341Z"
   },
   {
    "duration": 1186,
    "start_time": "2022-09-04T13:43:45.172Z"
   },
   {
    "duration": 35,
    "start_time": "2022-09-04T13:43:46.361Z"
   },
   {
    "duration": 25,
    "start_time": "2022-09-04T13:43:46.400Z"
   },
   {
    "duration": 17,
    "start_time": "2022-09-04T13:43:46.427Z"
   },
   {
    "duration": 18,
    "start_time": "2022-09-04T13:43:46.447Z"
   },
   {
    "duration": 33,
    "start_time": "2022-09-04T13:43:46.467Z"
   },
   {
    "duration": 19,
    "start_time": "2022-09-04T13:43:46.503Z"
   },
   {
    "duration": 5,
    "start_time": "2022-09-04T13:43:46.524Z"
   },
   {
    "duration": 29,
    "start_time": "2022-09-04T13:43:46.531Z"
   },
   {
    "duration": 45,
    "start_time": "2022-09-04T13:43:46.562Z"
   },
   {
    "duration": 12,
    "start_time": "2022-09-04T13:43:46.609Z"
   },
   {
    "duration": 31,
    "start_time": "2022-09-04T13:43:46.622Z"
   },
   {
    "duration": 30,
    "start_time": "2022-09-04T13:44:50.799Z"
   },
   {
    "duration": 32,
    "start_time": "2022-09-04T13:45:08.022Z"
   },
   {
    "duration": 8,
    "start_time": "2022-09-04T13:45:26.874Z"
   },
   {
    "duration": 80,
    "start_time": "2022-09-04T13:45:39.175Z"
   },
   {
    "duration": 9,
    "start_time": "2022-09-04T13:45:42.723Z"
   },
   {
    "duration": 7,
    "start_time": "2022-09-04T13:46:01.599Z"
   },
   {
    "duration": 6,
    "start_time": "2022-09-04T13:46:12.804Z"
   },
   {
    "duration": 5,
    "start_time": "2022-09-04T13:46:16.837Z"
   },
   {
    "duration": 6,
    "start_time": "2022-09-04T13:46:19.017Z"
   },
   {
    "duration": 19,
    "start_time": "2022-09-04T13:47:01.375Z"
   },
   {
    "duration": 7,
    "start_time": "2022-09-04T13:47:10.545Z"
   },
   {
    "duration": 11,
    "start_time": "2022-09-04T13:47:23.101Z"
   },
   {
    "duration": 7,
    "start_time": "2022-09-04T13:47:27.175Z"
   },
   {
    "duration": 10,
    "start_time": "2022-09-04T13:47:30.139Z"
   },
   {
    "duration": 15,
    "start_time": "2022-09-04T13:47:35.798Z"
   },
   {
    "duration": 53,
    "start_time": "2022-09-04T13:47:40.129Z"
   },
   {
    "duration": 5,
    "start_time": "2022-09-04T13:47:44.771Z"
   },
   {
    "duration": 6,
    "start_time": "2022-09-04T13:47:47.972Z"
   },
   {
    "duration": 8,
    "start_time": "2022-09-04T13:50:58.370Z"
   },
   {
    "duration": 10,
    "start_time": "2022-09-04T13:51:30.006Z"
   },
   {
    "duration": 8,
    "start_time": "2022-09-04T13:52:25.331Z"
   },
   {
    "duration": 30,
    "start_time": "2022-09-04T13:52:38.615Z"
   },
   {
    "duration": 6,
    "start_time": "2022-09-04T13:52:49.302Z"
   },
   {
    "duration": 5,
    "start_time": "2022-09-04T13:53:13.830Z"
   },
   {
    "duration": 4,
    "start_time": "2022-09-04T13:53:41.741Z"
   },
   {
    "duration": 5,
    "start_time": "2022-09-04T13:54:59.074Z"
   },
   {
    "duration": 17,
    "start_time": "2022-09-04T13:55:11.484Z"
   },
   {
    "duration": 5,
    "start_time": "2022-09-04T13:56:47.072Z"
   },
   {
    "duration": 7,
    "start_time": "2022-09-04T13:56:56.419Z"
   },
   {
    "duration": 5,
    "start_time": "2022-09-04T13:57:06.044Z"
   },
   {
    "duration": 5,
    "start_time": "2022-09-04T13:57:20.704Z"
   },
   {
    "duration": 6,
    "start_time": "2022-09-04T13:57:31.544Z"
   },
   {
    "duration": 4,
    "start_time": "2022-09-04T13:57:34.172Z"
   },
   {
    "duration": 4,
    "start_time": "2022-09-04T13:57:49.431Z"
   },
   {
    "duration": 6,
    "start_time": "2022-09-04T13:57:53.446Z"
   },
   {
    "duration": 5,
    "start_time": "2022-09-04T14:01:24.146Z"
   },
   {
    "duration": 5,
    "start_time": "2022-09-04T14:03:12.037Z"
   },
   {
    "duration": 5,
    "start_time": "2022-09-04T14:03:14.874Z"
   },
   {
    "duration": 6,
    "start_time": "2022-09-04T14:03:19.030Z"
   },
   {
    "duration": 5,
    "start_time": "2022-09-04T14:03:22.035Z"
   },
   {
    "duration": 10,
    "start_time": "2022-09-04T14:04:10.179Z"
   },
   {
    "duration": 11,
    "start_time": "2022-09-04T14:05:36.412Z"
   },
   {
    "duration": 12,
    "start_time": "2022-09-04T14:05:43.787Z"
   },
   {
    "duration": 9,
    "start_time": "2022-09-04T14:05:52.931Z"
   },
   {
    "duration": 11,
    "start_time": "2022-09-04T14:06:06.119Z"
   },
   {
    "duration": 10,
    "start_time": "2022-09-04T14:06:11.750Z"
   },
   {
    "duration": 7,
    "start_time": "2022-09-04T14:06:25.800Z"
   },
   {
    "duration": 7,
    "start_time": "2022-09-04T14:06:41.014Z"
   },
   {
    "duration": 15,
    "start_time": "2022-09-04T14:06:46.499Z"
   },
   {
    "duration": 15,
    "start_time": "2022-09-04T14:06:57.398Z"
   },
   {
    "duration": 100,
    "start_time": "2022-09-04T14:07:10.194Z"
   },
   {
    "duration": 10,
    "start_time": "2022-09-04T14:07:47.950Z"
   },
   {
    "duration": 9,
    "start_time": "2022-09-04T14:07:54.036Z"
   },
   {
    "duration": 10,
    "start_time": "2022-09-04T14:08:06.127Z"
   },
   {
    "duration": 723,
    "start_time": "2022-09-04T14:08:12.358Z"
   },
   {
    "duration": 40,
    "start_time": "2022-09-04T14:08:13.083Z"
   },
   {
    "duration": 17,
    "start_time": "2022-09-04T14:08:13.125Z"
   },
   {
    "duration": 12,
    "start_time": "2022-09-04T14:08:13.144Z"
   },
   {
    "duration": 20,
    "start_time": "2022-09-04T14:08:13.158Z"
   },
   {
    "duration": 20,
    "start_time": "2022-09-04T14:08:13.180Z"
   },
   {
    "duration": 18,
    "start_time": "2022-09-04T14:08:13.202Z"
   },
   {
    "duration": 4,
    "start_time": "2022-09-04T14:08:13.222Z"
   },
   {
    "duration": 20,
    "start_time": "2022-09-04T14:08:13.227Z"
   },
   {
    "duration": 17,
    "start_time": "2022-09-04T14:08:13.249Z"
   },
   {
    "duration": 14,
    "start_time": "2022-09-04T14:08:13.287Z"
   },
   {
    "duration": 6,
    "start_time": "2022-09-04T14:08:13.303Z"
   },
   {
    "duration": 22,
    "start_time": "2022-09-04T14:08:13.311Z"
   },
   {
    "duration": 10,
    "start_time": "2022-09-04T14:08:13.335Z"
   },
   {
    "duration": 66,
    "start_time": "2022-09-04T14:08:13.346Z"
   },
   {
    "duration": 4,
    "start_time": "2022-09-04T14:08:13.413Z"
   },
   {
    "duration": 14,
    "start_time": "2022-09-04T14:08:13.420Z"
   },
   {
    "duration": 6,
    "start_time": "2022-09-04T14:08:13.435Z"
   },
   {
    "duration": 9,
    "start_time": "2022-09-04T14:08:25.098Z"
   },
   {
    "duration": 15,
    "start_time": "2022-09-04T14:08:33.200Z"
   },
   {
    "duration": 69,
    "start_time": "2022-09-04T14:09:16.802Z"
   },
   {
    "duration": 8,
    "start_time": "2022-09-04T14:09:30.303Z"
   },
   {
    "duration": 6,
    "start_time": "2022-09-04T14:10:11.856Z"
   },
   {
    "duration": 11,
    "start_time": "2022-09-04T14:10:19.109Z"
   },
   {
    "duration": 56,
    "start_time": "2022-09-04T14:10:26.645Z"
   },
   {
    "duration": 11,
    "start_time": "2022-09-04T14:10:29.552Z"
   },
   {
    "duration": 6,
    "start_time": "2022-09-04T14:10:31.979Z"
   },
   {
    "duration": 10,
    "start_time": "2022-09-04T14:10:41.503Z"
   },
   {
    "duration": 13,
    "start_time": "2022-09-04T14:10:45.563Z"
   },
   {
    "duration": 4,
    "start_time": "2022-09-04T14:11:37.781Z"
   },
   {
    "duration": 10,
    "start_time": "2022-09-04T14:11:43.753Z"
   },
   {
    "duration": 5,
    "start_time": "2022-09-04T14:11:44.164Z"
   },
   {
    "duration": 7,
    "start_time": "2022-09-04T14:12:04.215Z"
   },
   {
    "duration": 9,
    "start_time": "2022-09-04T14:12:19.735Z"
   },
   {
    "duration": 7,
    "start_time": "2022-09-04T14:12:26.829Z"
   },
   {
    "duration": 54,
    "start_time": "2022-09-04T14:15:53.982Z"
   },
   {
    "duration": 59,
    "start_time": "2022-09-04T14:16:02.982Z"
   },
   {
    "duration": 13,
    "start_time": "2022-09-04T14:16:14.606Z"
   },
   {
    "duration": 18,
    "start_time": "2022-09-04T14:16:16.357Z"
   },
   {
    "duration": 4,
    "start_time": "2022-09-04T14:16:59.635Z"
   },
   {
    "duration": 12,
    "start_time": "2022-09-04T14:17:00.985Z"
   },
   {
    "duration": 8,
    "start_time": "2022-09-04T14:17:01.927Z"
   },
   {
    "duration": 4,
    "start_time": "2022-09-04T14:17:02.638Z"
   },
   {
    "duration": 6,
    "start_time": "2022-09-04T14:17:10.997Z"
   },
   {
    "duration": 13,
    "start_time": "2022-09-04T14:17:58.302Z"
   },
   {
    "duration": 6,
    "start_time": "2022-09-04T14:18:16.473Z"
   },
   {
    "duration": 12,
    "start_time": "2022-09-04T14:18:31.402Z"
   },
   {
    "duration": 6,
    "start_time": "2022-09-04T14:18:36.141Z"
   },
   {
    "duration": 14,
    "start_time": "2022-09-04T14:22:23.265Z"
   },
   {
    "duration": 24,
    "start_time": "2022-09-04T14:22:49.382Z"
   },
   {
    "duration": 4,
    "start_time": "2022-09-04T14:23:14.541Z"
   },
   {
    "duration": 5,
    "start_time": "2022-09-04T14:23:30.799Z"
   },
   {
    "duration": 8,
    "start_time": "2022-09-04T14:23:41.757Z"
   },
   {
    "duration": 8,
    "start_time": "2022-09-04T14:23:47.833Z"
   },
   {
    "duration": 5,
    "start_time": "2022-09-04T14:23:50.228Z"
   },
   {
    "duration": 5,
    "start_time": "2022-09-04T14:23:57.805Z"
   },
   {
    "duration": 742,
    "start_time": "2022-09-04T14:24:10.932Z"
   },
   {
    "duration": 34,
    "start_time": "2022-09-04T14:24:11.676Z"
   },
   {
    "duration": 18,
    "start_time": "2022-09-04T14:24:11.712Z"
   },
   {
    "duration": 18,
    "start_time": "2022-09-04T14:24:11.732Z"
   },
   {
    "duration": 13,
    "start_time": "2022-09-04T14:24:11.751Z"
   },
   {
    "duration": 36,
    "start_time": "2022-09-04T14:24:11.766Z"
   },
   {
    "duration": 18,
    "start_time": "2022-09-04T14:24:11.804Z"
   },
   {
    "duration": 4,
    "start_time": "2022-09-04T14:24:11.824Z"
   },
   {
    "duration": 20,
    "start_time": "2022-09-04T14:24:11.829Z"
   },
   {
    "duration": 49,
    "start_time": "2022-09-04T14:24:11.851Z"
   },
   {
    "duration": 10,
    "start_time": "2022-09-04T14:24:11.902Z"
   },
   {
    "duration": 5,
    "start_time": "2022-09-04T14:24:11.914Z"
   },
   {
    "duration": 15,
    "start_time": "2022-09-04T14:24:11.920Z"
   },
   {
    "duration": 4,
    "start_time": "2022-09-04T14:24:11.938Z"
   },
   {
    "duration": 5,
    "start_time": "2022-09-04T14:24:11.944Z"
   },
   {
    "duration": 45,
    "start_time": "2022-09-04T14:24:11.951Z"
   },
   {
    "duration": 6,
    "start_time": "2022-09-04T14:24:12.000Z"
   },
   {
    "duration": 10,
    "start_time": "2022-09-04T14:24:12.008Z"
   },
   {
    "duration": 27,
    "start_time": "2022-09-04T14:24:12.020Z"
   },
   {
    "duration": 44,
    "start_time": "2022-09-04T14:24:12.048Z"
   },
   {
    "duration": 20,
    "start_time": "2022-09-04T14:24:12.094Z"
   },
   {
    "duration": 14,
    "start_time": "2022-09-04T14:24:12.115Z"
   },
   {
    "duration": 67,
    "start_time": "2022-09-04T14:24:12.132Z"
   },
   {
    "duration": 4,
    "start_time": "2022-09-04T14:24:12.202Z"
   },
   {
    "duration": 14,
    "start_time": "2022-09-04T14:24:12.208Z"
   },
   {
    "duration": 7,
    "start_time": "2022-09-04T14:24:12.223Z"
   },
   {
    "duration": 15,
    "start_time": "2022-09-04T14:25:10.598Z"
   },
   {
    "duration": 5,
    "start_time": "2022-09-04T14:26:03.859Z"
   },
   {
    "duration": 5,
    "start_time": "2022-09-04T14:26:08.818Z"
   },
   {
    "duration": 9,
    "start_time": "2022-09-04T14:26:09.206Z"
   },
   {
    "duration": 5,
    "start_time": "2022-09-04T14:26:09.806Z"
   },
   {
    "duration": 22,
    "start_time": "2022-09-04T14:26:52.776Z"
   },
   {
    "duration": 12,
    "start_time": "2022-09-04T14:31:49.309Z"
   },
   {
    "duration": 1363,
    "start_time": "2022-09-04T16:00:38.168Z"
   },
   {
    "duration": 30,
    "start_time": "2022-09-04T16:00:39.534Z"
   },
   {
    "duration": 18,
    "start_time": "2022-09-04T16:00:39.565Z"
   },
   {
    "duration": 31,
    "start_time": "2022-09-04T16:00:39.585Z"
   },
   {
    "duration": 33,
    "start_time": "2022-09-04T16:00:39.619Z"
   },
   {
    "duration": 58,
    "start_time": "2022-09-04T16:00:39.653Z"
   },
   {
    "duration": 32,
    "start_time": "2022-09-04T16:00:39.713Z"
   },
   {
    "duration": 11,
    "start_time": "2022-09-04T16:00:39.747Z"
   },
   {
    "duration": 98,
    "start_time": "2022-09-04T16:00:39.762Z"
   },
   {
    "duration": 28,
    "start_time": "2022-09-04T16:00:39.863Z"
   },
   {
    "duration": 55,
    "start_time": "2022-09-04T16:00:39.893Z"
   },
   {
    "duration": 55,
    "start_time": "2022-09-04T16:00:39.950Z"
   },
   {
    "duration": 23,
    "start_time": "2022-09-04T16:00:40.008Z"
   },
   {
    "duration": 40,
    "start_time": "2022-09-04T16:00:40.032Z"
   },
   {
    "duration": 27,
    "start_time": "2022-09-04T16:00:40.074Z"
   },
   {
    "duration": 24,
    "start_time": "2022-09-04T16:00:40.108Z"
   },
   {
    "duration": 33,
    "start_time": "2022-09-04T16:00:40.133Z"
   },
   {
    "duration": 63,
    "start_time": "2022-09-04T16:00:40.168Z"
   },
   {
    "duration": 19,
    "start_time": "2022-09-04T16:00:40.234Z"
   },
   {
    "duration": 28,
    "start_time": "2022-09-04T16:00:40.255Z"
   },
   {
    "duration": 49,
    "start_time": "2022-09-05T03:13:39.715Z"
   },
   {
    "duration": 1151,
    "start_time": "2022-09-05T03:13:44.404Z"
   },
   {
    "duration": 32,
    "start_time": "2022-09-05T03:13:45.557Z"
   },
   {
    "duration": 20,
    "start_time": "2022-09-05T03:13:45.591Z"
   },
   {
    "duration": 15,
    "start_time": "2022-09-05T03:13:45.613Z"
   },
   {
    "duration": 15,
    "start_time": "2022-09-05T03:13:45.629Z"
   },
   {
    "duration": 16,
    "start_time": "2022-09-05T03:13:45.645Z"
   },
   {
    "duration": 47,
    "start_time": "2022-09-05T03:13:45.663Z"
   },
   {
    "duration": 5,
    "start_time": "2022-09-05T03:13:45.713Z"
   },
   {
    "duration": 20,
    "start_time": "2022-09-05T03:13:45.720Z"
   },
   {
    "duration": 18,
    "start_time": "2022-09-05T03:13:45.743Z"
   },
   {
    "duration": 12,
    "start_time": "2022-09-05T03:13:45.763Z"
   },
   {
    "duration": 40,
    "start_time": "2022-09-05T03:13:45.777Z"
   },
   {
    "duration": 5,
    "start_time": "2022-09-05T03:13:45.819Z"
   },
   {
    "duration": 16,
    "start_time": "2022-09-05T03:13:45.826Z"
   },
   {
    "duration": 21,
    "start_time": "2022-09-05T03:13:45.843Z"
   },
   {
    "duration": 56,
    "start_time": "2022-09-05T03:13:45.866Z"
   },
   {
    "duration": 18,
    "start_time": "2022-09-05T03:13:45.924Z"
   },
   {
    "duration": 24,
    "start_time": "2022-09-05T03:13:45.944Z"
   },
   {
    "duration": 53,
    "start_time": "2022-09-05T03:13:45.970Z"
   },
   {
    "duration": 8,
    "start_time": "2022-09-05T03:13:46.025Z"
   },
   {
    "duration": 30,
    "start_time": "2022-09-05T03:13:46.035Z"
   },
   {
    "duration": 9,
    "start_time": "2022-09-05T03:14:02.410Z"
   },
   {
    "duration": 10,
    "start_time": "2022-09-05T03:14:12.449Z"
   },
   {
    "duration": 5,
    "start_time": "2022-09-05T03:14:15.610Z"
   },
   {
    "duration": 7,
    "start_time": "2022-09-05T03:14:21.875Z"
   },
   {
    "duration": 9,
    "start_time": "2022-09-05T03:14:32.531Z"
   },
   {
    "duration": 5,
    "start_time": "2022-09-05T03:14:45.995Z"
   },
   {
    "duration": 58,
    "start_time": "2022-09-05T03:14:51.811Z"
   },
   {
    "duration": 13,
    "start_time": "2022-09-05T03:14:53.915Z"
   },
   {
    "duration": 711,
    "start_time": "2022-09-05T03:17:58.273Z"
   },
   {
    "duration": 25,
    "start_time": "2022-09-05T03:17:58.986Z"
   },
   {
    "duration": 16,
    "start_time": "2022-09-05T03:17:59.013Z"
   },
   {
    "duration": 12,
    "start_time": "2022-09-05T03:17:59.030Z"
   },
   {
    "duration": 14,
    "start_time": "2022-09-05T03:17:59.043Z"
   },
   {
    "duration": 15,
    "start_time": "2022-09-05T03:17:59.058Z"
   },
   {
    "duration": 39,
    "start_time": "2022-09-05T03:17:59.074Z"
   },
   {
    "duration": 4,
    "start_time": "2022-09-05T03:17:59.114Z"
   },
   {
    "duration": 19,
    "start_time": "2022-09-05T03:17:59.120Z"
   },
   {
    "duration": 16,
    "start_time": "2022-09-05T03:17:59.141Z"
   },
   {
    "duration": 11,
    "start_time": "2022-09-05T03:17:59.158Z"
   },
   {
    "duration": 39,
    "start_time": "2022-09-05T03:17:59.171Z"
   },
   {
    "duration": 3,
    "start_time": "2022-09-05T03:17:59.212Z"
   },
   {
    "duration": 12,
    "start_time": "2022-09-05T03:17:59.217Z"
   },
   {
    "duration": 26,
    "start_time": "2022-09-05T03:17:59.231Z"
   },
   {
    "duration": 12,
    "start_time": "2022-09-05T03:17:59.258Z"
   },
   {
    "duration": 39,
    "start_time": "2022-09-05T03:17:59.272Z"
   },
   {
    "duration": 14,
    "start_time": "2022-09-05T03:17:59.313Z"
   },
   {
    "duration": 13,
    "start_time": "2022-09-05T03:17:59.328Z"
   },
   {
    "duration": 13,
    "start_time": "2022-09-05T03:17:59.342Z"
   },
   {
    "duration": 13,
    "start_time": "2022-09-05T03:17:59.357Z"
   },
   {
    "duration": 72,
    "start_time": "2022-09-05T03:23:57.864Z"
   },
   {
    "duration": 9,
    "start_time": "2022-09-05T03:24:22.117Z"
   },
   {
    "duration": 47,
    "start_time": "2022-09-05T03:24:32.069Z"
   },
   {
    "duration": 37,
    "start_time": "2022-09-05T03:24:35.460Z"
   },
   {
    "duration": 61,
    "start_time": "2022-09-05T03:26:33.740Z"
   },
   {
    "duration": 60,
    "start_time": "2022-09-05T03:26:39.950Z"
   },
   {
    "duration": 77,
    "start_time": "2022-09-05T03:26:46.968Z"
   },
   {
    "duration": 72,
    "start_time": "2022-09-05T03:26:51.774Z"
   },
   {
    "duration": 63,
    "start_time": "2022-09-05T03:27:00.929Z"
   },
   {
    "duration": 739,
    "start_time": "2022-09-05T03:27:38.396Z"
   },
   {
    "duration": 28,
    "start_time": "2022-09-05T03:27:39.137Z"
   },
   {
    "duration": 16,
    "start_time": "2022-09-05T03:27:39.167Z"
   },
   {
    "duration": 12,
    "start_time": "2022-09-05T03:27:39.185Z"
   },
   {
    "duration": 13,
    "start_time": "2022-09-05T03:27:39.198Z"
   },
   {
    "duration": 15,
    "start_time": "2022-09-05T03:27:39.212Z"
   },
   {
    "duration": 15,
    "start_time": "2022-09-05T03:27:39.228Z"
   },
   {
    "duration": 3,
    "start_time": "2022-09-05T03:27:39.245Z"
   },
   {
    "duration": 20,
    "start_time": "2022-09-05T03:27:39.250Z"
   },
   {
    "duration": 38,
    "start_time": "2022-09-05T03:27:39.272Z"
   },
   {
    "duration": 9,
    "start_time": "2022-09-05T03:27:39.311Z"
   },
   {
    "duration": 9,
    "start_time": "2022-09-05T03:27:39.321Z"
   },
   {
    "duration": 4,
    "start_time": "2022-09-05T03:27:39.332Z"
   },
   {
    "duration": 13,
    "start_time": "2022-09-05T03:27:39.337Z"
   },
   {
    "duration": 17,
    "start_time": "2022-09-05T03:27:39.351Z"
   },
   {
    "duration": 50,
    "start_time": "2022-09-05T03:27:39.369Z"
   },
   {
    "duration": 14,
    "start_time": "2022-09-05T03:27:39.421Z"
   },
   {
    "duration": 12,
    "start_time": "2022-09-05T03:27:39.436Z"
   },
   {
    "duration": 11,
    "start_time": "2022-09-05T03:27:39.450Z"
   },
   {
    "duration": 7,
    "start_time": "2022-09-05T03:27:39.462Z"
   },
   {
    "duration": 66,
    "start_time": "2022-09-05T03:27:39.470Z"
   },
   {
    "duration": 89,
    "start_time": "2022-09-05T03:27:39.537Z"
   },
   {
    "duration": 761,
    "start_time": "2022-09-05T03:27:58.405Z"
   },
   {
    "duration": 29,
    "start_time": "2022-09-05T03:27:59.168Z"
   },
   {
    "duration": 18,
    "start_time": "2022-09-05T03:27:59.199Z"
   },
   {
    "duration": 11,
    "start_time": "2022-09-05T03:27:59.219Z"
   },
   {
    "duration": 14,
    "start_time": "2022-09-05T03:27:59.232Z"
   },
   {
    "duration": 17,
    "start_time": "2022-09-05T03:27:59.248Z"
   },
   {
    "duration": 17,
    "start_time": "2022-09-05T03:27:59.267Z"
   },
   {
    "duration": 23,
    "start_time": "2022-09-05T03:27:59.286Z"
   },
   {
    "duration": 16,
    "start_time": "2022-09-05T03:27:59.311Z"
   },
   {
    "duration": 17,
    "start_time": "2022-09-05T03:27:59.329Z"
   },
   {
    "duration": 12,
    "start_time": "2022-09-05T03:27:59.347Z"
   },
   {
    "duration": 10,
    "start_time": "2022-09-05T03:27:59.361Z"
   },
   {
    "duration": 4,
    "start_time": "2022-09-05T03:27:59.372Z"
   },
   {
    "duration": 20,
    "start_time": "2022-09-05T03:27:59.409Z"
   },
   {
    "duration": 27,
    "start_time": "2022-09-05T03:27:59.431Z"
   },
   {
    "duration": 16,
    "start_time": "2022-09-05T03:27:59.460Z"
   },
   {
    "duration": 42,
    "start_time": "2022-09-05T03:27:59.477Z"
   },
   {
    "duration": 12,
    "start_time": "2022-09-05T03:27:59.521Z"
   },
   {
    "duration": 11,
    "start_time": "2022-09-05T03:27:59.535Z"
   },
   {
    "duration": 7,
    "start_time": "2022-09-05T03:27:59.547Z"
   },
   {
    "duration": 57,
    "start_time": "2022-09-05T03:27:59.555Z"
   },
   {
    "duration": 62,
    "start_time": "2022-09-05T03:27:59.613Z"
   },
   {
    "duration": 28,
    "start_time": "2022-09-05T03:31:16.017Z"
   },
   {
    "duration": 33,
    "start_time": "2022-09-05T03:34:02.173Z"
   },
   {
    "duration": 5,
    "start_time": "2022-09-05T03:34:11.844Z"
   },
   {
    "duration": 7,
    "start_time": "2022-09-05T03:34:26.301Z"
   },
   {
    "duration": 6,
    "start_time": "2022-09-05T03:35:07.718Z"
   },
   {
    "duration": 719,
    "start_time": "2022-09-05T03:36:11.712Z"
   },
   {
    "duration": 28,
    "start_time": "2022-09-05T03:36:12.433Z"
   },
   {
    "duration": 17,
    "start_time": "2022-09-05T03:36:12.463Z"
   },
   {
    "duration": 12,
    "start_time": "2022-09-05T03:36:12.482Z"
   },
   {
    "duration": 17,
    "start_time": "2022-09-05T03:36:12.496Z"
   },
   {
    "duration": 15,
    "start_time": "2022-09-05T03:36:12.514Z"
   },
   {
    "duration": 17,
    "start_time": "2022-09-05T03:36:12.530Z"
   },
   {
    "duration": 4,
    "start_time": "2022-09-05T03:36:12.549Z"
   },
   {
    "duration": 21,
    "start_time": "2022-09-05T03:36:12.555Z"
   },
   {
    "duration": 41,
    "start_time": "2022-09-05T03:36:12.579Z"
   },
   {
    "duration": 10,
    "start_time": "2022-09-05T03:36:12.622Z"
   },
   {
    "duration": 31,
    "start_time": "2022-09-05T03:36:12.634Z"
   },
   {
    "duration": 5,
    "start_time": "2022-09-05T03:36:12.667Z"
   },
   {
    "duration": 39,
    "start_time": "2022-09-05T03:36:12.674Z"
   },
   {
    "duration": 97,
    "start_time": "2022-09-05T03:36:12.715Z"
   },
   {
    "duration": 69,
    "start_time": "2022-09-05T03:36:28.843Z"
   },
   {
    "duration": 741,
    "start_time": "2022-09-05T03:36:34.991Z"
   },
   {
    "duration": 28,
    "start_time": "2022-09-05T03:36:35.734Z"
   },
   {
    "duration": 17,
    "start_time": "2022-09-05T03:36:35.766Z"
   },
   {
    "duration": 13,
    "start_time": "2022-09-05T03:36:35.785Z"
   },
   {
    "duration": 15,
    "start_time": "2022-09-05T03:36:35.800Z"
   },
   {
    "duration": 14,
    "start_time": "2022-09-05T03:36:35.816Z"
   },
   {
    "duration": 16,
    "start_time": "2022-09-05T03:36:35.832Z"
   },
   {
    "duration": 4,
    "start_time": "2022-09-05T03:36:35.849Z"
   },
   {
    "duration": 30,
    "start_time": "2022-09-05T03:36:35.855Z"
   },
   {
    "duration": 33,
    "start_time": "2022-09-05T03:36:35.886Z"
   },
   {
    "duration": 10,
    "start_time": "2022-09-05T03:36:35.921Z"
   },
   {
    "duration": 44,
    "start_time": "2022-09-05T03:36:35.933Z"
   },
   {
    "duration": 31,
    "start_time": "2022-09-05T03:36:35.979Z"
   },
   {
    "duration": 9,
    "start_time": "2022-09-05T03:36:36.012Z"
   },
   {
    "duration": 108,
    "start_time": "2022-09-05T03:36:36.023Z"
   },
   {
    "duration": 48,
    "start_time": "2022-09-05T15:21:08.644Z"
   },
   {
    "duration": 1302,
    "start_time": "2022-09-05T15:21:12.796Z"
   },
   {
    "duration": 33,
    "start_time": "2022-09-05T15:21:14.100Z"
   },
   {
    "duration": 21,
    "start_time": "2022-09-05T15:21:14.134Z"
   },
   {
    "duration": 12,
    "start_time": "2022-09-05T15:21:14.157Z"
   },
   {
    "duration": 17,
    "start_time": "2022-09-05T15:21:14.171Z"
   },
   {
    "duration": 15,
    "start_time": "2022-09-05T15:21:14.190Z"
   },
   {
    "duration": 20,
    "start_time": "2022-09-05T15:21:14.207Z"
   },
   {
    "duration": 4,
    "start_time": "2022-09-05T15:21:14.228Z"
   },
   {
    "duration": 41,
    "start_time": "2022-09-05T15:21:14.233Z"
   },
   {
    "duration": 16,
    "start_time": "2022-09-05T15:21:14.276Z"
   },
   {
    "duration": 10,
    "start_time": "2022-09-05T15:21:14.294Z"
   },
   {
    "duration": 63,
    "start_time": "2022-09-05T15:21:14.306Z"
   },
   {
    "duration": 7,
    "start_time": "2022-09-05T15:21:14.371Z"
   },
   {
    "duration": 14,
    "start_time": "2022-09-05T15:21:14.379Z"
   },
   {
    "duration": 108,
    "start_time": "2022-09-05T15:21:14.395Z"
   },
   {
    "duration": 5,
    "start_time": "2022-09-05T15:21:14.505Z"
   },
   {
    "duration": 5,
    "start_time": "2022-09-05T15:21:46.734Z"
   },
   {
    "duration": 6,
    "start_time": "2022-09-05T15:21:52.730Z"
   },
   {
    "duration": 28,
    "start_time": "2022-09-05T15:22:12.752Z"
   },
   {
    "duration": 7,
    "start_time": "2022-09-05T15:24:13.735Z"
   },
   {
    "duration": 6,
    "start_time": "2022-09-05T15:24:19.157Z"
   },
   {
    "duration": 7,
    "start_time": "2022-09-05T15:24:22.759Z"
   },
   {
    "duration": 6,
    "start_time": "2022-09-05T15:24:25.165Z"
   },
   {
    "duration": 6,
    "start_time": "2022-09-05T15:24:29.004Z"
   },
   {
    "duration": 5,
    "start_time": "2022-09-05T15:24:35.424Z"
   },
   {
    "duration": 1636,
    "start_time": "2022-09-05T15:25:25.164Z"
   },
   {
    "duration": 18,
    "start_time": "2022-09-05T15:25:35.827Z"
   },
   {
    "duration": 28,
    "start_time": "2022-09-05T15:39:43.729Z"
   },
   {
    "duration": 31,
    "start_time": "2022-09-05T15:40:39.729Z"
   },
   {
    "duration": 26,
    "start_time": "2022-09-05T15:42:30.833Z"
   },
   {
    "duration": 26,
    "start_time": "2022-09-05T15:42:42.092Z"
   },
   {
    "duration": 11,
    "start_time": "2022-09-05T15:42:50.534Z"
   },
   {
    "duration": 27,
    "start_time": "2022-09-05T15:42:54.494Z"
   },
   {
    "duration": 9,
    "start_time": "2022-09-05T15:54:44.381Z"
   },
   {
    "duration": 6,
    "start_time": "2022-09-05T15:54:52.333Z"
   },
   {
    "duration": 6,
    "start_time": "2022-09-05T15:55:27.833Z"
   },
   {
    "duration": 1292,
    "start_time": "2022-09-05T15:57:20.440Z"
   },
   {
    "duration": 9,
    "start_time": "2022-09-05T15:57:48.186Z"
   },
   {
    "duration": 9,
    "start_time": "2022-09-05T15:57:53.913Z"
   },
   {
    "duration": 27,
    "start_time": "2022-09-05T15:57:54.739Z"
   },
   {
    "duration": 11,
    "start_time": "2022-09-05T15:57:56.561Z"
   },
   {
    "duration": 1240,
    "start_time": "2022-09-05T15:58:17.747Z"
   },
   {
    "duration": 26,
    "start_time": "2022-09-05T15:58:19.100Z"
   },
   {
    "duration": 774,
    "start_time": "2022-09-05T15:58:47.786Z"
   },
   {
    "duration": 30,
    "start_time": "2022-09-05T15:58:48.562Z"
   },
   {
    "duration": 19,
    "start_time": "2022-09-05T15:58:48.594Z"
   },
   {
    "duration": 12,
    "start_time": "2022-09-05T15:58:48.616Z"
   },
   {
    "duration": 16,
    "start_time": "2022-09-05T15:58:48.630Z"
   },
   {
    "duration": 34,
    "start_time": "2022-09-05T15:58:48.648Z"
   },
   {
    "duration": 18,
    "start_time": "2022-09-05T15:58:48.683Z"
   },
   {
    "duration": 4,
    "start_time": "2022-09-05T15:58:48.703Z"
   },
   {
    "duration": 25,
    "start_time": "2022-09-05T15:58:48.709Z"
   },
   {
    "duration": 38,
    "start_time": "2022-09-05T15:58:48.737Z"
   },
   {
    "duration": 10,
    "start_time": "2022-09-05T15:58:48.777Z"
   },
   {
    "duration": 31,
    "start_time": "2022-09-05T15:58:48.788Z"
   },
   {
    "duration": 7,
    "start_time": "2022-09-05T15:58:48.820Z"
   },
   {
    "duration": 42,
    "start_time": "2022-09-05T15:58:48.829Z"
   },
   {
    "duration": 100,
    "start_time": "2022-09-05T15:58:48.873Z"
   },
   {
    "duration": 13,
    "start_time": "2022-09-05T15:58:48.975Z"
   },
   {
    "duration": 806,
    "start_time": "2022-09-05T16:00:53.646Z"
   },
   {
    "duration": 33,
    "start_time": "2022-09-05T16:00:54.454Z"
   },
   {
    "duration": 19,
    "start_time": "2022-09-05T16:00:54.492Z"
   },
   {
    "duration": 13,
    "start_time": "2022-09-05T16:00:54.513Z"
   },
   {
    "duration": 40,
    "start_time": "2022-09-05T16:00:54.528Z"
   },
   {
    "duration": 14,
    "start_time": "2022-09-05T16:00:54.570Z"
   },
   {
    "duration": 18,
    "start_time": "2022-09-05T16:00:54.586Z"
   },
   {
    "duration": 5,
    "start_time": "2022-09-05T16:00:54.606Z"
   },
   {
    "duration": 19,
    "start_time": "2022-09-05T16:00:54.614Z"
   },
   {
    "duration": 48,
    "start_time": "2022-09-05T16:00:54.635Z"
   },
   {
    "duration": 13,
    "start_time": "2022-09-05T16:00:54.685Z"
   },
   {
    "duration": 36,
    "start_time": "2022-09-05T16:00:54.700Z"
   },
   {
    "duration": 35,
    "start_time": "2022-09-05T16:00:54.737Z"
   },
   {
    "duration": 11,
    "start_time": "2022-09-05T16:00:54.774Z"
   },
   {
    "duration": 102,
    "start_time": "2022-09-05T16:00:54.787Z"
   },
   {
    "duration": 12,
    "start_time": "2022-09-05T16:00:54.891Z"
   },
   {
    "duration": 35,
    "start_time": "2022-09-05T16:01:10.753Z"
   },
   {
    "duration": 36,
    "start_time": "2022-09-05T16:01:17.061Z"
   },
   {
    "duration": 33,
    "start_time": "2022-09-05T16:01:30.399Z"
   },
   {
    "duration": 810,
    "start_time": "2022-09-05T16:01:49.640Z"
   },
   {
    "duration": 29,
    "start_time": "2022-09-05T16:01:50.452Z"
   },
   {
    "duration": 19,
    "start_time": "2022-09-05T16:01:50.483Z"
   },
   {
    "duration": 13,
    "start_time": "2022-09-05T16:01:50.505Z"
   },
   {
    "duration": 14,
    "start_time": "2022-09-05T16:01:50.519Z"
   },
   {
    "duration": 42,
    "start_time": "2022-09-05T16:01:50.535Z"
   },
   {
    "duration": 18,
    "start_time": "2022-09-05T16:01:50.579Z"
   },
   {
    "duration": 5,
    "start_time": "2022-09-05T16:01:50.600Z"
   },
   {
    "duration": 20,
    "start_time": "2022-09-05T16:01:50.607Z"
   },
   {
    "duration": 42,
    "start_time": "2022-09-05T16:01:50.630Z"
   },
   {
    "duration": 10,
    "start_time": "2022-09-05T16:01:50.674Z"
   },
   {
    "duration": 32,
    "start_time": "2022-09-05T16:01:50.686Z"
   },
   {
    "duration": 5,
    "start_time": "2022-09-05T16:01:50.720Z"
   },
   {
    "duration": 44,
    "start_time": "2022-09-05T16:01:50.727Z"
   },
   {
    "duration": 102,
    "start_time": "2022-09-05T16:01:50.773Z"
   },
   {
    "duration": 18,
    "start_time": "2022-09-05T16:01:50.877Z"
   },
   {
    "duration": 11,
    "start_time": "2022-09-05T16:01:56.998Z"
   },
   {
    "duration": 33,
    "start_time": "2022-09-05T16:02:24.119Z"
   },
   {
    "duration": 738,
    "start_time": "2022-09-05T16:02:41.718Z"
   },
   {
    "duration": 31,
    "start_time": "2022-09-05T16:02:42.458Z"
   },
   {
    "duration": 19,
    "start_time": "2022-09-05T16:02:42.491Z"
   },
   {
    "duration": 13,
    "start_time": "2022-09-05T16:02:42.512Z"
   },
   {
    "duration": 17,
    "start_time": "2022-09-05T16:02:42.527Z"
   },
   {
    "duration": 37,
    "start_time": "2022-09-05T16:02:42.545Z"
   },
   {
    "duration": 19,
    "start_time": "2022-09-05T16:02:42.584Z"
   },
   {
    "duration": 4,
    "start_time": "2022-09-05T16:02:42.605Z"
   },
   {
    "duration": 22,
    "start_time": "2022-09-05T16:02:42.611Z"
   },
   {
    "duration": 49,
    "start_time": "2022-09-05T16:02:42.636Z"
   },
   {
    "duration": 10,
    "start_time": "2022-09-05T16:02:42.687Z"
   },
   {
    "duration": 32,
    "start_time": "2022-09-05T16:02:42.699Z"
   },
   {
    "duration": 35,
    "start_time": "2022-09-05T16:02:42.733Z"
   },
   {
    "duration": 8,
    "start_time": "2022-09-05T16:02:42.770Z"
   },
   {
    "duration": 104,
    "start_time": "2022-09-05T16:02:42.780Z"
   },
   {
    "duration": 11,
    "start_time": "2022-09-05T16:02:42.886Z"
   },
   {
    "duration": 11,
    "start_time": "2022-09-05T16:03:43.486Z"
   },
   {
    "duration": 19,
    "start_time": "2022-09-05T16:17:36.775Z"
   },
   {
    "duration": 73,
    "start_time": "2022-09-05T16:19:12.198Z"
   },
   {
    "duration": 14,
    "start_time": "2022-09-05T16:19:29.984Z"
   },
   {
    "duration": 797,
    "start_time": "2022-09-05T16:19:36.577Z"
   },
   {
    "duration": 30,
    "start_time": "2022-09-05T16:19:37.376Z"
   },
   {
    "duration": 20,
    "start_time": "2022-09-05T16:19:37.408Z"
   },
   {
    "duration": 13,
    "start_time": "2022-09-05T16:19:37.430Z"
   },
   {
    "duration": 28,
    "start_time": "2022-09-05T16:19:37.445Z"
   },
   {
    "duration": 17,
    "start_time": "2022-09-05T16:19:37.474Z"
   },
   {
    "duration": 20,
    "start_time": "2022-09-05T16:19:37.493Z"
   },
   {
    "duration": 5,
    "start_time": "2022-09-05T16:19:37.514Z"
   },
   {
    "duration": 53,
    "start_time": "2022-09-05T16:19:37.521Z"
   },
   {
    "duration": 17,
    "start_time": "2022-09-05T16:19:37.577Z"
   },
   {
    "duration": 10,
    "start_time": "2022-09-05T16:19:37.596Z"
   },
   {
    "duration": 62,
    "start_time": "2022-09-05T16:19:37.607Z"
   },
   {
    "duration": 7,
    "start_time": "2022-09-05T16:19:37.671Z"
   },
   {
    "duration": 9,
    "start_time": "2022-09-05T16:19:37.680Z"
   },
   {
    "duration": 104,
    "start_time": "2022-09-05T16:19:37.691Z"
   },
   {
    "duration": 10,
    "start_time": "2022-09-05T16:19:37.797Z"
   },
   {
    "duration": 4,
    "start_time": "2022-09-05T16:19:37.809Z"
   },
   {
    "duration": 17,
    "start_time": "2022-09-05T16:19:55.205Z"
   },
   {
    "duration": 82,
    "start_time": "2022-09-05T16:22:43.097Z"
   },
   {
    "duration": 10,
    "start_time": "2022-09-05T16:22:48.867Z"
   },
   {
    "duration": 9,
    "start_time": "2022-09-05T16:23:20.132Z"
   },
   {
    "duration": 11,
    "start_time": "2022-09-05T16:23:29.148Z"
   },
   {
    "duration": 13,
    "start_time": "2022-09-05T16:23:34.892Z"
   },
   {
    "duration": 58,
    "start_time": "2022-09-05T16:23:42.733Z"
   },
   {
    "duration": 16,
    "start_time": "2022-09-05T16:23:45.572Z"
   },
   {
    "duration": 13,
    "start_time": "2022-09-05T16:23:47.710Z"
   },
   {
    "duration": 10,
    "start_time": "2022-09-05T16:23:49.933Z"
   },
   {
    "duration": 14,
    "start_time": "2022-09-05T16:24:02.141Z"
   },
   {
    "duration": 13,
    "start_time": "2022-09-05T16:24:04.558Z"
   },
   {
    "duration": 47,
    "start_time": "2022-09-06T03:16:43.378Z"
   },
   {
    "duration": 7,
    "start_time": "2022-09-06T03:17:06.596Z"
   },
   {
    "duration": 1003,
    "start_time": "2022-09-06T03:17:10.585Z"
   },
   {
    "duration": 31,
    "start_time": "2022-09-06T03:17:11.591Z"
   },
   {
    "duration": 17,
    "start_time": "2022-09-06T03:17:11.623Z"
   },
   {
    "duration": 11,
    "start_time": "2022-09-06T03:17:11.643Z"
   },
   {
    "duration": 49,
    "start_time": "2022-09-06T03:17:11.655Z"
   },
   {
    "duration": 28,
    "start_time": "2022-09-06T03:17:11.706Z"
   },
   {
    "duration": 14,
    "start_time": "2022-09-06T03:17:11.735Z"
   },
   {
    "duration": 9,
    "start_time": "2022-09-06T03:17:11.750Z"
   },
   {
    "duration": 52,
    "start_time": "2022-09-06T03:17:11.760Z"
   },
   {
    "duration": 30,
    "start_time": "2022-09-06T03:17:11.815Z"
   },
   {
    "duration": 35,
    "start_time": "2022-09-06T03:17:11.847Z"
   },
   {
    "duration": 46,
    "start_time": "2022-09-06T03:17:11.883Z"
   },
   {
    "duration": 5,
    "start_time": "2022-09-06T03:17:11.930Z"
   },
   {
    "duration": 12,
    "start_time": "2022-09-06T03:17:11.936Z"
   },
   {
    "duration": 71,
    "start_time": "2022-09-06T03:17:11.950Z"
   },
   {
    "duration": 9,
    "start_time": "2022-09-06T03:17:12.022Z"
   },
   {
    "duration": 15,
    "start_time": "2022-09-06T03:17:12.032Z"
   },
   {
    "duration": 107,
    "start_time": "2022-09-06T03:17:12.048Z"
   },
   {
    "duration": 208,
    "start_time": "2022-09-06T03:17:47.098Z"
   },
   {
    "duration": 19,
    "start_time": "2022-09-06T03:18:03.852Z"
   },
   {
    "duration": 18,
    "start_time": "2022-09-06T03:18:09.109Z"
   },
   {
    "duration": 26,
    "start_time": "2022-09-06T03:18:18.326Z"
   },
   {
    "duration": 12,
    "start_time": "2022-09-06T03:18:42.144Z"
   },
   {
    "duration": 11,
    "start_time": "2022-09-06T03:18:53.419Z"
   },
   {
    "duration": 658,
    "start_time": "2022-09-06T03:19:01.147Z"
   },
   {
    "duration": 28,
    "start_time": "2022-09-06T03:19:01.807Z"
   },
   {
    "duration": 17,
    "start_time": "2022-09-06T03:19:01.837Z"
   },
   {
    "duration": 26,
    "start_time": "2022-09-06T03:19:01.856Z"
   },
   {
    "duration": 23,
    "start_time": "2022-09-06T03:19:01.884Z"
   },
   {
    "duration": 68,
    "start_time": "2022-09-06T03:19:01.908Z"
   },
   {
    "duration": 35,
    "start_time": "2022-09-06T03:19:01.978Z"
   },
   {
    "duration": 10,
    "start_time": "2022-09-06T03:19:02.015Z"
   },
   {
    "duration": 25,
    "start_time": "2022-09-06T03:19:02.026Z"
   },
   {
    "duration": 15,
    "start_time": "2022-09-06T03:19:02.054Z"
   },
   {
    "duration": 13,
    "start_time": "2022-09-06T03:19:02.070Z"
   },
   {
    "duration": 49,
    "start_time": "2022-09-06T03:19:02.084Z"
   },
   {
    "duration": 10,
    "start_time": "2022-09-06T03:19:02.134Z"
   },
   {
    "duration": 17,
    "start_time": "2022-09-06T03:19:02.145Z"
   },
   {
    "duration": 83,
    "start_time": "2022-09-06T03:19:02.163Z"
   },
   {
    "duration": 41,
    "start_time": "2022-09-06T03:19:02.248Z"
   },
   {
    "duration": 30,
    "start_time": "2022-09-06T03:19:02.290Z"
   },
   {
    "duration": 29,
    "start_time": "2022-09-06T03:19:02.322Z"
   },
   {
    "duration": 668,
    "start_time": "2022-09-06T03:19:47.832Z"
   },
   {
    "duration": 24,
    "start_time": "2022-09-06T03:19:48.502Z"
   },
   {
    "duration": 16,
    "start_time": "2022-09-06T03:19:48.527Z"
   },
   {
    "duration": 11,
    "start_time": "2022-09-06T03:19:48.544Z"
   },
   {
    "duration": 11,
    "start_time": "2022-09-06T03:19:48.556Z"
   },
   {
    "duration": 19,
    "start_time": "2022-09-06T03:19:48.568Z"
   },
   {
    "duration": 16,
    "start_time": "2022-09-06T03:19:48.588Z"
   },
   {
    "duration": 4,
    "start_time": "2022-09-06T03:19:48.605Z"
   },
   {
    "duration": 18,
    "start_time": "2022-09-06T03:19:48.610Z"
   },
   {
    "duration": 15,
    "start_time": "2022-09-06T03:19:48.630Z"
   },
   {
    "duration": 7,
    "start_time": "2022-09-06T03:19:48.646Z"
   },
   {
    "duration": 56,
    "start_time": "2022-09-06T03:19:48.655Z"
   },
   {
    "duration": 5,
    "start_time": "2022-09-06T03:19:48.712Z"
   },
   {
    "duration": 7,
    "start_time": "2022-09-06T03:19:48.718Z"
   },
   {
    "duration": 72,
    "start_time": "2022-09-06T03:19:48.726Z"
   },
   {
    "duration": 10,
    "start_time": "2022-09-06T03:19:48.799Z"
   },
   {
    "duration": 15,
    "start_time": "2022-09-06T03:19:48.811Z"
   },
   {
    "duration": 25,
    "start_time": "2022-09-06T03:19:48.828Z"
   },
   {
    "duration": 33,
    "start_time": "2022-09-06T03:21:13.207Z"
   },
   {
    "duration": 74,
    "start_time": "2022-09-06T03:21:25.385Z"
   },
   {
    "duration": 650,
    "start_time": "2022-09-06T03:21:30.933Z"
   },
   {
    "duration": 30,
    "start_time": "2022-09-06T03:21:31.586Z"
   },
   {
    "duration": 18,
    "start_time": "2022-09-06T03:21:31.619Z"
   },
   {
    "duration": 17,
    "start_time": "2022-09-06T03:21:31.638Z"
   },
   {
    "duration": 13,
    "start_time": "2022-09-06T03:21:31.656Z"
   },
   {
    "duration": 35,
    "start_time": "2022-09-06T03:21:31.671Z"
   },
   {
    "duration": 16,
    "start_time": "2022-09-06T03:21:31.708Z"
   },
   {
    "duration": 4,
    "start_time": "2022-09-06T03:21:31.725Z"
   },
   {
    "duration": 18,
    "start_time": "2022-09-06T03:21:31.730Z"
   },
   {
    "duration": 16,
    "start_time": "2022-09-06T03:21:31.750Z"
   },
   {
    "duration": 8,
    "start_time": "2022-09-06T03:21:31.767Z"
   },
   {
    "duration": 32,
    "start_time": "2022-09-06T03:21:31.785Z"
   },
   {
    "duration": 5,
    "start_time": "2022-09-06T03:21:31.818Z"
   },
   {
    "duration": 10,
    "start_time": "2022-09-06T03:21:31.824Z"
   },
   {
    "duration": 72,
    "start_time": "2022-09-06T03:21:31.835Z"
   },
   {
    "duration": 10,
    "start_time": "2022-09-06T03:21:31.908Z"
   },
   {
    "duration": 15,
    "start_time": "2022-09-06T03:21:31.919Z"
   },
   {
    "duration": 69,
    "start_time": "2022-09-06T03:21:31.935Z"
   },
   {
    "duration": 70,
    "start_time": "2022-09-06T03:21:43.227Z"
   },
   {
    "duration": 691,
    "start_time": "2022-09-06T03:21:47.070Z"
   },
   {
    "duration": 28,
    "start_time": "2022-09-06T03:21:47.762Z"
   },
   {
    "duration": 18,
    "start_time": "2022-09-06T03:21:47.793Z"
   },
   {
    "duration": 11,
    "start_time": "2022-09-06T03:21:47.813Z"
   },
   {
    "duration": 14,
    "start_time": "2022-09-06T03:21:47.826Z"
   },
   {
    "duration": 17,
    "start_time": "2022-09-06T03:21:47.841Z"
   },
   {
    "duration": 35,
    "start_time": "2022-09-06T03:21:47.860Z"
   },
   {
    "duration": 5,
    "start_time": "2022-09-06T03:21:47.900Z"
   },
   {
    "duration": 23,
    "start_time": "2022-09-06T03:21:47.906Z"
   },
   {
    "duration": 15,
    "start_time": "2022-09-06T03:21:47.931Z"
   },
   {
    "duration": 10,
    "start_time": "2022-09-06T03:21:47.947Z"
   },
   {
    "duration": 54,
    "start_time": "2022-09-06T03:21:47.959Z"
   },
   {
    "duration": 5,
    "start_time": "2022-09-06T03:21:48.015Z"
   },
   {
    "duration": 7,
    "start_time": "2022-09-06T03:21:48.022Z"
   },
   {
    "duration": 79,
    "start_time": "2022-09-06T03:21:48.030Z"
   },
   {
    "duration": 12,
    "start_time": "2022-09-06T03:21:48.111Z"
   },
   {
    "duration": 20,
    "start_time": "2022-09-06T03:21:48.124Z"
   },
   {
    "duration": 68,
    "start_time": "2022-09-06T03:21:48.145Z"
   },
   {
    "duration": 77,
    "start_time": "2022-09-06T03:22:08.931Z"
   },
   {
    "duration": 669,
    "start_time": "2022-09-06T03:22:15.022Z"
   },
   {
    "duration": 28,
    "start_time": "2022-09-06T03:22:15.693Z"
   },
   {
    "duration": 16,
    "start_time": "2022-09-06T03:22:15.722Z"
   },
   {
    "duration": 11,
    "start_time": "2022-09-06T03:22:15.739Z"
   },
   {
    "duration": 11,
    "start_time": "2022-09-06T03:22:15.751Z"
   },
   {
    "duration": 33,
    "start_time": "2022-09-06T03:22:15.763Z"
   },
   {
    "duration": 17,
    "start_time": "2022-09-06T03:22:15.798Z"
   },
   {
    "duration": 3,
    "start_time": "2022-09-06T03:22:15.816Z"
   },
   {
    "duration": 16,
    "start_time": "2022-09-06T03:22:15.821Z"
   },
   {
    "duration": 14,
    "start_time": "2022-09-06T03:22:15.839Z"
   },
   {
    "duration": 34,
    "start_time": "2022-09-06T03:22:15.854Z"
   },
   {
    "duration": 32,
    "start_time": "2022-09-06T03:22:15.890Z"
   },
   {
    "duration": 5,
    "start_time": "2022-09-06T03:22:15.923Z"
   },
   {
    "duration": 8,
    "start_time": "2022-09-06T03:22:15.929Z"
   },
   {
    "duration": 70,
    "start_time": "2022-09-06T03:22:15.939Z"
   },
   {
    "duration": 9,
    "start_time": "2022-09-06T03:22:16.011Z"
   },
   {
    "duration": 15,
    "start_time": "2022-09-06T03:22:16.021Z"
   },
   {
    "duration": 55,
    "start_time": "2022-09-06T03:22:16.037Z"
   },
   {
    "duration": 74,
    "start_time": "2022-09-06T03:23:44.241Z"
   },
   {
    "duration": 19,
    "start_time": "2022-09-06T03:24:51.816Z"
   },
   {
    "duration": 39,
    "start_time": "2022-09-06T03:25:12.361Z"
   },
   {
    "duration": 21,
    "start_time": "2022-09-06T03:25:57.396Z"
   },
   {
    "duration": 1094,
    "start_time": "2022-09-06T10:28:26.997Z"
   },
   {
    "duration": 27,
    "start_time": "2022-09-06T10:28:28.093Z"
   },
   {
    "duration": 17,
    "start_time": "2022-09-06T10:28:28.122Z"
   },
   {
    "duration": 18,
    "start_time": "2022-09-06T10:28:28.141Z"
   },
   {
    "duration": 14,
    "start_time": "2022-09-06T10:28:28.160Z"
   },
   {
    "duration": 31,
    "start_time": "2022-09-06T10:28:28.175Z"
   },
   {
    "duration": 14,
    "start_time": "2022-09-06T10:28:28.207Z"
   },
   {
    "duration": 3,
    "start_time": "2022-09-06T10:28:28.223Z"
   },
   {
    "duration": 19,
    "start_time": "2022-09-06T10:28:28.227Z"
   },
   {
    "duration": 15,
    "start_time": "2022-09-06T10:28:28.248Z"
   },
   {
    "duration": 34,
    "start_time": "2022-09-06T10:28:28.264Z"
   },
   {
    "duration": 27,
    "start_time": "2022-09-06T10:28:28.300Z"
   },
   {
    "duration": 4,
    "start_time": "2022-09-06T10:28:28.329Z"
   },
   {
    "duration": 7,
    "start_time": "2022-09-06T10:28:28.334Z"
   },
   {
    "duration": 70,
    "start_time": "2022-09-06T10:28:28.342Z"
   },
   {
    "duration": 9,
    "start_time": "2022-09-06T10:28:28.413Z"
   },
   {
    "duration": 16,
    "start_time": "2022-09-06T10:28:28.423Z"
   },
   {
    "duration": 34,
    "start_time": "2022-09-06T10:28:28.441Z"
   },
   {
    "duration": 41,
    "start_time": "2022-09-06T10:28:28.476Z"
   },
   {
    "duration": 175,
    "start_time": "2022-09-06T10:36:01.786Z"
   },
   {
    "duration": 5,
    "start_time": "2022-09-06T10:36:28.839Z"
   },
   {
    "duration": 10,
    "start_time": "2022-09-06T10:36:40.343Z"
   },
   {
    "duration": 17,
    "start_time": "2022-09-06T10:36:42.792Z"
   },
   {
    "duration": 728,
    "start_time": "2022-09-06T10:37:46.859Z"
   },
   {
    "duration": 395,
    "start_time": "2022-09-06T10:37:51.422Z"
   },
   {
    "duration": 398,
    "start_time": "2022-09-06T10:37:53.291Z"
   },
   {
    "duration": 102,
    "start_time": "2022-09-06T10:38:10.821Z"
   },
   {
    "duration": 102,
    "start_time": "2022-09-06T10:38:18.466Z"
   },
   {
    "duration": 118,
    "start_time": "2022-09-06T10:38:24.859Z"
   },
   {
    "duration": 167,
    "start_time": "2022-09-06T10:38:29.957Z"
   },
   {
    "duration": 185,
    "start_time": "2022-09-06T10:38:33.358Z"
   },
   {
    "duration": 4,
    "start_time": "2022-09-06T10:38:40.642Z"
   },
   {
    "duration": 104,
    "start_time": "2022-09-06T10:38:43.260Z"
   },
   {
    "duration": 92,
    "start_time": "2022-09-06T10:40:41.422Z"
   },
   {
    "duration": 122,
    "start_time": "2022-09-06T10:40:55.517Z"
   },
   {
    "duration": 118,
    "start_time": "2022-09-06T10:41:05.270Z"
   },
   {
    "duration": 121,
    "start_time": "2022-09-06T10:41:14.230Z"
   },
   {
    "duration": 143,
    "start_time": "2022-09-06T10:41:40.322Z"
   },
   {
    "duration": 131,
    "start_time": "2022-09-06T10:41:45.676Z"
   },
   {
    "duration": 139,
    "start_time": "2022-09-06T10:41:53.871Z"
   },
   {
    "duration": 134,
    "start_time": "2022-09-06T10:41:56.373Z"
   },
   {
    "duration": 205,
    "start_time": "2022-09-06T10:42:00.173Z"
   },
   {
    "duration": 139,
    "start_time": "2022-09-06T10:42:18.296Z"
   },
   {
    "duration": 128,
    "start_time": "2022-09-06T10:42:25.848Z"
   },
   {
    "duration": 142,
    "start_time": "2022-09-06T10:42:49.817Z"
   },
   {
    "duration": 132,
    "start_time": "2022-09-06T10:43:02.334Z"
   },
   {
    "duration": 175,
    "start_time": "2022-09-06T10:43:04.391Z"
   },
   {
    "duration": 13,
    "start_time": "2022-09-06T10:43:35.336Z"
   },
   {
    "duration": 4,
    "start_time": "2022-09-06T10:44:40.162Z"
   },
   {
    "duration": 13,
    "start_time": "2022-09-06T10:44:53.682Z"
   },
   {
    "duration": 6,
    "start_time": "2022-09-06T10:45:30.994Z"
   },
   {
    "duration": 4,
    "start_time": "2022-09-06T10:45:39.674Z"
   },
   {
    "duration": 6,
    "start_time": "2022-09-06T10:45:47.636Z"
   },
   {
    "duration": 117,
    "start_time": "2022-09-06T10:54:15.204Z"
   },
   {
    "duration": 129,
    "start_time": "2022-09-06T10:54:26.327Z"
   },
   {
    "duration": 134,
    "start_time": "2022-09-06T10:54:41.764Z"
   },
   {
    "duration": 258,
    "start_time": "2022-09-06T10:54:48.062Z"
   },
   {
    "duration": 280,
    "start_time": "2022-09-06T10:54:53.471Z"
   },
   {
    "duration": 228,
    "start_time": "2022-09-06T10:54:58.365Z"
   },
   {
    "duration": 153,
    "start_time": "2022-09-06T10:55:29.095Z"
   },
   {
    "duration": 165,
    "start_time": "2022-09-06T10:55:31.941Z"
   },
   {
    "duration": 154,
    "start_time": "2022-09-06T10:55:38.088Z"
   },
   {
    "duration": 168,
    "start_time": "2022-09-06T10:55:48.382Z"
   },
   {
    "duration": 58,
    "start_time": "2022-09-06T10:56:38.439Z"
   },
   {
    "duration": 174,
    "start_time": "2022-09-06T10:56:41.847Z"
   },
   {
    "duration": 167,
    "start_time": "2022-09-06T10:56:47.717Z"
   },
   {
    "duration": 163,
    "start_time": "2022-09-06T10:57:02.761Z"
   },
   {
    "duration": 185,
    "start_time": "2022-09-06T10:57:25.024Z"
   },
   {
    "duration": 194,
    "start_time": "2022-09-06T10:57:29.304Z"
   },
   {
    "duration": 197,
    "start_time": "2022-09-06T10:58:00.688Z"
   },
   {
    "duration": 261,
    "start_time": "2022-09-06T10:58:25.427Z"
   },
   {
    "duration": 10,
    "start_time": "2022-09-06T11:00:34.683Z"
   },
   {
    "duration": 507,
    "start_time": "2022-09-06T11:00:49.761Z"
   },
   {
    "duration": 6,
    "start_time": "2022-09-06T11:03:18.775Z"
   },
   {
    "duration": 144,
    "start_time": "2022-09-06T11:03:28.503Z"
   },
   {
    "duration": 5,
    "start_time": "2022-09-06T11:03:36.591Z"
   },
   {
    "duration": 9,
    "start_time": "2022-09-06T11:04:01.878Z"
   },
   {
    "duration": 4,
    "start_time": "2022-09-06T11:04:02.674Z"
   },
   {
    "duration": 7,
    "start_time": "2022-09-06T11:04:55.832Z"
   },
   {
    "duration": 7,
    "start_time": "2022-09-06T11:04:56.922Z"
   },
   {
    "duration": 9,
    "start_time": "2022-09-06T11:05:29.952Z"
   },
   {
    "duration": 6,
    "start_time": "2022-09-06T11:05:30.077Z"
   },
   {
    "duration": 8,
    "start_time": "2022-09-06T11:06:11.122Z"
   },
   {
    "duration": 5,
    "start_time": "2022-09-06T11:06:19.119Z"
   },
   {
    "duration": 9,
    "start_time": "2022-09-06T11:06:22.056Z"
   },
   {
    "duration": 6,
    "start_time": "2022-09-06T11:06:22.689Z"
   },
   {
    "duration": 7,
    "start_time": "2022-09-06T11:07:25.835Z"
   },
   {
    "duration": 12,
    "start_time": "2022-09-06T11:07:38.577Z"
   },
   {
    "duration": 3,
    "start_time": "2022-09-06T11:07:54.349Z"
   },
   {
    "duration": 6,
    "start_time": "2022-09-06T11:07:57.379Z"
   },
   {
    "duration": 3,
    "start_time": "2022-09-06T11:08:38.301Z"
   },
   {
    "duration": 4,
    "start_time": "2022-09-06T11:08:42.923Z"
   },
   {
    "duration": 7,
    "start_time": "2022-09-06T11:08:45.068Z"
   },
   {
    "duration": 233,
    "start_time": "2022-09-06T11:08:48.830Z"
   },
   {
    "duration": 136,
    "start_time": "2022-09-06T11:08:54.617Z"
   },
   {
    "duration": 122,
    "start_time": "2022-09-06T11:09:02.685Z"
   },
   {
    "duration": 125,
    "start_time": "2022-09-06T11:09:20.518Z"
   },
   {
    "duration": 199,
    "start_time": "2022-09-06T11:09:25.446Z"
   },
   {
    "duration": 166,
    "start_time": "2022-09-06T11:09:34.069Z"
   },
   {
    "duration": 145,
    "start_time": "2022-09-06T11:10:15.198Z"
   },
   {
    "duration": 131,
    "start_time": "2022-09-06T11:15:52.486Z"
   },
   {
    "duration": 130,
    "start_time": "2022-09-06T11:15:56.883Z"
   },
   {
    "duration": 133,
    "start_time": "2022-09-06T11:16:47.662Z"
   },
   {
    "duration": 132,
    "start_time": "2022-09-06T11:25:52.017Z"
   },
   {
    "duration": 178,
    "start_time": "2022-09-06T11:26:55.718Z"
   },
   {
    "duration": 129,
    "start_time": "2022-09-06T11:26:57.024Z"
   },
   {
    "duration": 132,
    "start_time": "2022-09-06T11:27:52.879Z"
   },
   {
    "duration": 181,
    "start_time": "2022-09-06T11:27:57.137Z"
   },
   {
    "duration": 180,
    "start_time": "2022-09-06T11:28:02.672Z"
   },
   {
    "duration": 156,
    "start_time": "2022-09-06T11:28:35.138Z"
   },
   {
    "duration": 152,
    "start_time": "2022-09-06T11:28:59.563Z"
   },
   {
    "duration": 252,
    "start_time": "2022-09-06T11:29:12.787Z"
   },
   {
    "duration": 147,
    "start_time": "2022-09-06T11:29:15.255Z"
   },
   {
    "duration": 151,
    "start_time": "2022-09-06T11:29:22.812Z"
   },
   {
    "duration": 142,
    "start_time": "2022-09-06T11:29:32.668Z"
   },
   {
    "duration": 144,
    "start_time": "2022-09-06T11:30:17.429Z"
   },
   {
    "duration": 157,
    "start_time": "2022-09-06T11:30:20.686Z"
   },
   {
    "duration": 148,
    "start_time": "2022-09-06T11:30:32.431Z"
   },
   {
    "duration": 151,
    "start_time": "2022-09-06T11:30:39.502Z"
   },
   {
    "duration": 148,
    "start_time": "2022-09-06T11:30:42.837Z"
   },
   {
    "duration": 151,
    "start_time": "2022-09-06T11:30:45.768Z"
   },
   {
    "duration": 181,
    "start_time": "2022-09-06T11:31:12.870Z"
   },
   {
    "duration": 197,
    "start_time": "2022-09-06T11:31:19.750Z"
   },
   {
    "duration": 182,
    "start_time": "2022-09-06T11:31:33.766Z"
   },
   {
    "duration": 202,
    "start_time": "2022-09-06T11:31:45.067Z"
   },
   {
    "duration": 287,
    "start_time": "2022-09-06T11:31:50.918Z"
   },
   {
    "duration": 7,
    "start_time": "2022-09-06T12:07:41.810Z"
   },
   {
    "duration": 17,
    "start_time": "2022-09-06T12:07:46.089Z"
   },
   {
    "duration": 25,
    "start_time": "2022-09-06T12:07:50.804Z"
   },
   {
    "duration": 24,
    "start_time": "2022-09-06T12:08:21.626Z"
   },
   {
    "duration": 9,
    "start_time": "2022-09-06T12:08:34.501Z"
   },
   {
    "duration": 6,
    "start_time": "2022-09-06T12:08:40.550Z"
   },
   {
    "duration": 28,
    "start_time": "2022-09-06T12:09:12.821Z"
   },
   {
    "duration": 6,
    "start_time": "2022-09-06T12:09:22.487Z"
   },
   {
    "duration": 4,
    "start_time": "2022-09-06T12:10:18.586Z"
   },
   {
    "duration": 13,
    "start_time": "2022-09-06T12:10:21.885Z"
   },
   {
    "duration": 4,
    "start_time": "2022-09-06T12:10:48.603Z"
   },
   {
    "duration": 14,
    "start_time": "2022-09-06T12:11:03.870Z"
   },
   {
    "duration": 10,
    "start_time": "2022-09-06T12:11:24.984Z"
   },
   {
    "duration": 10,
    "start_time": "2022-09-06T12:11:43.520Z"
   },
   {
    "duration": 718,
    "start_time": "2022-09-06T12:12:03.005Z"
   },
   {
    "duration": 26,
    "start_time": "2022-09-06T12:12:03.724Z"
   },
   {
    "duration": 15,
    "start_time": "2022-09-06T12:12:03.751Z"
   },
   {
    "duration": 48,
    "start_time": "2022-09-06T12:12:03.768Z"
   },
   {
    "duration": 30,
    "start_time": "2022-09-06T12:12:03.818Z"
   },
   {
    "duration": 33,
    "start_time": "2022-09-06T12:12:03.850Z"
   },
   {
    "duration": 16,
    "start_time": "2022-09-06T12:12:03.884Z"
   },
   {
    "duration": 3,
    "start_time": "2022-09-06T12:12:03.902Z"
   },
   {
    "duration": 18,
    "start_time": "2022-09-06T12:12:03.907Z"
   },
   {
    "duration": 18,
    "start_time": "2022-09-06T12:12:03.927Z"
   },
   {
    "duration": 12,
    "start_time": "2022-09-06T12:12:03.947Z"
   },
   {
    "duration": 64,
    "start_time": "2022-09-06T12:12:03.961Z"
   },
   {
    "duration": 5,
    "start_time": "2022-09-06T12:12:04.026Z"
   },
   {
    "duration": 15,
    "start_time": "2022-09-06T12:12:04.033Z"
   },
   {
    "duration": 64,
    "start_time": "2022-09-06T12:12:04.049Z"
   },
   {
    "duration": 12,
    "start_time": "2022-09-06T12:12:04.115Z"
   },
   {
    "duration": 26,
    "start_time": "2022-09-06T12:12:04.129Z"
   },
   {
    "duration": 111,
    "start_time": "2022-09-06T12:12:04.157Z"
   },
   {
    "duration": 0,
    "start_time": "2022-09-06T12:12:04.270Z"
   },
   {
    "duration": 0,
    "start_time": "2022-09-06T12:12:04.271Z"
   },
   {
    "duration": 0,
    "start_time": "2022-09-06T12:12:04.273Z"
   },
   {
    "duration": 0,
    "start_time": "2022-09-06T12:12:04.274Z"
   },
   {
    "duration": 0,
    "start_time": "2022-09-06T12:12:04.274Z"
   },
   {
    "duration": 0,
    "start_time": "2022-09-06T12:12:04.275Z"
   },
   {
    "duration": 0,
    "start_time": "2022-09-06T12:12:04.276Z"
   },
   {
    "duration": 0,
    "start_time": "2022-09-06T12:12:04.277Z"
   },
   {
    "duration": 5,
    "start_time": "2022-09-06T12:12:30.890Z"
   },
   {
    "duration": 5,
    "start_time": "2022-09-06T12:12:38.487Z"
   },
   {
    "duration": 15,
    "start_time": "2022-09-06T12:12:48.083Z"
   },
   {
    "duration": 14,
    "start_time": "2022-09-06T12:12:50.415Z"
   },
   {
    "duration": 5,
    "start_time": "2022-09-06T12:12:51.186Z"
   },
   {
    "duration": 20,
    "start_time": "2022-09-06T12:14:58.710Z"
   },
   {
    "duration": 13,
    "start_time": "2022-09-06T12:15:06.189Z"
   },
   {
    "duration": 673,
    "start_time": "2022-09-06T12:15:18.152Z"
   },
   {
    "duration": 25,
    "start_time": "2022-09-06T12:15:18.827Z"
   },
   {
    "duration": 16,
    "start_time": "2022-09-06T12:15:18.853Z"
   },
   {
    "duration": 11,
    "start_time": "2022-09-06T12:15:18.871Z"
   },
   {
    "duration": 12,
    "start_time": "2022-09-06T12:15:18.883Z"
   },
   {
    "duration": 13,
    "start_time": "2022-09-06T12:15:18.896Z"
   },
   {
    "duration": 13,
    "start_time": "2022-09-06T12:15:18.911Z"
   },
   {
    "duration": 3,
    "start_time": "2022-09-06T12:15:18.926Z"
   },
   {
    "duration": 16,
    "start_time": "2022-09-06T12:15:18.931Z"
   },
   {
    "duration": 15,
    "start_time": "2022-09-06T12:15:18.950Z"
   },
   {
    "duration": 36,
    "start_time": "2022-09-06T12:15:18.966Z"
   },
   {
    "duration": 29,
    "start_time": "2022-09-06T12:15:19.004Z"
   },
   {
    "duration": 5,
    "start_time": "2022-09-06T12:15:19.035Z"
   },
   {
    "duration": 13,
    "start_time": "2022-09-06T12:15:19.042Z"
   },
   {
    "duration": 66,
    "start_time": "2022-09-06T12:15:19.056Z"
   },
   {
    "duration": 9,
    "start_time": "2022-09-06T12:15:19.123Z"
   },
   {
    "duration": 28,
    "start_time": "2022-09-06T12:15:19.133Z"
   },
   {
    "duration": 39,
    "start_time": "2022-09-06T12:15:19.163Z"
   },
   {
    "duration": 22,
    "start_time": "2022-09-06T12:15:19.204Z"
   },
   {
    "duration": 25,
    "start_time": "2022-09-06T12:15:19.228Z"
   },
   {
    "duration": 222,
    "start_time": "2022-09-06T12:15:19.255Z"
   },
   {
    "duration": 166,
    "start_time": "2022-09-06T12:15:19.479Z"
   },
   {
    "duration": 5,
    "start_time": "2022-09-06T12:15:19.647Z"
   },
   {
    "duration": 27,
    "start_time": "2022-09-06T12:15:19.653Z"
   },
   {
    "duration": 3,
    "start_time": "2022-09-06T12:16:49.668Z"
   },
   {
    "duration": 10,
    "start_time": "2022-09-06T12:16:51.651Z"
   },
   {
    "duration": 17,
    "start_time": "2022-09-06T12:16:55.602Z"
   },
   {
    "duration": 10,
    "start_time": "2022-09-06T12:17:19.114Z"
   },
   {
    "duration": 15,
    "start_time": "2022-09-06T12:17:23.080Z"
   },
   {
    "duration": 16,
    "start_time": "2022-09-06T12:17:41.290Z"
   },
   {
    "duration": 13,
    "start_time": "2022-09-06T12:17:44.389Z"
   },
   {
    "duration": 28,
    "start_time": "2022-09-06T12:17:48.901Z"
   },
   {
    "duration": 62,
    "start_time": "2022-09-07T03:09:46.429Z"
   },
   {
    "duration": 1094,
    "start_time": "2022-09-07T03:09:51.356Z"
   },
   {
    "duration": 32,
    "start_time": "2022-09-07T03:09:52.452Z"
   },
   {
    "duration": 27,
    "start_time": "2022-09-07T03:09:52.486Z"
   },
   {
    "duration": 20,
    "start_time": "2022-09-07T03:09:52.516Z"
   },
   {
    "duration": 25,
    "start_time": "2022-09-07T03:09:52.538Z"
   },
   {
    "duration": 46,
    "start_time": "2022-09-07T03:09:52.565Z"
   },
   {
    "duration": 24,
    "start_time": "2022-09-07T03:09:52.613Z"
   },
   {
    "duration": 6,
    "start_time": "2022-09-07T03:09:52.639Z"
   },
   {
    "duration": 33,
    "start_time": "2022-09-07T03:09:52.647Z"
   },
   {
    "duration": 25,
    "start_time": "2022-09-07T03:09:52.703Z"
   },
   {
    "duration": 14,
    "start_time": "2022-09-07T03:09:52.731Z"
   },
   {
    "duration": 82,
    "start_time": "2022-09-07T03:09:52.748Z"
   },
   {
    "duration": 10,
    "start_time": "2022-09-07T03:09:52.832Z"
   },
   {
    "duration": 20,
    "start_time": "2022-09-07T03:09:52.844Z"
   },
   {
    "duration": 68,
    "start_time": "2022-09-07T03:09:52.867Z"
   },
   {
    "duration": 11,
    "start_time": "2022-09-07T03:09:52.937Z"
   },
   {
    "duration": 66,
    "start_time": "2022-09-07T03:09:52.950Z"
   },
   {
    "duration": 28,
    "start_time": "2022-09-07T03:09:53.019Z"
   },
   {
    "duration": 29,
    "start_time": "2022-09-07T03:09:53.048Z"
   },
   {
    "duration": 46,
    "start_time": "2022-09-07T03:09:53.078Z"
   },
   {
    "duration": 268,
    "start_time": "2022-09-07T03:09:53.126Z"
   },
   {
    "duration": 198,
    "start_time": "2022-09-07T03:09:53.395Z"
   },
   {
    "duration": 14,
    "start_time": "2022-09-07T03:09:53.596Z"
   },
   {
    "duration": 39,
    "start_time": "2022-09-07T03:09:53.612Z"
   },
   {
    "duration": 41,
    "start_time": "2022-09-07T03:11:27.732Z"
   },
   {
    "duration": 1052,
    "start_time": "2022-09-07T03:12:07.882Z"
   },
   {
    "duration": 1260,
    "start_time": "2022-09-07T03:12:19.584Z"
   },
   {
    "duration": 30,
    "start_time": "2022-09-07T03:12:25.028Z"
   },
   {
    "duration": 29,
    "start_time": "2022-09-07T03:12:54.420Z"
   },
   {
    "duration": 28,
    "start_time": "2022-09-07T03:13:09.397Z"
   },
   {
    "duration": 182,
    "start_time": "2022-09-07T03:13:17.012Z"
   },
   {
    "duration": 234,
    "start_time": "2022-09-07T03:13:53.791Z"
   },
   {
    "duration": 276,
    "start_time": "2022-09-07T03:14:01.141Z"
   },
   {
    "duration": 10,
    "start_time": "2022-09-07T03:14:06.663Z"
   },
   {
    "duration": 179,
    "start_time": "2022-09-07T03:14:39.498Z"
   },
   {
    "duration": 106,
    "start_time": "2022-09-07T03:18:34.428Z"
   },
   {
    "duration": 108,
    "start_time": "2022-09-07T03:18:39.506Z"
   },
   {
    "duration": 73,
    "start_time": "2022-09-08T13:31:00.631Z"
   },
   {
    "duration": 1566,
    "start_time": "2022-09-08T13:31:06.285Z"
   },
   {
    "duration": 27,
    "start_time": "2022-09-08T13:31:07.853Z"
   },
   {
    "duration": 24,
    "start_time": "2022-09-08T13:31:07.882Z"
   },
   {
    "duration": 35,
    "start_time": "2022-09-08T13:31:07.908Z"
   },
   {
    "duration": 16,
    "start_time": "2022-09-08T13:31:07.946Z"
   },
   {
    "duration": 18,
    "start_time": "2022-09-08T13:31:07.963Z"
   },
   {
    "duration": 16,
    "start_time": "2022-09-08T13:31:07.983Z"
   },
   {
    "duration": 4,
    "start_time": "2022-09-08T13:31:08.000Z"
   },
   {
    "duration": 43,
    "start_time": "2022-09-08T13:31:08.005Z"
   },
   {
    "duration": 18,
    "start_time": "2022-09-08T13:31:08.051Z"
   },
   {
    "duration": 17,
    "start_time": "2022-09-08T13:31:08.071Z"
   },
   {
    "duration": 53,
    "start_time": "2022-09-08T13:31:08.090Z"
   },
   {
    "duration": 14,
    "start_time": "2022-09-08T13:31:08.145Z"
   },
   {
    "duration": 12,
    "start_time": "2022-09-08T13:31:08.161Z"
   },
   {
    "duration": 61,
    "start_time": "2022-09-08T13:31:08.174Z"
   },
   {
    "duration": 17,
    "start_time": "2022-09-08T13:31:08.236Z"
   },
   {
    "duration": 24,
    "start_time": "2022-09-08T13:31:08.255Z"
   },
   {
    "duration": 45,
    "start_time": "2022-09-08T13:31:08.281Z"
   },
   {
    "duration": 38,
    "start_time": "2022-09-08T13:31:08.331Z"
   },
   {
    "duration": 31,
    "start_time": "2022-09-08T13:31:08.371Z"
   },
   {
    "duration": 259,
    "start_time": "2022-09-08T13:31:08.404Z"
   },
   {
    "duration": 192,
    "start_time": "2022-09-08T13:31:08.665Z"
   },
   {
    "duration": 8,
    "start_time": "2022-09-08T13:31:08.859Z"
   },
   {
    "duration": 230,
    "start_time": "2022-09-08T13:31:08.869Z"
   },
   {
    "duration": 26,
    "start_time": "2022-09-08T13:31:09.101Z"
   },
   {
    "duration": 333,
    "start_time": "2022-09-08T13:31:09.130Z"
   },
   {
    "duration": 110,
    "start_time": "2022-09-08T13:31:09.464Z"
   },
   {
    "duration": 7,
    "start_time": "2022-09-08T13:31:54.177Z"
   },
   {
    "duration": 7,
    "start_time": "2022-09-08T13:31:59.153Z"
   },
   {
    "duration": 6,
    "start_time": "2022-09-08T13:32:04.250Z"
   },
   {
    "duration": 7,
    "start_time": "2022-09-08T13:32:07.859Z"
   },
   {
    "duration": 7,
    "start_time": "2022-09-08T13:32:11.771Z"
   },
   {
    "duration": 21,
    "start_time": "2022-09-08T13:32:37.677Z"
   },
   {
    "duration": 20,
    "start_time": "2022-09-08T13:32:42.144Z"
   },
   {
    "duration": 481,
    "start_time": "2022-09-08T13:33:17.190Z"
   },
   {
    "duration": 11,
    "start_time": "2022-09-08T13:33:28.376Z"
   },
   {
    "duration": 16,
    "start_time": "2022-09-08T13:33:34.744Z"
   },
   {
    "duration": 196,
    "start_time": "2022-09-08T13:34:06.295Z"
   },
   {
    "duration": 9,
    "start_time": "2022-09-08T13:34:09.675Z"
   },
   {
    "duration": 199,
    "start_time": "2022-09-08T13:34:21.750Z"
   },
   {
    "duration": 9,
    "start_time": "2022-09-08T13:34:28.999Z"
   },
   {
    "duration": 3,
    "start_time": "2022-09-08T13:34:34.580Z"
   },
   {
    "duration": 11,
    "start_time": "2022-09-08T13:34:40.445Z"
   },
   {
    "duration": 13,
    "start_time": "2022-09-08T13:35:23.802Z"
   },
   {
    "duration": 222,
    "start_time": "2022-09-08T13:35:47.193Z"
   },
   {
    "duration": 26,
    "start_time": "2022-09-08T13:36:29.242Z"
   },
   {
    "duration": 10,
    "start_time": "2022-09-08T13:36:52.994Z"
   },
   {
    "duration": 185,
    "start_time": "2022-09-08T13:37:44.836Z"
   },
   {
    "duration": 211,
    "start_time": "2022-09-08T13:38:16.092Z"
   },
   {
    "duration": 166,
    "start_time": "2022-09-08T13:38:27.738Z"
   },
   {
    "duration": 276,
    "start_time": "2022-09-08T13:38:34.079Z"
   },
   {
    "duration": 147,
    "start_time": "2022-09-08T13:39:22.724Z"
   },
   {
    "duration": 189,
    "start_time": "2022-09-08T13:39:28.542Z"
   },
   {
    "duration": 371,
    "start_time": "2022-09-08T13:43:04.088Z"
   },
   {
    "duration": 305,
    "start_time": "2022-09-08T13:43:12.171Z"
   },
   {
    "duration": 398,
    "start_time": "2022-09-08T13:43:22.650Z"
   },
   {
    "duration": 217,
    "start_time": "2022-09-08T13:43:50.179Z"
   },
   {
    "duration": 223,
    "start_time": "2022-09-08T13:45:11.235Z"
   },
   {
    "duration": 361,
    "start_time": "2022-09-08T13:47:28.582Z"
   },
   {
    "duration": 332,
    "start_time": "2022-09-08T13:47:47.547Z"
   },
   {
    "duration": 50,
    "start_time": "2022-09-08T13:47:56.436Z"
   },
   {
    "duration": 413,
    "start_time": "2022-09-08T13:48:00.063Z"
   },
   {
    "duration": 394,
    "start_time": "2022-09-08T13:48:20.801Z"
   },
   {
    "duration": 303,
    "start_time": "2022-09-08T13:48:25.752Z"
   },
   {
    "duration": 342,
    "start_time": "2022-09-08T13:48:38.001Z"
   },
   {
    "duration": 399,
    "start_time": "2022-09-08T13:48:50.784Z"
   },
   {
    "duration": 399,
    "start_time": "2022-09-08T13:48:59.144Z"
   },
   {
    "duration": 359,
    "start_time": "2022-09-08T13:49:07.537Z"
   },
   {
    "duration": 312,
    "start_time": "2022-09-08T13:49:18.977Z"
   },
   {
    "duration": 304,
    "start_time": "2022-09-08T13:49:24.994Z"
   },
   {
    "duration": 282,
    "start_time": "2022-09-08T13:49:30.873Z"
   },
   {
    "duration": 343,
    "start_time": "2022-09-08T13:49:33.842Z"
   },
   {
    "duration": 309,
    "start_time": "2022-09-08T14:04:56.431Z"
   },
   {
    "duration": 348,
    "start_time": "2022-09-08T14:05:08.395Z"
   },
   {
    "duration": 61,
    "start_time": "2022-09-09T04:10:30.273Z"
   },
   {
    "duration": 1286,
    "start_time": "2022-09-09T04:10:35.143Z"
   },
   {
    "duration": 27,
    "start_time": "2022-09-09T04:10:36.431Z"
   },
   {
    "duration": 18,
    "start_time": "2022-09-09T04:10:36.460Z"
   },
   {
    "duration": 12,
    "start_time": "2022-09-09T04:10:36.481Z"
   },
   {
    "duration": 14,
    "start_time": "2022-09-09T04:10:36.496Z"
   },
   {
    "duration": 13,
    "start_time": "2022-09-09T04:10:36.512Z"
   },
   {
    "duration": 19,
    "start_time": "2022-09-09T04:10:36.526Z"
   },
   {
    "duration": 32,
    "start_time": "2022-09-09T04:10:36.547Z"
   },
   {
    "duration": 26,
    "start_time": "2022-09-09T04:10:36.581Z"
   },
   {
    "duration": 16,
    "start_time": "2022-09-09T04:10:36.610Z"
   },
   {
    "duration": 10,
    "start_time": "2022-09-09T04:10:36.628Z"
   },
   {
    "duration": 56,
    "start_time": "2022-09-09T04:10:36.640Z"
   },
   {
    "duration": 6,
    "start_time": "2022-09-09T04:10:36.698Z"
   },
   {
    "duration": 10,
    "start_time": "2022-09-09T04:10:36.706Z"
   },
   {
    "duration": 88,
    "start_time": "2022-09-09T04:10:36.718Z"
   },
   {
    "duration": 10,
    "start_time": "2022-09-09T04:10:36.808Z"
   },
   {
    "duration": 22,
    "start_time": "2022-09-09T04:10:36.820Z"
   },
   {
    "duration": 56,
    "start_time": "2022-09-09T04:10:36.843Z"
   },
   {
    "duration": 26,
    "start_time": "2022-09-09T04:10:36.902Z"
   },
   {
    "duration": 49,
    "start_time": "2022-09-09T04:10:36.929Z"
   },
   {
    "duration": 261,
    "start_time": "2022-09-09T04:10:36.981Z"
   },
   {
    "duration": 197,
    "start_time": "2022-09-09T04:10:37.243Z"
   },
   {
    "duration": 382,
    "start_time": "2022-09-09T04:10:37.441Z"
   },
   {
    "duration": 410,
    "start_time": "2022-09-09T04:10:52.688Z"
   },
   {
    "duration": 7,
    "start_time": "2022-09-09T04:12:00.391Z"
   },
   {
    "duration": 84,
    "start_time": "2022-09-09T04:12:05.855Z"
   },
   {
    "duration": 5,
    "start_time": "2022-09-09T04:12:09.024Z"
   },
   {
    "duration": 5,
    "start_time": "2022-09-09T04:12:17.968Z"
   },
   {
    "duration": 62,
    "start_time": "2022-09-09T04:12:21.112Z"
   },
   {
    "duration": 5,
    "start_time": "2022-09-09T04:12:23.728Z"
   },
   {
    "duration": 7,
    "start_time": "2022-09-09T04:15:05.787Z"
   },
   {
    "duration": 1436,
    "start_time": "2022-09-09T04:16:02.500Z"
   },
   {
    "duration": 1313,
    "start_time": "2022-09-09T04:16:21.079Z"
   },
   {
    "duration": 378,
    "start_time": "2022-09-09T04:16:44.239Z"
   },
   {
    "duration": 319,
    "start_time": "2022-09-09T04:17:00.840Z"
   },
   {
    "duration": 11,
    "start_time": "2022-09-09T04:17:13.391Z"
   },
   {
    "duration": 14,
    "start_time": "2022-09-09T04:17:25.591Z"
   },
   {
    "duration": 11,
    "start_time": "2022-09-09T04:18:38.527Z"
   },
   {
    "duration": 11,
    "start_time": "2022-09-09T04:18:46.622Z"
   },
   {
    "duration": 11,
    "start_time": "2022-09-09T04:19:04.256Z"
   },
   {
    "duration": 14,
    "start_time": "2022-09-09T04:19:26.802Z"
   },
   {
    "duration": 14,
    "start_time": "2022-09-09T04:20:00.257Z"
   },
   {
    "duration": 15,
    "start_time": "2022-09-09T04:20:17.568Z"
   },
   {
    "duration": 17,
    "start_time": "2022-09-09T04:20:20.927Z"
   },
   {
    "duration": 17,
    "start_time": "2022-09-09T04:20:25.049Z"
   },
   {
    "duration": 17,
    "start_time": "2022-09-09T04:20:37.699Z"
   },
   {
    "duration": 22,
    "start_time": "2022-09-09T04:28:26.813Z"
   },
   {
    "duration": 31,
    "start_time": "2022-09-09T04:28:53.829Z"
   },
   {
    "duration": 177,
    "start_time": "2022-09-09T04:40:14.941Z"
   },
   {
    "duration": 17,
    "start_time": "2022-09-09T04:40:20.626Z"
   },
   {
    "duration": 19,
    "start_time": "2022-09-09T04:43:40.141Z"
   },
   {
    "duration": 15,
    "start_time": "2022-09-09T04:43:49.755Z"
   },
   {
    "duration": 20,
    "start_time": "2022-09-09T04:44:00.836Z"
   },
   {
    "duration": 200,
    "start_time": "2022-09-09T04:44:06.024Z"
   },
   {
    "duration": 259,
    "start_time": "2022-09-09T04:44:30.311Z"
   },
   {
    "duration": 96,
    "start_time": "2022-09-09T04:44:46.966Z"
   },
   {
    "duration": 19,
    "start_time": "2022-09-09T04:45:13.161Z"
   },
   {
    "duration": 19,
    "start_time": "2022-09-09T04:45:28.051Z"
   },
   {
    "duration": 15,
    "start_time": "2022-09-09T04:45:49.320Z"
   },
   {
    "duration": 14,
    "start_time": "2022-09-09T04:45:56.165Z"
   },
   {
    "duration": 773,
    "start_time": "2022-09-09T04:47:23.464Z"
   },
   {
    "duration": 168,
    "start_time": "2022-09-09T04:47:30.754Z"
   },
   {
    "duration": 163,
    "start_time": "2022-09-09T04:47:49.978Z"
   },
   {
    "duration": 171,
    "start_time": "2022-09-09T04:47:59.779Z"
   },
   {
    "duration": 220,
    "start_time": "2022-09-09T04:48:06.914Z"
   },
   {
    "duration": 48,
    "start_time": "2022-09-09T04:49:33.125Z"
   },
   {
    "duration": 259,
    "start_time": "2022-09-09T04:49:38.885Z"
   },
   {
    "duration": 58,
    "start_time": "2022-09-09T04:50:55.990Z"
   },
   {
    "duration": 158,
    "start_time": "2022-09-09T04:50:58.968Z"
   },
   {
    "duration": 24,
    "start_time": "2022-09-09T04:51:10.088Z"
   },
   {
    "duration": 149,
    "start_time": "2022-09-09T04:51:32.271Z"
   },
   {
    "duration": 295,
    "start_time": "2022-09-09T04:51:44.688Z"
   },
   {
    "duration": 123,
    "start_time": "2022-09-09T04:52:01.834Z"
   },
   {
    "duration": 116,
    "start_time": "2022-09-09T04:52:25.882Z"
   },
   {
    "duration": 192,
    "start_time": "2022-09-09T04:53:05.345Z"
   },
   {
    "duration": 278,
    "start_time": "2022-09-09T04:53:59.883Z"
   },
   {
    "duration": 166,
    "start_time": "2022-09-09T04:56:05.881Z"
   },
   {
    "duration": 168,
    "start_time": "2022-09-09T04:56:29.061Z"
   },
   {
    "duration": 366,
    "start_time": "2022-09-09T04:57:25.222Z"
   },
   {
    "duration": 276,
    "start_time": "2022-09-09T04:58:26.383Z"
   },
   {
    "duration": 304,
    "start_time": "2022-09-09T04:58:53.159Z"
   },
   {
    "duration": 353,
    "start_time": "2022-09-09T04:58:59.200Z"
   },
   {
    "duration": 280,
    "start_time": "2022-09-09T04:59:32.912Z"
   },
   {
    "duration": 78,
    "start_time": "2022-09-09T04:59:44.977Z"
   },
   {
    "duration": 291,
    "start_time": "2022-09-09T04:59:47.247Z"
   },
   {
    "duration": 255,
    "start_time": "2022-09-09T05:00:00.159Z"
   },
   {
    "duration": 45,
    "start_time": "2022-09-09T16:22:09.210Z"
   },
   {
    "duration": 1114,
    "start_time": "2022-09-09T16:22:13.250Z"
   },
   {
    "duration": 33,
    "start_time": "2022-09-09T16:22:14.366Z"
   },
   {
    "duration": 20,
    "start_time": "2022-09-09T16:22:14.401Z"
   },
   {
    "duration": 14,
    "start_time": "2022-09-09T16:22:14.423Z"
   },
   {
    "duration": 15,
    "start_time": "2022-09-09T16:22:14.438Z"
   },
   {
    "duration": 21,
    "start_time": "2022-09-09T16:22:14.455Z"
   },
   {
    "duration": 38,
    "start_time": "2022-09-09T16:22:14.478Z"
   },
   {
    "duration": 4,
    "start_time": "2022-09-09T16:22:14.517Z"
   },
   {
    "duration": 20,
    "start_time": "2022-09-09T16:22:14.522Z"
   },
   {
    "duration": 17,
    "start_time": "2022-09-09T16:22:14.545Z"
   },
   {
    "duration": 12,
    "start_time": "2022-09-09T16:22:14.563Z"
   },
   {
    "duration": 59,
    "start_time": "2022-09-09T16:22:14.577Z"
   },
   {
    "duration": 6,
    "start_time": "2022-09-09T16:22:14.638Z"
   },
   {
    "duration": 15,
    "start_time": "2022-09-09T16:22:14.646Z"
   },
   {
    "duration": 65,
    "start_time": "2022-09-09T16:22:14.662Z"
   },
   {
    "duration": 10,
    "start_time": "2022-09-09T16:22:14.728Z"
   },
   {
    "duration": 18,
    "start_time": "2022-09-09T16:22:14.740Z"
   },
   {
    "duration": 49,
    "start_time": "2022-09-09T16:22:14.759Z"
   },
   {
    "duration": 26,
    "start_time": "2022-09-09T16:22:14.811Z"
   },
   {
    "duration": 24,
    "start_time": "2022-09-09T16:22:14.839Z"
   },
   {
    "duration": 234,
    "start_time": "2022-09-09T16:22:14.864Z"
   },
   {
    "duration": 166,
    "start_time": "2022-09-09T16:22:15.099Z"
   },
   {
    "duration": 170,
    "start_time": "2022-09-09T16:22:15.266Z"
   },
   {
    "duration": 17,
    "start_time": "2022-09-09T16:22:15.438Z"
   },
   {
    "duration": 317,
    "start_time": "2022-09-09T16:22:15.457Z"
   },
   {
    "duration": 249,
    "start_time": "2022-09-09T16:28:08.745Z"
   },
   {
    "duration": 258,
    "start_time": "2022-09-09T16:42:17.429Z"
   },
   {
    "duration": 23,
    "start_time": "2022-09-09T17:02:26.057Z"
   },
   {
    "duration": 9,
    "start_time": "2022-09-09T17:02:31.320Z"
   },
   {
    "duration": 4,
    "start_time": "2022-09-09T17:03:34.624Z"
   },
   {
    "duration": 71,
    "start_time": "2022-09-09T17:03:49.752Z"
   },
   {
    "duration": 5,
    "start_time": "2022-09-09T17:03:52.025Z"
   },
   {
    "duration": 18,
    "start_time": "2022-09-09T17:03:52.201Z"
   },
   {
    "duration": 9,
    "start_time": "2022-09-09T17:03:53.456Z"
   },
   {
    "duration": 25,
    "start_time": "2022-09-09T17:05:10.330Z"
   },
   {
    "duration": 47,
    "start_time": "2022-09-12T18:33:01.610Z"
   },
   {
    "duration": 1255,
    "start_time": "2022-09-12T18:33:06.361Z"
   },
   {
    "duration": 33,
    "start_time": "2022-09-12T18:33:07.619Z"
   },
   {
    "duration": 20,
    "start_time": "2022-09-12T18:33:07.653Z"
   },
   {
    "duration": 14,
    "start_time": "2022-09-12T18:33:07.675Z"
   },
   {
    "duration": 23,
    "start_time": "2022-09-12T18:33:07.695Z"
   },
   {
    "duration": 16,
    "start_time": "2022-09-12T18:33:07.720Z"
   },
   {
    "duration": 19,
    "start_time": "2022-09-12T18:33:07.738Z"
   },
   {
    "duration": 5,
    "start_time": "2022-09-12T18:33:07.758Z"
   },
   {
    "duration": 46,
    "start_time": "2022-09-12T18:33:07.765Z"
   },
   {
    "duration": 18,
    "start_time": "2022-09-12T18:33:07.814Z"
   },
   {
    "duration": 12,
    "start_time": "2022-09-12T18:33:07.834Z"
   },
   {
    "duration": 61,
    "start_time": "2022-09-12T18:33:07.847Z"
   },
   {
    "duration": 6,
    "start_time": "2022-09-12T18:33:07.909Z"
   },
   {
    "duration": 11,
    "start_time": "2022-09-12T18:33:07.916Z"
   },
   {
    "duration": 84,
    "start_time": "2022-09-12T18:33:07.929Z"
   },
   {
    "duration": 18,
    "start_time": "2022-09-12T18:33:08.015Z"
   },
   {
    "duration": 23,
    "start_time": "2022-09-12T18:33:08.035Z"
   },
   {
    "duration": 55,
    "start_time": "2022-09-12T18:33:08.061Z"
   },
   {
    "duration": 29,
    "start_time": "2022-09-12T18:33:08.117Z"
   },
   {
    "duration": 50,
    "start_time": "2022-09-12T18:33:08.147Z"
   },
   {
    "duration": 255,
    "start_time": "2022-09-12T18:33:08.199Z"
   },
   {
    "duration": 207,
    "start_time": "2022-09-12T18:33:08.456Z"
   },
   {
    "duration": 200,
    "start_time": "2022-09-12T18:33:08.665Z"
   },
   {
    "duration": 35,
    "start_time": "2022-09-12T18:33:08.867Z"
   },
   {
    "duration": 395,
    "start_time": "2022-09-12T18:33:08.904Z"
   },
   {
    "duration": 29,
    "start_time": "2022-09-12T18:33:09.300Z"
   },
   {
    "duration": 9,
    "start_time": "2022-09-12T18:33:09.330Z"
   },
   {
    "duration": 297,
    "start_time": "2022-09-12T18:45:48.827Z"
   },
   {
    "duration": 10,
    "start_time": "2022-09-12T18:45:58.227Z"
   },
   {
    "duration": 84,
    "start_time": "2022-09-12T18:48:44.797Z"
   },
   {
    "duration": 1258,
    "start_time": "2022-09-12T18:50:04.280Z"
   },
   {
    "duration": 5,
    "start_time": "2022-09-12T18:50:10.047Z"
   },
   {
    "duration": 4,
    "start_time": "2022-09-12T18:50:29.280Z"
   },
   {
    "duration": 24,
    "start_time": "2022-09-12T18:51:23.635Z"
   },
   {
    "duration": 14,
    "start_time": "2022-09-12T18:51:29.905Z"
   },
   {
    "duration": 12,
    "start_time": "2022-09-12T18:51:36.554Z"
   },
   {
    "duration": 14,
    "start_time": "2022-09-12T18:51:44.849Z"
   },
   {
    "duration": 16,
    "start_time": "2022-09-12T18:51:53.865Z"
   },
   {
    "duration": 1209,
    "start_time": "2022-09-12T18:52:40.003Z"
   },
   {
    "duration": 9,
    "start_time": "2022-09-12T18:52:47.562Z"
   },
   {
    "duration": 20,
    "start_time": "2022-09-12T18:53:10.484Z"
   },
   {
    "duration": 26,
    "start_time": "2022-09-12T18:53:17.234Z"
   },
   {
    "duration": 4,
    "start_time": "2022-09-12T18:53:36.195Z"
   },
   {
    "duration": 26,
    "start_time": "2022-09-12T18:53:52.035Z"
   },
   {
    "duration": 25,
    "start_time": "2022-09-12T18:57:01.889Z"
   },
   {
    "duration": 40,
    "start_time": "2022-09-12T18:57:08.433Z"
   },
   {
    "duration": 49,
    "start_time": "2022-09-12T18:57:29.512Z"
   },
   {
    "duration": 42,
    "start_time": "2022-09-12T18:57:36.924Z"
   },
   {
    "duration": 94,
    "start_time": "2022-09-12T18:57:56.346Z"
   },
   {
    "duration": 1273,
    "start_time": "2022-09-12T18:58:00.377Z"
   },
   {
    "duration": 84,
    "start_time": "2022-09-12T18:58:09.034Z"
   },
   {
    "duration": 1177,
    "start_time": "2022-09-12T18:58:12.304Z"
   },
   {
    "duration": 30,
    "start_time": "2022-09-12T18:58:20.625Z"
   },
   {
    "duration": 42,
    "start_time": "2022-09-12T18:58:23.905Z"
   },
   {
    "duration": 38,
    "start_time": "2022-09-12T18:58:55.899Z"
   },
   {
    "duration": 36,
    "start_time": "2022-09-12T18:59:10.460Z"
   },
   {
    "duration": 326,
    "start_time": "2022-09-12T18:59:31.989Z"
   },
   {
    "duration": 38,
    "start_time": "2022-09-12T18:59:37.504Z"
   },
   {
    "duration": 304,
    "start_time": "2022-09-12T18:59:49.787Z"
   },
   {
    "duration": 32,
    "start_time": "2022-09-12T19:00:06.208Z"
   },
   {
    "duration": 49,
    "start_time": "2022-09-12T19:00:11.682Z"
   },
   {
    "duration": 30,
    "start_time": "2022-09-12T19:01:33.700Z"
   },
   {
    "duration": 36,
    "start_time": "2022-09-12T19:01:37.660Z"
   },
   {
    "duration": 29,
    "start_time": "2022-09-12T19:02:10.208Z"
   },
   {
    "duration": 3256,
    "start_time": "2022-09-12T19:04:16.645Z"
   },
   {
    "duration": 3631,
    "start_time": "2022-09-12T19:04:32.528Z"
   },
   {
    "duration": 139,
    "start_time": "2022-09-12T19:04:43.153Z"
   },
   {
    "duration": 3568,
    "start_time": "2022-09-12T19:04:46.320Z"
   },
   {
    "duration": 3099,
    "start_time": "2022-09-12T19:04:54.721Z"
   },
   {
    "duration": 48,
    "start_time": "2022-09-12T19:05:36.352Z"
   },
   {
    "duration": 41,
    "start_time": "2022-09-12T19:05:44.124Z"
   },
   {
    "duration": 39,
    "start_time": "2022-09-12T19:05:54.514Z"
   },
   {
    "duration": 28,
    "start_time": "2022-09-12T19:07:58.902Z"
   },
   {
    "duration": 2684,
    "start_time": "2022-09-12T19:08:04.989Z"
   },
   {
    "duration": 2293,
    "start_time": "2022-09-12T19:08:20.790Z"
   },
   {
    "duration": 2341,
    "start_time": "2022-09-12T19:08:30.971Z"
   },
   {
    "duration": 2467,
    "start_time": "2022-09-12T19:08:34.205Z"
   },
   {
    "duration": 3610,
    "start_time": "2022-09-12T19:08:40.052Z"
   },
   {
    "duration": 1855,
    "start_time": "2022-09-12T19:08:52.534Z"
   },
   {
    "duration": 40,
    "start_time": "2022-09-12T19:08:57.981Z"
   },
   {
    "duration": 1360,
    "start_time": "2022-09-12T19:09:02.268Z"
   },
   {
    "duration": 1900,
    "start_time": "2022-09-12T19:12:35.865Z"
   },
   {
    "duration": 1253,
    "start_time": "2022-09-12T19:12:43.571Z"
   },
   {
    "duration": 46,
    "start_time": "2022-09-12T19:13:00.364Z"
   },
   {
    "duration": 3397,
    "start_time": "2022-09-12T19:13:16.503Z"
   },
   {
    "duration": 46,
    "start_time": "2022-09-12T19:13:54.436Z"
   },
   {
    "duration": 53,
    "start_time": "2022-09-12T19:13:58.836Z"
   },
   {
    "duration": 667,
    "start_time": "2022-09-12T19:14:14.124Z"
   },
   {
    "duration": 357,
    "start_time": "2022-09-12T19:14:36.644Z"
   },
   {
    "duration": 344,
    "start_time": "2022-09-12T19:14:46.173Z"
   },
   {
    "duration": 352,
    "start_time": "2022-09-12T19:14:56.189Z"
   },
   {
    "duration": 710,
    "start_time": "2022-09-12T19:15:32.245Z"
   },
   {
    "duration": 695,
    "start_time": "2022-09-12T19:15:35.109Z"
   },
   {
    "duration": 641,
    "start_time": "2022-09-12T19:16:38.144Z"
   },
   {
    "duration": 671,
    "start_time": "2022-09-12T19:20:11.697Z"
   },
   {
    "duration": 970,
    "start_time": "2022-09-12T19:20:37.172Z"
   },
   {
    "duration": 667,
    "start_time": "2022-09-12T19:21:33.750Z"
   },
   {
    "duration": 296,
    "start_time": "2022-09-12T19:28:47.237Z"
   },
   {
    "duration": 175,
    "start_time": "2022-09-12T19:29:00.654Z"
   },
   {
    "duration": 147,
    "start_time": "2022-09-12T19:29:09.789Z"
   },
   {
    "duration": 164,
    "start_time": "2022-09-12T19:29:13.157Z"
   },
   {
    "duration": 147,
    "start_time": "2022-09-12T19:29:55.919Z"
   },
   {
    "duration": 73,
    "start_time": "2022-09-12T19:30:07.334Z"
   },
   {
    "duration": 174,
    "start_time": "2022-09-12T19:30:09.046Z"
   },
   {
    "duration": 187,
    "start_time": "2022-09-12T19:30:30.864Z"
   },
   {
    "duration": 183,
    "start_time": "2022-09-12T19:30:42.079Z"
   },
   {
    "duration": 634,
    "start_time": "2022-09-12T19:30:57.512Z"
   },
   {
    "duration": 195,
    "start_time": "2022-09-12T19:31:02.024Z"
   },
   {
    "duration": 47,
    "start_time": "2022-09-13T03:16:00.878Z"
   },
   {
    "duration": 1104,
    "start_time": "2022-09-13T03:16:08.312Z"
   },
   {
    "duration": 31,
    "start_time": "2022-09-13T03:16:09.418Z"
   },
   {
    "duration": 19,
    "start_time": "2022-09-13T03:16:09.450Z"
   },
   {
    "duration": 14,
    "start_time": "2022-09-13T03:16:09.471Z"
   },
   {
    "duration": 23,
    "start_time": "2022-09-13T03:16:09.487Z"
   },
   {
    "duration": 17,
    "start_time": "2022-09-13T03:16:09.511Z"
   },
   {
    "duration": 17,
    "start_time": "2022-09-13T03:16:09.547Z"
   },
   {
    "duration": 4,
    "start_time": "2022-09-13T03:16:09.566Z"
   },
   {
    "duration": 20,
    "start_time": "2022-09-13T03:16:09.572Z"
   },
   {
    "duration": 16,
    "start_time": "2022-09-13T03:16:09.595Z"
   },
   {
    "duration": 37,
    "start_time": "2022-09-13T03:16:09.612Z"
   },
   {
    "duration": 31,
    "start_time": "2022-09-13T03:16:09.651Z"
   },
   {
    "duration": 5,
    "start_time": "2022-09-13T03:16:09.683Z"
   },
   {
    "duration": 13,
    "start_time": "2022-09-13T03:16:09.689Z"
   },
   {
    "duration": 80,
    "start_time": "2022-09-13T03:16:09.704Z"
   },
   {
    "duration": 14,
    "start_time": "2022-09-13T03:16:09.786Z"
   },
   {
    "duration": 60,
    "start_time": "2022-09-13T03:16:09.802Z"
   },
   {
    "duration": 20,
    "start_time": "2022-09-13T03:16:09.864Z"
   },
   {
    "duration": 26,
    "start_time": "2022-09-13T03:16:09.885Z"
   },
   {
    "duration": 50,
    "start_time": "2022-09-13T03:16:09.913Z"
   },
   {
    "duration": 234,
    "start_time": "2022-09-13T03:16:09.965Z"
   },
   {
    "duration": 183,
    "start_time": "2022-09-13T03:16:10.200Z"
   },
   {
    "duration": 180,
    "start_time": "2022-09-13T03:16:10.385Z"
   },
   {
    "duration": 17,
    "start_time": "2022-09-13T03:16:10.566Z"
   },
   {
    "duration": 377,
    "start_time": "2022-09-13T03:16:10.585Z"
   },
   {
    "duration": 191,
    "start_time": "2022-09-13T03:16:10.964Z"
   },
   {
    "duration": 664,
    "start_time": "2022-09-13T03:16:11.157Z"
   },
   {
    "duration": 5,
    "start_time": "2022-09-13T03:16:53.953Z"
   },
   {
    "duration": 184,
    "start_time": "2022-09-13T03:17:05.104Z"
   },
   {
    "duration": 198,
    "start_time": "2022-09-13T03:17:09.392Z"
   },
   {
    "duration": 253,
    "start_time": "2022-09-13T03:17:18.871Z"
   },
   {
    "duration": 194,
    "start_time": "2022-09-13T03:17:27.243Z"
   },
   {
    "duration": 201,
    "start_time": "2022-09-13T03:18:04.050Z"
   },
   {
    "duration": 5,
    "start_time": "2022-09-13T03:18:32.987Z"
   },
   {
    "duration": 181,
    "start_time": "2022-09-13T03:18:35.564Z"
   },
   {
    "duration": 374,
    "start_time": "2022-09-13T03:24:07.839Z"
   },
   {
    "duration": 69,
    "start_time": "2022-09-13T03:25:37.186Z"
   },
   {
    "duration": 709,
    "start_time": "2022-09-13T03:25:43.873Z"
   },
   {
    "duration": 28,
    "start_time": "2022-09-13T03:25:44.584Z"
   },
   {
    "duration": 18,
    "start_time": "2022-09-13T03:25:44.614Z"
   },
   {
    "duration": 12,
    "start_time": "2022-09-13T03:25:44.634Z"
   },
   {
    "duration": 13,
    "start_time": "2022-09-13T03:25:44.648Z"
   },
   {
    "duration": 17,
    "start_time": "2022-09-13T03:25:44.662Z"
   },
   {
    "duration": 22,
    "start_time": "2022-09-13T03:25:44.680Z"
   },
   {
    "duration": 4,
    "start_time": "2022-09-13T03:25:44.703Z"
   },
   {
    "duration": 18,
    "start_time": "2022-09-13T03:25:44.709Z"
   },
   {
    "duration": 30,
    "start_time": "2022-09-13T03:25:44.730Z"
   },
   {
    "duration": 13,
    "start_time": "2022-09-13T03:25:44.762Z"
   },
   {
    "duration": 31,
    "start_time": "2022-09-13T03:25:44.777Z"
   },
   {
    "duration": 5,
    "start_time": "2022-09-13T03:25:44.810Z"
   },
   {
    "duration": 9,
    "start_time": "2022-09-13T03:25:44.846Z"
   },
   {
    "duration": 40,
    "start_time": "2022-09-13T03:25:44.856Z"
   },
   {
    "duration": 54,
    "start_time": "2022-09-13T03:25:44.898Z"
   },
   {
    "duration": 17,
    "start_time": "2022-09-13T03:25:44.954Z"
   },
   {
    "duration": 18,
    "start_time": "2022-09-13T03:25:44.972Z"
   },
   {
    "duration": 25,
    "start_time": "2022-09-13T03:25:44.991Z"
   },
   {
    "duration": 25,
    "start_time": "2022-09-13T03:25:45.048Z"
   },
   {
    "duration": 222,
    "start_time": "2022-09-13T03:25:45.074Z"
   },
   {
    "duration": 178,
    "start_time": "2022-09-13T03:25:45.297Z"
   },
   {
    "duration": 175,
    "start_time": "2022-09-13T03:25:45.477Z"
   },
   {
    "duration": 16,
    "start_time": "2022-09-13T03:25:45.654Z"
   },
   {
    "duration": 357,
    "start_time": "2022-09-13T03:25:45.671Z"
   },
   {
    "duration": 215,
    "start_time": "2022-09-13T03:25:46.029Z"
   },
   {
    "duration": 86,
    "start_time": "2022-09-13T03:25:46.246Z"
   },
   {
    "duration": 242,
    "start_time": "2022-09-13T03:25:51.871Z"
   },
   {
    "duration": 238,
    "start_time": "2022-09-13T03:26:20.255Z"
   },
   {
    "duration": 166,
    "start_time": "2022-09-13T03:30:40.224Z"
   },
   {
    "duration": 17,
    "start_time": "2022-09-13T03:30:44.442Z"
   },
   {
    "duration": 19,
    "start_time": "2022-09-13T03:31:02.296Z"
   },
   {
    "duration": 6,
    "start_time": "2022-09-13T03:32:12.320Z"
   },
   {
    "duration": 10,
    "start_time": "2022-09-13T03:32:19.751Z"
   },
   {
    "duration": 14,
    "start_time": "2022-09-13T03:32:32.807Z"
   },
   {
    "duration": 10,
    "start_time": "2022-09-13T03:32:55.976Z"
   },
   {
    "duration": 13,
    "start_time": "2022-09-13T03:33:21.456Z"
   },
   {
    "duration": 19,
    "start_time": "2022-09-13T03:33:55.206Z"
   },
   {
    "duration": 15,
    "start_time": "2022-09-13T03:34:42.512Z"
   },
   {
    "duration": 16,
    "start_time": "2022-09-13T03:35:02.117Z"
   },
   {
    "duration": 16,
    "start_time": "2022-09-13T03:35:30.133Z"
   },
   {
    "duration": 238,
    "start_time": "2022-09-13T03:36:56.206Z"
   },
   {
    "duration": 251,
    "start_time": "2022-09-13T03:38:22.551Z"
   },
   {
    "duration": 253,
    "start_time": "2022-09-13T03:38:26.790Z"
   },
   {
    "duration": 253,
    "start_time": "2022-09-13T03:38:31.375Z"
   },
   {
    "duration": 261,
    "start_time": "2022-09-13T03:39:07.182Z"
   },
   {
    "duration": 290,
    "start_time": "2022-09-13T03:40:19.640Z"
   },
   {
    "duration": 233,
    "start_time": "2022-09-13T03:41:33.665Z"
   },
   {
    "duration": 299,
    "start_time": "2022-09-13T03:41:42.592Z"
   },
   {
    "duration": 236,
    "start_time": "2022-09-13T03:41:54.530Z"
   },
   {
    "duration": 129,
    "start_time": "2022-09-13T03:42:08.284Z"
   },
   {
    "duration": 250,
    "start_time": "2022-09-13T03:42:20.183Z"
   },
   {
    "duration": 237,
    "start_time": "2022-09-13T03:42:26.465Z"
   },
   {
    "duration": 237,
    "start_time": "2022-09-13T03:43:47.716Z"
   },
   {
    "duration": 234,
    "start_time": "2022-09-13T03:44:17.090Z"
   },
   {
    "duration": 249,
    "start_time": "2022-09-13T03:44:30.893Z"
   },
   {
    "duration": 240,
    "start_time": "2022-09-13T03:44:43.654Z"
   },
   {
    "duration": 239,
    "start_time": "2022-09-13T03:44:48.633Z"
   },
   {
    "duration": 215,
    "start_time": "2022-09-13T03:44:55.540Z"
   },
   {
    "duration": 315,
    "start_time": "2022-09-13T03:45:13.868Z"
   },
   {
    "duration": 1167,
    "start_time": "2022-09-14T03:07:06.872Z"
   },
   {
    "duration": 48,
    "start_time": "2022-09-14T03:07:08.041Z"
   },
   {
    "duration": 25,
    "start_time": "2022-09-14T03:07:08.091Z"
   },
   {
    "duration": 30,
    "start_time": "2022-09-14T03:07:08.119Z"
   },
   {
    "duration": 15,
    "start_time": "2022-09-14T03:07:08.150Z"
   },
   {
    "duration": 22,
    "start_time": "2022-09-14T03:07:08.167Z"
   },
   {
    "duration": 21,
    "start_time": "2022-09-14T03:07:08.191Z"
   },
   {
    "duration": 4,
    "start_time": "2022-09-14T03:07:08.214Z"
   },
   {
    "duration": 27,
    "start_time": "2022-09-14T03:07:08.246Z"
   },
   {
    "duration": 17,
    "start_time": "2022-09-14T03:07:08.275Z"
   },
   {
    "duration": 17,
    "start_time": "2022-09-14T03:07:08.294Z"
   },
   {
    "duration": 73,
    "start_time": "2022-09-14T03:07:08.313Z"
   },
   {
    "duration": 6,
    "start_time": "2022-09-14T03:07:08.388Z"
   },
   {
    "duration": 11,
    "start_time": "2022-09-14T03:07:08.396Z"
   },
   {
    "duration": 88,
    "start_time": "2022-09-14T03:07:08.409Z"
   },
   {
    "duration": 49,
    "start_time": "2022-09-14T03:07:08.499Z"
   },
   {
    "duration": 20,
    "start_time": "2022-09-14T03:07:08.550Z"
   },
   {
    "duration": 26,
    "start_time": "2022-09-14T03:07:08.572Z"
   },
   {
    "duration": 47,
    "start_time": "2022-09-14T03:07:08.599Z"
   },
   {
    "duration": 34,
    "start_time": "2022-09-14T03:07:08.648Z"
   },
   {
    "duration": 257,
    "start_time": "2022-09-14T03:07:08.683Z"
   },
   {
    "duration": 193,
    "start_time": "2022-09-14T03:07:08.942Z"
   },
   {
    "duration": 191,
    "start_time": "2022-09-14T03:07:09.137Z"
   },
   {
    "duration": 23,
    "start_time": "2022-09-14T03:07:09.329Z"
   },
   {
    "duration": 404,
    "start_time": "2022-09-14T03:07:09.353Z"
   },
   {
    "duration": 212,
    "start_time": "2022-09-14T03:07:09.758Z"
   },
   {
    "duration": 265,
    "start_time": "2022-09-14T03:07:09.972Z"
   },
   {
    "duration": 245,
    "start_time": "2022-09-14T03:07:10.240Z"
   },
   {
    "duration": 934,
    "start_time": "2022-09-14T03:08:16.661Z"
   },
   {
    "duration": 195,
    "start_time": "2022-09-14T03:08:27.668Z"
   },
   {
    "duration": 171,
    "start_time": "2022-09-14T03:08:42.485Z"
   },
   {
    "duration": 183,
    "start_time": "2022-09-14T03:09:42.882Z"
   },
   {
    "duration": 7,
    "start_time": "2022-09-14T03:12:56.776Z"
   },
   {
    "duration": 6,
    "start_time": "2022-09-14T03:13:02.768Z"
   },
   {
    "duration": 5,
    "start_time": "2022-09-14T03:13:19.933Z"
   },
   {
    "duration": 7,
    "start_time": "2022-09-14T03:15:45.003Z"
   },
   {
    "duration": 15,
    "start_time": "2022-09-14T03:15:55.875Z"
   },
   {
    "duration": 25,
    "start_time": "2022-09-14T03:17:04.309Z"
   },
   {
    "duration": 18,
    "start_time": "2022-09-14T03:18:21.014Z"
   },
   {
    "duration": 7,
    "start_time": "2022-09-14T03:18:55.188Z"
   },
   {
    "duration": 178,
    "start_time": "2022-09-14T03:20:42.237Z"
   },
   {
    "duration": 160,
    "start_time": "2022-09-14T03:20:51.002Z"
   },
   {
    "duration": 179,
    "start_time": "2022-09-14T03:21:03.577Z"
   },
   {
    "duration": 157,
    "start_time": "2022-09-14T03:21:48.419Z"
   },
   {
    "duration": 164,
    "start_time": "2022-09-14T03:21:54.381Z"
   },
   {
    "duration": 212,
    "start_time": "2022-09-14T03:21:58.163Z"
   },
   {
    "duration": 263,
    "start_time": "2022-09-14T03:22:07.804Z"
   },
   {
    "duration": 137,
    "start_time": "2022-09-14T03:22:49.469Z"
   },
   {
    "duration": 141,
    "start_time": "2022-09-14T03:23:04.973Z"
   },
   {
    "duration": 132,
    "start_time": "2022-09-14T03:24:23.464Z"
   },
   {
    "duration": 135,
    "start_time": "2022-09-14T03:24:30.344Z"
   },
   {
    "duration": 147,
    "start_time": "2022-09-14T03:24:52.326Z"
   },
   {
    "duration": 52,
    "start_time": "2022-09-14T03:25:52.010Z"
   },
   {
    "duration": 132,
    "start_time": "2022-09-14T03:25:54.016Z"
   },
   {
    "duration": 148,
    "start_time": "2022-09-14T03:26:12.730Z"
   },
   {
    "duration": 1110,
    "start_time": "2022-09-14T03:26:21.132Z"
   },
   {
    "duration": 556,
    "start_time": "2022-09-14T03:26:23.855Z"
   },
   {
    "duration": 139,
    "start_time": "2022-09-14T03:26:35.416Z"
   },
   {
    "duration": 25,
    "start_time": "2022-09-14T03:29:00.116Z"
   },
   {
    "duration": 64,
    "start_time": "2022-09-14T03:32:21.104Z"
   },
   {
    "duration": 39,
    "start_time": "2022-09-14T03:32:28.236Z"
   },
   {
    "duration": 41,
    "start_time": "2022-09-14T03:32:42.545Z"
   },
   {
    "duration": 33,
    "start_time": "2022-09-14T03:33:02.377Z"
   },
   {
    "duration": 32,
    "start_time": "2022-09-14T03:34:05.278Z"
   },
   {
    "duration": 33,
    "start_time": "2022-09-14T03:35:06.699Z"
   },
   {
    "duration": 33,
    "start_time": "2022-09-14T03:35:25.833Z"
   },
   {
    "duration": 32,
    "start_time": "2022-09-14T03:35:31.868Z"
   },
   {
    "duration": 39,
    "start_time": "2022-09-14T03:35:48.836Z"
   },
   {
    "duration": 146,
    "start_time": "2022-09-14T03:35:56.764Z"
   },
   {
    "duration": 182,
    "start_time": "2022-09-14T03:36:13.701Z"
   },
   {
    "duration": 228,
    "start_time": "2022-09-14T03:36:22.053Z"
   },
   {
    "duration": 152,
    "start_time": "2022-09-14T03:36:32.197Z"
   },
   {
    "duration": 150,
    "start_time": "2022-09-14T03:36:38.564Z"
   },
   {
    "duration": 35,
    "start_time": "2022-09-14T03:36:49.597Z"
   },
   {
    "duration": 173,
    "start_time": "2022-09-14T03:36:52.199Z"
   },
   {
    "duration": 192,
    "start_time": "2022-09-14T03:37:02.064Z"
   },
   {
    "duration": 153,
    "start_time": "2022-09-14T03:37:21.069Z"
   },
   {
    "duration": 161,
    "start_time": "2022-09-14T03:37:30.318Z"
   },
   {
    "duration": 177,
    "start_time": "2022-09-14T03:37:41.539Z"
   },
   {
    "duration": 254,
    "start_time": "2022-09-14T03:37:47.118Z"
   },
   {
    "duration": 171,
    "start_time": "2022-09-14T03:38:05.511Z"
   },
   {
    "duration": 40,
    "start_time": "2022-09-14T03:39:47.681Z"
   },
   {
    "duration": 166,
    "start_time": "2022-09-14T03:39:59.920Z"
   },
   {
    "duration": 243,
    "start_time": "2022-09-14T03:40:07.352Z"
   },
   {
    "duration": 145,
    "start_time": "2022-09-14T03:40:31.177Z"
   },
   {
    "duration": 172,
    "start_time": "2022-09-14T03:41:11.290Z"
   },
   {
    "duration": 152,
    "start_time": "2022-09-14T03:41:17.562Z"
   },
   {
    "duration": 36,
    "start_time": "2022-09-14T03:42:11.851Z"
   },
   {
    "duration": 30,
    "start_time": "2022-09-14T03:42:26.652Z"
   },
   {
    "duration": 28,
    "start_time": "2022-09-14T03:42:54.166Z"
   },
   {
    "duration": 154,
    "start_time": "2022-09-14T03:44:24.902Z"
   },
   {
    "duration": 149,
    "start_time": "2022-09-14T03:44:43.194Z"
   },
   {
    "duration": 29,
    "start_time": "2022-09-14T03:44:58.321Z"
   },
   {
    "duration": 201,
    "start_time": "2022-09-14T03:45:07.278Z"
   },
   {
    "duration": 176,
    "start_time": "2022-09-14T03:45:22.063Z"
   },
   {
    "duration": 738,
    "start_time": "2022-09-14T04:09:23.038Z"
   },
   {
    "duration": 28,
    "start_time": "2022-09-14T04:09:23.778Z"
   },
   {
    "duration": 18,
    "start_time": "2022-09-14T04:09:23.807Z"
   },
   {
    "duration": 34,
    "start_time": "2022-09-14T04:09:23.827Z"
   },
   {
    "duration": 20,
    "start_time": "2022-09-14T04:09:23.863Z"
   },
   {
    "duration": 38,
    "start_time": "2022-09-14T04:09:23.885Z"
   },
   {
    "duration": 27,
    "start_time": "2022-09-14T04:09:23.925Z"
   },
   {
    "duration": 6,
    "start_time": "2022-09-14T04:09:23.953Z"
   },
   {
    "duration": 45,
    "start_time": "2022-09-14T04:09:23.960Z"
   },
   {
    "duration": 33,
    "start_time": "2022-09-14T04:09:24.008Z"
   },
   {
    "duration": 19,
    "start_time": "2022-09-14T04:09:24.042Z"
   },
   {
    "duration": 51,
    "start_time": "2022-09-14T04:09:24.063Z"
   },
   {
    "duration": 6,
    "start_time": "2022-09-14T04:09:24.115Z"
   },
   {
    "duration": 19,
    "start_time": "2022-09-14T04:09:24.122Z"
   },
   {
    "duration": 56,
    "start_time": "2022-09-14T04:09:24.142Z"
   },
   {
    "duration": 10,
    "start_time": "2022-09-14T04:09:24.200Z"
   },
   {
    "duration": 39,
    "start_time": "2022-09-14T04:09:24.211Z"
   },
   {
    "duration": 39,
    "start_time": "2022-09-14T04:09:24.252Z"
   },
   {
    "duration": 24,
    "start_time": "2022-09-14T04:09:24.293Z"
   },
   {
    "duration": 23,
    "start_time": "2022-09-14T04:09:24.318Z"
   },
   {
    "duration": 211,
    "start_time": "2022-09-14T04:09:24.343Z"
   },
   {
    "duration": 166,
    "start_time": "2022-09-14T04:09:24.556Z"
   },
   {
    "duration": 168,
    "start_time": "2022-09-14T04:09:24.724Z"
   },
   {
    "duration": 15,
    "start_time": "2022-09-14T04:09:24.894Z"
   },
   {
    "duration": 340,
    "start_time": "2022-09-14T04:09:24.910Z"
   },
   {
    "duration": 201,
    "start_time": "2022-09-14T04:09:25.252Z"
   },
   {
    "duration": 259,
    "start_time": "2022-09-14T04:09:25.455Z"
   },
   {
    "duration": 229,
    "start_time": "2022-09-14T04:09:25.717Z"
   },
   {
    "duration": 162,
    "start_time": "2022-09-14T04:09:25.948Z"
   },
   {
    "duration": 83,
    "start_time": "2022-09-14T04:10:52.821Z"
   },
   {
    "duration": 24,
    "start_time": "2022-09-14T04:11:08.090Z"
   },
   {
    "duration": 22,
    "start_time": "2022-09-14T04:11:12.387Z"
   },
   {
    "duration": 23,
    "start_time": "2022-09-14T04:11:23.837Z"
   },
   {
    "duration": 23,
    "start_time": "2022-09-14T04:11:38.105Z"
   },
   {
    "duration": 158,
    "start_time": "2022-09-14T04:11:43.139Z"
   },
   {
    "duration": 6,
    "start_time": "2022-09-14T04:12:25.460Z"
   },
   {
    "duration": 155,
    "start_time": "2022-09-14T04:12:54.782Z"
   },
   {
    "duration": 156,
    "start_time": "2022-09-14T04:13:00.485Z"
   },
   {
    "duration": 9,
    "start_time": "2022-09-14T04:13:20.462Z"
   },
   {
    "duration": 6,
    "start_time": "2022-09-14T04:13:23.979Z"
   },
   {
    "duration": 6,
    "start_time": "2022-09-14T04:13:27.805Z"
   },
   {
    "duration": 166,
    "start_time": "2022-09-14T04:16:22.746Z"
   },
   {
    "duration": 158,
    "start_time": "2022-09-14T04:17:19.677Z"
   },
   {
    "duration": 156,
    "start_time": "2022-09-14T04:17:58.187Z"
   },
   {
    "duration": 249,
    "start_time": "2022-09-14T04:18:39.620Z"
   },
   {
    "duration": 176,
    "start_time": "2022-09-14T04:19:07.134Z"
   },
   {
    "duration": 182,
    "start_time": "2022-09-14T04:19:34.361Z"
   },
   {
    "duration": 172,
    "start_time": "2022-09-14T04:19:57.222Z"
   },
   {
    "duration": 204,
    "start_time": "2022-09-14T04:20:06.542Z"
   },
   {
    "duration": 188,
    "start_time": "2022-09-14T04:20:38.186Z"
   },
   {
    "duration": 7,
    "start_time": "2022-09-14T04:21:54.353Z"
   },
   {
    "duration": 180,
    "start_time": "2022-09-14T04:22:25.304Z"
   },
   {
    "duration": 198,
    "start_time": "2022-09-14T04:22:42.980Z"
   },
   {
    "duration": 229,
    "start_time": "2022-09-14T04:22:47.818Z"
   },
   {
    "duration": 170,
    "start_time": "2022-09-14T04:23:04.153Z"
   },
   {
    "duration": 33,
    "start_time": "2022-09-14T04:24:06.466Z"
   },
   {
    "duration": 27,
    "start_time": "2022-09-14T04:25:05.868Z"
   },
   {
    "duration": 37,
    "start_time": "2022-09-14T04:25:14.235Z"
   },
   {
    "duration": 34,
    "start_time": "2022-09-14T04:25:32.507Z"
   },
   {
    "duration": 38,
    "start_time": "2022-09-14T04:25:39.587Z"
   },
   {
    "duration": 52,
    "start_time": "2022-09-14T04:26:20.943Z"
   },
   {
    "duration": 969,
    "start_time": "2022-09-14T04:26:25.604Z"
   },
   {
    "duration": 806,
    "start_time": "2022-09-14T04:26:34.917Z"
   },
   {
    "duration": 18,
    "start_time": "2022-09-14T04:26:43.965Z"
   },
   {
    "duration": 34,
    "start_time": "2022-09-14T04:27:23.133Z"
   },
   {
    "duration": 33,
    "start_time": "2022-09-14T04:27:28.454Z"
   },
   {
    "duration": 41,
    "start_time": "2022-09-14T04:27:52.279Z"
   },
   {
    "duration": 11,
    "start_time": "2022-09-14T04:28:05.808Z"
   },
   {
    "duration": 18,
    "start_time": "2022-09-14T04:28:12.517Z"
   },
   {
    "duration": 35,
    "start_time": "2022-09-14T04:29:14.768Z"
   },
   {
    "duration": 34,
    "start_time": "2022-09-14T04:29:22.138Z"
   },
   {
    "duration": 41,
    "start_time": "2022-09-14T04:30:00.688Z"
   },
   {
    "duration": 38,
    "start_time": "2022-09-14T04:30:05.505Z"
   },
   {
    "duration": 37,
    "start_time": "2022-09-14T04:30:09.459Z"
   },
   {
    "duration": 42,
    "start_time": "2022-09-14T04:30:13.360Z"
   },
   {
    "duration": 35,
    "start_time": "2022-09-14T04:30:17.504Z"
   },
   {
    "duration": 49,
    "start_time": "2022-09-15T03:12:06.763Z"
   },
   {
    "duration": 1090,
    "start_time": "2022-09-15T03:13:57.419Z"
   },
   {
    "duration": 33,
    "start_time": "2022-09-15T03:13:58.512Z"
   },
   {
    "duration": 20,
    "start_time": "2022-09-15T03:13:58.547Z"
   },
   {
    "duration": 15,
    "start_time": "2022-09-15T03:13:58.569Z"
   },
   {
    "duration": 38,
    "start_time": "2022-09-15T03:13:58.585Z"
   },
   {
    "duration": 16,
    "start_time": "2022-09-15T03:13:58.625Z"
   },
   {
    "duration": 17,
    "start_time": "2022-09-15T03:13:58.643Z"
   },
   {
    "duration": 4,
    "start_time": "2022-09-15T03:13:58.661Z"
   },
   {
    "duration": 25,
    "start_time": "2022-09-15T03:13:58.667Z"
   },
   {
    "duration": 41,
    "start_time": "2022-09-15T03:13:58.695Z"
   },
   {
    "duration": 10,
    "start_time": "2022-09-15T03:13:58.738Z"
   },
   {
    "duration": 31,
    "start_time": "2022-09-15T03:13:58.750Z"
   },
   {
    "duration": 5,
    "start_time": "2022-09-15T03:13:58.783Z"
   },
   {
    "duration": 8,
    "start_time": "2022-09-15T03:13:58.820Z"
   },
   {
    "duration": 51,
    "start_time": "2022-09-15T03:13:58.830Z"
   },
   {
    "duration": 16,
    "start_time": "2022-09-15T03:13:58.922Z"
   },
   {
    "duration": 35,
    "start_time": "2022-09-15T03:13:58.940Z"
   },
   {
    "duration": 43,
    "start_time": "2022-09-15T03:13:58.978Z"
   },
   {
    "duration": 33,
    "start_time": "2022-09-15T03:13:59.024Z"
   },
   {
    "duration": 32,
    "start_time": "2022-09-15T03:13:59.059Z"
   },
   {
    "duration": 253,
    "start_time": "2022-09-15T03:13:59.093Z"
   },
   {
    "duration": 186,
    "start_time": "2022-09-15T03:13:59.348Z"
   },
   {
    "duration": 195,
    "start_time": "2022-09-15T03:13:59.536Z"
   },
   {
    "duration": 18,
    "start_time": "2022-09-15T03:13:59.733Z"
   },
   {
    "duration": 404,
    "start_time": "2022-09-15T03:13:59.754Z"
   },
   {
    "duration": 219,
    "start_time": "2022-09-15T03:14:00.160Z"
   },
   {
    "duration": 271,
    "start_time": "2022-09-15T03:14:00.381Z"
   },
   {
    "duration": 267,
    "start_time": "2022-09-15T03:14:00.656Z"
   },
   {
    "duration": 197,
    "start_time": "2022-09-15T03:14:00.925Z"
   },
   {
    "duration": 37,
    "start_time": "2022-09-15T03:14:01.124Z"
   },
   {
    "duration": 18,
    "start_time": "2022-09-15T03:14:01.163Z"
   },
   {
    "duration": 29,
    "start_time": "2022-09-15T03:14:48.052Z"
   },
   {
    "duration": 18,
    "start_time": "2022-09-15T03:15:37.612Z"
   },
   {
    "duration": 19,
    "start_time": "2022-09-15T03:15:54.575Z"
   },
   {
    "duration": 18,
    "start_time": "2022-09-15T03:16:16.214Z"
   },
   {
    "duration": 75,
    "start_time": "2022-09-15T03:30:43.456Z"
   },
   {
    "duration": 17,
    "start_time": "2022-09-15T03:31:00.720Z"
   },
   {
    "duration": 21,
    "start_time": "2022-09-15T03:31:11.121Z"
   },
   {
    "duration": 14,
    "start_time": "2022-09-15T03:33:19.413Z"
   },
   {
    "duration": 15,
    "start_time": "2022-09-15T03:33:30.590Z"
   },
   {
    "duration": 10,
    "start_time": "2022-09-15T03:33:53.300Z"
   },
   {
    "duration": 5082,
    "start_time": "2022-09-15T03:34:02.692Z"
   },
   {
    "duration": 4,
    "start_time": "2022-09-15T03:34:30.388Z"
   },
   {
    "duration": 48,
    "start_time": "2022-09-15T03:34:46.279Z"
   },
   {
    "duration": 604,
    "start_time": "2022-09-15T03:34:51.388Z"
   },
   {
    "duration": 707,
    "start_time": "2022-09-15T03:35:01.997Z"
   },
   {
    "duration": 617,
    "start_time": "2022-09-15T03:37:25.480Z"
   },
   {
    "duration": 4112,
    "start_time": "2022-09-15T03:37:32.706Z"
   },
   {
    "duration": 904,
    "start_time": "2022-09-15T03:38:18.945Z"
   },
   {
    "duration": 616,
    "start_time": "2022-09-15T03:38:32.864Z"
   },
   {
    "duration": 621,
    "start_time": "2022-09-15T03:38:42.929Z"
   },
   {
    "duration": 341,
    "start_time": "2022-09-15T03:39:57.283Z"
   },
   {
    "duration": 215,
    "start_time": "2022-09-15T03:40:10.075Z"
   },
   {
    "duration": 132,
    "start_time": "2022-09-15T03:40:28.517Z"
   },
   {
    "duration": 125,
    "start_time": "2022-09-15T03:40:39.956Z"
   },
   {
    "duration": 142,
    "start_time": "2022-09-15T03:40:52.017Z"
   },
   {
    "duration": 167,
    "start_time": "2022-09-15T03:40:58.846Z"
   },
   {
    "duration": 139,
    "start_time": "2022-09-15T03:41:04.028Z"
   },
   {
    "duration": 53,
    "start_time": "2022-09-15T03:42:01.797Z"
   },
   {
    "duration": 163,
    "start_time": "2022-09-15T03:42:03.968Z"
   },
   {
    "duration": 177,
    "start_time": "2022-09-15T03:42:11.701Z"
   },
   {
    "duration": 180,
    "start_time": "2022-09-15T03:42:15.790Z"
   },
   {
    "duration": 163,
    "start_time": "2022-09-15T03:42:20.989Z"
   },
   {
    "duration": 16,
    "start_time": "2022-09-15T03:43:12.055Z"
   },
   {
    "duration": 1429,
    "start_time": "2022-09-15T03:43:24.055Z"
   },
   {
    "duration": 186,
    "start_time": "2022-09-15T03:43:44.082Z"
   },
   {
    "duration": 180,
    "start_time": "2022-09-15T03:43:58.079Z"
   },
   {
    "duration": 173,
    "start_time": "2022-09-15T03:44:05.631Z"
   },
   {
    "duration": 178,
    "start_time": "2022-09-15T03:44:40.568Z"
   },
   {
    "duration": 183,
    "start_time": "2022-09-15T03:45:08.697Z"
   },
   {
    "duration": 365,
    "start_time": "2022-09-15T03:46:32.396Z"
   },
   {
    "duration": 337,
    "start_time": "2022-09-15T03:46:42.115Z"
   },
   {
    "duration": 341,
    "start_time": "2022-09-15T03:47:01.355Z"
   },
   {
    "duration": 493,
    "start_time": "2022-09-15T03:48:20.736Z"
   },
   {
    "duration": 357,
    "start_time": "2022-09-15T03:48:25.941Z"
   },
   {
    "duration": 393,
    "start_time": "2022-09-15T03:49:13.271Z"
   },
   {
    "duration": 428,
    "start_time": "2022-09-15T03:49:27.447Z"
   },
   {
    "duration": 406,
    "start_time": "2022-09-15T03:52:25.155Z"
   },
   {
    "duration": 392,
    "start_time": "2022-09-15T03:53:46.571Z"
   },
   {
    "duration": 513,
    "start_time": "2022-09-15T03:54:50.583Z"
   },
   {
    "duration": 1017,
    "start_time": "2022-09-15T20:56:18.457Z"
   },
   {
    "duration": 28,
    "start_time": "2022-09-15T20:56:19.476Z"
   },
   {
    "duration": 16,
    "start_time": "2022-09-15T20:56:19.506Z"
   },
   {
    "duration": 11,
    "start_time": "2022-09-15T20:56:19.524Z"
   },
   {
    "duration": 12,
    "start_time": "2022-09-15T20:56:19.536Z"
   },
   {
    "duration": 16,
    "start_time": "2022-09-15T20:56:19.549Z"
   },
   {
    "duration": 16,
    "start_time": "2022-09-15T20:56:19.567Z"
   },
   {
    "duration": 3,
    "start_time": "2022-09-15T20:56:19.585Z"
   },
   {
    "duration": 39,
    "start_time": "2022-09-15T20:56:19.590Z"
   },
   {
    "duration": 16,
    "start_time": "2022-09-15T20:56:19.631Z"
   },
   {
    "duration": 17,
    "start_time": "2022-09-15T20:56:19.649Z"
   },
   {
    "duration": 55,
    "start_time": "2022-09-15T20:56:19.668Z"
   },
   {
    "duration": 7,
    "start_time": "2022-09-15T20:56:19.725Z"
   },
   {
    "duration": 10,
    "start_time": "2022-09-15T20:56:19.734Z"
   },
   {
    "duration": 83,
    "start_time": "2022-09-15T20:56:19.746Z"
   },
   {
    "duration": 10,
    "start_time": "2022-09-15T20:56:19.830Z"
   },
   {
    "duration": 16,
    "start_time": "2022-09-15T20:56:19.841Z"
   },
   {
    "duration": 17,
    "start_time": "2022-09-15T20:56:19.859Z"
   },
   {
    "duration": 47,
    "start_time": "2022-09-15T20:56:19.877Z"
   },
   {
    "duration": 22,
    "start_time": "2022-09-15T20:56:19.926Z"
   },
   {
    "duration": 241,
    "start_time": "2022-09-15T20:56:19.949Z"
   },
   {
    "duration": 167,
    "start_time": "2022-09-15T20:56:20.191Z"
   },
   {
    "duration": 168,
    "start_time": "2022-09-15T20:56:20.360Z"
   },
   {
    "duration": 15,
    "start_time": "2022-09-15T20:56:20.529Z"
   },
   {
    "duration": 363,
    "start_time": "2022-09-15T20:56:20.546Z"
   },
   {
    "duration": 202,
    "start_time": "2022-09-15T20:56:20.910Z"
   },
   {
    "duration": 243,
    "start_time": "2022-09-15T20:56:21.113Z"
   },
   {
    "duration": 234,
    "start_time": "2022-09-15T20:56:21.358Z"
   },
   {
    "duration": 165,
    "start_time": "2022-09-15T20:56:21.594Z"
   },
   {
    "duration": 315,
    "start_time": "2022-09-15T20:56:21.761Z"
   },
   {
    "duration": 79,
    "start_time": "2022-09-15T20:56:22.078Z"
   },
   {
    "duration": 17,
    "start_time": "2022-09-15T20:56:29.084Z"
   },
   {
    "duration": 6,
    "start_time": "2022-09-15T20:57:41.382Z"
   },
   {
    "duration": 16,
    "start_time": "2022-09-15T20:58:01.303Z"
   },
   {
    "duration": 234,
    "start_time": "2022-09-15T21:03:09.357Z"
   },
   {
    "duration": 198,
    "start_time": "2022-09-15T21:03:17.781Z"
   },
   {
    "duration": 204,
    "start_time": "2022-09-15T21:03:26.263Z"
   },
   {
    "duration": 228,
    "start_time": "2022-09-15T21:04:27.784Z"
   },
   {
    "duration": 298,
    "start_time": "2022-09-15T21:04:33.894Z"
   },
   {
    "duration": 423,
    "start_time": "2022-09-15T21:06:31.442Z"
   },
   {
    "duration": 244,
    "start_time": "2022-09-15T21:08:28.946Z"
   },
   {
    "duration": 60,
    "start_time": "2022-09-15T21:08:54.506Z"
   },
   {
    "duration": 439,
    "start_time": "2022-09-15T21:08:57.762Z"
   },
   {
    "duration": 501,
    "start_time": "2022-09-15T21:09:13.579Z"
   },
   {
    "duration": 436,
    "start_time": "2022-09-15T21:09:35.443Z"
   },
   {
    "duration": 248,
    "start_time": "2022-09-15T21:10:09.629Z"
   },
   {
    "duration": 285,
    "start_time": "2022-09-15T21:10:23.876Z"
   },
   {
    "duration": 212,
    "start_time": "2022-09-15T21:10:28.429Z"
   },
   {
    "duration": 275,
    "start_time": "2022-09-15T21:10:32.604Z"
   },
   {
    "duration": 152,
    "start_time": "2022-09-15T21:10:45.820Z"
   },
   {
    "duration": 209,
    "start_time": "2022-09-15T21:10:47.670Z"
   },
   {
    "duration": 204,
    "start_time": "2022-09-15T21:10:52.253Z"
   },
   {
    "duration": 213,
    "start_time": "2022-09-15T21:11:06.116Z"
   },
   {
    "duration": 228,
    "start_time": "2022-09-15T21:11:21.037Z"
   },
   {
    "duration": 387,
    "start_time": "2022-09-15T21:11:49.061Z"
   },
   {
    "duration": 414,
    "start_time": "2022-09-15T21:11:55.133Z"
   },
   {
    "duration": 464,
    "start_time": "2022-09-15T21:12:15.183Z"
   },
   {
    "duration": 395,
    "start_time": "2022-09-15T21:12:20.184Z"
   },
   {
    "duration": 425,
    "start_time": "2022-09-15T21:13:29.435Z"
   },
   {
    "duration": 132,
    "start_time": "2022-09-15T21:14:18.026Z"
   },
   {
    "duration": 125,
    "start_time": "2022-09-15T21:14:31.452Z"
   },
   {
    "duration": 135,
    "start_time": "2022-09-15T21:15:46.821Z"
   },
   {
    "duration": 423,
    "start_time": "2022-09-15T21:15:59.893Z"
   },
   {
    "duration": 458,
    "start_time": "2022-09-15T21:16:45.701Z"
   },
   {
    "duration": 435,
    "start_time": "2022-09-15T21:17:23.493Z"
   },
   {
    "duration": 463,
    "start_time": "2022-09-15T21:17:32.404Z"
   },
   {
    "duration": 450,
    "start_time": "2022-09-15T21:17:49.038Z"
   },
   {
    "duration": 441,
    "start_time": "2022-09-15T21:18:06.162Z"
   },
   {
    "duration": 1228,
    "start_time": "2022-09-15T21:20:39.401Z"
   },
   {
    "duration": 282,
    "start_time": "2022-09-15T21:20:53.163Z"
   },
   {
    "duration": 6,
    "start_time": "2022-09-15T21:21:17.608Z"
   },
   {
    "duration": 7,
    "start_time": "2022-09-15T21:22:10.339Z"
   },
   {
    "duration": 10,
    "start_time": "2022-09-15T21:22:26.915Z"
   },
   {
    "duration": 18,
    "start_time": "2022-09-15T21:22:54.134Z"
   },
   {
    "duration": 67,
    "start_time": "2022-09-15T21:23:07.472Z"
   },
   {
    "duration": 56,
    "start_time": "2022-09-15T21:23:10.180Z"
   },
   {
    "duration": 247,
    "start_time": "2022-09-15T21:23:13.012Z"
   },
   {
    "duration": 257,
    "start_time": "2022-09-15T21:23:20.588Z"
   },
   {
    "duration": 84,
    "start_time": "2022-09-15T21:23:47.373Z"
   },
   {
    "duration": 261,
    "start_time": "2022-09-15T21:23:49.573Z"
   },
   {
    "duration": 25,
    "start_time": "2022-09-15T21:23:58.677Z"
   },
   {
    "duration": 251,
    "start_time": "2022-09-15T21:24:02.477Z"
   },
   {
    "duration": 327,
    "start_time": "2022-09-15T21:24:05.620Z"
   },
   {
    "duration": 255,
    "start_time": "2022-09-15T21:24:30.293Z"
   },
   {
    "duration": 259,
    "start_time": "2022-09-15T21:25:04.505Z"
   },
   {
    "duration": 179,
    "start_time": "2022-09-15T21:25:28.831Z"
   },
   {
    "duration": 35,
    "start_time": "2022-09-15T21:25:31.871Z"
   },
   {
    "duration": 27,
    "start_time": "2022-09-15T21:26:06.760Z"
   },
   {
    "duration": 20,
    "start_time": "2022-09-15T21:29:09.651Z"
   },
   {
    "duration": 17,
    "start_time": "2022-09-15T21:31:11.368Z"
   },
   {
    "duration": 144,
    "start_time": "2022-09-15T21:32:05.398Z"
   },
   {
    "duration": 266,
    "start_time": "2022-09-15T21:32:27.527Z"
   },
   {
    "duration": 278,
    "start_time": "2022-09-15T21:32:32.871Z"
   },
   {
    "duration": 382,
    "start_time": "2022-09-15T21:33:58.603Z"
   },
   {
    "duration": 266,
    "start_time": "2022-09-15T21:34:06.466Z"
   },
   {
    "duration": 266,
    "start_time": "2022-09-15T21:34:29.114Z"
   },
   {
    "duration": 259,
    "start_time": "2022-09-15T21:34:37.605Z"
   },
   {
    "duration": 344,
    "start_time": "2022-09-15T21:34:45.242Z"
   },
   {
    "duration": 273,
    "start_time": "2022-09-15T21:34:54.685Z"
   },
   {
    "duration": 295,
    "start_time": "2022-09-15T21:36:01.359Z"
   },
   {
    "duration": 1099,
    "start_time": "2022-09-16T05:04:01.706Z"
   },
   {
    "duration": 43,
    "start_time": "2022-09-16T05:04:02.808Z"
   },
   {
    "duration": 21,
    "start_time": "2022-09-16T05:04:02.857Z"
   },
   {
    "duration": 12,
    "start_time": "2022-09-16T05:04:02.879Z"
   },
   {
    "duration": 49,
    "start_time": "2022-09-16T05:04:02.893Z"
   },
   {
    "duration": 13,
    "start_time": "2022-09-16T05:04:02.943Z"
   },
   {
    "duration": 16,
    "start_time": "2022-09-16T05:04:02.958Z"
   },
   {
    "duration": 4,
    "start_time": "2022-09-16T05:04:02.976Z"
   },
   {
    "duration": 17,
    "start_time": "2022-09-16T05:04:02.982Z"
   },
   {
    "duration": 26,
    "start_time": "2022-09-16T05:04:03.023Z"
   },
   {
    "duration": 10,
    "start_time": "2022-09-16T05:04:03.050Z"
   },
   {
    "duration": 35,
    "start_time": "2022-09-16T05:04:03.062Z"
   },
   {
    "duration": 10,
    "start_time": "2022-09-16T05:04:03.122Z"
   },
   {
    "duration": 22,
    "start_time": "2022-09-16T05:04:03.134Z"
   },
   {
    "duration": 43,
    "start_time": "2022-09-16T05:04:03.158Z"
   },
   {
    "duration": 17,
    "start_time": "2022-09-16T05:04:03.227Z"
   },
   {
    "duration": 17,
    "start_time": "2022-09-16T05:04:03.246Z"
   },
   {
    "duration": 19,
    "start_time": "2022-09-16T05:04:03.264Z"
   },
   {
    "duration": 50,
    "start_time": "2022-09-16T05:04:03.284Z"
   },
   {
    "duration": 23,
    "start_time": "2022-09-16T05:04:03.338Z"
   },
   {
    "duration": 227,
    "start_time": "2022-09-16T05:04:03.362Z"
   },
   {
    "duration": 178,
    "start_time": "2022-09-16T05:04:03.590Z"
   },
   {
    "duration": 183,
    "start_time": "2022-09-16T05:04:03.770Z"
   },
   {
    "duration": 18,
    "start_time": "2022-09-16T05:04:03.955Z"
   },
   {
    "duration": 386,
    "start_time": "2022-09-16T05:04:03.975Z"
   },
   {
    "duration": 200,
    "start_time": "2022-09-16T05:04:04.363Z"
   },
   {
    "duration": 273,
    "start_time": "2022-09-16T05:04:04.567Z"
   },
   {
    "duration": 223,
    "start_time": "2022-09-16T05:04:04.841Z"
   },
   {
    "duration": 178,
    "start_time": "2022-09-16T05:04:05.066Z"
   },
   {
    "duration": 324,
    "start_time": "2022-09-16T05:04:05.245Z"
   },
   {
    "duration": 496,
    "start_time": "2022-09-16T05:04:05.572Z"
   },
   {
    "duration": 20,
    "start_time": "2022-09-16T05:04:06.070Z"
   },
   {
    "duration": 16,
    "start_time": "2022-09-16T05:04:06.092Z"
   },
   {
    "duration": 270,
    "start_time": "2022-09-16T05:04:06.123Z"
   },
   {
    "duration": 175,
    "start_time": "2022-09-16T05:14:00.986Z"
   },
   {
    "duration": 9,
    "start_time": "2022-09-16T05:17:20.966Z"
   },
   {
    "duration": 536,
    "start_time": "2022-09-16T05:19:11.541Z"
   },
   {
    "duration": 165,
    "start_time": "2022-09-16T05:34:14.737Z"
   },
   {
    "duration": 217,
    "start_time": "2022-09-16T05:34:23.042Z"
   },
   {
    "duration": 84,
    "start_time": "2022-09-16T05:59:00.995Z"
   },
   {
    "duration": 5,
    "start_time": "2022-09-16T05:59:28.483Z"
   },
   {
    "duration": 5,
    "start_time": "2022-09-16T06:00:12.436Z"
   },
   {
    "duration": 5,
    "start_time": "2022-09-16T06:00:16.837Z"
   },
   {
    "duration": 5,
    "start_time": "2022-09-16T06:01:18.737Z"
   },
   {
    "duration": 64,
    "start_time": "2022-09-16T06:02:43.422Z"
   },
   {
    "duration": 297,
    "start_time": "2022-09-16T06:03:14.173Z"
   },
   {
    "duration": 297,
    "start_time": "2022-09-16T06:03:17.653Z"
   },
   {
    "duration": 185,
    "start_time": "2022-09-16T06:06:24.513Z"
   },
   {
    "duration": 55,
    "start_time": "2022-09-19T03:08:51.335Z"
   },
   {
    "duration": 10,
    "start_time": "2022-09-19T03:08:53.891Z"
   },
   {
    "duration": 1096,
    "start_time": "2022-09-19T03:08:57.993Z"
   },
   {
    "duration": 32,
    "start_time": "2022-09-19T03:08:59.092Z"
   },
   {
    "duration": 20,
    "start_time": "2022-09-19T03:08:59.125Z"
   },
   {
    "duration": 24,
    "start_time": "2022-09-19T03:08:59.147Z"
   },
   {
    "duration": 17,
    "start_time": "2022-09-19T03:08:59.173Z"
   },
   {
    "duration": 18,
    "start_time": "2022-09-19T03:08:59.191Z"
   },
   {
    "duration": 18,
    "start_time": "2022-09-19T03:08:59.211Z"
   },
   {
    "duration": 5,
    "start_time": "2022-09-19T03:08:59.230Z"
   },
   {
    "duration": 43,
    "start_time": "2022-09-19T03:08:59.236Z"
   },
   {
    "duration": 19,
    "start_time": "2022-09-19T03:08:59.281Z"
   },
   {
    "duration": 10,
    "start_time": "2022-09-19T03:08:59.302Z"
   },
   {
    "duration": 56,
    "start_time": "2022-09-19T03:08:59.313Z"
   },
   {
    "duration": 6,
    "start_time": "2022-09-19T03:08:59.371Z"
   },
   {
    "duration": 10,
    "start_time": "2022-09-19T03:08:59.380Z"
   },
   {
    "duration": 103,
    "start_time": "2022-09-19T03:08:59.392Z"
   },
   {
    "duration": 12,
    "start_time": "2022-09-19T03:08:59.496Z"
   },
   {
    "duration": 60,
    "start_time": "2022-09-19T03:08:59.510Z"
   },
   {
    "duration": 20,
    "start_time": "2022-09-19T03:08:59.573Z"
   },
   {
    "duration": 29,
    "start_time": "2022-09-19T03:08:59.595Z"
   },
   {
    "duration": 54,
    "start_time": "2022-09-19T03:08:59.626Z"
   },
   {
    "duration": 261,
    "start_time": "2022-09-19T03:08:59.682Z"
   },
   {
    "duration": 201,
    "start_time": "2022-09-19T03:08:59.945Z"
   },
   {
    "duration": 241,
    "start_time": "2022-09-19T03:09:00.149Z"
   },
   {
    "duration": 448,
    "start_time": "2022-09-19T03:09:00.392Z"
   },
   {
    "duration": 232,
    "start_time": "2022-09-19T03:09:00.842Z"
   },
   {
    "duration": 327,
    "start_time": "2022-09-19T03:09:01.077Z"
   },
   {
    "duration": 334,
    "start_time": "2022-09-19T03:09:01.406Z"
   },
   {
    "duration": 202,
    "start_time": "2022-09-19T03:09:01.742Z"
   },
   {
    "duration": 366,
    "start_time": "2022-09-19T03:09:01.947Z"
   },
   {
    "duration": 552,
    "start_time": "2022-09-19T03:09:02.314Z"
   },
   {
    "duration": 24,
    "start_time": "2022-09-19T03:09:02.868Z"
   },
   {
    "duration": 18,
    "start_time": "2022-09-19T03:09:02.894Z"
   },
   {
    "duration": 324,
    "start_time": "2022-09-19T03:09:02.914Z"
   },
   {
    "duration": 288,
    "start_time": "2022-09-19T03:21:03.161Z"
   },
   {
    "duration": 381,
    "start_time": "2022-09-19T03:33:49.368Z"
   },
   {
    "duration": 195,
    "start_time": "2022-09-19T03:38:59.721Z"
   },
   {
    "duration": 184,
    "start_time": "2022-09-19T03:39:20.499Z"
   },
   {
    "duration": 110,
    "start_time": "2022-09-19T03:39:33.062Z"
   },
   {
    "duration": 201,
    "start_time": "2022-09-19T03:39:40.534Z"
   },
   {
    "duration": 57,
    "start_time": "2022-09-19T14:41:47.002Z"
   },
   {
    "duration": 1313,
    "start_time": "2022-09-19T14:41:51.639Z"
   },
   {
    "duration": 33,
    "start_time": "2022-09-19T14:41:52.954Z"
   },
   {
    "duration": 21,
    "start_time": "2022-09-19T14:41:52.989Z"
   },
   {
    "duration": 30,
    "start_time": "2022-09-19T14:41:53.012Z"
   },
   {
    "duration": 41,
    "start_time": "2022-09-19T14:41:53.044Z"
   },
   {
    "duration": 32,
    "start_time": "2022-09-19T14:41:53.087Z"
   },
   {
    "duration": 38,
    "start_time": "2022-09-19T14:41:53.121Z"
   },
   {
    "duration": 5,
    "start_time": "2022-09-19T14:41:53.161Z"
   },
   {
    "duration": 48,
    "start_time": "2022-09-19T14:41:53.168Z"
   },
   {
    "duration": 32,
    "start_time": "2022-09-19T14:41:53.218Z"
   },
   {
    "duration": 49,
    "start_time": "2022-09-19T14:41:53.252Z"
   },
   {
    "duration": 53,
    "start_time": "2022-09-19T14:41:53.303Z"
   },
   {
    "duration": 7,
    "start_time": "2022-09-19T14:41:53.358Z"
   },
   {
    "duration": 37,
    "start_time": "2022-09-19T14:41:53.366Z"
   },
   {
    "duration": 92,
    "start_time": "2022-09-19T14:41:53.405Z"
   },
   {
    "duration": 11,
    "start_time": "2022-09-19T14:41:53.499Z"
   },
   {
    "duration": 33,
    "start_time": "2022-09-19T14:41:53.512Z"
   },
   {
    "duration": 53,
    "start_time": "2022-09-19T14:41:53.547Z"
   },
   {
    "duration": 28,
    "start_time": "2022-09-19T14:41:53.602Z"
   },
   {
    "duration": 53,
    "start_time": "2022-09-19T14:41:53.632Z"
   },
   {
    "duration": 250,
    "start_time": "2022-09-19T14:41:53.687Z"
   },
   {
    "duration": 194,
    "start_time": "2022-09-19T14:41:53.939Z"
   },
   {
    "duration": 215,
    "start_time": "2022-09-19T14:41:54.134Z"
   },
   {
    "duration": 457,
    "start_time": "2022-09-19T14:41:54.351Z"
   },
   {
    "duration": 223,
    "start_time": "2022-09-19T14:41:54.810Z"
   },
   {
    "duration": 301,
    "start_time": "2022-09-19T14:41:55.035Z"
   },
   {
    "duration": 286,
    "start_time": "2022-09-19T14:41:55.339Z"
   },
   {
    "duration": 241,
    "start_time": "2022-09-19T14:41:55.630Z"
   },
   {
    "duration": 375,
    "start_time": "2022-09-19T14:41:55.873Z"
   },
   {
    "duration": 560,
    "start_time": "2022-09-19T14:41:56.249Z"
   },
   {
    "duration": 23,
    "start_time": "2022-09-19T14:41:56.811Z"
   },
   {
    "duration": 20,
    "start_time": "2022-09-19T14:41:56.836Z"
   },
   {
    "duration": 342,
    "start_time": "2022-09-19T14:41:56.859Z"
   },
   {
    "duration": 218,
    "start_time": "2022-09-19T14:42:12.267Z"
   },
   {
    "duration": 277,
    "start_time": "2022-09-19T14:42:57.088Z"
   },
   {
    "duration": 344,
    "start_time": "2022-09-19T14:43:36.796Z"
   },
   {
    "duration": 485,
    "start_time": "2022-09-19T14:43:57.995Z"
   },
   {
    "duration": 417,
    "start_time": "2022-09-19T14:44:01.642Z"
   },
   {
    "duration": 392,
    "start_time": "2022-09-19T14:44:18.132Z"
   },
   {
    "duration": 112,
    "start_time": "2022-09-19T14:44:40.093Z"
   },
   {
    "duration": 342,
    "start_time": "2022-09-19T14:44:47.322Z"
   },
   {
    "duration": 374,
    "start_time": "2022-09-19T14:45:01.792Z"
   },
   {
    "duration": 390,
    "start_time": "2022-09-19T14:46:21.942Z"
   },
   {
    "duration": 3884,
    "start_time": "2022-09-19T14:46:35.360Z"
   },
   {
    "duration": 5857,
    "start_time": "2022-09-19T14:46:50.647Z"
   },
   {
    "duration": 381,
    "start_time": "2022-09-19T14:47:32.760Z"
   },
   {
    "duration": 450,
    "start_time": "2022-09-19T14:47:40.063Z"
   },
   {
    "duration": 416,
    "start_time": "2022-09-19T14:48:33.825Z"
   },
   {
    "duration": 161,
    "start_time": "2022-09-19T14:48:49.240Z"
   },
   {
    "duration": 398,
    "start_time": "2022-09-19T14:48:58.218Z"
   },
   {
    "duration": 387,
    "start_time": "2022-09-19T14:49:45.801Z"
   },
   {
    "duration": 398,
    "start_time": "2022-09-19T14:50:49.128Z"
   },
   {
    "duration": 531,
    "start_time": "2022-09-19T14:53:14.114Z"
   },
   {
    "duration": 521,
    "start_time": "2022-09-19T15:49:12.784Z"
   },
   {
    "duration": 500,
    "start_time": "2022-09-19T15:49:23.189Z"
   },
   {
    "duration": 551,
    "start_time": "2022-09-19T15:51:01.864Z"
   },
   {
    "duration": 2842,
    "start_time": "2022-09-19T16:08:48.871Z"
   },
   {
    "duration": 840,
    "start_time": "2022-09-19T16:09:23.945Z"
   },
   {
    "duration": 749,
    "start_time": "2022-09-19T16:09:54.830Z"
   },
   {
    "duration": 791,
    "start_time": "2022-09-19T16:10:02.835Z"
   },
   {
    "duration": 872,
    "start_time": "2022-09-19T16:11:38.993Z"
   },
   {
    "duration": 835,
    "start_time": "2022-09-19T16:11:47.257Z"
   },
   {
    "duration": 816,
    "start_time": "2022-09-19T16:12:04.516Z"
   },
   {
    "duration": 777,
    "start_time": "2022-09-19T16:12:35.345Z"
   },
   {
    "duration": 845,
    "start_time": "2022-09-19T16:12:47.289Z"
   },
   {
    "duration": 747,
    "start_time": "2022-09-19T16:14:51.532Z"
   },
   {
    "duration": 326,
    "start_time": "2022-09-19T16:40:37.626Z"
   },
   {
    "duration": 336,
    "start_time": "2022-09-19T16:41:04.609Z"
   },
   {
    "duration": 355,
    "start_time": "2022-09-19T16:41:21.778Z"
   },
   {
    "duration": 324,
    "start_time": "2022-09-19T16:41:37.611Z"
   },
   {
    "duration": 329,
    "start_time": "2022-09-19T16:41:45.192Z"
   },
   {
    "duration": 468,
    "start_time": "2022-09-19T16:42:07.962Z"
   },
   {
    "duration": 336,
    "start_time": "2022-09-19T16:42:14.881Z"
   },
   {
    "duration": 79,
    "start_time": "2022-09-19T16:42:38.951Z"
   },
   {
    "duration": 338,
    "start_time": "2022-09-19T16:42:44.793Z"
   },
   {
    "duration": 440,
    "start_time": "2022-09-19T16:43:33.396Z"
   },
   {
    "duration": 305,
    "start_time": "2022-09-19T16:43:39.259Z"
   },
   {
    "duration": 315,
    "start_time": "2022-09-19T16:43:59.283Z"
   },
   {
    "duration": 325,
    "start_time": "2022-09-19T16:44:35.892Z"
   },
   {
    "duration": 455,
    "start_time": "2022-09-19T16:44:47.676Z"
   },
   {
    "duration": 350,
    "start_time": "2022-09-19T16:45:48.497Z"
   },
   {
    "duration": 319,
    "start_time": "2022-09-19T16:45:57.453Z"
   },
   {
    "duration": 400,
    "start_time": "2022-09-19T16:46:12.345Z"
   },
   {
    "duration": 383,
    "start_time": "2022-09-19T16:46:30.232Z"
   },
   {
    "duration": 396,
    "start_time": "2022-09-19T16:47:03.626Z"
   },
   {
    "duration": 554,
    "start_time": "2022-09-19T16:48:17.879Z"
   },
   {
    "duration": 458,
    "start_time": "2022-09-19T16:48:28.017Z"
   },
   {
    "duration": 396,
    "start_time": "2022-09-19T16:48:45.194Z"
   },
   {
    "duration": 398,
    "start_time": "2022-09-19T16:48:49.832Z"
   },
   {
    "duration": 39,
    "start_time": "2022-09-19T16:54:51.191Z"
   },
   {
    "duration": 75,
    "start_time": "2022-09-19T16:55:25.544Z"
   },
   {
    "duration": 40,
    "start_time": "2022-09-19T16:55:29.873Z"
   },
   {
    "duration": 41,
    "start_time": "2022-09-19T16:55:35.012Z"
   },
   {
    "duration": 36,
    "start_time": "2022-09-19T16:55:40.353Z"
   },
   {
    "duration": 39,
    "start_time": "2022-09-19T16:55:43.231Z"
   },
   {
    "duration": 429,
    "start_time": "2022-09-19T17:42:11.424Z"
   },
   {
    "duration": 493,
    "start_time": "2022-09-19T17:42:18.782Z"
   },
   {
    "duration": 475,
    "start_time": "2022-09-19T17:42:37.793Z"
   },
   {
    "duration": 396,
    "start_time": "2022-09-19T17:42:43.622Z"
   },
   {
    "duration": 394,
    "start_time": "2022-09-19T17:42:54.691Z"
   },
   {
    "duration": 433,
    "start_time": "2022-09-19T17:42:58.527Z"
   },
   {
    "duration": 405,
    "start_time": "2022-09-19T17:43:21.360Z"
   },
   {
    "duration": 518,
    "start_time": "2022-09-19T17:43:32.774Z"
   },
   {
    "duration": 434,
    "start_time": "2022-09-19T17:43:44.383Z"
   },
   {
    "duration": 435,
    "start_time": "2022-09-19T17:50:14.163Z"
   },
   {
    "duration": 402,
    "start_time": "2022-09-19T17:50:18.624Z"
   },
   {
    "duration": 414,
    "start_time": "2022-09-19T17:50:47.463Z"
   },
   {
    "duration": 1876,
    "start_time": "2022-09-19T17:50:59.351Z"
   },
   {
    "duration": 424,
    "start_time": "2022-09-19T17:51:02.304Z"
   },
   {
    "duration": 476,
    "start_time": "2022-09-19T17:51:38.064Z"
   },
   {
    "duration": 411,
    "start_time": "2022-09-19T17:52:29.161Z"
   },
   {
    "duration": 416,
    "start_time": "2022-09-19T17:54:05.349Z"
   },
   {
    "duration": 401,
    "start_time": "2022-09-19T17:54:13.652Z"
   },
   {
    "duration": 490,
    "start_time": "2022-09-19T17:54:21.476Z"
   },
   {
    "duration": 81,
    "start_time": "2022-09-19T19:34:54.659Z"
   },
   {
    "duration": 1187,
    "start_time": "2022-09-19T19:51:16.191Z"
   },
   {
    "duration": 34,
    "start_time": "2022-09-19T19:51:17.380Z"
   },
   {
    "duration": 20,
    "start_time": "2022-09-19T19:51:17.416Z"
   },
   {
    "duration": 22,
    "start_time": "2022-09-19T19:51:17.438Z"
   },
   {
    "duration": 53,
    "start_time": "2022-09-19T19:51:17.467Z"
   },
   {
    "duration": 15,
    "start_time": "2022-09-19T19:51:17.522Z"
   },
   {
    "duration": 22,
    "start_time": "2022-09-19T19:51:17.538Z"
   },
   {
    "duration": 34,
    "start_time": "2022-09-19T19:51:17.562Z"
   },
   {
    "duration": 4,
    "start_time": "2022-09-19T19:51:17.597Z"
   },
   {
    "duration": 18,
    "start_time": "2022-09-19T19:51:17.603Z"
   },
   {
    "duration": 16,
    "start_time": "2022-09-19T19:51:17.623Z"
   },
   {
    "duration": 45,
    "start_time": "2022-09-19T19:51:17.640Z"
   },
   {
    "duration": 34,
    "start_time": "2022-09-19T19:51:17.687Z"
   },
   {
    "duration": 5,
    "start_time": "2022-09-19T19:51:17.723Z"
   },
   {
    "duration": 14,
    "start_time": "2022-09-19T19:51:17.729Z"
   },
   {
    "duration": 68,
    "start_time": "2022-09-19T19:51:17.745Z"
   },
   {
    "duration": 11,
    "start_time": "2022-09-19T19:51:17.815Z"
   },
   {
    "duration": 45,
    "start_time": "2022-09-19T19:51:17.828Z"
   },
   {
    "duration": 30,
    "start_time": "2022-09-19T19:51:17.874Z"
   },
   {
    "duration": 27,
    "start_time": "2022-09-19T19:51:17.905Z"
   },
   {
    "duration": 43,
    "start_time": "2022-09-19T19:51:17.934Z"
   },
   {
    "duration": 234,
    "start_time": "2022-09-19T19:51:17.981Z"
   },
   {
    "duration": 182,
    "start_time": "2022-09-19T19:51:18.217Z"
   },
   {
    "duration": 205,
    "start_time": "2022-09-19T19:51:18.401Z"
   },
   {
    "duration": 426,
    "start_time": "2022-09-19T19:51:18.608Z"
   },
   {
    "duration": 234,
    "start_time": "2022-09-19T19:51:19.035Z"
   },
   {
    "duration": 315,
    "start_time": "2022-09-19T19:51:19.271Z"
   },
   {
    "duration": 491,
    "start_time": "2022-09-19T19:51:19.589Z"
   },
   {
    "duration": 912,
    "start_time": "2022-09-19T19:51:20.081Z"
   },
   {
    "duration": 885,
    "start_time": "2022-09-19T19:51:20.995Z"
   },
   {
    "duration": 919,
    "start_time": "2022-09-19T19:51:21.881Z"
   },
   {
    "duration": 48,
    "start_time": "2022-09-19T19:51:22.802Z"
   },
   {
    "duration": 499,
    "start_time": "2022-09-19T19:51:22.854Z"
   },
   {
    "duration": 226,
    "start_time": "2022-09-19T20:04:22.537Z"
   },
   {
    "duration": 148,
    "start_time": "2022-09-19T20:04:29.346Z"
   },
   {
    "duration": 112,
    "start_time": "2022-09-19T20:04:35.510Z"
   },
   {
    "duration": 127,
    "start_time": "2022-09-19T20:05:45.686Z"
   },
   {
    "duration": 288,
    "start_time": "2022-09-19T20:06:19.357Z"
   },
   {
    "duration": 55,
    "start_time": "2022-09-19T20:06:27.083Z"
   },
   {
    "duration": 21,
    "start_time": "2022-09-19T20:06:28.474Z"
   },
   {
    "duration": 254,
    "start_time": "2022-09-19T20:06:38.537Z"
   },
   {
    "duration": 203,
    "start_time": "2022-09-19T20:06:49.041Z"
   },
   {
    "duration": 439,
    "start_time": "2022-09-19T20:07:21.337Z"
   },
   {
    "duration": 402,
    "start_time": "2022-09-19T20:07:30.459Z"
   },
   {
    "duration": 340,
    "start_time": "2022-09-19T20:07:51.844Z"
   },
   {
    "duration": 321,
    "start_time": "2022-09-19T20:08:15.696Z"
   },
   {
    "duration": 325,
    "start_time": "2022-09-19T20:11:18.833Z"
   },
   {
    "duration": 174,
    "start_time": "2022-09-19T20:11:25.557Z"
   },
   {
    "duration": 308,
    "start_time": "2022-09-19T20:14:00.559Z"
   },
   {
    "duration": 294,
    "start_time": "2022-09-19T20:15:01.047Z"
   },
   {
    "duration": 64,
    "start_time": "2022-09-20T15:45:43.127Z"
   },
   {
    "duration": 1294,
    "start_time": "2022-09-20T15:45:47.961Z"
   },
   {
    "duration": 37,
    "start_time": "2022-09-20T15:45:49.257Z"
   },
   {
    "duration": 20,
    "start_time": "2022-09-20T15:45:49.299Z"
   },
   {
    "duration": 13,
    "start_time": "2022-09-20T15:45:49.321Z"
   },
   {
    "duration": 9,
    "start_time": "2022-09-20T15:45:49.335Z"
   },
   {
    "duration": 45,
    "start_time": "2022-09-20T15:45:49.345Z"
   },
   {
    "duration": 20,
    "start_time": "2022-09-20T15:45:49.393Z"
   },
   {
    "duration": 18,
    "start_time": "2022-09-20T15:45:49.415Z"
   },
   {
    "duration": 4,
    "start_time": "2022-09-20T15:45:49.437Z"
   },
   {
    "duration": 45,
    "start_time": "2022-09-20T15:45:49.443Z"
   },
   {
    "duration": 17,
    "start_time": "2022-09-20T15:45:49.490Z"
   },
   {
    "duration": 12,
    "start_time": "2022-09-20T15:45:49.509Z"
   },
   {
    "duration": 105,
    "start_time": "2022-09-20T15:45:49.523Z"
   },
   {
    "duration": 0,
    "start_time": "2022-09-20T15:45:49.630Z"
   },
   {
    "duration": 0,
    "start_time": "2022-09-20T15:45:49.632Z"
   },
   {
    "duration": 0,
    "start_time": "2022-09-20T15:45:49.633Z"
   },
   {
    "duration": 0,
    "start_time": "2022-09-20T15:45:49.634Z"
   },
   {
    "duration": 0,
    "start_time": "2022-09-20T15:45:49.635Z"
   },
   {
    "duration": 0,
    "start_time": "2022-09-20T15:45:49.636Z"
   },
   {
    "duration": 0,
    "start_time": "2022-09-20T15:45:49.637Z"
   },
   {
    "duration": 0,
    "start_time": "2022-09-20T15:45:49.639Z"
   },
   {
    "duration": 0,
    "start_time": "2022-09-20T15:45:49.640Z"
   },
   {
    "duration": 0,
    "start_time": "2022-09-20T15:45:49.641Z"
   },
   {
    "duration": 0,
    "start_time": "2022-09-20T15:45:49.643Z"
   },
   {
    "duration": 0,
    "start_time": "2022-09-20T15:45:49.644Z"
   },
   {
    "duration": 0,
    "start_time": "2022-09-20T15:45:49.645Z"
   },
   {
    "duration": 0,
    "start_time": "2022-09-20T15:45:49.646Z"
   },
   {
    "duration": 0,
    "start_time": "2022-09-20T15:45:49.647Z"
   },
   {
    "duration": 0,
    "start_time": "2022-09-20T15:45:49.678Z"
   },
   {
    "duration": 0,
    "start_time": "2022-09-20T15:45:49.679Z"
   },
   {
    "duration": 0,
    "start_time": "2022-09-20T15:45:49.680Z"
   },
   {
    "duration": 0,
    "start_time": "2022-09-20T15:45:49.681Z"
   },
   {
    "duration": 0,
    "start_time": "2022-09-20T15:45:49.682Z"
   },
   {
    "duration": 0,
    "start_time": "2022-09-20T15:45:49.682Z"
   },
   {
    "duration": 0,
    "start_time": "2022-09-20T15:45:49.685Z"
   },
   {
    "duration": 1694,
    "start_time": "2022-09-20T15:46:45.437Z"
   },
   {
    "duration": 57,
    "start_time": "2022-09-20T15:46:56.755Z"
   },
   {
    "duration": 3,
    "start_time": "2022-09-20T15:49:17.297Z"
   },
   {
    "duration": 69,
    "start_time": "2022-09-21T10:18:47.061Z"
   },
   {
    "duration": 1657,
    "start_time": "2022-09-21T10:18:50.554Z"
   },
   {
    "duration": 56,
    "start_time": "2022-09-21T10:18:52.221Z"
   },
   {
    "duration": 77,
    "start_time": "2022-09-21T10:18:52.281Z"
   },
   {
    "duration": 82,
    "start_time": "2022-09-21T10:18:52.361Z"
   },
   {
    "duration": 95,
    "start_time": "2022-09-21T10:18:52.447Z"
   },
   {
    "duration": 73,
    "start_time": "2022-09-21T10:18:52.545Z"
   },
   {
    "duration": 94,
    "start_time": "2022-09-21T10:18:52.620Z"
   },
   {
    "duration": 98,
    "start_time": "2022-09-21T10:18:52.719Z"
   },
   {
    "duration": 23,
    "start_time": "2022-09-21T10:18:52.819Z"
   },
   {
    "duration": 63,
    "start_time": "2022-09-21T10:18:52.845Z"
   },
   {
    "duration": 84,
    "start_time": "2022-09-21T10:18:52.910Z"
   },
   {
    "duration": 12,
    "start_time": "2022-09-21T10:18:52.997Z"
   },
   {
    "duration": 98,
    "start_time": "2022-09-21T10:18:53.017Z"
   },
   {
    "duration": 5,
    "start_time": "2022-09-21T10:18:53.120Z"
   },
   {
    "duration": 24,
    "start_time": "2022-09-21T10:18:53.127Z"
   },
   {
    "duration": 18,
    "start_time": "2022-09-21T10:18:53.190Z"
   },
   {
    "duration": 184,
    "start_time": "2022-09-21T10:18:53.210Z"
   },
   {
    "duration": 15,
    "start_time": "2022-09-21T10:18:53.396Z"
   },
   {
    "duration": 83,
    "start_time": "2022-09-21T10:18:53.414Z"
   },
   {
    "duration": 31,
    "start_time": "2022-09-21T10:18:53.499Z"
   },
   {
    "duration": 94,
    "start_time": "2022-09-21T10:18:53.534Z"
   },
   {
    "duration": 91,
    "start_time": "2022-09-21T10:18:53.632Z"
   },
   {
    "duration": 707,
    "start_time": "2022-09-21T10:18:53.726Z"
   },
   {
    "duration": 677,
    "start_time": "2022-09-21T10:18:54.435Z"
   },
   {
    "duration": 239,
    "start_time": "2022-09-21T10:18:55.114Z"
   },
   {
    "duration": 264,
    "start_time": "2022-09-21T10:18:55.355Z"
   },
   {
    "duration": 448,
    "start_time": "2022-09-21T10:18:55.624Z"
   },
   {
    "duration": 437,
    "start_time": "2022-09-21T10:18:56.074Z"
   },
   {
    "duration": 257,
    "start_time": "2022-09-21T10:18:56.513Z"
   },
   {
    "duration": 380,
    "start_time": "2022-09-21T10:18:56.772Z"
   },
   {
    "duration": 377,
    "start_time": "2022-09-21T10:18:57.154Z"
   },
   {
    "duration": 464,
    "start_time": "2022-09-21T10:18:57.533Z"
   },
   {
    "duration": 439,
    "start_time": "2022-09-21T10:18:58.005Z"
   },
   {
    "duration": 1112,
    "start_time": "2022-09-21T10:18:58.446Z"
   },
   {
    "duration": 63,
    "start_time": "2022-09-21T10:18:59.561Z"
   },
   {
    "duration": 493,
    "start_time": "2022-09-21T10:18:59.625Z"
   },
   {
    "duration": 27,
    "start_time": "2022-09-21T10:19:52.685Z"
   },
   {
    "duration": 159,
    "start_time": "2022-09-21T10:19:55.583Z"
   },
   {
    "duration": 27,
    "start_time": "2022-09-21T10:19:55.744Z"
   },
   {
    "duration": 15,
    "start_time": "2022-09-21T10:19:55.772Z"
   },
   {
    "duration": 40,
    "start_time": "2022-09-21T10:19:55.798Z"
   },
   {
    "duration": 14,
    "start_time": "2022-09-21T10:19:55.840Z"
   },
   {
    "duration": 22,
    "start_time": "2022-09-21T10:19:55.856Z"
   },
   {
    "duration": 56,
    "start_time": "2022-09-21T10:19:55.879Z"
   },
   {
    "duration": 17,
    "start_time": "2022-09-21T10:19:55.936Z"
   },
   {
    "duration": 4,
    "start_time": "2022-09-21T10:19:55.955Z"
   },
   {
    "duration": 34,
    "start_time": "2022-09-21T10:19:55.962Z"
   },
   {
    "duration": 49,
    "start_time": "2022-09-21T10:19:55.998Z"
   },
   {
    "duration": 30,
    "start_time": "2022-09-21T10:19:56.049Z"
   },
   {
    "duration": 47,
    "start_time": "2022-09-21T10:19:56.081Z"
   },
   {
    "duration": 3,
    "start_time": "2022-09-21T10:19:56.129Z"
   },
   {
    "duration": 18,
    "start_time": "2022-09-21T10:19:56.134Z"
   },
   {
    "duration": 22,
    "start_time": "2022-09-21T10:19:56.154Z"
   },
   {
    "duration": 88,
    "start_time": "2022-09-21T10:19:56.178Z"
   },
   {
    "duration": 25,
    "start_time": "2022-09-21T10:19:56.268Z"
   },
   {
    "duration": 27,
    "start_time": "2022-09-21T10:19:56.295Z"
   },
   {
    "duration": 19,
    "start_time": "2022-09-21T10:19:56.325Z"
   },
   {
    "duration": 56,
    "start_time": "2022-09-21T10:19:56.346Z"
   },
   {
    "duration": 39,
    "start_time": "2022-09-21T10:19:56.407Z"
   },
   {
    "duration": 278,
    "start_time": "2022-09-21T10:19:56.448Z"
   },
   {
    "duration": 465,
    "start_time": "2022-09-21T10:19:56.729Z"
   },
   {
    "duration": 486,
    "start_time": "2022-09-21T10:19:57.207Z"
   },
   {
    "duration": 606,
    "start_time": "2022-09-21T10:19:57.701Z"
   },
   {
    "duration": 920,
    "start_time": "2022-09-21T10:19:58.309Z"
   },
   {
    "duration": 598,
    "start_time": "2022-09-21T10:19:59.233Z"
   },
   {
    "duration": 332,
    "start_time": "2022-09-21T10:19:59.832Z"
   },
   {
    "duration": 353,
    "start_time": "2022-09-21T10:20:00.166Z"
   },
   {
    "duration": 323,
    "start_time": "2022-09-21T10:20:00.521Z"
   },
   {
    "duration": 476,
    "start_time": "2022-09-21T10:20:00.846Z"
   },
   {
    "duration": 427,
    "start_time": "2022-09-21T10:20:01.324Z"
   },
   {
    "duration": 991,
    "start_time": "2022-09-21T10:20:01.753Z"
   },
   {
    "duration": 59,
    "start_time": "2022-09-21T10:20:02.746Z"
   },
   {
    "duration": 569,
    "start_time": "2022-09-21T10:20:02.809Z"
   },
   {
    "duration": 50,
    "start_time": "2022-09-21T10:20:16.890Z"
   },
   {
    "duration": 7,
    "start_time": "2022-09-21T10:20:20.611Z"
   },
   {
    "duration": 5,
    "start_time": "2022-09-21T10:20:24.049Z"
   }
  ],
  "colab": {
   "name": "DA+. Сборный проект 1. Шаблон (1).ipynb",
   "provenance": []
  },
  "kernelspec": {
   "display_name": "Python 3",
   "language": "python",
   "name": "python3"
  },
  "language_info": {
   "codemirror_mode": {
    "name": "ipython",
    "version": 3
   },
   "file_extension": ".py",
   "mimetype": "text/x-python",
   "name": "python",
   "nbconvert_exporter": "python",
   "pygments_lexer": "ipython3",
   "version": "3.8.8"
  },
  "toc": {
   "base_numbering": 1,
   "nav_menu": {},
   "number_sections": true,
   "sideBar": true,
   "skip_h1_title": true,
   "title_cell": "Table of Contents",
   "title_sidebar": "Contents",
   "toc_cell": false,
   "toc_position": {
    "height": "calc(100% - 180px)",
    "left": "10px",
    "top": "150px",
    "width": "375.391px"
   },
   "toc_section_display": true,
   "toc_window_display": true
  }
 },
 "nbformat": 4,
 "nbformat_minor": 1
}
